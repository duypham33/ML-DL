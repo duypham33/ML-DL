{
 "cells": [
  {
   "cell_type": "code",
   "execution_count": null,
   "id": "0ea8322c",
   "metadata": {},
   "outputs": [],
   "source": [
    "# please download data from \n",
    "# https://github.com/Jakobovski/free-spoken-digit-dataset.git"
   ]
  },
  {
   "cell_type": "code",
   "execution_count": 1,
   "id": "229dc8ba",
   "metadata": {},
   "outputs": [],
   "source": [
    "import numpy as np\n",
    "import os \n",
    "import librosa\n",
    "import tensorflow as tf\n",
    "import matplotlib.pyplot as plt\n",
    "import pandas as pd "
   ]
  },
  {
   "cell_type": "code",
   "execution_count": null,
   "id": "36ccd427",
   "metadata": {},
   "outputs": [],
   "source": []
  },
  {
   "cell_type": "markdown",
   "id": "e008cfee",
   "metadata": {},
   "source": [
    "## Data preprocessing"
   ]
  },
  {
   "cell_type": "code",
   "execution_count": null,
   "id": "5d91885a",
   "metadata": {},
   "outputs": [],
   "source": [
    "def pad(data, length):\n",
    "    if data.shape[1] > length:\n",
    "        return data[:, 0: length]\n",
    "    else: \n",
    "        padding = np.zeros((data.shape[0], length - data.shape[1]))\n",
    "        return np.hstack((data, padding))"
   ]
  },
  {
   "cell_type": "code",
   "execution_count": 3,
   "id": "11fcd162",
   "metadata": {},
   "outputs": [
    {
     "name": "stdout",
     "output_type": "stream",
     "text": [
      "X: (3000, 1025, 25, 1)\n",
      "y: (3000,)\n"
     ]
    }
   ],
   "source": [
    "X = []\n",
    "y = []\n",
    "train_X = []\n",
    "train_y = []\n",
    "test_X = []\n",
    "test_y = []\n",
    "\n",
    "DATA_DIR = \"data/recordings\"\n",
    "for fname in os.listdir(DATA_DIR):\n",
    "    struct = fname.split('_')\n",
    "    digit = int(struct[0])\n",
    "    speaker_name = struct[1]\n",
    "    wav, sr = librosa.load(os.path.join(DATA_DIR, fname))\n",
    "    wav = librosa.stft(wav) # short-time fourier transform\n",
    "    wav = np.abs(wav) # only take the real value of complex number\n",
    "    wav = pad(wav, 25) # 25 is selected manually\n",
    "    wav = librosa.amplitude_to_db(wav) # amplitude to decibel\n",
    "    if speaker_name == 'theo': # 5 speaker for train and 1 speaker for test\n",
    "        test_X.append(wav)\n",
    "        test_y.append(digit)\n",
    "    else:\n",
    "        train_X.append(wav)\n",
    "        train_y.append(digit)\n",
    "    X.append(wav)\n",
    "    y.append(digit)\n",
    "\n",
    "X = np.array(X)\n",
    "X = X[..., np.newaxis]\n",
    "y = np.array(y)\n",
    "\n",
    "train_X = np.array(train_X)\n",
    "train_X = train_X[..., np.newaxis]\n",
    "\n",
    "# one hot encoding\n",
    "temp_train_y = np.array(train_y)\n",
    "train_y = np.zeros((temp_train_y.size, temp_train_y.max()+1))\n",
    "train_y[np.arange(temp_train_y.size), temp_train_y] = 1\n",
    "\n",
    "test_X = np.array(test_X)\n",
    "test_X = test_X[..., np.newaxis]\n",
    "\n",
    "# one hot encoding\n",
    "temp_test_y = np.array(test_y)\n",
    "test_y = np.zeros((temp_test_y.size, temp_test_y.max()+1))\n",
    "test_y[np.arange(temp_test_y.size), temp_test_y] = 1\n",
    "print('X:', X.shape)\n",
    "print('y:', y.shape)"
   ]
  },
  {
   "cell_type": "code",
   "execution_count": null,
   "id": "c409098b",
   "metadata": {},
   "outputs": [],
   "source": []
  },
  {
   "cell_type": "markdown",
   "id": "07c42964",
   "metadata": {},
   "source": [
    "## Model"
   ]
  },
  {
   "cell_type": "code",
   "execution_count": 8,
   "id": "2ebe4a29",
   "metadata": {},
   "outputs": [
    {
     "name": "stdout",
     "output_type": "stream",
     "text": [
      "Model: \"model_2\"\n",
      "_________________________________________________________________\n",
      " Layer (type)                Output Shape              Param #   \n",
      "=================================================================\n",
      " input_3 (InputLayer)        [(None, 1025, 25, 1)]     0         \n",
      "                                                                 \n",
      " conv2d_5 (Conv2D)           (None, 1023, 23, 128)     1280      \n",
      "                                                                 \n",
      " max_pooling2d_5 (MaxPooling  (None, 511, 11, 128)     0         \n",
      " 2D)                                                             \n",
      "                                                                 \n",
      " conv2d_6 (Conv2D)           (None, 509, 9, 256)       295168    \n",
      "                                                                 \n",
      " max_pooling2d_6 (MaxPooling  (None, 254, 4, 256)      0         \n",
      " 2D)                                                             \n",
      "                                                                 \n",
      " conv2d_7 (Conv2D)           (None, 252, 2, 512)       1180160   \n",
      "                                                                 \n",
      " max_pooling2d_7 (MaxPooling  (None, 126, 1, 512)      0         \n",
      " 2D)                                                             \n",
      "                                                                 \n",
      " flatten_2 (Flatten)         (None, 64512)             0         \n",
      "                                                                 \n",
      " dropout_2 (Dropout)         (None, 64512)             0         \n",
      "                                                                 \n",
      " dense_4 (Dense)             (None, 256)               16515328  \n",
      "                                                                 \n",
      " dropout_3 (Dropout)         (None, 256)               0         \n",
      "                                                                 \n",
      " dense_5 (Dense)             (None, 10)                2570      \n",
      "                                                                 \n",
      "=================================================================\n",
      "Total params: 17,994,506\n",
      "Trainable params: 17,994,506\n",
      "Non-trainable params: 0\n",
      "_________________________________________________________________\n"
     ]
    }
   ],
   "source": [
    "inp = tf.keras.layers.Input(shape=train_X[0].shape)\n",
    "x = tf.keras.layers.Conv2D(128, 3, \n",
    "                           activation='relu')(inp)\n",
    "x = tf.keras.layers.MaxPooling2D(pool_size=2)(x)\n",
    "\n",
    "x = tf.keras.layers.Conv2D(256, 3, \n",
    "                           activation='relu')(x)\n",
    "x = tf.keras.layers.MaxPooling2D(pool_size=2)(x)\n",
    "\n",
    "x = tf.keras.layers.Conv2D(512, 3, \n",
    "                           activation='relu')(x)\n",
    "x = tf.keras.layers.MaxPooling2D(pool_size=2)(x)\n",
    "\n",
    "x = tf.keras.layers.Flatten()(x)\n",
    "x = tf.keras.layers.Dropout(0.3)(x)\n",
    "x = tf.keras.layers.Dense(256, activation='relu')(x)\n",
    "x = tf.keras.layers.Dropout(0.3)(x)\n",
    "x = tf.keras.layers.Dense(10, activation='softmax')(x)\n",
    "\n",
    "model = tf.keras.Model(inputs=inp, outputs=x)\n",
    "model.summary()"
   ]
  },
  {
   "cell_type": "code",
   "execution_count": null,
   "id": "deaacded",
   "metadata": {},
   "outputs": [],
   "source": []
  },
  {
   "cell_type": "markdown",
   "id": "9eb67ea4",
   "metadata": {},
   "source": [
    "## Training"
   ]
  },
  {
   "cell_type": "code",
   "execution_count": 9,
   "id": "ea03f61e",
   "metadata": {},
   "outputs": [
    {
     "name": "stdout",
     "output_type": "stream",
     "text": [
      "Epoch 1/30\n",
      "79/79 [==============================] - 6s 63ms/step - loss: 3.0391 - accuracy: 0.4208 - val_loss: 1.6776 - val_accuracy: 0.4760\n",
      "Epoch 2/30\n",
      "79/79 [==============================] - 4s 55ms/step - loss: 0.6948 - accuracy: 0.7560 - val_loss: 1.5382 - val_accuracy: 0.5100\n",
      "Epoch 3/30\n",
      "79/79 [==============================] - 4s 55ms/step - loss: 0.4171 - accuracy: 0.8556 - val_loss: 1.6690 - val_accuracy: 0.3700\n",
      "Epoch 4/30\n",
      "79/79 [==============================] - 4s 55ms/step - loss: 0.3348 - accuracy: 0.8932 - val_loss: 1.2030 - val_accuracy: 0.5640\n",
      "Epoch 5/30\n",
      "79/79 [==============================] - 4s 55ms/step - loss: 0.3076 - accuracy: 0.9040 - val_loss: 1.2464 - val_accuracy: 0.5440\n",
      "Epoch 6/30\n",
      "79/79 [==============================] - 4s 56ms/step - loss: 0.2370 - accuracy: 0.9236 - val_loss: 1.3331 - val_accuracy: 0.5420\n",
      "Epoch 7/30\n",
      "79/79 [==============================] - 4s 55ms/step - loss: 0.2265 - accuracy: 0.9232 - val_loss: 1.2623 - val_accuracy: 0.5320\n",
      "Epoch 8/30\n",
      "79/79 [==============================] - 4s 56ms/step - loss: 0.2948 - accuracy: 0.9036 - val_loss: 1.2349 - val_accuracy: 0.5860\n",
      "Epoch 9/30\n",
      "79/79 [==============================] - 4s 57ms/step - loss: 0.1967 - accuracy: 0.9360 - val_loss: 1.2943 - val_accuracy: 0.5260\n",
      "Epoch 10/30\n",
      "79/79 [==============================] - 4s 56ms/step - loss: 0.1593 - accuracy: 0.9436 - val_loss: 1.0980 - val_accuracy: 0.6120\n",
      "Epoch 11/30\n",
      "79/79 [==============================] - 4s 56ms/step - loss: 0.1608 - accuracy: 0.9480 - val_loss: 1.3213 - val_accuracy: 0.5200\n",
      "Epoch 12/30\n",
      "79/79 [==============================] - 4s 56ms/step - loss: 0.1789 - accuracy: 0.9424 - val_loss: 1.3257 - val_accuracy: 0.5080\n",
      "Epoch 13/30\n",
      "79/79 [==============================] - 4s 56ms/step - loss: 0.1190 - accuracy: 0.9616 - val_loss: 1.2544 - val_accuracy: 0.5360\n",
      "Epoch 14/30\n",
      "79/79 [==============================] - 4s 56ms/step - loss: 0.1109 - accuracy: 0.9620 - val_loss: 1.3971 - val_accuracy: 0.4940\n",
      "Epoch 15/30\n",
      "79/79 [==============================] - 4s 57ms/step - loss: 0.1572 - accuracy: 0.9476 - val_loss: 1.1589 - val_accuracy: 0.5720\n",
      "Epoch 16/30\n",
      "79/79 [==============================] - 4s 57ms/step - loss: 0.1261 - accuracy: 0.9568 - val_loss: 1.2125 - val_accuracy: 0.5960\n",
      "Epoch 17/30\n",
      "79/79 [==============================] - 4s 57ms/step - loss: 0.1106 - accuracy: 0.9644 - val_loss: 1.2816 - val_accuracy: 0.5340\n",
      "Epoch 18/30\n",
      "79/79 [==============================] - 4s 57ms/step - loss: 0.0892 - accuracy: 0.9712 - val_loss: 1.2719 - val_accuracy: 0.5120\n",
      "Epoch 19/30\n",
      "79/79 [==============================] - 5s 58ms/step - loss: 0.1125 - accuracy: 0.9656 - val_loss: 1.4640 - val_accuracy: 0.5300\n",
      "Epoch 20/30\n",
      "79/79 [==============================] - 5s 62ms/step - loss: 0.0892 - accuracy: 0.9728 - val_loss: 1.3997 - val_accuracy: 0.5080\n",
      "Epoch 21/30\n",
      "79/79 [==============================] - 4s 57ms/step - loss: 0.1170 - accuracy: 0.9620 - val_loss: 1.4568 - val_accuracy: 0.5020\n",
      "Epoch 22/30\n",
      "79/79 [==============================] - 4s 56ms/step - loss: 0.0995 - accuracy: 0.9692 - val_loss: 1.2604 - val_accuracy: 0.5360\n",
      "Epoch 23/30\n",
      "79/79 [==============================] - 4s 56ms/step - loss: 0.1053 - accuracy: 0.9672 - val_loss: 1.1817 - val_accuracy: 0.5520\n",
      "Epoch 24/30\n",
      "79/79 [==============================] - 4s 56ms/step - loss: 0.0879 - accuracy: 0.9716 - val_loss: 1.3470 - val_accuracy: 0.4980\n",
      "Epoch 25/30\n",
      "79/79 [==============================] - 4s 56ms/step - loss: 0.0970 - accuracy: 0.9676 - val_loss: 1.1290 - val_accuracy: 0.6500\n",
      "Epoch 26/30\n",
      "79/79 [==============================] - 4s 56ms/step - loss: 0.0980 - accuracy: 0.9660 - val_loss: 1.3350 - val_accuracy: 0.5120\n",
      "Epoch 27/30\n",
      "79/79 [==============================] - 4s 57ms/step - loss: 0.0740 - accuracy: 0.9752 - val_loss: 1.4281 - val_accuracy: 0.5580\n",
      "Epoch 28/30\n",
      "79/79 [==============================] - 4s 56ms/step - loss: 0.1146 - accuracy: 0.9660 - val_loss: 1.1852 - val_accuracy: 0.5120\n",
      "Epoch 29/30\n",
      "79/79 [==============================] - 5s 57ms/step - loss: 0.0819 - accuracy: 0.9764 - val_loss: 1.4590 - val_accuracy: 0.4780\n",
      "Epoch 30/30\n",
      "79/79 [==============================] - 5s 58ms/step - loss: 0.0528 - accuracy: 0.9828 - val_loss: 1.4611 - val_accuracy: 0.5340\n"
     ]
    }
   ],
   "source": [
    "model.compile(loss='categorical_crossentropy',\n",
    "              optimizer='adam',\n",
    "              metrics=['accuracy'])\n",
    "history = model.fit(train_X, train_y,\n",
    "                      epochs=30, batch_size=32,\n",
    "                      validation_data=(test_X, test_y))"
   ]
  },
  {
   "cell_type": "code",
   "execution_count": 10,
   "id": "17cda2f3",
   "metadata": {},
   "outputs": [
    {
     "data": {
      "text/plain": [
       "<matplotlib.legend.Legend at 0x7efccd96ecd0>"
      ]
     },
     "execution_count": 10,
     "metadata": {},
     "output_type": "execute_result"
    },
    {
     "data": {
      "image/png": "[encoded data removed]",
      "text/plain": [
       "<Figure size 432x288 with 1 Axes>"
      ]
     },
     "metadata": {
      "needs_background": "light"
     },
     "output_type": "display_data"
    }
   ],
   "source": [
    "plt.plot(history.history['accuracy'], label='Train Accuracy')\n",
    "plt.plot(history.history['val_accuracy'], label='Validation Accuracy')\n",
    "plt.xlabel('Epochs')\n",
    "plt.ylabel('Accuracy')\n",
    "plt.legend()"
   ]
  },
  {
   "cell_type": "code",
   "execution_count": null,
   "id": "78ba7f9d",
   "metadata": {},
   "outputs": [],
   "source": []
  }
 ],
 "metadata": {
  "kernelspec": {
   "display_name": "Python 3 (ipykernel)",
   "language": "python",
   "name": "python3"
  },
  "language_info": {
   "codemirror_mode": {
    "name": "ipython",
    "version": 3
   },
   "file_extension": ".py",
   "mimetype": "text/x-python",
   "name": "python",
   "nbconvert_exporter": "python",
   "pygments_lexer": "ipython3",
   "version": "3.9.7"
  }
 },
 "nbformat": 4,
 "nbformat_minor": 5
}
