{
 "cells": [
  {
   "cell_type": "markdown",
   "metadata": {
    "id": "0Nh0bRyYthT0"
   },
   "source": [
    "## Machine Translation\n",
    "**Using mt_eng_vietnamese dataset**\n"
   ]
  },
  {
   "cell_type": "code",
   "execution_count": null,
   "metadata": {
    "colab": {
     "base_uri": "https://localhost:8080/"
    },
    "executionInfo": {
     "elapsed": 25611,
     "status": "ok",
     "timestamp": 1647908706778,
     "user": {
      "displayName": "Thái Nguyễn Quốc",
      "photoUrl": "https://lh3.googleusercontent.com/a-/AOh14GhZLNSWy4-fLj7PmicmKxXQvi7xGOe2vDlaHSFo7A=s64",
      "userId": "03315292090052971901"
     },
     "user_tz": -420
    },
    "id": "uGSvFDVCfdNI",
    "outputId": "24f51f33-fcd6-4206-9ea9-e87a7a30e222"
   },
   "outputs": [
    {
     "name": "stdout",
     "output_type": "stream",
     "text": [
      "Mounted at /content/drive\n"
     ]
    }
   ],
   "source": [
    "from google.colab import drive\n",
    "drive.mount('/content/drive')"
   ]
  },
  {
   "cell_type": "code",
   "execution_count": null,
   "metadata": {
    "id": "TYNWtrQlZVOD"
   },
   "outputs": [],
   "source": [
    "!pip install \"datasets\" \"contractions\""
   ]
  },
  {
   "cell_type": "code",
   "execution_count": null,
   "metadata": {
    "id": "nGvoLYhstwh3"
   },
   "outputs": [],
   "source": [
    "import datasets\n",
    "import string\n",
    "import contractions\n",
    "import numpy as np\n",
    "import pandas as pd\n",
    "import pickle\n",
    "import matplotlib.pyplot as plt\n",
    "from urllib.parse import urljoin\n",
    "\n",
    "from sklearn.model_selection import train_test_split\n",
    "from nltk.translate.bleu_score import sentence_bleu\n",
    "\n",
    "from keras.models import load_model\n",
    "from keras.preprocessing.text import Tokenizer\n",
    "from keras.utils.np_utils import to_categorical\n",
    "from keras.preprocessing.sequence import pad_sequences\n",
    "from keras.models import Sequential, Model\n",
    "from keras.utils.vis_utils import plot_model\n",
    "from keras.layers import Input, RepeatVector, SimpleRNN, Dense, LSTM, GRU, InputLayer, Bidirectional, TimeDistributed, Embedding, Activation\n",
    "from keras.callbacks import ModelCheckpoint"
   ]
  },
  {
   "cell_type": "code",
   "execution_count": null,
   "metadata": {
    "id": "avqM_41SrBAo"
   },
   "outputs": [],
   "source": [
    "source_path = \"/content/drive/MyDrive/AI_VIETNAM/Course/aio_insight/03_rnn/\""
   ]
  },
  {
   "cell_type": "markdown",
   "metadata": {
    "id": "nBbKKkkkt173"
   },
   "source": [
    "### 1.Prepare dataset"
   ]
  },
  {
   "cell_type": "markdown",
   "metadata": {
    "id": "bp77LUJPrS9S"
   },
   "source": [
    "**Down load from datasets**"
   ]
  },
  {
   "cell_type": "code",
   "execution_count": null,
   "metadata": {
    "colab": {
     "base_uri": "https://localhost:8080/",
     "height": 361,
     "referenced_widgets": [
      "cea6a1a2399047ad97add5322ec23129",
      "737dbb7a2e0d4c0284269b08079c0d94",
      "990eae8e3b764aa7926582f54f723498",
      "53fd00aae9614e84a8ecea85494e613f",
      "e9af6795cf014a57b7624308762de6c6",
      "c65f82977a114cb0adeb22017aaf363e",
      "b56b46533eb148dca33f0b29168929db",
      "85658d65c3184de99d8e11a2e4b2b935",
      "4fc661a941464d668380e97ba9549d87",
      "9df41a02b7914555a617788f3a292ea7",
      "9766179be0794bfc8ed320265dcaea66",
      "616b092f195e480ba2b6c11041de60e8",
      "372d3dc91cf444bebdbfea1f1da4db66",
      "3c63fbd5a6b44e35829f9bf15ac6f44b",
      "496739855f0d497da817eef68ea66a75",
      "9b88ff94aa0148a590e45ba8bd893401",
      "6d9894e7b84847548ec6364387b88dcf",
      "f552872218f1478f8b6d3e05aa2f5311",
      "bb99d07146e243a496948c40fb4d0e1f",
      "6334f120f3434f1a8dd4efa0ec38890d",
      "de955e4ed85b4bc48cf45ce9711da0d3",
      "bc099377274640f7b9f428968f51f458",
      "e0b6b2df619b4ef4b9e4145b6b335c3c",
      "318a035b49b04419a3b4e32f57e3fc61",
      "9d7e6d1e92b740658f7523664b675d50",
      "56d64c0ea7704a1fbd48037b9d785169",
      "d2dada7fec3649279793b4157f5fd8c6",
      "7697b3792a2a4cedbec2ded7ec6cfaa1",
      "2ba2c032d1dc418b99e5780077b9842e",
      "967b70bd25e948bb91cfe8d6b031ce4f",
      "1a538921340b4c06a9970505d62401ef",
      "f00b6a448ad04c4188aba91292aea613",
      "b42ddbe3167f4a2cbf294ae1c3c9adc4",
      "a3a1caee2f58428ab50b929460486fcb",
      "37d0d0be8ee94413a67fdd367715e273",
      "96e7a36c06ec4a80b86ba416d3143d33",
      "6f293c8b9eae42dfbc3fe22eac148548",
      "72d614ef449f4f85b545c8070b870c4a",
      "357a90a36fef4e7d839fe4a9b2a71ab1",
      "60e51c1da89a4196ab3391071ec47da9",
      "53b9c2d0dc7544e28ebac92d7dd46812",
      "595ff389abe64fb2a05459b45a9711d4",
      "01aa94c086aa4fe28096414363a7e63d",
      "b907d8bd62d54ec0b809c6cf7b55db00",
      "606a801b0a5648c789d2ab332e1fb735",
      "a695addb4fb84620936cfe702acc89d2",
      "ee5e8623eaba4589821784eb8831a512",
      "401835911eeb4787a28aa4da7fcb9e29",
      "ef02290c1e064fe7b64607b3fb3969a1",
      "1241d8ffae60477086548c34569ee6da",
      "da45ea4316e8406d9c917054d78bd131",
      "df917e6f27134b4b827043a63d44b1ee",
      "8877eeca87d244eaac53c204ca244456",
      "cfb83c1d85544906b7f2ab8f7a65de2d",
      "ffd294fe9f334613b0d8763610b18386",
      "051a2d5c01a9416a9cca3cb80cd11956",
      "a5463d1a7b8a4a1caea5b4eb060b78c8",
      "e280761f8abd4969bd156f19bfc21e91",
      "4db52a3368d848a98069e9fe823cf5be",
      "45e5333f721549e789acb47a68752959",
      "156c65eb607442acb11a354ec0c3845f",
      "7dcad4515d2f49f08f4e734ebe0921d4",
      "a3b846a8c9394fb79832bc9e707eb50c",
      "e8033a4b3887450cb46e95c209cf14b1",
      "3b5365ec23cb48409662c7cd4527c4a2",
      "0ed074304b464d5cbd5d68e611851fa0",
      "d9ea337cdeab4ca1bc72e90d98c375b6",
      "b16ae42f8ad5456aa5fe0b5e968e757a",
      "d9168e49f45e4643a088972ddf37270f",
      "639c704e6671423e8fa7ce647e7e0c68",
      "4a9cc699d2a6499dab819a2e4e2e2e9e",
      "a6b2f9b1d0fc471280e623ec50be0e12",
      "cf9902a1a55b414f869101bb70cf3e86",
      "6d5be9f226ed456c861c8916af407f52",
      "34cc6d3139a547ee9a142a7891454326",
      "cbef1d7290b54ae6bf443817dbfdc8fb",
      "66eaa24680ce4645983824bb7f5faccb",
      "2e3898b08055413f89b722d85690682f",
      "7292748251e04bc89ea288a7579fbcb1",
      "58263c046ac345cab147911e4334ddda",
      "1ba7df86c6604de59fe3e6d4ea6ca675",
      "b2eac95f81a449708b7651d034e588b3",
      "914ebb753efd4c9faf3bbf8b94bd726a",
      "ad61a7601fbd485ca88c7c81da749fa2",
      "f10371d3e483400c82e76240c6f6d338",
      "4199cd0281e54b4fab8c76612b7af1ec",
      "ecde87ade3ab4881a2ce0fa1cfbc1717",
      "883fbf64db1a4e818d660857909139ca",
      "1e7cae527d074546be9bb6b4650058bf",
      "33135692494e4c3f90c3dbc69ae88a93",
      "abae539ceec6418ead98fdbbd8066579",
      "331cc4986f6b460b9d8bd81abd421deb",
      "9e2d35d7a81e403393acdbd44ed37481",
      "7adf739c0a6e4599b503957ca075f048",
      "135dcef930814144b3f3e58bddcd81d3",
      "777255a66d794227b65d93cca3f8be31",
      "1498756ef8fe4750be353c8363f7503e",
      "29cf886bb09b48c0b6cf3b01dbd805db",
      "2e47c5ad443b4cb8bb0e68835d12885e",
      "89bdc8017f7e470186dfc62240a76c4e",
      "dcbf9ce02d784aa19f963ac500e4de13",
      "44557a25be7f421590b39dd5b8e63372",
      "5914c7f0df104782a90c215a291b3151",
      "12d4c995fd0c4b079b9b6d12fe4d2e4f",
      "9c32ef1eab5d40aaa8972ed627d19084",
      "00e610ed98164e4983f1c375540e6d03",
      "6e28b74367f74dc0a1f341f82c5cfd1f",
      "897c35c6e75d4eab8274c2b86cd137cd",
      "bf4f2295e7a9477eaa03564dc86a39da",
      "1098d1c93e504bce95bf6a5e706db73c",
      "d0734e06b54d4e67ac787bbb6796b598",
      "f7bc520c5454465396014507e963e231",
      "aed6de4d64c449de89bc55967d08ee62",
      "18c8aa4335b84fc6aeed0002f6afbc18",
      "3dbe231ac8914d14845e20e443490c0a",
      "953db44be9684e6692b4994c838a112d",
      "ddde99dd112247959fb60df405e23eff",
      "ce03f161a5cf46b6960d2fa1488d9505",
      "d41ca0241723427592816f26353b0e08",
      "957b71fb74314198aa691a67b7a8c45a",
      "9db4a9c204404bd2af67242dfecd3e76",
      "2199979354cb4978b20c22ab247b719c",
      "d9c75955dbe64cd889c337cecb2ba85f",
      "cac2e473c43f455f93a50590487ad734",
      "18a2110145df40a1935ef997c2c8d126",
      "b169c479486b4cf49ae4b003e002b5b6",
      "1b1c6fd05b5348e89d78a900925553fd",
      "44cc57b94be54e978c049fffa42f1a8a",
      "6ee34dfe806c45df9d086a4001fc519c",
      "b654fe4ff0484b8db823c35371d81aa3",
      "e5aa795ddd174bdf8f88e269ce842942",
      "005f324d05ea421d932efadda6c0c871"
     ]
    },
    "executionInfo": {
     "elapsed": 19153,
     "status": "ok",
     "timestamp": 1647825901422,
     "user": {
      "displayName": "Thái Nguyễn Quốc",
      "photoUrl": "https://lh3.googleusercontent.com/a-/AOh14GhZLNSWy4-fLj7PmicmKxXQvi7xGOe2vDlaHSFo7A=s64",
      "userId": "03315292090052971901"
     },
     "user_tz": -420
    },
    "id": "_5YHD4S4t3_a",
    "outputId": "43a8f31e-bb8f-4475-9b06-192e4f8fc12c"
   },
   "outputs": [
    {
     "data": {
      "application/vnd.jupyter.widget-view+json": {
       "model_id": "cea6a1a2399047ad97add5322ec23129",
       "version_major": 2,
       "version_minor": 0
      },
      "text/plain": [
       "Downloading builder script:   0%|          | 0.00/1.88k [00:00<?, ?B/s]"
      ]
     },
     "metadata": {},
     "output_type": "display_data"
    },
    {
     "data": {
      "application/vnd.jupyter.widget-view+json": {
       "model_id": "616b092f195e480ba2b6c11041de60e8",
       "version_major": 2,
       "version_minor": 0
      },
      "text/plain": [
       "Downloading metadata:   0%|          | 0.00/1.08k [00:00<?, ?B/s]"
      ]
     },
     "metadata": {},
     "output_type": "display_data"
    },
    {
     "name": "stdout",
     "output_type": "stream",
     "text": [
      "Downloading and preparing dataset mt_eng_vietnamese/iwslt2015-en-vi (download: 30.83 MiB, generated: 31.59 MiB, post-processed: Unknown size, total: 62.42 MiB) to /root/.cache/huggingface/datasets/mt_eng_vietnamese/iwslt2015-en-vi/1.0.0/53add551a01e9874588066f89d42925f9fad43db347199dad00f7e4b0c905a71...\n"
     ]
    },
    {
     "data": {
      "application/vnd.jupyter.widget-view+json": {
       "model_id": "e0b6b2df619b4ef4b9e4145b6b335c3c",
       "version_major": 2,
       "version_minor": 0
      },
      "text/plain": [
       "Downloading data:   0%|          | 0.00/13.6M [00:00<?, ?B/s]"
      ]
     },
     "metadata": {},
     "output_type": "display_data"
    },
    {
     "data": {
      "application/vnd.jupyter.widget-view+json": {
       "model_id": "a3a1caee2f58428ab50b929460486fcb",
       "version_major": 2,
       "version_minor": 0
      },
      "text/plain": [
       "Downloading data:   0%|          | 0.00/18.1M [00:00<?, ?B/s]"
      ]
     },
     "metadata": {},
     "output_type": "display_data"
    },
    {
     "data": {
      "application/vnd.jupyter.widget-view+json": {
       "model_id": "606a801b0a5648c789d2ab332e1fb735",
       "version_major": 2,
       "version_minor": 0
      },
      "text/plain": [
       "Downloading data:   0%|          | 0.00/140k [00:00<?, ?B/s]"
      ]
     },
     "metadata": {},
     "output_type": "display_data"
    },
    {
     "data": {
      "application/vnd.jupyter.widget-view+json": {
       "model_id": "051a2d5c01a9416a9cca3cb80cd11956",
       "version_major": 2,
       "version_minor": 0
      },
      "text/plain": [
       "Downloading data:   0%|          | 0.00/188k [00:00<?, ?B/s]"
      ]
     },
     "metadata": {},
     "output_type": "display_data"
    },
    {
     "data": {
      "application/vnd.jupyter.widget-view+json": {
       "model_id": "d9ea337cdeab4ca1bc72e90d98c375b6",
       "version_major": 2,
       "version_minor": 0
      },
      "text/plain": [
       "Downloading data:   0%|          | 0.00/132k [00:00<?, ?B/s]"
      ]
     },
     "metadata": {},
     "output_type": "display_data"
    },
    {
     "data": {
      "application/vnd.jupyter.widget-view+json": {
       "model_id": "2e3898b08055413f89b722d85690682f",
       "version_major": 2,
       "version_minor": 0
      },
      "text/plain": [
       "Downloading data:   0%|          | 0.00/184k [00:00<?, ?B/s]"
      ]
     },
     "metadata": {},
     "output_type": "display_data"
    },
    {
     "data": {
      "application/vnd.jupyter.widget-view+json": {
       "model_id": "1e7cae527d074546be9bb6b4650058bf",
       "version_major": 2,
       "version_minor": 0
      },
      "text/plain": [
       "Generating train split:   0%|          | 0/133318 [00:00<?, ? examples/s]"
      ]
     },
     "metadata": {},
     "output_type": "display_data"
    },
    {
     "data": {
      "application/vnd.jupyter.widget-view+json": {
       "model_id": "89bdc8017f7e470186dfc62240a76c4e",
       "version_major": 2,
       "version_minor": 0
      },
      "text/plain": [
       "Generating validation split:   0%|          | 0/1269 [00:00<?, ? examples/s]"
      ]
     },
     "metadata": {},
     "output_type": "display_data"
    },
    {
     "data": {
      "application/vnd.jupyter.widget-view+json": {
       "model_id": "d0734e06b54d4e67ac787bbb6796b598",
       "version_major": 2,
       "version_minor": 0
      },
      "text/plain": [
       "Generating test split:   0%|          | 0/1269 [00:00<?, ? examples/s]"
      ]
     },
     "metadata": {},
     "output_type": "display_data"
    },
    {
     "name": "stdout",
     "output_type": "stream",
     "text": [
      "Dataset mt_eng_vietnamese downloaded and prepared to /root/.cache/huggingface/datasets/mt_eng_vietnamese/iwslt2015-en-vi/1.0.0/53add551a01e9874588066f89d42925f9fad43db347199dad00f7e4b0c905a71. Subsequent calls will reuse this data.\n"
     ]
    },
    {
     "data": {
      "application/vnd.jupyter.widget-view+json": {
       "model_id": "2199979354cb4978b20c22ab247b719c",
       "version_major": 2,
       "version_minor": 0
      },
      "text/plain": [
       "  0%|          | 0/3 [00:00<?, ?it/s]"
      ]
     },
     "metadata": {},
     "output_type": "display_data"
    }
   ],
   "source": [
    "corpus = datasets.load_dataset(\"mt_eng_vietnamese\", \"iwslt2015-en-vi\")"
   ]
  },
  {
   "cell_type": "code",
   "execution_count": null,
   "metadata": {
    "colab": {
     "base_uri": "https://localhost:8080/"
    },
    "executionInfo": {
     "elapsed": 334,
     "status": "ok",
     "timestamp": 1647825922943,
     "user": {
      "displayName": "Thái Nguyễn Quốc",
      "photoUrl": "https://lh3.googleusercontent.com/a-/AOh14GhZLNSWy4-fLj7PmicmKxXQvi7xGOe2vDlaHSFo7A=s64",
      "userId": "03315292090052971901"
     },
     "user_tz": -420
    },
    "id": "uY5uUsLTt6tL",
    "outputId": "bc3aac6f-ee82-4753-fc47-20dd350c44a3"
   },
   "outputs": [
    {
     "data": {
      "text/plain": [
       "DatasetDict({\n",
       "    train: Dataset({\n",
       "        features: ['translation'],\n",
       "        num_rows: 133318\n",
       "    })\n",
       "    validation: Dataset({\n",
       "        features: ['translation'],\n",
       "        num_rows: 1269\n",
       "    })\n",
       "    test: Dataset({\n",
       "        features: ['translation'],\n",
       "        num_rows: 1269\n",
       "    })\n",
       "})"
      ]
     },
     "execution_count": 23,
     "metadata": {},
     "output_type": "execute_result"
    }
   ],
   "source": [
    "corpus"
   ]
  },
  {
   "cell_type": "code",
   "execution_count": null,
   "metadata": {
    "colab": {
     "base_uri": "https://localhost:8080/",
     "height": 36
    },
    "executionInfo": {
     "elapsed": 325,
     "status": "ok",
     "timestamp": 1647826573649,
     "user": {
      "displayName": "Thái Nguyễn Quốc",
      "photoUrl": "https://lh3.googleusercontent.com/a-/AOh14GhZLNSWy4-fLj7PmicmKxXQvi7xGOe2vDlaHSFo7A=s64",
      "userId": "03315292090052971901"
     },
     "user_tz": -420
    },
    "id": "FJzb0Ryft8wW",
    "outputId": "9f3be6f7-39ec-4969-87b5-d7651bc47395"
   },
   "outputs": [
    {
     "data": {
      "application/vnd.google.colaboratory.intrinsic+json": {
       "type": "string"
      },
      "text/plain": [
       "'i will'"
      ]
     },
     "execution_count": 46,
     "metadata": {},
     "output_type": "execute_result"
    }
   ],
   "source": [
    "def preprocess_text(text, en=False):\n",
    "    if en:\n",
    "        text = text.replace(\"&quot;\", \" \")\n",
    "        text = text.replace(\" &apos;\", \"'\")\n",
    "        text = contractions.fix(text)\n",
    "    text = text.lower()\n",
    "    punc_number = list(string.punctuation + string.digits)\n",
    "    for c in punc_number:\n",
    "        text = text.replace(c, \" \")\n",
    "    return \" \".join(text.split())\n",
    "preprocess_text(\"I'll...2 35!\", True)"
   ]
  },
  {
   "cell_type": "code",
   "execution_count": null,
   "metadata": {
    "id": "noympv0Ft_7C"
   },
   "outputs": [],
   "source": [
    "en_corpus = []\n",
    "vi_corpus = []\n",
    "for data in corpus['train']:\n",
    "    en_corpus.append(preprocess_text(\"startseq \" + data['translation']['en'] + \" endseq\", en=True))\n",
    "    vi_corpus.append(preprocess_text(\"startseq \" + data['translation']['vi'] + \" endseq\"))"
   ]
  },
  {
   "cell_type": "code",
   "execution_count": null,
   "metadata": {
    "colab": {
     "base_uri": "https://localhost:8080/"
    },
    "executionInfo": {
     "elapsed": 472,
     "status": "ok",
     "timestamp": 1647826698621,
     "user": {
      "displayName": "Thái Nguyễn Quốc",
      "photoUrl": "https://lh3.googleusercontent.com/a-/AOh14GhZLNSWy4-fLj7PmicmKxXQvi7xGOe2vDlaHSFo7A=s64",
      "userId": "03315292090052971901"
     },
     "user_tz": -420
    },
    "id": "shgW18pluBcc",
    "outputId": "94619244-fbda-4507-9ff0-e61a85ab44e0"
   },
   "outputs": [
    {
     "data": {
      "text/plain": [
       "('startseq khoa học đằng sau một tiêu đề về khí hậu endseq',\n",
       " 'startseq rachel pike the science behind a climate headline endseq')"
      ]
     },
     "execution_count": 52,
     "metadata": {},
     "output_type": "execute_result"
    }
   ],
   "source": [
    "vi_corpus[0], en_corpus[0]"
   ]
  },
  {
   "cell_type": "code",
   "execution_count": null,
   "metadata": {
    "colab": {
     "base_uri": "https://localhost:8080/",
     "height": 265
    },
    "executionInfo": {
     "elapsed": 867,
     "status": "ok",
     "timestamp": 1647826708610,
     "user": {
      "displayName": "Thái Nguyễn Quốc",
      "photoUrl": "https://lh3.googleusercontent.com/a-/AOh14GhZLNSWy4-fLj7PmicmKxXQvi7xGOe2vDlaHSFo7A=s64",
      "userId": "03315292090052971901"
     },
     "user_tz": -420
    },
    "id": "0p43RvXtuXJy",
    "outputId": "b39e7a75-6e22-4ece-ba10-2a0ca7a3a3f2"
   },
   "outputs": [
    {
     "data": {
      "image/png": "[encoded data removed]",
      "text/plain": [
       "<Figure size 432x288 with 1 Axes>"
      ]
     },
     "metadata": {
      "needs_background": "light"
     },
     "output_type": "display_data"
    }
   ],
   "source": [
    "plt.hist([len(t.split()) for t in vi_corpus], bins=150, range=(0, 150))\n",
    "plt.show()"
   ]
  },
  {
   "cell_type": "code",
   "execution_count": null,
   "metadata": {
    "colab": {
     "base_uri": "https://localhost:8080/",
     "height": 265
    },
    "executionInfo": {
     "elapsed": 924,
     "status": "ok",
     "timestamp": 1647826712566,
     "user": {
      "displayName": "Thái Nguyễn Quốc",
      "photoUrl": "https://lh3.googleusercontent.com/a-/AOh14GhZLNSWy4-fLj7PmicmKxXQvi7xGOe2vDlaHSFo7A=s64",
      "userId": "03315292090052971901"
     },
     "user_tz": -420
    },
    "id": "CONIr_fWucVr",
    "outputId": "2e998a16-1488-4f01-b3e2-b7c8b125a97d"
   },
   "outputs": [
    {
     "data": {
      "image/png": "[encoded data removed]",
      "text/plain": [
       "<Figure size 432x288 with 1 Axes>"
      ]
     },
     "metadata": {
      "needs_background": "light"
     },
     "output_type": "display_data"
    }
   ],
   "source": [
    "plt.hist([len(t.split()) for t in en_corpus], bins=150, range=(0, 150))\n",
    "plt.show()"
   ]
  },
  {
   "cell_type": "code",
   "execution_count": null,
   "metadata": {
    "id": "EbYnY4A2ugBB"
   },
   "outputs": [],
   "source": [
    "vi_max_len = 100\n",
    "en_max_len = 80"
   ]
  },
  {
   "cell_type": "code",
   "execution_count": null,
   "metadata": {
    "id": "DrMkoWPMupIj"
   },
   "outputs": [],
   "source": [
    "vi_train, vi_test, en_train, en_test = train_test_split(vi_corpus, en_corpus, test_size=0.3, random_state=42)\n",
    "vi_valid, vi_test, en_valid, en_test = train_test_split(vi_test, en_test, test_size=0.5, random_state=42)"
   ]
  },
  {
   "cell_type": "code",
   "execution_count": null,
   "metadata": {
    "colab": {
     "base_uri": "https://localhost:8080/"
    },
    "executionInfo": {
     "elapsed": 316,
     "status": "ok",
     "timestamp": 1647826719961,
     "user": {
      "displayName": "Thái Nguyễn Quốc",
      "photoUrl": "https://lh3.googleusercontent.com/a-/AOh14GhZLNSWy4-fLj7PmicmKxXQvi7xGOe2vDlaHSFo7A=s64",
      "userId": "03315292090052971901"
     },
     "user_tz": -420
    },
    "id": "qnx4cfxrvaDt",
    "outputId": "bde6e084-174f-4f64-ccf7-139a2151dd32"
   },
   "outputs": [
    {
     "data": {
      "text/plain": [
       "(93322, 19998, 19998)"
      ]
     },
     "execution_count": 57,
     "metadata": {},
     "output_type": "execute_result"
    }
   ],
   "source": [
    "len(vi_train), len(vi_valid), len(vi_test)"
   ]
  },
  {
   "cell_type": "code",
   "execution_count": null,
   "metadata": {
    "id": "pRuC19iLXEFP"
   },
   "outputs": [],
   "source": [
    "vi_data, en_data, type_data = [], [], []\n",
    "for vi, en in zip(vi_train, en_train):\n",
    "    vi_data.append(vi)\n",
    "    en_data.append(en)\n",
    "    type_data.append(\"train\")\n",
    "for vi, en in zip(vi_valid, en_valid):\n",
    "    vi_data.append(vi)\n",
    "    en_data.append(en)\n",
    "    type_data.append(\"valid\")\n",
    "for vi, en in zip(vi_test, en_test):\n",
    "    vi_data.append(vi)\n",
    "    en_data.append(en)\n",
    "    type_data.append(\"test\")"
   ]
  },
  {
   "cell_type": "code",
   "execution_count": null,
   "metadata": {
    "id": "v7kp3x1AX709"
   },
   "outputs": [],
   "source": [
    "df = pd.DataFrame()\n",
    "df[\"vi\"] = vi_data\n",
    "df[\"en\"] = en_data\n",
    "df[\"type_data\"] = type_data"
   ]
  },
  {
   "cell_type": "code",
   "execution_count": null,
   "metadata": {
    "colab": {
     "base_uri": "https://localhost:8080/",
     "height": 423
    },
    "executionInfo": {
     "elapsed": 9,
     "status": "ok",
     "timestamp": 1647826734675,
     "user": {
      "displayName": "Thái Nguyễn Quốc",
      "photoUrl": "https://lh3.googleusercontent.com/a-/AOh14GhZLNSWy4-fLj7PmicmKxXQvi7xGOe2vDlaHSFo7A=s64",
      "userId": "03315292090052971901"
     },
     "user_tz": -420
    },
    "id": "KBPptgw6YjjI",
    "outputId": "0e037bb4-61ce-44cb-fa7e-d4c2994f7ad9"
   },
   "outputs": [
    {
     "data": {
      "text/html": [
       "\n",
       "  <div id=\"df-3425d000-6664-4125-96c2-229197f8059e\">\n",
       "    <div class=\"colab-df-container\">\n",
       "      <div>\n",
       "<style scoped>\n",
       "    .dataframe tbody tr th:only-of-type {\n",
       "        vertical-align: middle;\n",
       "    }\n",
       "\n",
       "    .dataframe tbody tr th {\n",
       "        vertical-align: top;\n",
       "    }\n",
       "\n",
       "    .dataframe thead th {\n",
       "        text-align: right;\n",
       "    }\n",
       "</style>\n",
       "<table border=\"1\" class=\"dataframe\">\n",
       "  <thead>\n",
       "    <tr style=\"text-align: right;\">\n",
       "      <th></th>\n",
       "      <th>vi</th>\n",
       "      <th>en</th>\n",
       "      <th>type_data</th>\n",
       "    </tr>\n",
       "  </thead>\n",
       "  <tbody>\n",
       "    <tr>\n",
       "      <th>0</th>\n",
       "      <td>startseq lúc đó ngồi cạnh tôi là một học sinh ...</td>\n",
       "      <td>startseq and in the seat next to me was a high...</td>\n",
       "      <td>train</td>\n",
       "    </tr>\n",
       "    <tr>\n",
       "      <th>1</th>\n",
       "      <td>startseq và tôi nghĩ theo thời gian những năm ...</td>\n",
       "      <td>startseq and i think with time in the years to...</td>\n",
       "      <td>train</td>\n",
       "    </tr>\n",
       "    <tr>\n",
       "      <th>2</th>\n",
       "      <td>startseq liệu có đúng không nếu đánh giá một n...</td>\n",
       "      <td>startseq is not the measure of a man his willi...</td>\n",
       "      <td>train</td>\n",
       "    </tr>\n",
       "    <tr>\n",
       "      <th>3</th>\n",
       "      <td>startseq đèn đỏ giao thông có bảng đếm ngược e...</td>\n",
       "      <td>startseq red traffic lights have a countdown d...</td>\n",
       "      <td>train</td>\n",
       "    </tr>\n",
       "    <tr>\n",
       "      <th>4</th>\n",
       "      <td>startseq nhưng làm sao chúng làm được điều đó ...</td>\n",
       "      <td>startseq but how do we do that endseq</td>\n",
       "      <td>train</td>\n",
       "    </tr>\n",
       "    <tr>\n",
       "      <th>...</th>\n",
       "      <td>...</td>\n",
       "      <td>...</td>\n",
       "      <td>...</td>\n",
       "    </tr>\n",
       "    <tr>\n",
       "      <th>133313</th>\n",
       "      <td>startseq cho phép tôi tinh giảm điều này tới m...</td>\n",
       "      <td>startseq and let me reduce this to the simples...</td>\n",
       "      <td>test</td>\n",
       "    </tr>\n",
       "    <tr>\n",
       "      <th>133314</th>\n",
       "      <td>startseq các bạn đều biết twitter và các phiên...</td>\n",
       "      <td>startseq you know twitter and twitter clones h...</td>\n",
       "      <td>test</td>\n",
       "    </tr>\n",
       "    <tr>\n",
       "      <th>133315</th>\n",
       "      <td>startseq nguồn tài chính quan trọng không kém ...</td>\n",
       "      <td>startseq the supply of money — just as importa...</td>\n",
       "      <td>test</td>\n",
       "    </tr>\n",
       "    <tr>\n",
       "      <th>133316</th>\n",
       "      <td>startseq ở tuổi tôi đã tuyển những người từ đạ...</td>\n",
       "      <td>startseq at the age of i was recruiting people...</td>\n",
       "      <td>test</td>\n",
       "    </tr>\n",
       "    <tr>\n",
       "      <th>133317</th>\n",
       "      <td>startseq biét nhiều để có thể đặt ra nhiều câu...</td>\n",
       "      <td>startseq knowing a lot of stuff the purpose is...</td>\n",
       "      <td>test</td>\n",
       "    </tr>\n",
       "  </tbody>\n",
       "</table>\n",
       "<p>133318 rows × 3 columns</p>\n",
       "</div>\n",
       "      <button class=\"colab-df-convert\" onclick=\"convertToInteractive('df-3425d000-6664-4125-96c2-229197f8059e')\"\n",
       "              title=\"Convert this dataframe to an interactive table.\"\n",
       "              style=\"display:none;\">\n",
       "        \n",
       "  <svg xmlns=\"http://www.w3.org/2000/svg\" height=\"24px\"viewBox=\"0 0 24 24\"\n",
       "       width=\"24px\">\n",
       "    <path d=\"M0 0h24v24H0V0z\" fill=\"none\"/>\n",
       "    <path d=\"M18.56 5.44l.94 2.06.94-2.06 2.06-.94-2.06-.94-.94-2.06-.94 2.06-2.06.94zm-11 1L8.5 8.5l.94-2.06 2.06-.94-2.06-.94L8.5 2.5l-.94 2.06-2.06.94zm10 10l.94 2.06.94-2.06 2.06-.94-2.06-.94-.94-2.06-.94 2.06-2.06.94z\"/><path d=\"M17.41 7.96l-1.37-1.37c-.4-.4-.92-.59-1.43-.59-.52 0-1.04.2-1.43.59L10.3 9.45l-7.72 7.72c-.78.78-.78 2.05 0 2.83L4 21.41c.39.39.9.59 1.41.59.51 0 1.02-.2 1.41-.59l7.78-7.78 2.81-2.81c.8-.78.8-2.07 0-2.86zM5.41 20L4 18.59l7.72-7.72 1.47 1.35L5.41 20z\"/>\n",
       "  </svg>\n",
       "      </button>\n",
       "      \n",
       "  <style>\n",
       "    .colab-df-container {\n",
       "      display:flex;\n",
       "      flex-wrap:wrap;\n",
       "      gap: 12px;\n",
       "    }\n",
       "\n",
       "    .colab-df-convert {\n",
       "      background-color: #E8F0FE;\n",
       "      border: none;\n",
       "      border-radius: 50%;\n",
       "      cursor: pointer;\n",
       "      display: none;\n",
       "      fill: #1967D2;\n",
       "      height: 32px;\n",
       "      padding: 0 0 0 0;\n",
       "      width: 32px;\n",
       "    }\n",
       "\n",
       "    .colab-df-convert:hover {\n",
       "      background-color: #E2EBFA;\n",
       "      box-shadow: 0px 1px 2px rgba(60, 64, 67, 0.3), 0px 1px 3px 1px rgba(60, 64, 67, 0.15);\n",
       "      fill: #174EA6;\n",
       "    }\n",
       "\n",
       "    [theme=dark] .colab-df-convert {\n",
       "      background-color: #3B4455;\n",
       "      fill: #D2E3FC;\n",
       "    }\n",
       "\n",
       "    [theme=dark] .colab-df-convert:hover {\n",
       "      background-color: #434B5C;\n",
       "      box-shadow: 0px 1px 3px 1px rgba(0, 0, 0, 0.15);\n",
       "      filter: drop-shadow(0px 1px 2px rgba(0, 0, 0, 0.3));\n",
       "      fill: #FFFFFF;\n",
       "    }\n",
       "  </style>\n",
       "\n",
       "      <script>\n",
       "        const buttonEl =\n",
       "          document.querySelector('#df-3425d000-6664-4125-96c2-229197f8059e button.colab-df-convert');\n",
       "        buttonEl.style.display =\n",
       "          google.colab.kernel.accessAllowed ? 'block' : 'none';\n",
       "\n",
       "        async function convertToInteractive(key) {\n",
       "          const element = document.querySelector('#df-3425d000-6664-4125-96c2-229197f8059e');\n",
       "          const dataTable =\n",
       "            await google.colab.kernel.invokeFunction('convertToInteractive',\n",
       "                                                     [key], {});\n",
       "          if (!dataTable) return;\n",
       "\n",
       "          const docLinkHtml = 'Like what you see? Visit the ' +\n",
       "            '<a target=\"_blank\" href=https://colab.research.google.com/notebooks/data_table.ipynb>data table notebook</a>'\n",
       "            + ' to learn more about interactive tables.';\n",
       "          element.innerHTML = '';\n",
       "          dataTable['output_type'] = 'display_data';\n",
       "          await google.colab.output.renderOutput(dataTable, element);\n",
       "          const docLink = document.createElement('div');\n",
       "          docLink.innerHTML = docLinkHtml;\n",
       "          element.appendChild(docLink);\n",
       "        }\n",
       "      </script>\n",
       "    </div>\n",
       "  </div>\n",
       "  "
      ],
      "text/plain": [
       "                                                       vi  \\\n",
       "0       startseq lúc đó ngồi cạnh tôi là một học sinh ...   \n",
       "1       startseq và tôi nghĩ theo thời gian những năm ...   \n",
       "2       startseq liệu có đúng không nếu đánh giá một n...   \n",
       "3       startseq đèn đỏ giao thông có bảng đếm ngược e...   \n",
       "4       startseq nhưng làm sao chúng làm được điều đó ...   \n",
       "...                                                   ...   \n",
       "133313  startseq cho phép tôi tinh giảm điều này tới m...   \n",
       "133314  startseq các bạn đều biết twitter và các phiên...   \n",
       "133315  startseq nguồn tài chính quan trọng không kém ...   \n",
       "133316  startseq ở tuổi tôi đã tuyển những người từ đạ...   \n",
       "133317  startseq biét nhiều để có thể đặt ra nhiều câu...   \n",
       "\n",
       "                                                       en type_data  \n",
       "0       startseq and in the seat next to me was a high...     train  \n",
       "1       startseq and i think with time in the years to...     train  \n",
       "2       startseq is not the measure of a man his willi...     train  \n",
       "3       startseq red traffic lights have a countdown d...     train  \n",
       "4                   startseq but how do we do that endseq     train  \n",
       "...                                                   ...       ...  \n",
       "133313  startseq and let me reduce this to the simples...      test  \n",
       "133314  startseq you know twitter and twitter clones h...      test  \n",
       "133315  startseq the supply of money — just as importa...      test  \n",
       "133316  startseq at the age of i was recruiting people...      test  \n",
       "133317  startseq knowing a lot of stuff the purpose is...      test  \n",
       "\n",
       "[133318 rows x 3 columns]"
      ]
     },
     "execution_count": 60,
     "metadata": {},
     "output_type": "execute_result"
    }
   ],
   "source": [
    "df"
   ]
  },
  {
   "cell_type": "markdown",
   "metadata": {
    "id": "9AhhSu8PrbPD"
   },
   "source": [
    "**Save fix train/validation/test set**"
   ]
  },
  {
   "cell_type": "code",
   "execution_count": null,
   "metadata": {
    "id": "lyD2YL1NYzRJ"
   },
   "outputs": [],
   "source": [
    "df.to_csv(urljoin(source_path, \"save_model/machine_translation_eng_vietnamese.csv\"), index=False)"
   ]
  },
  {
   "cell_type": "code",
   "execution_count": null,
   "metadata": {
    "id": "xq_Q7r4dd-6w"
   },
   "outputs": [],
   "source": [
    "df = pd.read_csv(urljoin(source_path, \"save_model/machine_translation_eng_vietnamese.csv\"))"
   ]
  },
  {
   "cell_type": "code",
   "execution_count": null,
   "metadata": {
    "colab": {
     "base_uri": "https://localhost:8080/",
     "height": 423
    },
    "executionInfo": {
     "elapsed": 12,
     "status": "ok",
     "timestamp": 1647908758386,
     "user": {
      "displayName": "Thái Nguyễn Quốc",
      "photoUrl": "https://lh3.googleusercontent.com/a-/AOh14GhZLNSWy4-fLj7PmicmKxXQvi7xGOe2vDlaHSFo7A=s64",
      "userId": "03315292090052971901"
     },
     "user_tz": -420
    },
    "id": "0NoTN1AJC9QK",
    "outputId": "3e182063-c9a9-4398-ba54-beac3f788417"
   },
   "outputs": [
    {
     "data": {
      "text/html": [
       "\n",
       "  <div id=\"df-c71c433c-c09d-4b53-a167-5e111ac9a7e1\">\n",
       "    <div class=\"colab-df-container\">\n",
       "      <div>\n",
       "<style scoped>\n",
       "    .dataframe tbody tr th:only-of-type {\n",
       "        vertical-align: middle;\n",
       "    }\n",
       "\n",
       "    .dataframe tbody tr th {\n",
       "        vertical-align: top;\n",
       "    }\n",
       "\n",
       "    .dataframe thead th {\n",
       "        text-align: right;\n",
       "    }\n",
       "</style>\n",
       "<table border=\"1\" class=\"dataframe\">\n",
       "  <thead>\n",
       "    <tr style=\"text-align: right;\">\n",
       "      <th></th>\n",
       "      <th>vi</th>\n",
       "      <th>en</th>\n",
       "      <th>type_data</th>\n",
       "    </tr>\n",
       "  </thead>\n",
       "  <tbody>\n",
       "    <tr>\n",
       "      <th>0</th>\n",
       "      <td>startseq lúc đó ngồi cạnh tôi là một học sinh ...</td>\n",
       "      <td>startseq and in the seat next to me was a high...</td>\n",
       "      <td>train</td>\n",
       "    </tr>\n",
       "    <tr>\n",
       "      <th>1</th>\n",
       "      <td>startseq và tôi nghĩ theo thời gian những năm ...</td>\n",
       "      <td>startseq and i think with time in the years to...</td>\n",
       "      <td>train</td>\n",
       "    </tr>\n",
       "    <tr>\n",
       "      <th>2</th>\n",
       "      <td>startseq liệu có đúng không nếu đánh giá một n...</td>\n",
       "      <td>startseq is not the measure of a man his willi...</td>\n",
       "      <td>train</td>\n",
       "    </tr>\n",
       "    <tr>\n",
       "      <th>3</th>\n",
       "      <td>startseq đèn đỏ giao thông có bảng đếm ngược e...</td>\n",
       "      <td>startseq red traffic lights have a countdown d...</td>\n",
       "      <td>train</td>\n",
       "    </tr>\n",
       "    <tr>\n",
       "      <th>4</th>\n",
       "      <td>startseq nhưng làm sao chúng làm được điều đó ...</td>\n",
       "      <td>startseq but how do we do that endseq</td>\n",
       "      <td>train</td>\n",
       "    </tr>\n",
       "    <tr>\n",
       "      <th>...</th>\n",
       "      <td>...</td>\n",
       "      <td>...</td>\n",
       "      <td>...</td>\n",
       "    </tr>\n",
       "    <tr>\n",
       "      <th>133313</th>\n",
       "      <td>startseq cho phép tôi tinh giảm điều này tới m...</td>\n",
       "      <td>startseq and let me reduce this to the simples...</td>\n",
       "      <td>test</td>\n",
       "    </tr>\n",
       "    <tr>\n",
       "      <th>133314</th>\n",
       "      <td>startseq các bạn đều biết twitter và các phiên...</td>\n",
       "      <td>startseq you know twitter and twitter clones h...</td>\n",
       "      <td>test</td>\n",
       "    </tr>\n",
       "    <tr>\n",
       "      <th>133315</th>\n",
       "      <td>startseq nguồn tài chính quan trọng không kém ...</td>\n",
       "      <td>startseq the supply of money — just as importa...</td>\n",
       "      <td>test</td>\n",
       "    </tr>\n",
       "    <tr>\n",
       "      <th>133316</th>\n",
       "      <td>startseq ở tuổi tôi đã tuyển những người từ đạ...</td>\n",
       "      <td>startseq at the age of i was recruiting people...</td>\n",
       "      <td>test</td>\n",
       "    </tr>\n",
       "    <tr>\n",
       "      <th>133317</th>\n",
       "      <td>startseq biét nhiều để có thể đặt ra nhiều câu...</td>\n",
       "      <td>startseq knowing a lot of stuff the purpose is...</td>\n",
       "      <td>test</td>\n",
       "    </tr>\n",
       "  </tbody>\n",
       "</table>\n",
       "<p>133318 rows × 3 columns</p>\n",
       "</div>\n",
       "      <button class=\"colab-df-convert\" onclick=\"convertToInteractive('df-c71c433c-c09d-4b53-a167-5e111ac9a7e1')\"\n",
       "              title=\"Convert this dataframe to an interactive table.\"\n",
       "              style=\"display:none;\">\n",
       "        \n",
       "  <svg xmlns=\"http://www.w3.org/2000/svg\" height=\"24px\"viewBox=\"0 0 24 24\"\n",
       "       width=\"24px\">\n",
       "    <path d=\"M0 0h24v24H0V0z\" fill=\"none\"/>\n",
       "    <path d=\"M18.56 5.44l.94 2.06.94-2.06 2.06-.94-2.06-.94-.94-2.06-.94 2.06-2.06.94zm-11 1L8.5 8.5l.94-2.06 2.06-.94-2.06-.94L8.5 2.5l-.94 2.06-2.06.94zm10 10l.94 2.06.94-2.06 2.06-.94-2.06-.94-.94-2.06-.94 2.06-2.06.94z\"/><path d=\"M17.41 7.96l-1.37-1.37c-.4-.4-.92-.59-1.43-.59-.52 0-1.04.2-1.43.59L10.3 9.45l-7.72 7.72c-.78.78-.78 2.05 0 2.83L4 21.41c.39.39.9.59 1.41.59.51 0 1.02-.2 1.41-.59l7.78-7.78 2.81-2.81c.8-.78.8-2.07 0-2.86zM5.41 20L4 18.59l7.72-7.72 1.47 1.35L5.41 20z\"/>\n",
       "  </svg>\n",
       "      </button>\n",
       "      \n",
       "  <style>\n",
       "    .colab-df-container {\n",
       "      display:flex;\n",
       "      flex-wrap:wrap;\n",
       "      gap: 12px;\n",
       "    }\n",
       "\n",
       "    .colab-df-convert {\n",
       "      background-color: #E8F0FE;\n",
       "      border: none;\n",
       "      border-radius: 50%;\n",
       "      cursor: pointer;\n",
       "      display: none;\n",
       "      fill: #1967D2;\n",
       "      height: 32px;\n",
       "      padding: 0 0 0 0;\n",
       "      width: 32px;\n",
       "    }\n",
       "\n",
       "    .colab-df-convert:hover {\n",
       "      background-color: #E2EBFA;\n",
       "      box-shadow: 0px 1px 2px rgba(60, 64, 67, 0.3), 0px 1px 3px 1px rgba(60, 64, 67, 0.15);\n",
       "      fill: #174EA6;\n",
       "    }\n",
       "\n",
       "    [theme=dark] .colab-df-convert {\n",
       "      background-color: #3B4455;\n",
       "      fill: #D2E3FC;\n",
       "    }\n",
       "\n",
       "    [theme=dark] .colab-df-convert:hover {\n",
       "      background-color: #434B5C;\n",
       "      box-shadow: 0px 1px 3px 1px rgba(0, 0, 0, 0.15);\n",
       "      filter: drop-shadow(0px 1px 2px rgba(0, 0, 0, 0.3));\n",
       "      fill: #FFFFFF;\n",
       "    }\n",
       "  </style>\n",
       "\n",
       "      <script>\n",
       "        const buttonEl =\n",
       "          document.querySelector('#df-c71c433c-c09d-4b53-a167-5e111ac9a7e1 button.colab-df-convert');\n",
       "        buttonEl.style.display =\n",
       "          google.colab.kernel.accessAllowed ? 'block' : 'none';\n",
       "\n",
       "        async function convertToInteractive(key) {\n",
       "          const element = document.querySelector('#df-c71c433c-c09d-4b53-a167-5e111ac9a7e1');\n",
       "          const dataTable =\n",
       "            await google.colab.kernel.invokeFunction('convertToInteractive',\n",
       "                                                     [key], {});\n",
       "          if (!dataTable) return;\n",
       "\n",
       "          const docLinkHtml = 'Like what you see? Visit the ' +\n",
       "            '<a target=\"_blank\" href=https://colab.research.google.com/notebooks/data_table.ipynb>data table notebook</a>'\n",
       "            + ' to learn more about interactive tables.';\n",
       "          element.innerHTML = '';\n",
       "          dataTable['output_type'] = 'display_data';\n",
       "          await google.colab.output.renderOutput(dataTable, element);\n",
       "          const docLink = document.createElement('div');\n",
       "          docLink.innerHTML = docLinkHtml;\n",
       "          element.appendChild(docLink);\n",
       "        }\n",
       "      </script>\n",
       "    </div>\n",
       "  </div>\n",
       "  "
      ],
      "text/plain": [
       "                                                       vi  \\\n",
       "0       startseq lúc đó ngồi cạnh tôi là một học sinh ...   \n",
       "1       startseq và tôi nghĩ theo thời gian những năm ...   \n",
       "2       startseq liệu có đúng không nếu đánh giá một n...   \n",
       "3       startseq đèn đỏ giao thông có bảng đếm ngược e...   \n",
       "4       startseq nhưng làm sao chúng làm được điều đó ...   \n",
       "...                                                   ...   \n",
       "133313  startseq cho phép tôi tinh giảm điều này tới m...   \n",
       "133314  startseq các bạn đều biết twitter và các phiên...   \n",
       "133315  startseq nguồn tài chính quan trọng không kém ...   \n",
       "133316  startseq ở tuổi tôi đã tuyển những người từ đạ...   \n",
       "133317  startseq biét nhiều để có thể đặt ra nhiều câu...   \n",
       "\n",
       "                                                       en type_data  \n",
       "0       startseq and in the seat next to me was a high...     train  \n",
       "1       startseq and i think with time in the years to...     train  \n",
       "2       startseq is not the measure of a man his willi...     train  \n",
       "3       startseq red traffic lights have a countdown d...     train  \n",
       "4                   startseq but how do we do that endseq     train  \n",
       "...                                                   ...       ...  \n",
       "133313  startseq and let me reduce this to the simples...      test  \n",
       "133314  startseq you know twitter and twitter clones h...      test  \n",
       "133315  startseq the supply of money — just as importa...      test  \n",
       "133316  startseq at the age of i was recruiting people...      test  \n",
       "133317  startseq knowing a lot of stuff the purpose is...      test  \n",
       "\n",
       "[133318 rows x 3 columns]"
      ]
     },
     "execution_count": 7,
     "metadata": {},
     "output_type": "execute_result"
    }
   ],
   "source": [
    "df"
   ]
  },
  {
   "cell_type": "code",
   "execution_count": null,
   "metadata": {
    "id": "fJwDoNnleIZZ"
   },
   "outputs": [],
   "source": [
    "vi_train, en_train = df[df.type_data == \"train\"].vi, df[df.type_data == \"train\"].en\n",
    "vi_valid, en_valid = df[df.type_data == \"valid\"].vi, df[df.type_data == \"valid\"].en\n",
    "vi_test, en_test = df[df.type_data == \"test\"].vi, df[df.type_data == \"test\"].en"
   ]
  },
  {
   "cell_type": "markdown",
   "metadata": {
    "id": "xCjHoBPZvpWn"
   },
   "source": [
    "### 2.Feature Extraction"
   ]
  },
  {
   "cell_type": "code",
   "execution_count": null,
   "metadata": {
    "id": "Kkk0OmzYsWV5"
   },
   "outputs": [],
   "source": [
    "vi_max_len = 100\n",
    "en_max_len = 80"
   ]
  },
  {
   "cell_type": "code",
   "execution_count": null,
   "metadata": {
    "id": "k8FQcCiavcgV"
   },
   "outputs": [],
   "source": [
    "def encode_sequences(tokenizer, max_len, corpus, is_seq2seq=False):\n",
    "    if not is_seq2seq:\n",
    "        seqs = tokenizer.texts_to_sequences(corpus)\n",
    "        padded_seqs = pad_sequences(seqs, maxlen=max_len, \n",
    "                                    padding='post', \n",
    "                                    truncating='post')\n",
    "        return padded_seqs\n",
    "    else:\n",
    "        seqs = tokenizer.texts_to_sequences(corpus)\n",
    "        padded_seqs = pad_sequences(seqs, \n",
    "                                    maxlen=max_len, \n",
    "                                    padding='post', \n",
    "                                    truncating='post')\n",
    "\n",
    "        output_corpus = [\" \".join(i.split()[1:]) for i in corpus]\n",
    "        output_seqs = tokenizer.texts_to_sequences(output_corpus)\n",
    "        output_padded_seqs = pad_sequences(output_seqs, \n",
    "                                           maxlen=max_len, \n",
    "                                           padding='post', \n",
    "                                           truncating='post')\n",
    "        return padded_seqs, output_padded_seqs\n",
    "\n",
    "def encode_outputs(seqs, vocab_size):\n",
    "    padded_seqs = to_categorical(seqs, en_vocab_size )\n",
    "    padded_seqs = np.array(padded_seqs)\n",
    "    padded_seqs = padded_seqs.reshape(seqs.shape[0], seqs.shape[1], vocab_size)\n",
    "    return padded_seqs"
   ]
  },
  {
   "cell_type": "code",
   "execution_count": null,
   "metadata": {
    "colab": {
     "base_uri": "https://localhost:8080/"
    },
    "executionInfo": {
     "elapsed": 4057,
     "status": "ok",
     "timestamp": 1647883875126,
     "user": {
      "displayName": "Thái Nguyễn Quốc",
      "photoUrl": "https://lh3.googleusercontent.com/a-/AOh14GhZLNSWy4-fLj7PmicmKxXQvi7xGOe2vDlaHSFo7A=s64",
      "userId": "03315292090052971901"
     },
     "user_tz": -420
    },
    "id": "cRklt8nCvnYm",
    "outputId": "3d8eb840-c4b0-4b56-b355-7ab329cc557d"
   },
   "outputs": [
    {
     "data": {
      "text/plain": [
       "16055"
      ]
     },
     "execution_count": 11,
     "metadata": {},
     "output_type": "execute_result"
    }
   ],
   "source": [
    "vi_tokenizer = Tokenizer(oov_token = '<OOV>')\n",
    "vi_tokenizer.fit_on_texts(vi_train)\n",
    "vi_word_dict = vi_tokenizer.word_index\n",
    "vi_vocab_size = len(vi_word_dict) + 1\n",
    "vi_vocab_size"
   ]
  },
  {
   "cell_type": "code",
   "execution_count": null,
   "metadata": {
    "colab": {
     "base_uri": "https://localhost:8080/"
    },
    "executionInfo": {
     "elapsed": 4723,
     "status": "ok",
     "timestamp": 1647883880139,
     "user": {
      "displayName": "Thái Nguyễn Quốc",
      "photoUrl": "https://lh3.googleusercontent.com/a-/AOh14GhZLNSWy4-fLj7PmicmKxXQvi7xGOe2vDlaHSFo7A=s64",
      "userId": "03315292090052971901"
     },
     "user_tz": -420
    },
    "id": "f9gySu8jvvyX",
    "outputId": "3e6e7a0f-66ba-4135-a66a-5ca91bd60094"
   },
   "outputs": [
    {
     "data": {
      "text/plain": [
       "((93322, 100), (19998, 100))"
      ]
     },
     "execution_count": 12,
     "metadata": {},
     "output_type": "execute_result"
    }
   ],
   "source": [
    "vi_train_padded_seqs = encode_sequences(vi_tokenizer, vi_max_len, vi_train)\n",
    "vi_valid_padded_seqs = encode_sequences(vi_tokenizer, vi_max_len, vi_valid)\n",
    "vi_train_padded_seqs.shape, vi_valid_padded_seqs.shape"
   ]
  },
  {
   "cell_type": "code",
   "execution_count": null,
   "metadata": {
    "colab": {
     "base_uri": "https://localhost:8080/"
    },
    "executionInfo": {
     "elapsed": 3421,
     "status": "ok",
     "timestamp": 1647883896567,
     "user": {
      "displayName": "Thái Nguyễn Quốc",
      "photoUrl": "https://lh3.googleusercontent.com/a-/AOh14GhZLNSWy4-fLj7PmicmKxXQvi7xGOe2vDlaHSFo7A=s64",
      "userId": "03315292090052971901"
     },
     "user_tz": -420
    },
    "id": "fy1Ohopmv2L2",
    "outputId": "8170388f-b05d-40b5-9a57-f8b538ba393c"
   },
   "outputs": [
    {
     "data": {
      "text/plain": [
       "36256"
      ]
     },
     "execution_count": 13,
     "metadata": {},
     "output_type": "execute_result"
    }
   ],
   "source": [
    "en_tokenizer = Tokenizer(oov_token = '<OOV>')\n",
    "en_tokenizer.fit_on_texts(en_train)\n",
    "en_word_dict = en_tokenizer.word_index\n",
    "en_vocab_size = len(en_tokenizer.index_word) + 1\n",
    "en_vocab_size"
   ]
  },
  {
   "cell_type": "code",
   "execution_count": null,
   "metadata": {
    "colab": {
     "base_uri": "https://localhost:8080/"
    },
    "executionInfo": {
     "elapsed": 2737,
     "status": "ok",
     "timestamp": 1647883903577,
     "user": {
      "displayName": "Thái Nguyễn Quốc",
      "photoUrl": "https://lh3.googleusercontent.com/a-/AOh14GhZLNSWy4-fLj7PmicmKxXQvi7xGOe2vDlaHSFo7A=s64",
      "userId": "03315292090052971901"
     },
     "user_tz": -420
    },
    "id": "hbuXZPMFv5ZS",
    "outputId": "3d5ad2a7-34e4-4bf2-cb3b-4186590d08a9"
   },
   "outputs": [
    {
     "data": {
      "text/plain": [
       "((93322, 80), (19998, 80))"
      ]
     },
     "execution_count": 14,
     "metadata": {},
     "output_type": "execute_result"
    }
   ],
   "source": [
    "en_train_padded_seqs = encode_sequences(en_tokenizer, en_max_len, en_train)\n",
    "en_valid_padded_seqs = encode_sequences(en_tokenizer, en_max_len, en_valid)\n",
    "en_train_padded_seqs.shape, en_valid_padded_seqs.shape"
   ]
  },
  {
   "cell_type": "code",
   "execution_count": null,
   "metadata": {
    "id": "ScHS6vFxwB-x"
   },
   "outputs": [],
   "source": [
    "def generate_encode_batch(src_input_seqs, tgt_output_seqs, batch_size, vocab_size):\n",
    "    while True:\n",
    "        for j in range(0, len(src_input_seqs), batch_size):\n",
    "            src_input_seq = src_input_seqs[j:j+batch_size]\n",
    "            tgt_output_seq = tgt_output_seqs[j:j+batch_size]\n",
    "            tgt_output_seq = encode_outputs(tgt_output_seq, vocab_size)\n",
    "\n",
    "            src_input_seq = np.array(src_input_seq)\n",
    "            tgt_output_seq = np.array(tgt_output_seq)\n",
    "            yield (src_input_seq, tgt_output_seq)"
   ]
  },
  {
   "cell_type": "code",
   "execution_count": null,
   "metadata": {
    "id": "WkfrDgKRwHtH"
   },
   "outputs": [],
   "source": [
    "encode_batch = generate_encode_batch(vi_train_padded_seqs, \n",
    "                                     en_train_padded_seqs, \n",
    "                                     256, en_vocab_size)"
   ]
  },
  {
   "cell_type": "code",
   "execution_count": null,
   "metadata": {
    "colab": {
     "base_uri": "https://localhost:8080/"
    },
    "executionInfo": {
     "elapsed": 4132,
     "status": "ok",
     "timestamp": 1647884237512,
     "user": {
      "displayName": "Thái Nguyễn Quốc",
      "photoUrl": "https://lh3.googleusercontent.com/a-/AOh14GhZLNSWy4-fLj7PmicmKxXQvi7xGOe2vDlaHSFo7A=s64",
      "userId": "03315292090052971901"
     },
     "user_tz": -420
    },
    "id": "nJZTv75KwJyc",
    "outputId": "dc5ad006-3fa9-4035-e9bb-94373f9baf37"
   },
   "outputs": [
    {
     "data": {
      "text/plain": [
       "((256, 100), (256, 80, 36256))"
      ]
     },
     "execution_count": 32,
     "metadata": {},
     "output_type": "execute_result"
    }
   ],
   "source": [
    "next(iter(encode_batch))[0].shape, next(iter(encode_batch))[1].shape"
   ]
  },
  {
   "cell_type": "markdown",
   "metadata": {
    "id": "vX_v5rXywLqI"
   },
   "source": [
    "### 3.Model"
   ]
  },
  {
   "cell_type": "code",
   "execution_count": null,
   "metadata": {
    "id": "Tbqzl4RvwOy4"
   },
   "outputs": [],
   "source": [
    "embedding_dim = 200\n",
    "hidden_size   = 256\n",
    "batch_size    = 128\n",
    "epochs = 15\n",
    "train_samples = len(vi_train_padded_seqs)\n",
    "val_samples = len(vi_valid_padded_seqs)"
   ]
  },
  {
   "cell_type": "markdown",
   "metadata": {
    "id": "0scJ1mppwnI1"
   },
   "source": [
    "#### **Simple RNN**"
   ]
  },
  {
   "cell_type": "code",
   "execution_count": null,
   "metadata": {
    "colab": {
     "base_uri": "https://localhost:8080/"
    },
    "executionInfo": {
     "elapsed": 13496,
     "status": "ok",
     "timestamp": 1647884259724,
     "user": {
      "displayName": "Thái Nguyễn Quốc",
      "photoUrl": "https://lh3.googleusercontent.com/a-/AOh14GhZLNSWy4-fLj7PmicmKxXQvi7xGOe2vDlaHSFo7A=s64",
      "userId": "03315292090052971901"
     },
     "user_tz": -420
    },
    "id": "IXIFy7oqwUh8",
    "outputId": "46d61005-c311-4ad6-f81c-f5c24c1b91d6"
   },
   "outputs": [
    {
     "name": "stdout",
     "output_type": "stream",
     "text": [
      "Model: \"sequential\"\n",
      "_________________________________________________________________\n",
      " Layer (type)                Output Shape              Param #   \n",
      "=================================================================\n",
      " embedding (Embedding)       (None, 100, 200)          3211000   \n",
      "                                                                 \n",
      " simple_rnn (SimpleRNN)      (None, 256)               116992    \n",
      "                                                                 \n",
      " repeat_vector (RepeatVector  (None, 80, 256)          0         \n",
      " )                                                               \n",
      "                                                                 \n",
      " simple_rnn_1 (SimpleRNN)    (None, 80, 256)           131328    \n",
      "                                                                 \n",
      " time_distributed (TimeDistr  (None, 80, 36256)        9317792   \n",
      " ibuted)                                                         \n",
      "                                                                 \n",
      "=================================================================\n",
      "Total params: 12,777,112\n",
      "Trainable params: 12,777,112\n",
      "Non-trainable params: 0\n",
      "_________________________________________________________________\n"
     ]
    }
   ],
   "source": [
    "model_rnn = Sequential()\n",
    "model_rnn.add(Embedding(vi_vocab_size, \n",
    "                        embedding_dim, \n",
    "                        input_length=vi_max_len))\n",
    "model_rnn.add(SimpleRNN(hidden_size))\n",
    "model_rnn.add(RepeatVector(en_max_len))\n",
    "model_rnn.add(SimpleRNN(hidden_size, \n",
    "                        return_sequences=True))\n",
    "model_rnn.add(TimeDistributed(Dense(en_vocab_size, \n",
    "                                    activation='softmax')))\n",
    "\n",
    "model_rnn.compile(optimizer='adam', \n",
    "                  loss='categorical_crossentropy', \n",
    "                  metrics=['accuracy'])\n",
    "model_rnn.summary()"
   ]
  },
  {
   "cell_type": "code",
   "execution_count": null,
   "metadata": {
    "id": "03cXGZ3UwwEY"
   },
   "outputs": [],
   "source": [
    "file_name = urljoin(source_path, 'save_model/machine_translation_rnn.h5')\n",
    "checkpoint = ModelCheckpoint(file_name, \n",
    "                             monitor='val_loss', \n",
    "                             verbose=1, \n",
    "                             save_best_only=True, \n",
    "                             mode='min')"
   ]
  },
  {
   "cell_type": "code",
   "execution_count": null,
   "metadata": {
    "colab": {
     "base_uri": "https://localhost:8080/"
    },
    "executionInfo": {
     "elapsed": 15027381,
     "status": "ok",
     "timestamp": 1646396606901,
     "user": {
      "displayName": "Thái Nguyễn Quốc",
      "photoUrl": "https://lh3.googleusercontent.com/a-/AOh14GhZLNSWy4-fLj7PmicmKxXQvi7xGOe2vDlaHSFo7A=s64",
      "userId": "03315292090052971901"
     },
     "user_tz": -420
    },
    "id": "Y8v1Kb4Rw9VW",
    "outputId": "0533d676-b050-44d3-b42e-28f643ebb344"
   },
   "outputs": [
    {
     "name": "stdout",
     "output_type": "stream",
     "text": [
      "Epoch 1/15\n",
      "364/364 [==============================] - ETA: 0s - loss: 3.3742 - accuracy: 0.6162\n",
      "Epoch 1: val_loss improved from inf to 3.49716, saving model to /content/save_model/nmt_simplernn.h5\n",
      "364/364 [==============================] - 850s 2s/step - loss: 3.3742 - accuracy: 0.6162 - val_loss: 3.4972 - val_accuracy: 0.6215\n",
      "Epoch 2/15\n",
      "364/364 [==============================] - ETA: 0s - loss: 3.3652 - accuracy: 0.6119\n",
      "Epoch 2: val_loss improved from 3.49716 to 3.08150, saving model to /content/save_model/nmt_simplernn.h5\n",
      "364/364 [==============================] - 942s 3s/step - loss: 3.3652 - accuracy: 0.6119 - val_loss: 3.0815 - val_accuracy: 0.6249\n",
      "Epoch 3/15\n",
      "364/364 [==============================] - ETA: 0s - loss: 3.0081 - accuracy: 0.6275\n",
      "Epoch 3: val_loss improved from 3.08150 to 3.00119, saving model to /content/save_model/nmt_simplernn.h5\n",
      "364/364 [==============================] - 1019s 3s/step - loss: 3.0081 - accuracy: 0.6275 - val_loss: 3.0012 - val_accuracy: 0.6249\n",
      "Epoch 4/15\n",
      "364/364 [==============================] - ETA: 0s - loss: 2.9789 - accuracy: 0.6277\n",
      "Epoch 4: val_loss did not improve from 3.00119\n",
      "364/364 [==============================] - 1005s 3s/step - loss: 2.9789 - accuracy: 0.6277 - val_loss: 3.0482 - val_accuracy: 0.6248\n",
      "Epoch 5/15\n",
      "364/364 [==============================] - ETA: 0s - loss: 3.0052 - accuracy: 0.6278\n",
      "Epoch 5: val_loss did not improve from 3.00119\n",
      "364/364 [==============================] - 1005s 3s/step - loss: 3.0052 - accuracy: 0.6278 - val_loss: 3.0881 - val_accuracy: 0.6250\n",
      "Epoch 6/15\n",
      "364/364 [==============================] - ETA: 0s - loss: 3.0012 - accuracy: 0.6283\n",
      "Epoch 6: val_loss did not improve from 3.00119\n",
      "364/364 [==============================] - 1011s 3s/step - loss: 3.0012 - accuracy: 0.6283 - val_loss: 3.0338 - val_accuracy: 0.6257\n",
      "Epoch 7/15\n",
      "364/364 [==============================] - ETA: 0s - loss: 2.9657 - accuracy: 0.6291\n",
      "Epoch 7: val_loss did not improve from 3.00119\n",
      "364/364 [==============================] - 1001s 3s/step - loss: 2.9657 - accuracy: 0.6291 - val_loss: 3.0102 - val_accuracy: 0.6250\n",
      "Epoch 8/15\n",
      "364/364 [==============================] - ETA: 0s - loss: 2.9955 - accuracy: 0.6276\n",
      "Epoch 8: val_loss improved from 3.00119 to 2.97503, saving model to /content/save_model/nmt_simplernn.h5\n",
      "364/364 [==============================] - 985s 3s/step - loss: 2.9955 - accuracy: 0.6276 - val_loss: 2.9750 - val_accuracy: 0.6250\n",
      "Epoch 9/15\n",
      "364/364 [==============================] - ETA: 0s - loss: 2.9991 - accuracy: 0.6277\n",
      "Epoch 9: val_loss improved from 2.97503 to 2.90062, saving model to /content/save_model/nmt_simplernn.h5\n",
      "364/364 [==============================] - 987s 3s/step - loss: 2.9991 - accuracy: 0.6277 - val_loss: 2.9006 - val_accuracy: 0.6252\n",
      "Epoch 10/15\n",
      "364/364 [==============================] - ETA: 0s - loss: 2.9911 - accuracy: 0.6280\n",
      "Epoch 10: val_loss did not improve from 2.90062\n",
      "364/364 [==============================] - 1014s 3s/step - loss: 2.9911 - accuracy: 0.6280 - val_loss: 3.0060 - val_accuracy: 0.6254\n",
      "Epoch 11/15\n",
      "364/364 [==============================] - ETA: 0s - loss: 2.9684 - accuracy: 0.6287\n",
      "Epoch 11: val_loss did not improve from 2.90062\n",
      "364/364 [==============================] - 1065s 3s/step - loss: 2.9684 - accuracy: 0.6287 - val_loss: 3.0373 - val_accuracy: 0.6255\n",
      "Epoch 12/15\n",
      "364/364 [==============================] - ETA: 0s - loss: 3.3858 - accuracy: 0.6159\n",
      "Epoch 12: val_loss did not improve from 2.90062\n",
      "364/364 [==============================] - 1063s 3s/step - loss: 3.3858 - accuracy: 0.6159 - val_loss: 3.3255 - val_accuracy: 0.6017\n",
      "Epoch 13/15\n",
      "364/364 [==============================] - ETA: 0s - loss: 3.3396 - accuracy: 0.6062\n",
      "Epoch 13: val_loss did not improve from 2.90062\n",
      "364/364 [==============================] - 1050s 3s/step - loss: 3.3396 - accuracy: 0.6062 - val_loss: 3.3421 - val_accuracy: 0.6050\n",
      "Epoch 14/15\n",
      "364/364 [==============================] - ETA: 0s - loss: 3.3217 - accuracy: 0.6072\n",
      "Epoch 14: val_loss did not improve from 2.90062\n",
      "364/364 [==============================] - 1008s 3s/step - loss: 3.3217 - accuracy: 0.6072 - val_loss: 3.3367 - val_accuracy: 0.6039\n",
      "Epoch 15/15\n",
      "364/364 [==============================] - ETA: 0s - loss: 3.3178 - accuracy: 0.6072\n",
      "Epoch 15: val_loss did not improve from 2.90062\n",
      "364/364 [==============================] - 1005s 3s/step - loss: 3.3178 - accuracy: 0.6072 - val_loss: 3.3949 - val_accuracy: 0.6019\n"
     ]
    }
   ],
   "source": [
    "history_rnn = model_rnn.fit(generate_encode_batch(vi_train_padded_seqs, \n",
    "                                                  en_train_padded_seqs, \n",
    "                                                  batch_size=batch_size, \n",
    "                                                  vocab_size=en_vocab_size),\n",
    "                            steps_per_epoch = train_samples//batch_size,\n",
    "                            epochs=epochs,\n",
    "                            validation_data = generate_encode_batch(vi_valid_padded_seqs, \n",
    "                                                                    en_valid_padded_seqs, \n",
    "                                                                    batch_size = batch_size, \n",
    "                                                                    vocab_size=en_vocab_size),\n",
    "                            validation_steps = val_samples//batch_size,\n",
    "                            callbacks=[checkpoint])"
   ]
  },
  {
   "cell_type": "code",
   "execution_count": null,
   "metadata": {
    "colab": {
     "base_uri": "https://localhost:8080/",
     "height": 573
    },
    "executionInfo": {
     "elapsed": 1426,
     "status": "ok",
     "timestamp": 1646396618770,
     "user": {
      "displayName": "Thái Nguyễn Quốc",
      "photoUrl": "https://lh3.googleusercontent.com/a-/AOh14GhZLNSWy4-fLj7PmicmKxXQvi7xGOe2vDlaHSFo7A=s64",
      "userId": "03315292090052971901"
     },
     "user_tz": -420
    },
    "id": "GuFGW7Qe1zvv",
    "outputId": "1c15ef9e-0ec1-4fb1-9528-4bb938241d07"
   },
   "outputs": [
    {
     "data": {
      "image/png": "[encoded data removed]",
      "text/plain": [
       "<Figure size 432x288 with 1 Axes>"
      ]
     },
     "metadata": {
      "needs_background": "light"
     },
     "output_type": "display_data"
    },
    {
     "data": {
      "image/png": "[encoded data removed]",
      "text/plain": [
       "<Figure size 432x288 with 1 Axes>"
      ]
     },
     "metadata": {
      "needs_background": "light"
     },
     "output_type": "display_data"
    }
   ],
   "source": [
    "# summarize history for accuracy\n",
    "plt.plot(history_rnn.history['accuracy'])\n",
    "plt.plot(history_rnn.history['val_accuracy'])\n",
    "plt.title('model accuracy')\n",
    "plt.ylabel('accuracy')\n",
    "plt.xlabel('epoch')\n",
    "plt.legend(['train', 'test'], loc='lower right')\n",
    "plt.show()\n",
    "# summarize history for loss\n",
    "plt.plot(history_rnn.history['loss'])\n",
    "plt.plot(history_rnn.history['val_loss'])\n",
    "plt.title('model loss')\n",
    "plt.ylabel('loss')\n",
    "plt.xlabel('epoch')\n",
    "plt.legend(['train', 'test'], loc='upper right')\n",
    "plt.show()"
   ]
  },
  {
   "cell_type": "code",
   "execution_count": null,
   "metadata": {
    "id": "4ls8o0e_1pnh"
   },
   "outputs": [],
   "source": [
    "np.save(urljoin(source_path, 'save_model/machine_translation_rnn_history.npy'), history_rnn.history)"
   ]
  },
  {
   "cell_type": "code",
   "execution_count": null,
   "metadata": {
    "id": "zvtxwFLP430V"
   },
   "outputs": [],
   "source": [
    "history_rnn = np.load(urljoin(source_path, 'save_model/machine_translation_rnn_history.npy'), allow_pickle='TRUE').item()"
   ]
  },
  {
   "cell_type": "code",
   "execution_count": null,
   "metadata": {},
   "outputs": [],
   "source": []
  },
  {
   "cell_type": "code",
   "execution_count": null,
   "metadata": {},
   "outputs": [],
   "source": []
  },
  {
   "cell_type": "markdown",
   "metadata": {
    "id": "gCqJ-MGcZJFc"
   },
   "source": [
    "#### **LSTM**"
   ]
  },
  {
   "cell_type": "code",
   "execution_count": null,
   "metadata": {
    "colab": {
     "base_uri": "https://localhost:8080/"
    },
    "executionInfo": {
     "elapsed": 1951,
     "status": "ok",
     "timestamp": 1646527848032,
     "user": {
      "displayName": "Thái Nguyễn Quốc",
      "photoUrl": "https://lh3.googleusercontent.com/a-/AOh14GhZLNSWy4-fLj7PmicmKxXQvi7xGOe2vDlaHSFo7A=s64",
      "userId": "03315292090052971901"
     },
     "user_tz": -420
    },
    "id": "kQ-KhMQ35Poy",
    "outputId": "c8ea6560-7029-4604-c839-99da67f0c72a"
   },
   "outputs": [
    {
     "name": "stdout",
     "output_type": "stream",
     "text": [
      "Model: \"sequential_1\"\n",
      "_________________________________________________________________\n",
      " Layer (type)                Output Shape              Param #   \n",
      "=================================================================\n",
      " embedding (Embedding)       (None, 50, 200)           3211000   \n",
      "                                                                 \n",
      " lstm (LSTM)                 (None, 256)               467968    \n",
      "                                                                 \n",
      " repeat_vector (RepeatVector  (None, 50, 256)          0         \n",
      " )                                                               \n",
      "                                                                 \n",
      " lstm_1 (LSTM)               (None, 50, 256)           525312    \n",
      "                                                                 \n",
      " time_distributed (TimeDistr  (None, 50, 36295)        9327815   \n",
      " ibuted)                                                         \n",
      "                                                                 \n",
      "=================================================================\n",
      "Total params: 13,532,095\n",
      "Trainable params: 13,532,095\n",
      "Non-trainable params: 0\n",
      "_________________________________________________________________\n"
     ]
    }
   ],
   "source": [
    "model_lstm = Sequential()\n",
    "model_lstm.add(Embedding(vi_vocab_size, embedding_dim, input_length=vi_max_len, mask_zero=True))\n",
    "model_lstm.add(LSTM(hidden_size))\n",
    "model_lstm.add(RepeatVector(en_max_len))\n",
    "model_lstm.add(LSTM(hidden_size, return_sequences=True))\n",
    "model_lstm.add(TimeDistributed(Dense(en_vocab_size, activation='softmax')))\n",
    "\n",
    "model_lstm.compile(optimizer='adam', loss='categorical_crossentropy', metrics=['accuracy'])\n",
    "model_lstm.summary()"
   ]
  },
  {
   "cell_type": "code",
   "execution_count": null,
   "metadata": {
    "id": "am-20eGl5d_v"
   },
   "outputs": [],
   "source": [
    "file_name = urljoin(source_path, 'save_model/machine_translation_lstm.h5')\n",
    "checkpoint = ModelCheckpoint(file_name, monitor='val_loss', verbose=1, save_best_only=True, mode='min')"
   ]
  },
  {
   "cell_type": "code",
   "execution_count": null,
   "metadata": {
    "colab": {
     "base_uri": "https://localhost:8080/"
    },
    "executionInfo": {
     "elapsed": 12447333,
     "status": "ok",
     "timestamp": 1646540313506,
     "user": {
      "displayName": "Thái Nguyễn Quốc",
      "photoUrl": "https://lh3.googleusercontent.com/a-/AOh14GhZLNSWy4-fLj7PmicmKxXQvi7xGOe2vDlaHSFo7A=s64",
      "userId": "03315292090052971901"
     },
     "user_tz": -420
    },
    "id": "3eSnjuaj5kny",
    "outputId": "41254e7d-4abb-4ce1-b236-a9e27fb1d887"
   },
   "outputs": [
    {
     "name": "stdout",
     "output_type": "stream",
     "text": [
      "Epoch 1/15\n",
      "364/364 [==============================] - ETA: 0s - loss: 3.3484 - accuracy: 0.6048\n",
      "Epoch 1: val_loss improved from inf to 2.77896, saving model to /content/drive/MyDrive/AI_VIETNAM/Course/aio_insight/03_rnn/save_model/machine_translation_lstm.h5\n",
      "364/364 [==============================] - 805s 2s/step - loss: 3.3484 - accuracy: 0.6048 - val_loss: 2.7790 - val_accuracy: 0.6215\n",
      "Epoch 2/15\n",
      "364/364 [==============================] - ETA: 0s - loss: 2.6293 - accuracy: 0.6269\n",
      "Epoch 2: val_loss improved from 2.77896 to 2.58108, saving model to /content/drive/MyDrive/AI_VIETNAM/Course/aio_insight/03_rnn/save_model/machine_translation_lstm.h5\n",
      "364/364 [==============================] - 807s 2s/step - loss: 2.6293 - accuracy: 0.6269 - val_loss: 2.5811 - val_accuracy: 0.6317\n",
      "Epoch 3/15\n",
      "364/364 [==============================] - ETA: 0s - loss: 2.5476 - accuracy: 0.6358\n",
      "Epoch 3: val_loss improved from 2.58108 to 2.55899, saving model to /content/drive/MyDrive/AI_VIETNAM/Course/aio_insight/03_rnn/save_model/machine_translation_lstm.h5\n",
      "364/364 [==============================] - 808s 2s/step - loss: 2.5476 - accuracy: 0.6358 - val_loss: 2.5590 - val_accuracy: 0.6337\n",
      "Epoch 4/15\n",
      "364/364 [==============================] - ETA: 0s - loss: 2.5297 - accuracy: 0.6377\n",
      "Epoch 4: val_loss did not improve from 2.55899\n",
      "364/364 [==============================] - 815s 2s/step - loss: 2.5297 - accuracy: 0.6377 - val_loss: 2.5819 - val_accuracy: 0.6352\n",
      "Epoch 5/15\n",
      "364/364 [==============================] - ETA: 0s - loss: 2.5167 - accuracy: 0.6393\n",
      "Epoch 5: val_loss improved from 2.55899 to 2.55838, saving model to /content/drive/MyDrive/AI_VIETNAM/Course/aio_insight/03_rnn/save_model/machine_translation_lstm.h5\n",
      "364/364 [==============================] - 812s 2s/step - loss: 2.5167 - accuracy: 0.6393 - val_loss: 2.5584 - val_accuracy: 0.6359\n",
      "Epoch 6/15\n",
      "364/364 [==============================] - ETA: 0s - loss: 2.5061 - accuracy: 0.6402\n",
      "Epoch 6: val_loss improved from 2.55838 to 2.54460, saving model to /content/drive/MyDrive/AI_VIETNAM/Course/aio_insight/03_rnn/save_model/machine_translation_lstm.h5\n",
      "364/364 [==============================] - 821s 2s/step - loss: 2.5061 - accuracy: 0.6402 - val_loss: 2.5446 - val_accuracy: 0.6367\n",
      "Epoch 7/15\n",
      "364/364 [==============================] - ETA: 0s - loss: 2.4984 - accuracy: 0.6409\n",
      "Epoch 7: val_loss improved from 2.54460 to 2.53105, saving model to /content/drive/MyDrive/AI_VIETNAM/Course/aio_insight/03_rnn/save_model/machine_translation_lstm.h5\n",
      "364/364 [==============================] - 863s 2s/step - loss: 2.4984 - accuracy: 0.6409 - val_loss: 2.5310 - val_accuracy: 0.6379\n",
      "Epoch 8/15\n",
      "364/364 [==============================] - ETA: 0s - loss: 2.4898 - accuracy: 0.6412\n",
      "Epoch 8: val_loss did not improve from 2.53105\n",
      "364/364 [==============================] - 872s 2s/step - loss: 2.4898 - accuracy: 0.6412 - val_loss: 2.5358 - val_accuracy: 0.6351\n",
      "Epoch 9/15\n",
      "364/364 [==============================] - ETA: 0s - loss: 2.4822 - accuracy: 0.6417\n",
      "Epoch 9: val_loss did not improve from 2.53105\n",
      "364/364 [==============================] - 857s 2s/step - loss: 2.4822 - accuracy: 0.6417 - val_loss: 2.5323 - val_accuracy: 0.6388\n",
      "Epoch 10/15\n",
      "364/364 [==============================] - ETA: 0s - loss: 2.4671 - accuracy: 0.6430\n",
      "Epoch 10: val_loss improved from 2.53105 to 2.51126, saving model to /content/drive/MyDrive/AI_VIETNAM/Course/aio_insight/03_rnn/save_model/machine_translation_lstm.h5\n",
      "364/364 [==============================] - 856s 2s/step - loss: 2.4671 - accuracy: 0.6430 - val_loss: 2.5113 - val_accuracy: 0.6385\n",
      "Epoch 11/15\n",
      "364/364 [==============================] - ETA: 0s - loss: 2.4437 - accuracy: 0.6447\n",
      "Epoch 11: val_loss improved from 2.51126 to 2.48781, saving model to /content/drive/MyDrive/AI_VIETNAM/Course/aio_insight/03_rnn/save_model/machine_translation_lstm.h5\n",
      "364/364 [==============================] - 846s 2s/step - loss: 2.4437 - accuracy: 0.6447 - val_loss: 2.4878 - val_accuracy: 0.6406\n",
      "Epoch 12/15\n",
      "364/364 [==============================] - ETA: 0s - loss: 2.4260 - accuracy: 0.6467\n",
      "Epoch 12: val_loss improved from 2.48781 to 2.47347, saving model to /content/drive/MyDrive/AI_VIETNAM/Course/aio_insight/03_rnn/save_model/machine_translation_lstm.h5\n",
      "364/364 [==============================] - 834s 2s/step - loss: 2.4260 - accuracy: 0.6467 - val_loss: 2.4735 - val_accuracy: 0.6440\n",
      "Epoch 13/15\n",
      "364/364 [==============================] - ETA: 0s - loss: 2.3999 - accuracy: 0.6489\n",
      "Epoch 13: val_loss improved from 2.47347 to 2.44672, saving model to /content/drive/MyDrive/AI_VIETNAM/Course/aio_insight/03_rnn/save_model/machine_translation_lstm.h5\n",
      "364/364 [==============================] - 820s 2s/step - loss: 2.3999 - accuracy: 0.6489 - val_loss: 2.4467 - val_accuracy: 0.6451\n",
      "Epoch 14/15\n",
      "364/364 [==============================] - ETA: 0s - loss: 2.3652 - accuracy: 0.6516\n",
      "Epoch 14: val_loss improved from 2.44672 to 2.42670, saving model to /content/drive/MyDrive/AI_VIETNAM/Course/aio_insight/03_rnn/save_model/machine_translation_lstm.h5\n",
      "364/364 [==============================] - 815s 2s/step - loss: 2.3652 - accuracy: 0.6516 - val_loss: 2.4267 - val_accuracy: 0.6475\n",
      "Epoch 15/15\n",
      "364/364 [==============================] - ETA: 0s - loss: 2.3356 - accuracy: 0.6541\n",
      "Epoch 15: val_loss improved from 2.42670 to 2.40701, saving model to /content/drive/MyDrive/AI_VIETNAM/Course/aio_insight/03_rnn/save_model/machine_translation_lstm.h5\n",
      "364/364 [==============================] - 812s 2s/step - loss: 2.3356 - accuracy: 0.6541 - val_loss: 2.4070 - val_accuracy: 0.6493\n"
     ]
    }
   ],
   "source": [
    "history_lstm = model_lstm.fit(generate_encode_batch(vi_train_padded_seqs, en_train_padded_seqs, batch_size = batch_size, vocab_size=en_vocab_size),\n",
    "                            steps_per_epoch = train_samples//batch_size,\n",
    "                            epochs=epochs,\n",
    "                            validation_data = generate_encode_batch(vi_valid_padded_seqs, en_valid_padded_seqs, batch_size = batch_size, vocab_size=en_vocab_size),\n",
    "                            validation_steps = val_samples//batch_size,\n",
    "                            callbacks=[checkpoint]\n",
    "                            )"
   ]
  },
  {
   "cell_type": "code",
   "execution_count": null,
   "metadata": {
    "colab": {
     "base_uri": "https://localhost:8080/",
     "height": 573
    },
    "executionInfo": {
     "elapsed": 541,
     "status": "ok",
     "timestamp": 1646541550911,
     "user": {
      "displayName": "Thái Nguyễn Quốc",
      "photoUrl": "https://lh3.googleusercontent.com/a-/AOh14GhZLNSWy4-fLj7PmicmKxXQvi7xGOe2vDlaHSFo7A=s64",
      "userId": "03315292090052971901"
     },
     "user_tz": -420
    },
    "id": "mm49Ano4fCi7",
    "outputId": "7ae51872-1777-4aee-ee2f-98a55e560429"
   },
   "outputs": [
    {
     "data": {
      "image/png": "[encoded data removed]",
      "text/plain": [
       "<Figure size 432x288 with 1 Axes>"
      ]
     },
     "metadata": {
      "needs_background": "light"
     },
     "output_type": "display_data"
    },
    {
     "data": {
      "image/png": "[encoded data removed]",
      "text/plain": [
       "<Figure size 432x288 with 1 Axes>"
      ]
     },
     "metadata": {
      "needs_background": "light"
     },
     "output_type": "display_data"
    }
   ],
   "source": [
    "# summarize history for accuracy\n",
    "plt.plot(history_lstm.history['accuracy'])\n",
    "plt.plot(history_lstm.history['val_accuracy'])\n",
    "plt.title('model accuracy')\n",
    "plt.ylabel('accuracy')\n",
    "plt.xlabel('epoch')\n",
    "plt.legend(['train', 'test'], loc='lower right')\n",
    "plt.show()\n",
    "# summarize history for loss\n",
    "plt.plot(history_lstm.history['loss'])\n",
    "plt.plot(history_lstm.history['val_loss'])\n",
    "plt.title('model loss')\n",
    "plt.ylabel('loss')\n",
    "plt.xlabel('epoch')\n",
    "plt.legend(['train', 'test'], loc='upper right')\n",
    "plt.show()"
   ]
  },
  {
   "cell_type": "code",
   "execution_count": null,
   "metadata": {
    "id": "hXeARwat5Bwk"
   },
   "outputs": [],
   "source": [
    "np.save(urljoin(source_path, 'save_model/machine_translation_lstm_history.npy'), history_lstm.history)"
   ]
  },
  {
   "cell_type": "code",
   "execution_count": null,
   "metadata": {
    "id": "_5reDcZTfPxv"
   },
   "outputs": [],
   "source": [
    "history_lstm = np.load(urljoin(source_path, 'save_model/machine_translation_lstm_history.npy'), allow_pickle='TRUE').item()"
   ]
  },
  {
   "cell_type": "code",
   "execution_count": null,
   "metadata": {},
   "outputs": [],
   "source": []
  },
  {
   "cell_type": "code",
   "execution_count": null,
   "metadata": {},
   "outputs": [],
   "source": []
  },
  {
   "cell_type": "markdown",
   "metadata": {
    "id": "Z0_qW6AXgYPn"
   },
   "source": [
    "#### **GRU**"
   ]
  },
  {
   "cell_type": "code",
   "execution_count": null,
   "metadata": {
    "colab": {
     "base_uri": "https://localhost:8080/"
    },
    "executionInfo": {
     "elapsed": 1422,
     "status": "ok",
     "timestamp": 1646541571235,
     "user": {
      "displayName": "Thái Nguyễn Quốc",
      "photoUrl": "https://lh3.googleusercontent.com/a-/AOh14GhZLNSWy4-fLj7PmicmKxXQvi7xGOe2vDlaHSFo7A=s64",
      "userId": "03315292090052971901"
     },
     "user_tz": -420
    },
    "id": "BiPv0oh7gZpS",
    "outputId": "d0df4e33-0bae-47bb-f4e4-15dd08928f40"
   },
   "outputs": [
    {
     "name": "stdout",
     "output_type": "stream",
     "text": [
      "Model: \"sequential_2\"\n",
      "_________________________________________________________________\n",
      " Layer (type)                Output Shape              Param #   \n",
      "=================================================================\n",
      " embedding_1 (Embedding)     (None, 50, 200)           3211000   \n",
      "                                                                 \n",
      " gru (GRU)                   (None, 256)               351744    \n",
      "                                                                 \n",
      " repeat_vector_1 (RepeatVect  (None, 50, 256)          0         \n",
      " or)                                                             \n",
      "                                                                 \n",
      " gru_1 (GRU)                 (None, 50, 256)           394752    \n",
      "                                                                 \n",
      " time_distributed_1 (TimeDis  (None, 50, 36295)        9327815   \n",
      " tributed)                                                       \n",
      "                                                                 \n",
      "=================================================================\n",
      "Total params: 13,285,311\n",
      "Trainable params: 13,285,311\n",
      "Non-trainable params: 0\n",
      "_________________________________________________________________\n"
     ]
    }
   ],
   "source": [
    "model_gru = Sequential()\n",
    "model_gru.add(Embedding(vi_vocab_size, embedding_dim, input_length=vi_max_len, mask_zero=True))\n",
    "model_gru.add(GRU(hidden_size))\n",
    "model_gru.add(RepeatVector(en_max_len))\n",
    "model_gru.add(GRU(hidden_size, return_sequences=True))\n",
    "model_gru.add(TimeDistributed(Dense(en_vocab_size, activation='softmax')))\n",
    "\n",
    "model_gru.compile(optimizer='adam', loss='categorical_crossentropy', metrics=['accuracy'])\n",
    "model_gru.summary()"
   ]
  },
  {
   "cell_type": "code",
   "execution_count": null,
   "metadata": {
    "id": "cL2ReRVxgqmd"
   },
   "outputs": [],
   "source": [
    "file_name = urljoin(source_path, 'save_model/machine_translation_gru.h5')\n",
    "checkpoint = ModelCheckpoint(file_name, monitor='val_loss', verbose=1, save_best_only=True, mode='min')"
   ]
  },
  {
   "cell_type": "code",
   "execution_count": null,
   "metadata": {
    "colab": {
     "base_uri": "https://localhost:8080/"
    },
    "executionInfo": {
     "elapsed": 20609511,
     "status": "ok",
     "timestamp": 1646562212645,
     "user": {
      "displayName": "Thái Nguyễn Quốc",
      "photoUrl": "https://lh3.googleusercontent.com/a-/AOh14GhZLNSWy4-fLj7PmicmKxXQvi7xGOe2vDlaHSFo7A=s64",
      "userId": "03315292090052971901"
     },
     "user_tz": -420
    },
    "id": "zsflD5P8gu25",
    "outputId": "0a742c3f-9d5c-4270-a3e7-828273a04e71"
   },
   "outputs": [
    {
     "name": "stdout",
     "output_type": "stream",
     "text": [
      "Epoch 1/15\n",
      "364/364 [==============================] - ETA: 0s - loss: 3.1362 - accuracy: 0.6129\n",
      "Epoch 1: val_loss improved from inf to 2.62111, saving model to /content/drive/MyDrive/AI_VIETNAM/Course/aio_insight/03_rnn/save_model/machine_translation_gru.h5\n",
      "364/364 [==============================] - 1034s 3s/step - loss: 3.1362 - accuracy: 0.6129 - val_loss: 2.6211 - val_accuracy: 0.6229\n",
      "Epoch 2/15\n",
      "364/364 [==============================] - ETA: 0s - loss: 2.5640 - accuracy: 0.6329\n",
      "Epoch 2: val_loss improved from 2.62111 to 2.56508, saving model to /content/drive/MyDrive/AI_VIETNAM/Course/aio_insight/03_rnn/save_model/machine_translation_gru.h5\n",
      "364/364 [==============================] - 1149s 3s/step - loss: 2.5640 - accuracy: 0.6329 - val_loss: 2.5651 - val_accuracy: 0.6332\n",
      "Epoch 3/15\n",
      "364/364 [==============================] - ETA: 0s - loss: 2.5318 - accuracy: 0.6369\n",
      "Epoch 3: val_loss improved from 2.56508 to 2.56035, saving model to /content/drive/MyDrive/AI_VIETNAM/Course/aio_insight/03_rnn/save_model/machine_translation_gru.h5\n",
      "364/364 [==============================] - 1280s 4s/step - loss: 2.5318 - accuracy: 0.6369 - val_loss: 2.5604 - val_accuracy: 0.6344\n",
      "Epoch 4/15\n",
      "364/364 [==============================] - ETA: 0s - loss: 2.5165 - accuracy: 0.6381\n",
      "Epoch 4: val_loss improved from 2.56035 to 2.54001, saving model to /content/drive/MyDrive/AI_VIETNAM/Course/aio_insight/03_rnn/save_model/machine_translation_gru.h5\n",
      "364/364 [==============================] - 1312s 4s/step - loss: 2.5165 - accuracy: 0.6381 - val_loss: 2.5400 - val_accuracy: 0.6363\n",
      "Epoch 5/15\n",
      "364/364 [==============================] - ETA: 0s - loss: 2.5099 - accuracy: 0.6395\n",
      "Epoch 5: val_loss improved from 2.54001 to 2.53661, saving model to /content/drive/MyDrive/AI_VIETNAM/Course/aio_insight/03_rnn/save_model/machine_translation_gru.h5\n",
      "364/364 [==============================] - 1374s 4s/step - loss: 2.5099 - accuracy: 0.6395 - val_loss: 2.5366 - val_accuracy: 0.6365\n",
      "Epoch 6/15\n",
      "364/364 [==============================] - ETA: 0s - loss: 2.5021 - accuracy: 0.6399\n",
      "Epoch 6: val_loss improved from 2.53661 to 2.53626, saving model to /content/drive/MyDrive/AI_VIETNAM/Course/aio_insight/03_rnn/save_model/machine_translation_gru.h5\n",
      "364/364 [==============================] - 1386s 4s/step - loss: 2.5021 - accuracy: 0.6399 - val_loss: 2.5363 - val_accuracy: 0.6371\n",
      "Epoch 7/15\n",
      "364/364 [==============================] - ETA: 0s - loss: 2.4958 - accuracy: 0.6402\n",
      "Epoch 7: val_loss improved from 2.53626 to 2.53535, saving model to /content/drive/MyDrive/AI_VIETNAM/Course/aio_insight/03_rnn/save_model/machine_translation_gru.h5\n",
      "364/364 [==============================] - 1420s 4s/step - loss: 2.4958 - accuracy: 0.6402 - val_loss: 2.5353 - val_accuracy: 0.6364\n",
      "Epoch 8/15\n",
      "364/364 [==============================] - ETA: 0s - loss: 2.4917 - accuracy: 0.6404\n",
      "Epoch 8: val_loss did not improve from 2.53535\n",
      "364/364 [==============================] - 1407s 4s/step - loss: 2.4917 - accuracy: 0.6404 - val_loss: 2.5483 - val_accuracy: 0.6345\n",
      "Epoch 9/15\n",
      "364/364 [==============================] - ETA: 0s - loss: 2.4957 - accuracy: 0.6403\n",
      "Epoch 9: val_loss did not improve from 2.53535\n",
      "364/364 [==============================] - 1470s 4s/step - loss: 2.4957 - accuracy: 0.6403 - val_loss: 2.5415 - val_accuracy: 0.6369\n",
      "Epoch 10/15\n",
      "364/364 [==============================] - ETA: 0s - loss: 2.4961 - accuracy: 0.6400\n",
      "Epoch 10: val_loss improved from 2.53535 to 2.53444, saving model to /content/drive/MyDrive/AI_VIETNAM/Course/aio_insight/03_rnn/save_model/machine_translation_gru.h5\n",
      "364/364 [==============================] - 1443s 4s/step - loss: 2.4961 - accuracy: 0.6400 - val_loss: 2.5344 - val_accuracy: 0.6372\n",
      "Epoch 11/15\n",
      "364/364 [==============================] - ETA: 0s - loss: 2.4804 - accuracy: 0.6413\n",
      "Epoch 11: val_loss did not improve from 2.53444\n",
      "364/364 [==============================] - 1461s 4s/step - loss: 2.4804 - accuracy: 0.6413 - val_loss: 2.5467 - val_accuracy: 0.6344\n",
      "Epoch 12/15\n",
      "364/364 [==============================] - ETA: 0s - loss: 2.4616 - accuracy: 0.6429\n",
      "Epoch 12: val_loss improved from 2.53444 to 2.51642, saving model to /content/drive/MyDrive/AI_VIETNAM/Course/aio_insight/03_rnn/save_model/machine_translation_gru.h5\n",
      "364/364 [==============================] - 1444s 4s/step - loss: 2.4616 - accuracy: 0.6429 - val_loss: 2.5164 - val_accuracy: 0.6380\n",
      "Epoch 13/15\n",
      "364/364 [==============================] - ETA: 0s - loss: 2.4491 - accuracy: 0.6437\n",
      "Epoch 13: val_loss improved from 2.51642 to 2.51209, saving model to /content/drive/MyDrive/AI_VIETNAM/Course/aio_insight/03_rnn/save_model/machine_translation_gru.h5\n",
      "364/364 [==============================] - 1466s 4s/step - loss: 2.4491 - accuracy: 0.6437 - val_loss: 2.5121 - val_accuracy: 0.6398\n",
      "Epoch 14/15\n",
      "364/364 [==============================] - ETA: 0s - loss: 2.4368 - accuracy: 0.6445\n",
      "Epoch 14: val_loss did not improve from 2.51209\n",
      "364/364 [==============================] - 1476s 4s/step - loss: 2.4368 - accuracy: 0.6445 - val_loss: 2.5191 - val_accuracy: 0.6408\n",
      "Epoch 15/15\n",
      "364/364 [==============================] - ETA: 0s - loss: 2.4212 - accuracy: 0.6456\n",
      "Epoch 15: val_loss improved from 2.51209 to 2.50132, saving model to /content/drive/MyDrive/AI_VIETNAM/Course/aio_insight/03_rnn/save_model/machine_translation_gru.h5\n",
      "364/364 [==============================] - 1485s 4s/step - loss: 2.4212 - accuracy: 0.6456 - val_loss: 2.5013 - val_accuracy: 0.6408\n"
     ]
    }
   ],
   "source": [
    "history_gru = model_gru.fit(generate_encode_batch(vi_train_padded_seqs, en_train_padded_seqs, batch_size = batch_size, vocab_size=en_vocab_size),\n",
    "                            steps_per_epoch = train_samples//batch_size,\n",
    "                            epochs=epochs,\n",
    "                            validation_data = generate_encode_batch(vi_valid_padded_seqs, en_valid_padded_seqs, batch_size = batch_size, vocab_size=en_vocab_size),\n",
    "                            validation_steps = val_samples//batch_size,\n",
    "                            callbacks=[checkpoint]\n",
    "                            )"
   ]
  },
  {
   "cell_type": "code",
   "execution_count": null,
   "metadata": {
    "colab": {
     "base_uri": "https://localhost:8080/",
     "height": 573
    },
    "executionInfo": {
     "elapsed": 1007,
     "status": "ok",
     "timestamp": 1646562293606,
     "user": {
      "displayName": "Thái Nguyễn Quốc",
      "photoUrl": "https://lh3.googleusercontent.com/a-/AOh14GhZLNSWy4-fLj7PmicmKxXQvi7xGOe2vDlaHSFo7A=s64",
      "userId": "03315292090052971901"
     },
     "user_tz": -420
    },
    "id": "K1MJgk9tBYXn",
    "outputId": "5562e8c6-01b9-4f4c-aaf1-c2d544a1f0d1"
   },
   "outputs": [
    {
     "data": {
      "image/png": "[encoded data removed]",
      "text/plain": [
       "<Figure size 432x288 with 1 Axes>"
      ]
     },
     "metadata": {
      "needs_background": "light"
     },
     "output_type": "display_data"
    },
    {
     "data": {
      "image/png": "[encoded data removed]",
      "text/plain": [
       "<Figure size 432x288 with 1 Axes>"
      ]
     },
     "metadata": {
      "needs_background": "light"
     },
     "output_type": "display_data"
    }
   ],
   "source": [
    "# summarize history for accuracy\n",
    "plt.plot(history_gru.history['accuracy'])\n",
    "plt.plot(history_gru.history['val_accuracy'])\n",
    "plt.title('model accuracy')\n",
    "plt.ylabel('accuracy')\n",
    "plt.xlabel('epoch')\n",
    "plt.legend(['train', 'test'], loc='lower right')\n",
    "plt.show()\n",
    "# summarize history for loss\n",
    "plt.plot(history_gru.history['loss'])\n",
    "plt.plot(history_gru.history['val_loss'])\n",
    "plt.title('model loss')\n",
    "plt.ylabel('loss')\n",
    "plt.xlabel('epoch')\n",
    "plt.legend(['train', 'test'], loc='upper right')\n",
    "plt.show()"
   ]
  },
  {
   "cell_type": "code",
   "execution_count": null,
   "metadata": {
    "id": "7KwqJAuMFOLa"
   },
   "outputs": [],
   "source": [
    "np.save('/content/drive/MyDrive/AI_VIETNAM/Course/aio_insight/03_rnn/save_model/machine_translation_gru_history.npy', history_gru.history)"
   ]
  },
  {
   "cell_type": "code",
   "execution_count": null,
   "metadata": {
    "id": "LZgLJV8t96TW"
   },
   "outputs": [],
   "source": [
    "history_gru = np.load('/content/drive/MyDrive/AI_VIETNAM/Course/aio_insight/03_rnn/save_model/machine_translation_gru_history.npy', allow_pickle='TRUE').item()"
   ]
  },
  {
   "cell_type": "code",
   "execution_count": null,
   "metadata": {},
   "outputs": [],
   "source": []
  },
  {
   "cell_type": "code",
   "execution_count": null,
   "metadata": {},
   "outputs": [],
   "source": []
  },
  {
   "cell_type": "markdown",
   "metadata": {
    "id": "PSCoyVIVJBon"
   },
   "source": [
    "#### **Bi-GRU**"
   ]
  },
  {
   "cell_type": "code",
   "execution_count": null,
   "metadata": {
    "colab": {
     "base_uri": "https://localhost:8080/"
    },
    "executionInfo": {
     "elapsed": 2729,
     "status": "ok",
     "timestamp": 1646468106757,
     "user": {
      "displayName": "Thái Nguyễn Quốc",
      "photoUrl": "https://lh3.googleusercontent.com/a-/AOh14GhZLNSWy4-fLj7PmicmKxXQvi7xGOe2vDlaHSFo7A=s64",
      "userId": "03315292090052971901"
     },
     "user_tz": -420
    },
    "id": "E5Rp2LMZHmbv",
    "outputId": "33be9c3f-1f83-47fe-8cbe-ab4e6fdf66e0"
   },
   "outputs": [
    {
     "name": "stdout",
     "output_type": "stream",
     "text": [
      "Model: \"sequential_2\"\n",
      "_________________________________________________________________\n",
      " Layer (type)                Output Shape              Param #   \n",
      "=================================================================\n",
      " embedding_2 (Embedding)     (None, 50, 200)           3211000   \n",
      "                                                                 \n",
      " bidirectional_2 (Bidirectio  (None, 512)              703488    \n",
      " nal)                                                            \n",
      "                                                                 \n",
      " repeat_vector_2 (RepeatVect  (None, 50, 512)          0         \n",
      " or)                                                             \n",
      "                                                                 \n",
      " bidirectional_3 (Bidirectio  (None, 50, 512)          1182720   \n",
      " nal)                                                            \n",
      "                                                                 \n",
      " time_distributed_2 (TimeDis  (None, 50, 36295)        18619335  \n",
      " tributed)                                                       \n",
      "                                                                 \n",
      "=================================================================\n",
      "Total params: 23,716,543\n",
      "Trainable params: 23,716,543\n",
      "Non-trainable params: 0\n",
      "_________________________________________________________________\n"
     ]
    }
   ],
   "source": [
    "model_bigru = Sequential()\n",
    "model_bigru.add(Embedding(vi_vocab_size, embedding_dim, input_length=vi_max_len, mask_zero=True))\n",
    "model_bigru.add(Bidirectional(GRU(hidden_size)))\n",
    "model_bigru.add(RepeatVector(en_max_len))\n",
    "model_bigru.add(Bidirectional(GRU(hidden_size, return_sequences=True)))\n",
    "model_bigru.add(TimeDistributed(Dense(en_vocab_size, activation='softmax')))\n",
    "\n",
    "model_bigru.compile(optimizer='adam', loss='categorical_crossentropy', metrics=['accuracy'])\n",
    "model_bigru.summary()"
   ]
  },
  {
   "cell_type": "code",
   "execution_count": null,
   "metadata": {
    "id": "dBMZP7MPJIpi"
   },
   "outputs": [],
   "source": [
    "file_name = '/content/drive/MyDrive/AI_VIETNAM/Course/aio_insight/03_rnn/save_model/nmt_bigru.h5'\n",
    "checkpoint = ModelCheckpoint(file_name, monitor='val_loss', verbose=1, save_best_only=True, mode='min')"
   ]
  },
  {
   "cell_type": "code",
   "execution_count": null,
   "metadata": {
    "colab": {
     "base_uri": "https://localhost:8080/"
    },
    "executionInfo": {
     "elapsed": 21874347,
     "status": "ok",
     "timestamp": 1646489992948,
     "user": {
      "displayName": "Thái Nguyễn Quốc",
      "photoUrl": "https://lh3.googleusercontent.com/a-/AOh14GhZLNSWy4-fLj7PmicmKxXQvi7xGOe2vDlaHSFo7A=s64",
      "userId": "03315292090052971901"
     },
     "user_tz": -420
    },
    "id": "6h3N9KkzJRXs",
    "outputId": "f4c56b18-8cc5-4fdd-9e82-a4a1597f2b10"
   },
   "outputs": [
    {
     "name": "stdout",
     "output_type": "stream",
     "text": [
      "Epoch 1/15\n",
      "364/364 [==============================] - ETA: 0s - loss: 2.9627 - accuracy: 0.6214\n",
      "Epoch 1: val_loss improved from inf to 2.62798, saving model to /content/drive/MyDrive/AI_VIETNAM/Course/aio_insight/03_rnn/save_model/nmt_bigru.h5\n",
      "364/364 [==============================] - 1046s 3s/step - loss: 2.9627 - accuracy: 0.6214 - val_loss: 2.6280 - val_accuracy: 0.6305\n",
      "Epoch 2/15\n",
      "364/364 [==============================] - ETA: 0s - loss: 2.5888 - accuracy: 0.6359\n",
      "Epoch 2: val_loss improved from 2.62798 to 2.59996, saving model to /content/drive/MyDrive/AI_VIETNAM/Course/aio_insight/03_rnn/save_model/nmt_bigru.h5\n",
      "364/364 [==============================] - 1226s 3s/step - loss: 2.5888 - accuracy: 0.6359 - val_loss: 2.6000 - val_accuracy: 0.6357\n",
      "Epoch 3/15\n",
      "364/364 [==============================] - ETA: 0s - loss: 2.5713 - accuracy: 0.6390\n",
      "Epoch 3: val_loss improved from 2.59996 to 2.59117, saving model to /content/drive/MyDrive/AI_VIETNAM/Course/aio_insight/03_rnn/save_model/nmt_bigru.h5\n",
      "364/364 [==============================] - 1395s 4s/step - loss: 2.5713 - accuracy: 0.6390 - val_loss: 2.5912 - val_accuracy: 0.6370\n",
      "Epoch 4/15\n",
      "364/364 [==============================] - ETA: 0s - loss: 2.5635 - accuracy: 0.6396\n",
      "Epoch 4: val_loss improved from 2.59117 to 2.58757, saving model to /content/drive/MyDrive/AI_VIETNAM/Course/aio_insight/03_rnn/save_model/nmt_bigru.h5\n",
      "364/364 [==============================] - 1411s 4s/step - loss: 2.5635 - accuracy: 0.6396 - val_loss: 2.5876 - val_accuracy: 0.6371\n",
      "Epoch 5/15\n",
      "364/364 [==============================] - ETA: 0s - loss: 2.5553 - accuracy: 0.6401\n",
      "Epoch 5: val_loss did not improve from 2.58757\n",
      "364/364 [==============================] - 1434s 4s/step - loss: 2.5553 - accuracy: 0.6401 - val_loss: 2.5998 - val_accuracy: 0.6369\n",
      "Epoch 6/15\n",
      "364/364 [==============================] - ETA: 0s - loss: 2.5534 - accuracy: 0.6401\n",
      "Epoch 6: val_loss improved from 2.58757 to 2.58499, saving model to /content/drive/MyDrive/AI_VIETNAM/Course/aio_insight/03_rnn/save_model/nmt_bigru.h5\n",
      "364/364 [==============================] - 1505s 4s/step - loss: 2.5534 - accuracy: 0.6401 - val_loss: 2.5850 - val_accuracy: 0.6363\n",
      "Epoch 7/15\n",
      "364/364 [==============================] - ETA: 0s - loss: 2.5423 - accuracy: 0.6407\n",
      "Epoch 7: val_loss improved from 2.58499 to 2.57405, saving model to /content/drive/MyDrive/AI_VIETNAM/Course/aio_insight/03_rnn/save_model/nmt_bigru.h5\n",
      "364/364 [==============================] - 1470s 4s/step - loss: 2.5423 - accuracy: 0.6407 - val_loss: 2.5741 - val_accuracy: 0.6371\n",
      "Epoch 8/15\n",
      "364/364 [==============================] - ETA: 0s - loss: 2.5250 - accuracy: 0.6418\n",
      "Epoch 8: val_loss improved from 2.57405 to 2.56635, saving model to /content/drive/MyDrive/AI_VIETNAM/Course/aio_insight/03_rnn/save_model/nmt_bigru.h5\n",
      "364/364 [==============================] - 1561s 4s/step - loss: 2.5250 - accuracy: 0.6418 - val_loss: 2.5664 - val_accuracy: 0.6372\n",
      "Epoch 9/15\n",
      "364/364 [==============================] - ETA: 0s - loss: 2.5165 - accuracy: 0.6430\n",
      "Epoch 9: val_loss improved from 2.56635 to 2.56233, saving model to /content/drive/MyDrive/AI_VIETNAM/Course/aio_insight/03_rnn/save_model/nmt_bigru.h5\n",
      "364/364 [==============================] - 1573s 4s/step - loss: 2.5165 - accuracy: 0.6430 - val_loss: 2.5623 - val_accuracy: 0.6397\n",
      "Epoch 10/15\n",
      "364/364 [==============================] - ETA: 0s - loss: 2.5065 - accuracy: 0.6442\n",
      "Epoch 10: val_loss improved from 2.56233 to 2.54732, saving model to /content/drive/MyDrive/AI_VIETNAM/Course/aio_insight/03_rnn/save_model/nmt_bigru.h5\n",
      "364/364 [==============================] - 1556s 4s/step - loss: 2.5065 - accuracy: 0.6442 - val_loss: 2.5473 - val_accuracy: 0.6419\n",
      "Epoch 11/15\n",
      "364/364 [==============================] - ETA: 0s - loss: 2.4884 - accuracy: 0.6464\n",
      "Epoch 11: val_loss improved from 2.54732 to 2.54490, saving model to /content/drive/MyDrive/AI_VIETNAM/Course/aio_insight/03_rnn/save_model/nmt_bigru.h5\n",
      "364/364 [==============================] - 1512s 4s/step - loss: 2.4884 - accuracy: 0.6464 - val_loss: 2.5449 - val_accuracy: 0.6398\n",
      "Epoch 12/15\n",
      "364/364 [==============================] - ETA: 0s - loss: 2.4656 - accuracy: 0.6489\n",
      "Epoch 12: val_loss improved from 2.54490 to 2.51207, saving model to /content/drive/MyDrive/AI_VIETNAM/Course/aio_insight/03_rnn/save_model/nmt_bigru.h5\n",
      "364/364 [==============================] - 1481s 4s/step - loss: 2.4656 - accuracy: 0.6489 - val_loss: 2.5121 - val_accuracy: 0.6452\n",
      "Epoch 13/15\n",
      "364/364 [==============================] - ETA: 0s - loss: 2.4440 - accuracy: 0.6505\n",
      "Epoch 13: val_loss improved from 2.51207 to 2.49594, saving model to /content/drive/MyDrive/AI_VIETNAM/Course/aio_insight/03_rnn/save_model/nmt_bigru.h5\n",
      "364/364 [==============================] - 1520s 4s/step - loss: 2.4440 - accuracy: 0.6505 - val_loss: 2.4959 - val_accuracy: 0.6458\n",
      "Epoch 14/15\n",
      "364/364 [==============================] - ETA: 0s - loss: 2.4393 - accuracy: 0.6514\n",
      "Epoch 14: val_loss did not improve from 2.49594\n",
      "364/364 [==============================] - 1542s 4s/step - loss: 2.4393 - accuracy: 0.6514 - val_loss: 2.5002 - val_accuracy: 0.6477\n",
      "Epoch 15/15\n",
      "364/364 [==============================] - ETA: 0s - loss: 2.4220 - accuracy: 0.6528\n",
      "Epoch 15: val_loss improved from 2.49594 to 2.49287, saving model to /content/drive/MyDrive/AI_VIETNAM/Course/aio_insight/03_rnn/save_model/nmt_bigru.h5\n",
      "364/364 [==============================] - 1604s 4s/step - loss: 2.4220 - accuracy: 0.6528 - val_loss: 2.4929 - val_accuracy: 0.6440\n"
     ]
    }
   ],
   "source": [
    "history_bigru = model_bigru.fit(generate_encode_batch(vi_train_padded_seqs, en_train_padded_seqs, batch_size = batch_size, vocab_size=en_vocab_size),\n",
    "                            steps_per_epoch = train_samples//batch_size,\n",
    "                            epochs=epochs,\n",
    "                            validation_data = generate_encode_batch(vi_valid_padded_seqs, en_valid_padded_seqs, batch_size = batch_size, vocab_size=en_vocab_size),\n",
    "                            validation_steps = val_samples//batch_size,\n",
    "                            callbacks=[checkpoint]\n",
    "                            )"
   ]
  },
  {
   "cell_type": "code",
   "execution_count": null,
   "metadata": {
    "colab": {
     "base_uri": "https://localhost:8080/",
     "height": 573
    },
    "executionInfo": {
     "elapsed": 1054,
     "status": "ok",
     "timestamp": 1646490594432,
     "user": {
      "displayName": "Thái Nguyễn Quốc",
      "photoUrl": "https://lh3.googleusercontent.com/a-/AOh14GhZLNSWy4-fLj7PmicmKxXQvi7xGOe2vDlaHSFo7A=s64",
      "userId": "03315292090052971901"
     },
     "user_tz": -420
    },
    "id": "SVk-NgUYfFxJ",
    "outputId": "afeaedbf-32a3-41f7-921b-dd931ed34d74"
   },
   "outputs": [
    {
     "data": {
      "image/png": "[encoded data removed]",
      "text/plain": [
       "<Figure size 432x288 with 1 Axes>"
      ]
     },
     "metadata": {
      "needs_background": "light"
     },
     "output_type": "display_data"
    },
    {
     "data": {
      "image/png": "[encoded data removed]",
      "text/plain": [
       "<Figure size 432x288 with 1 Axes>"
      ]
     },
     "metadata": {
      "needs_background": "light"
     },
     "output_type": "display_data"
    }
   ],
   "source": [
    "# summarize history for accuracy\n",
    "plt.plot(history_bigru.history['accuracy'])\n",
    "plt.plot(history_bigru.history['val_accuracy'])\n",
    "plt.title('model accuracy')\n",
    "plt.ylabel('accuracy')\n",
    "plt.xlabel('epoch')\n",
    "plt.legend(['train', 'test'], loc='lower right')\n",
    "plt.show()\n",
    "# summarize history for loss\n",
    "plt.plot(history_bigru.history['loss'])\n",
    "plt.plot(history_bigru.history['val_loss'])\n",
    "plt.title('model loss')\n",
    "plt.ylabel('loss')\n",
    "plt.xlabel('epoch')\n",
    "plt.legend(['train', 'test'], loc='upper right')\n",
    "plt.show()"
   ]
  },
  {
   "cell_type": "code",
   "execution_count": null,
   "metadata": {
    "id": "cXZPsjxIfQQm"
   },
   "outputs": [],
   "source": [
    "np.save('/content/drive/MyDrive/AI_VIETNAM/Course/aio_insight/03_rnn/save_model/machine_translation_bigru_history.npy', history_bigru.history)"
   ]
  },
  {
   "cell_type": "code",
   "execution_count": null,
   "metadata": {
    "id": "TROYVKb7fYSS"
   },
   "outputs": [],
   "source": [
    "history_bigru.history = np.load('/content/drive/MyDrive/AI_VIETNAM/Course/aio_insight/03_rnn/save_model/machine_translation_bigru_history.npy', allow_pickle='TRUE').item()"
   ]
  },
  {
   "cell_type": "code",
   "execution_count": null,
   "metadata": {},
   "outputs": [],
   "source": []
  },
  {
   "cell_type": "code",
   "execution_count": null,
   "metadata": {},
   "outputs": [],
   "source": []
  },
  {
   "cell_type": "markdown",
   "metadata": {
    "id": "BZcFq8wkh2Qn"
   },
   "source": [
    "#### **Stacked GRU**"
   ]
  },
  {
   "cell_type": "code",
   "execution_count": null,
   "metadata": {
    "colab": {
     "base_uri": "https://localhost:8080/"
    },
    "executionInfo": {
     "elapsed": 2839,
     "status": "ok",
     "timestamp": 1646491653076,
     "user": {
      "displayName": "Thái Nguyễn Quốc",
      "photoUrl": "https://lh3.googleusercontent.com/a-/AOh14GhZLNSWy4-fLj7PmicmKxXQvi7xGOe2vDlaHSFo7A=s64",
      "userId": "03315292090052971901"
     },
     "user_tz": -420
    },
    "id": "OPH0qpWVh71c",
    "outputId": "a44986d4-d52b-4bed-9e96-dc98e0ba427a"
   },
   "outputs": [
    {
     "name": "stdout",
     "output_type": "stream",
     "text": [
      "Model: \"sequential_2\"\n",
      "_________________________________________________________________\n",
      " Layer (type)                Output Shape              Param #   \n",
      "=================================================================\n",
      " embedding_2 (Embedding)     (None, 50, 200)           3211000   \n",
      "                                                                 \n",
      " gru_4 (GRU)                 (None, 50, 256)           351744    \n",
      "                                                                 \n",
      " gru_5 (GRU)                 (None, 256)               394752    \n",
      "                                                                 \n",
      " repeat_vector (RepeatVector  (None, 50, 256)          0         \n",
      " )                                                               \n",
      "                                                                 \n",
      " gru_6 (GRU)                 (None, 50, 256)           394752    \n",
      "                                                                 \n",
      " gru_7 (GRU)                 (None, 50, 256)           394752    \n",
      "                                                                 \n",
      " time_distributed (TimeDistr  (None, 50, 36295)        9327815   \n",
      " ibuted)                                                         \n",
      "                                                                 \n",
      "=================================================================\n",
      "Total params: 14,074,815\n",
      "Trainable params: 14,074,815\n",
      "Non-trainable params: 0\n",
      "_________________________________________________________________\n"
     ]
    }
   ],
   "source": [
    "model_stackedgru = Sequential()\n",
    "model_stackedgru.add(Embedding(vi_vocab_size, embedding_dim, input_length=vi_max_len, mask_zero=True))\n",
    "model_stackedgru.add(GRU(hidden_size, return_sequences=True))\n",
    "model_stackedgru.add(GRU(hidden_size))\n",
    "model_stackedgru.add(RepeatVector(en_max_len))\n",
    "model_stackedgru.add(GRU(hidden_size, return_sequences=True))\n",
    "model_stackedgru.add(GRU(hidden_size, return_sequences=True))\n",
    "model_stackedgru.add(TimeDistributed(Dense(en_vocab_size, activation='softmax')))\n",
    "\n",
    "model_stackedgru.compile(optimizer='adam', loss='categorical_crossentropy', metrics=['accuracy'])\n",
    "model_stackedgru.summary()"
   ]
  },
  {
   "cell_type": "code",
   "execution_count": null,
   "metadata": {
    "id": "srawRu4Biw6W"
   },
   "outputs": [],
   "source": [
    "file_name = '/content/drive/MyDrive/AI_VIETNAM/Course/aio_insight/03_rnn/save_model/nmt_stackedgru.h5'\n",
    "checkpoint = ModelCheckpoint(file_name, monitor='val_loss', verbose=1, save_best_only=True, mode='min')"
   ]
  },
  {
   "cell_type": "code",
   "execution_count": null,
   "metadata": {
    "colab": {
     "base_uri": "https://localhost:8080/"
    },
    "executionInfo": {
     "elapsed": 13297834,
     "status": "ok",
     "timestamp": 1646505009539,
     "user": {
      "displayName": "Thái Nguyễn Quốc",
      "photoUrl": "https://lh3.googleusercontent.com/a-/AOh14GhZLNSWy4-fLj7PmicmKxXQvi7xGOe2vDlaHSFo7A=s64",
      "userId": "03315292090052971901"
     },
     "user_tz": -420
    },
    "id": "AkFwm7yHjU9J",
    "outputId": "9fa0799d-6041-43c7-f299-9ab3ff6d7b5b"
   },
   "outputs": [
    {
     "name": "stdout",
     "output_type": "stream",
     "text": [
      "Epoch 1/15\n",
      "364/364 [==============================] - ETA: 0s - loss: 3.1884 - accuracy: 0.6122\n",
      "Epoch 1: val_loss improved from inf to 2.67388, saving model to /content/drive/MyDrive/AI_VIETNAM/Course/aio_insight/03_rnn/save_model/nmt_stackedgru.h5\n",
      "364/364 [==============================] - 813s 2s/step - loss: 3.1884 - accuracy: 0.6122 - val_loss: 2.6739 - val_accuracy: 0.6215\n",
      "Epoch 2/15\n",
      "364/364 [==============================] - ETA: 0s - loss: 2.6049 - accuracy: 0.6272\n",
      "Epoch 2: val_loss improved from 2.67388 to 2.58792, saving model to /content/drive/MyDrive/AI_VIETNAM/Course/aio_insight/03_rnn/save_model/nmt_stackedgru.h5\n",
      "364/364 [==============================] - 825s 2s/step - loss: 2.6049 - accuracy: 0.6272 - val_loss: 2.5879 - val_accuracy: 0.6285\n",
      "Epoch 3/15\n",
      "364/364 [==============================] - ETA: 0s - loss: 2.5564 - accuracy: 0.6325\n",
      "Epoch 3: val_loss did not improve from 2.58792\n",
      "364/364 [==============================] - 839s 2s/step - loss: 2.5564 - accuracy: 0.6325 - val_loss: 2.5882 - val_accuracy: 0.6315\n",
      "Epoch 4/15\n",
      "364/364 [==============================] - ETA: 0s - loss: 2.5385 - accuracy: 0.6355\n",
      "Epoch 4: val_loss improved from 2.58792 to 2.55798, saving model to /content/drive/MyDrive/AI_VIETNAM/Course/aio_insight/03_rnn/save_model/nmt_stackedgru.h5\n",
      "364/364 [==============================] - 863s 2s/step - loss: 2.5385 - accuracy: 0.6355 - val_loss: 2.5580 - val_accuracy: 0.6345\n",
      "Epoch 5/15\n",
      "364/364 [==============================] - ETA: 0s - loss: 2.5218 - accuracy: 0.6375\n",
      "Epoch 5: val_loss improved from 2.55798 to 2.55091, saving model to /content/drive/MyDrive/AI_VIETNAM/Course/aio_insight/03_rnn/save_model/nmt_stackedgru.h5\n",
      "364/364 [==============================] - 872s 2s/step - loss: 2.5218 - accuracy: 0.6375 - val_loss: 2.5509 - val_accuracy: 0.6346\n",
      "Epoch 6/15\n",
      "364/364 [==============================] - ETA: 0s - loss: 2.5136 - accuracy: 0.6383\n",
      "Epoch 6: val_loss improved from 2.55091 to 2.54332, saving model to /content/drive/MyDrive/AI_VIETNAM/Course/aio_insight/03_rnn/save_model/nmt_stackedgru.h5\n",
      "364/364 [==============================] - 861s 2s/step - loss: 2.5136 - accuracy: 0.6383 - val_loss: 2.5433 - val_accuracy: 0.6355\n",
      "Epoch 7/15\n",
      "364/364 [==============================] - ETA: 0s - loss: 2.5107 - accuracy: 0.6392\n",
      "Epoch 7: val_loss did not improve from 2.54332\n",
      "364/364 [==============================] - 864s 2s/step - loss: 2.5107 - accuracy: 0.6392 - val_loss: 2.5562 - val_accuracy: 0.6349\n",
      "Epoch 8/15\n",
      "364/364 [==============================] - ETA: 0s - loss: 2.5029 - accuracy: 0.6399\n",
      "Epoch 8: val_loss did not improve from 2.54332\n",
      "364/364 [==============================] - 887s 2s/step - loss: 2.5029 - accuracy: 0.6399 - val_loss: 2.5637 - val_accuracy: 0.6364\n",
      "Epoch 9/15\n",
      "364/364 [==============================] - ETA: 0s - loss: 2.4920 - accuracy: 0.6405\n",
      "Epoch 9: val_loss did not improve from 2.54332\n",
      "364/364 [==============================] - 931s 3s/step - loss: 2.4920 - accuracy: 0.6405 - val_loss: 2.5459 - val_accuracy: 0.6368\n",
      "Epoch 10/15\n",
      "364/364 [==============================] - ETA: 0s - loss: 2.4818 - accuracy: 0.6411\n",
      "Epoch 10: val_loss did not improve from 2.54332\n",
      "364/364 [==============================] - 922s 3s/step - loss: 2.4818 - accuracy: 0.6411 - val_loss: 2.5461 - val_accuracy: 0.6344\n",
      "Epoch 11/15\n",
      "364/364 [==============================] - ETA: 0s - loss: 2.4735 - accuracy: 0.6415\n",
      "Epoch 11: val_loss improved from 2.54332 to 2.53204, saving model to /content/drive/MyDrive/AI_VIETNAM/Course/aio_insight/03_rnn/save_model/nmt_stackedgru.h5\n",
      "364/364 [==============================] - 923s 3s/step - loss: 2.4735 - accuracy: 0.6415 - val_loss: 2.5320 - val_accuracy: 0.6366\n",
      "Epoch 12/15\n",
      "364/364 [==============================] - ETA: 0s - loss: 2.4760 - accuracy: 0.6417\n",
      "Epoch 12: val_loss improved from 2.53204 to 2.52596, saving model to /content/drive/MyDrive/AI_VIETNAM/Course/aio_insight/03_rnn/save_model/nmt_stackedgru.h5\n",
      "364/364 [==============================] - 927s 3s/step - loss: 2.4760 - accuracy: 0.6417 - val_loss: 2.5260 - val_accuracy: 0.6382\n",
      "Epoch 13/15\n",
      "364/364 [==============================] - ETA: 0s - loss: 2.4711 - accuracy: 0.6426\n",
      "Epoch 13: val_loss improved from 2.52596 to 2.51306, saving model to /content/drive/MyDrive/AI_VIETNAM/Course/aio_insight/03_rnn/save_model/nmt_stackedgru.h5\n",
      "364/364 [==============================] - 919s 3s/step - loss: 2.4711 - accuracy: 0.6426 - val_loss: 2.5131 - val_accuracy: 0.6392\n",
      "Epoch 14/15\n",
      "364/364 [==============================] - ETA: 0s - loss: 2.4447 - accuracy: 0.6440\n",
      "Epoch 14: val_loss improved from 2.51306 to 2.50606, saving model to /content/drive/MyDrive/AI_VIETNAM/Course/aio_insight/03_rnn/save_model/nmt_stackedgru.h5\n",
      "364/364 [==============================] - 924s 3s/step - loss: 2.4447 - accuracy: 0.6440 - val_loss: 2.5061 - val_accuracy: 0.6398\n",
      "Epoch 15/15\n",
      "364/364 [==============================] - ETA: 0s - loss: 2.4312 - accuracy: 0.6449\n",
      "Epoch 15: val_loss improved from 2.50606 to 2.50223, saving model to /content/drive/MyDrive/AI_VIETNAM/Course/aio_insight/03_rnn/save_model/nmt_stackedgru.h5\n",
      "364/364 [==============================] - 923s 3s/step - loss: 2.4312 - accuracy: 0.6449 - val_loss: 2.5022 - val_accuracy: 0.6401\n"
     ]
    }
   ],
   "source": [
    "history_stackedgru = model_stackedgru.fit(generate_encode_batch(vi_train_padded_seqs, en_train_padded_seqs, batch_size = batch_size, vocab_size=en_vocab_size),\n",
    "                            steps_per_epoch = train_samples//batch_size,\n",
    "                            epochs=epochs,\n",
    "                            validation_data = generate_encode_batch(vi_valid_padded_seqs, en_valid_padded_seqs, batch_size = batch_size, vocab_size=en_vocab_size),\n",
    "                            validation_steps = val_samples//batch_size,\n",
    "                            callbacks=[checkpoint]\n",
    "                            )"
   ]
  },
  {
   "cell_type": "code",
   "execution_count": null,
   "metadata": {
    "id": "WhIbVXtI718E"
   },
   "outputs": [],
   "source": [
    "np.save('/content/drive/MyDrive/AI_VIETNAM/Course/aio_insight/03_rnn/save_model/machine_translation_stackedgru_history.npy', history_stackedgru.history)"
   ]
  },
  {
   "cell_type": "code",
   "execution_count": null,
   "metadata": {},
   "outputs": [],
   "source": []
  },
  {
   "cell_type": "code",
   "execution_count": null,
   "metadata": {},
   "outputs": [],
   "source": []
  },
  {
   "cell_type": "markdown",
   "metadata": {
    "id": "NSVNklv--VBa"
   },
   "source": [
    "### 4.Compare RNN, LSTM, GRU, Bi-GRU, Stacked GRU"
   ]
  },
  {
   "cell_type": "code",
   "execution_count": null,
   "metadata": {
    "id": "QUqOYjVW-bVr"
   },
   "outputs": [],
   "source": [
    "def load_history(source_path, metric):\n",
    "    history_rnn = np.load(urljoin(source_path, 'save_model/machine_translation_rnn_history.npy'), allow_pickle='TRUE').item()\n",
    "    history_lstm = np.load(urljoin(source_path, 'save_model/machine_translation_lstm_history.npy'), allow_pickle='TRUE').item()\n",
    "    history_gru = np.load(urljoin(source_path, 'save_model/machine_translation_gru_history.npy'), allow_pickle='TRUE').item()\n",
    "    history_bigru = np.load(urljoin(source_path, 'save_model/machine_translation_bigru_history.npy'), allow_pickle='TRUE').item()\n",
    "    history_stackedgru = np.load(urljoin(source_path, 'save_model/machine_translation_stackedgru_history.npy'), allow_pickle='TRUE').item()\n",
    "\n",
    "    plt.plot(history_rnn[metric])\n",
    "    plt.plot(history_lstm[metric])\n",
    "    plt.plot(history_gru[metric])\n",
    "    plt.plot(history_bigru[metric])\n",
    "    plt.plot(history_stackedgru[metric])\n",
    "    plt.ylabel(metric)\n",
    "    plt.xlabel('epoch')\n",
    "    plt.legend(['RNN', 'LSTM', 'GRU', 'Bi-GRU', 'Stacked-GRU'], loc='lower right')\n",
    "    plt.show()"
   ]
  },
  {
   "cell_type": "code",
   "execution_count": null,
   "metadata": {
    "colab": {
     "base_uri": "https://localhost:8080/",
     "height": 279
    },
    "executionInfo": {
     "elapsed": 2069,
     "status": "ok",
     "timestamp": 1646581006650,
     "user": {
      "displayName": "Thái Nguyễn Quốc",
      "photoUrl": "https://lh3.googleusercontent.com/a-/AOh14GhZLNSWy4-fLj7PmicmKxXQvi7xGOe2vDlaHSFo7A=s64",
      "userId": "03315292090052971901"
     },
     "user_tz": -420
    },
    "id": "cmZpbfDx4A57",
    "outputId": "85a9db43-b363-4cdc-9b87-b21557e8ac95"
   },
   "outputs": [
    {
     "data": {
      "image/png": "[encoded data removed]",
      "text/plain": [
       "<Figure size 432x288 with 1 Axes>"
      ]
     },
     "metadata": {
      "needs_background": "light"
     },
     "output_type": "display_data"
    }
   ],
   "source": [
    "load_history(source_path, 'accuracy')"
   ]
  },
  {
   "cell_type": "code",
   "execution_count": null,
   "metadata": {
    "colab": {
     "base_uri": "https://localhost:8080/",
     "height": 279
    },
    "executionInfo": {
     "elapsed": 424,
     "status": "ok",
     "timestamp": 1646581021480,
     "user": {
      "displayName": "Thái Nguyễn Quốc",
      "photoUrl": "https://lh3.googleusercontent.com/a-/AOh14GhZLNSWy4-fLj7PmicmKxXQvi7xGOe2vDlaHSFo7A=s64",
      "userId": "03315292090052971901"
     },
     "user_tz": -420
    },
    "id": "xqP3Rv1H4GVy",
    "outputId": "6ed7f0a7-4538-455d-a0d4-0865e5d6a0cc"
   },
   "outputs": [
    {
     "data": {
      "image/png": "[encoded data removed]",
      "text/plain": [
       "<Figure size 432x288 with 1 Axes>"
      ]
     },
     "metadata": {
      "needs_background": "light"
     },
     "output_type": "display_data"
    }
   ],
   "source": [
    "load_history(source_path, 'val_accuracy')"
   ]
  },
  {
   "cell_type": "code",
   "execution_count": null,
   "metadata": {
    "colab": {
     "base_uri": "https://localhost:8080/",
     "height": 279
    },
    "executionInfo": {
     "elapsed": 417,
     "status": "ok",
     "timestamp": 1646581031420,
     "user": {
      "displayName": "Thái Nguyễn Quốc",
      "photoUrl": "https://lh3.googleusercontent.com/a-/AOh14GhZLNSWy4-fLj7PmicmKxXQvi7xGOe2vDlaHSFo7A=s64",
      "userId": "03315292090052971901"
     },
     "user_tz": -420
    },
    "id": "2zPNmU934I68",
    "outputId": "c1d26a98-699e-4432-9b15-5bf22745b515"
   },
   "outputs": [
    {
     "data": {
      "image/png": "[encoded data removed]",
      "text/plain": [
       "<Figure size 432x288 with 1 Axes>"
      ]
     },
     "metadata": {
      "needs_background": "light"
     },
     "output_type": "display_data"
    }
   ],
   "source": [
    "load_history(source_path, 'loss')"
   ]
  },
  {
   "cell_type": "code",
   "execution_count": null,
   "metadata": {
    "colab": {
     "base_uri": "https://localhost:8080/",
     "height": 279
    },
    "executionInfo": {
     "elapsed": 383,
     "status": "ok",
     "timestamp": 1646581043099,
     "user": {
      "displayName": "Thái Nguyễn Quốc",
      "photoUrl": "https://lh3.googleusercontent.com/a-/AOh14GhZLNSWy4-fLj7PmicmKxXQvi7xGOe2vDlaHSFo7A=s64",
      "userId": "03315292090052971901"
     },
     "user_tz": -420
    },
    "id": "Zn5Aa5cw4K2x",
    "outputId": "f446b838-0d5c-4c86-fc73-97a301739de0"
   },
   "outputs": [
    {
     "data": {
      "image/png": "[encoded data removed]",
      "text/plain": [
       "<Figure size 432x288 with 1 Axes>"
      ]
     },
     "metadata": {
      "needs_background": "light"
     },
     "output_type": "display_data"
    }
   ],
   "source": [
    "load_history(source_path, 'val_loss')"
   ]
  },
  {
   "cell_type": "code",
   "execution_count": null,
   "metadata": {},
   "outputs": [],
   "source": []
  },
  {
   "cell_type": "code",
   "execution_count": null,
   "metadata": {},
   "outputs": [],
   "source": []
  },
  {
   "cell_type": "code",
   "execution_count": null,
   "metadata": {},
   "outputs": [],
   "source": []
  },
  {
   "cell_type": "code",
   "execution_count": null,
   "metadata": {},
   "outputs": [],
   "source": []
  },
  {
   "cell_type": "code",
   "execution_count": null,
   "metadata": {},
   "outputs": [],
   "source": []
  },
  {
   "cell_type": "code",
   "execution_count": null,
   "metadata": {},
   "outputs": [],
   "source": []
  },
  {
   "cell_type": "code",
   "execution_count": null,
   "metadata": {},
   "outputs": [],
   "source": []
  },
  {
   "cell_type": "code",
   "execution_count": null,
   "metadata": {},
   "outputs": [],
   "source": []
  },
  {
   "cell_type": "code",
   "execution_count": null,
   "metadata": {},
   "outputs": [],
   "source": []
  },
  {
   "cell_type": "markdown",
   "metadata": {
    "id": "n7Oh4B40DvOU"
   },
   "source": [
    "### 5.Encoder-Decoder"
   ]
  },
  {
   "cell_type": "code",
   "execution_count": null,
   "metadata": {
    "colab": {
     "base_uri": "https://localhost:8080/",
     "height": 423
    },
    "executionInfo": {
     "elapsed": 338,
     "status": "ok",
     "timestamp": 1647925158541,
     "user": {
      "displayName": "Thái Nguyễn Quốc",
      "photoUrl": "https://lh3.googleusercontent.com/a-/AOh14GhZLNSWy4-fLj7PmicmKxXQvi7xGOe2vDlaHSFo7A=s64",
      "userId": "03315292090052971901"
     },
     "user_tz": -420
    },
    "id": "qScPJBGxD0Gb",
    "outputId": "d0df2c5d-f662-45e5-a58f-2eebebda97eb"
   },
   "outputs": [
    {
     "data": {
      "text/html": [
       "\n",
       "  <div id=\"df-9104209c-0b38-41fb-9097-145f41ab098d\">\n",
       "    <div class=\"colab-df-container\">\n",
       "      <div>\n",
       "<style scoped>\n",
       "    .dataframe tbody tr th:only-of-type {\n",
       "        vertical-align: middle;\n",
       "    }\n",
       "\n",
       "    .dataframe tbody tr th {\n",
       "        vertical-align: top;\n",
       "    }\n",
       "\n",
       "    .dataframe thead th {\n",
       "        text-align: right;\n",
       "    }\n",
       "</style>\n",
       "<table border=\"1\" class=\"dataframe\">\n",
       "  <thead>\n",
       "    <tr style=\"text-align: right;\">\n",
       "      <th></th>\n",
       "      <th>vi</th>\n",
       "      <th>en</th>\n",
       "      <th>type_data</th>\n",
       "    </tr>\n",
       "  </thead>\n",
       "  <tbody>\n",
       "    <tr>\n",
       "      <th>0</th>\n",
       "      <td>startseq lúc đó ngồi cạnh tôi là một học sinh ...</td>\n",
       "      <td>startseq and in the seat next to me was a high...</td>\n",
       "      <td>train</td>\n",
       "    </tr>\n",
       "    <tr>\n",
       "      <th>1</th>\n",
       "      <td>startseq và tôi nghĩ theo thời gian những năm ...</td>\n",
       "      <td>startseq and i think with time in the years to...</td>\n",
       "      <td>train</td>\n",
       "    </tr>\n",
       "    <tr>\n",
       "      <th>2</th>\n",
       "      <td>startseq liệu có đúng không nếu đánh giá một n...</td>\n",
       "      <td>startseq is not the measure of a man his willi...</td>\n",
       "      <td>train</td>\n",
       "    </tr>\n",
       "    <tr>\n",
       "      <th>3</th>\n",
       "      <td>startseq đèn đỏ giao thông có bảng đếm ngược e...</td>\n",
       "      <td>startseq red traffic lights have a countdown d...</td>\n",
       "      <td>train</td>\n",
       "    </tr>\n",
       "    <tr>\n",
       "      <th>4</th>\n",
       "      <td>startseq nhưng làm sao chúng làm được điều đó ...</td>\n",
       "      <td>startseq but how do we do that endseq</td>\n",
       "      <td>train</td>\n",
       "    </tr>\n",
       "    <tr>\n",
       "      <th>...</th>\n",
       "      <td>...</td>\n",
       "      <td>...</td>\n",
       "      <td>...</td>\n",
       "    </tr>\n",
       "    <tr>\n",
       "      <th>133313</th>\n",
       "      <td>startseq cho phép tôi tinh giảm điều này tới m...</td>\n",
       "      <td>startseq and let me reduce this to the simples...</td>\n",
       "      <td>test</td>\n",
       "    </tr>\n",
       "    <tr>\n",
       "      <th>133314</th>\n",
       "      <td>startseq các bạn đều biết twitter và các phiên...</td>\n",
       "      <td>startseq you know twitter and twitter clones h...</td>\n",
       "      <td>test</td>\n",
       "    </tr>\n",
       "    <tr>\n",
       "      <th>133315</th>\n",
       "      <td>startseq nguồn tài chính quan trọng không kém ...</td>\n",
       "      <td>startseq the supply of money — just as importa...</td>\n",
       "      <td>test</td>\n",
       "    </tr>\n",
       "    <tr>\n",
       "      <th>133316</th>\n",
       "      <td>startseq ở tuổi tôi đã tuyển những người từ đạ...</td>\n",
       "      <td>startseq at the age of i was recruiting people...</td>\n",
       "      <td>test</td>\n",
       "    </tr>\n",
       "    <tr>\n",
       "      <th>133317</th>\n",
       "      <td>startseq biét nhiều để có thể đặt ra nhiều câu...</td>\n",
       "      <td>startseq knowing a lot of stuff the purpose is...</td>\n",
       "      <td>test</td>\n",
       "    </tr>\n",
       "  </tbody>\n",
       "</table>\n",
       "<p>133318 rows × 3 columns</p>\n",
       "</div>\n",
       "      <button class=\"colab-df-convert\" onclick=\"convertToInteractive('df-9104209c-0b38-41fb-9097-145f41ab098d')\"\n",
       "              title=\"Convert this dataframe to an interactive table.\"\n",
       "              style=\"display:none;\">\n",
       "        \n",
       "  <svg xmlns=\"http://www.w3.org/2000/svg\" height=\"24px\"viewBox=\"0 0 24 24\"\n",
       "       width=\"24px\">\n",
       "    <path d=\"M0 0h24v24H0V0z\" fill=\"none\"/>\n",
       "    <path d=\"M18.56 5.44l.94 2.06.94-2.06 2.06-.94-2.06-.94-.94-2.06-.94 2.06-2.06.94zm-11 1L8.5 8.5l.94-2.06 2.06-.94-2.06-.94L8.5 2.5l-.94 2.06-2.06.94zm10 10l.94 2.06.94-2.06 2.06-.94-2.06-.94-.94-2.06-.94 2.06-2.06.94z\"/><path d=\"M17.41 7.96l-1.37-1.37c-.4-.4-.92-.59-1.43-.59-.52 0-1.04.2-1.43.59L10.3 9.45l-7.72 7.72c-.78.78-.78 2.05 0 2.83L4 21.41c.39.39.9.59 1.41.59.51 0 1.02-.2 1.41-.59l7.78-7.78 2.81-2.81c.8-.78.8-2.07 0-2.86zM5.41 20L4 18.59l7.72-7.72 1.47 1.35L5.41 20z\"/>\n",
       "  </svg>\n",
       "      </button>\n",
       "      \n",
       "  <style>\n",
       "    .colab-df-container {\n",
       "      display:flex;\n",
       "      flex-wrap:wrap;\n",
       "      gap: 12px;\n",
       "    }\n",
       "\n",
       "    .colab-df-convert {\n",
       "      background-color: #E8F0FE;\n",
       "      border: none;\n",
       "      border-radius: 50%;\n",
       "      cursor: pointer;\n",
       "      display: none;\n",
       "      fill: #1967D2;\n",
       "      height: 32px;\n",
       "      padding: 0 0 0 0;\n",
       "      width: 32px;\n",
       "    }\n",
       "\n",
       "    .colab-df-convert:hover {\n",
       "      background-color: #E2EBFA;\n",
       "      box-shadow: 0px 1px 2px rgba(60, 64, 67, 0.3), 0px 1px 3px 1px rgba(60, 64, 67, 0.15);\n",
       "      fill: #174EA6;\n",
       "    }\n",
       "\n",
       "    [theme=dark] .colab-df-convert {\n",
       "      background-color: #3B4455;\n",
       "      fill: #D2E3FC;\n",
       "    }\n",
       "\n",
       "    [theme=dark] .colab-df-convert:hover {\n",
       "      background-color: #434B5C;\n",
       "      box-shadow: 0px 1px 3px 1px rgba(0, 0, 0, 0.15);\n",
       "      filter: drop-shadow(0px 1px 2px rgba(0, 0, 0, 0.3));\n",
       "      fill: #FFFFFF;\n",
       "    }\n",
       "  </style>\n",
       "\n",
       "      <script>\n",
       "        const buttonEl =\n",
       "          document.querySelector('#df-9104209c-0b38-41fb-9097-145f41ab098d button.colab-df-convert');\n",
       "        buttonEl.style.display =\n",
       "          google.colab.kernel.accessAllowed ? 'block' : 'none';\n",
       "\n",
       "        async function convertToInteractive(key) {\n",
       "          const element = document.querySelector('#df-9104209c-0b38-41fb-9097-145f41ab098d');\n",
       "          const dataTable =\n",
       "            await google.colab.kernel.invokeFunction('convertToInteractive',\n",
       "                                                     [key], {});\n",
       "          if (!dataTable) return;\n",
       "\n",
       "          const docLinkHtml = 'Like what you see? Visit the ' +\n",
       "            '<a target=\"_blank\" href=https://colab.research.google.com/notebooks/data_table.ipynb>data table notebook</a>'\n",
       "            + ' to learn more about interactive tables.';\n",
       "          element.innerHTML = '';\n",
       "          dataTable['output_type'] = 'display_data';\n",
       "          await google.colab.output.renderOutput(dataTable, element);\n",
       "          const docLink = document.createElement('div');\n",
       "          docLink.innerHTML = docLinkHtml;\n",
       "          element.appendChild(docLink);\n",
       "        }\n",
       "      </script>\n",
       "    </div>\n",
       "  </div>\n",
       "  "
      ],
      "text/plain": [
       "                                                       vi  \\\n",
       "0       startseq lúc đó ngồi cạnh tôi là một học sinh ...   \n",
       "1       startseq và tôi nghĩ theo thời gian những năm ...   \n",
       "2       startseq liệu có đúng không nếu đánh giá một n...   \n",
       "3       startseq đèn đỏ giao thông có bảng đếm ngược e...   \n",
       "4       startseq nhưng làm sao chúng làm được điều đó ...   \n",
       "...                                                   ...   \n",
       "133313  startseq cho phép tôi tinh giảm điều này tới m...   \n",
       "133314  startseq các bạn đều biết twitter và các phiên...   \n",
       "133315  startseq nguồn tài chính quan trọng không kém ...   \n",
       "133316  startseq ở tuổi tôi đã tuyển những người từ đạ...   \n",
       "133317  startseq biét nhiều để có thể đặt ra nhiều câu...   \n",
       "\n",
       "                                                       en type_data  \n",
       "0       startseq and in the seat next to me was a high...     train  \n",
       "1       startseq and i think with time in the years to...     train  \n",
       "2       startseq is not the measure of a man his willi...     train  \n",
       "3       startseq red traffic lights have a countdown d...     train  \n",
       "4                   startseq but how do we do that endseq     train  \n",
       "...                                                   ...       ...  \n",
       "133313  startseq and let me reduce this to the simples...      test  \n",
       "133314  startseq you know twitter and twitter clones h...      test  \n",
       "133315  startseq the supply of money — just as importa...      test  \n",
       "133316  startseq at the age of i was recruiting people...      test  \n",
       "133317  startseq knowing a lot of stuff the purpose is...      test  \n",
       "\n",
       "[133318 rows x 3 columns]"
      ]
     },
     "execution_count": 34,
     "metadata": {},
     "output_type": "execute_result"
    }
   ],
   "source": [
    "df"
   ]
  },
  {
   "cell_type": "code",
   "execution_count": null,
   "metadata": {
    "id": "cYsgNW-nD_2N"
   },
   "outputs": [],
   "source": [
    "df.vi = df.vi.apply(lambda x: \" \".join(x.split()[1:-1]))"
   ]
  },
  {
   "cell_type": "code",
   "execution_count": null,
   "metadata": {
    "colab": {
     "base_uri": "https://localhost:8080/",
     "height": 423
    },
    "executionInfo": {
     "elapsed": 493,
     "status": "ok",
     "timestamp": 1647925163985,
     "user": {
      "displayName": "Thái Nguyễn Quốc",
      "photoUrl": "https://lh3.googleusercontent.com/a-/AOh14GhZLNSWy4-fLj7PmicmKxXQvi7xGOe2vDlaHSFo7A=s64",
      "userId": "03315292090052971901"
     },
     "user_tz": -420
    },
    "id": "20NkyL5_Ecks",
    "outputId": "46728cae-99e8-4ad2-f359-73df7803004b"
   },
   "outputs": [
    {
     "data": {
      "text/html": [
       "\n",
       "  <div id=\"df-36068958-5f7e-4820-820b-23284895a5ba\">\n",
       "    <div class=\"colab-df-container\">\n",
       "      <div>\n",
       "<style scoped>\n",
       "    .dataframe tbody tr th:only-of-type {\n",
       "        vertical-align: middle;\n",
       "    }\n",
       "\n",
       "    .dataframe tbody tr th {\n",
       "        vertical-align: top;\n",
       "    }\n",
       "\n",
       "    .dataframe thead th {\n",
       "        text-align: right;\n",
       "    }\n",
       "</style>\n",
       "<table border=\"1\" class=\"dataframe\">\n",
       "  <thead>\n",
       "    <tr style=\"text-align: right;\">\n",
       "      <th></th>\n",
       "      <th>vi</th>\n",
       "      <th>en</th>\n",
       "      <th>type_data</th>\n",
       "    </tr>\n",
       "  </thead>\n",
       "  <tbody>\n",
       "    <tr>\n",
       "      <th>0</th>\n",
       "      <td>lúc đó ngồi cạnh tôi là một học sinh cấp một t...</td>\n",
       "      <td>startseq and in the seat next to me was a high...</td>\n",
       "      <td>train</td>\n",
       "    </tr>\n",
       "    <tr>\n",
       "      <th>1</th>\n",
       "      <td>và tôi nghĩ theo thời gian những năm tới chúng...</td>\n",
       "      <td>startseq and i think with time in the years to...</td>\n",
       "      <td>train</td>\n",
       "    </tr>\n",
       "    <tr>\n",
       "      <th>2</th>\n",
       "      <td>liệu có đúng không nếu đánh giá một người đàn ...</td>\n",
       "      <td>startseq is not the measure of a man his willi...</td>\n",
       "      <td>train</td>\n",
       "    </tr>\n",
       "    <tr>\n",
       "      <th>3</th>\n",
       "      <td>đèn đỏ giao thông có bảng đếm ngược</td>\n",
       "      <td>startseq red traffic lights have a countdown d...</td>\n",
       "      <td>train</td>\n",
       "    </tr>\n",
       "    <tr>\n",
       "      <th>4</th>\n",
       "      <td>nhưng làm sao chúng làm được điều đó</td>\n",
       "      <td>startseq but how do we do that endseq</td>\n",
       "      <td>train</td>\n",
       "    </tr>\n",
       "    <tr>\n",
       "      <th>...</th>\n",
       "      <td>...</td>\n",
       "      <td>...</td>\n",
       "      <td>...</td>\n",
       "    </tr>\n",
       "    <tr>\n",
       "      <th>133313</th>\n",
       "      <td>cho phép tôi tinh giảm điều này tới mức đơn gi...</td>\n",
       "      <td>startseq and let me reduce this to the simples...</td>\n",
       "      <td>test</td>\n",
       "    </tr>\n",
       "    <tr>\n",
       "      <th>133314</th>\n",
       "      <td>các bạn đều biết twitter và các phiên bản nhái...</td>\n",
       "      <td>startseq you know twitter and twitter clones h...</td>\n",
       "      <td>test</td>\n",
       "    </tr>\n",
       "    <tr>\n",
       "      <th>133315</th>\n",
       "      <td>nguồn tài chính quan trọng không kém thậm chí ...</td>\n",
       "      <td>startseq the supply of money — just as importa...</td>\n",
       "      <td>test</td>\n",
       "    </tr>\n",
       "    <tr>\n",
       "      <th>133316</th>\n",
       "      <td>ở tuổi tôi đã tuyển những người từ đại học cam...</td>\n",
       "      <td>startseq at the age of i was recruiting people...</td>\n",
       "      <td>test</td>\n",
       "    </tr>\n",
       "    <tr>\n",
       "      <th>133317</th>\n",
       "      <td>biét nhiều để có thể đặt ra nhiều câu hỏi để c...</td>\n",
       "      <td>startseq knowing a lot of stuff the purpose is...</td>\n",
       "      <td>test</td>\n",
       "    </tr>\n",
       "  </tbody>\n",
       "</table>\n",
       "<p>133318 rows × 3 columns</p>\n",
       "</div>\n",
       "      <button class=\"colab-df-convert\" onclick=\"convertToInteractive('df-36068958-5f7e-4820-820b-23284895a5ba')\"\n",
       "              title=\"Convert this dataframe to an interactive table.\"\n",
       "              style=\"display:none;\">\n",
       "        \n",
       "  <svg xmlns=\"http://www.w3.org/2000/svg\" height=\"24px\"viewBox=\"0 0 24 24\"\n",
       "       width=\"24px\">\n",
       "    <path d=\"M0 0h24v24H0V0z\" fill=\"none\"/>\n",
       "    <path d=\"M18.56 5.44l.94 2.06.94-2.06 2.06-.94-2.06-.94-.94-2.06-.94 2.06-2.06.94zm-11 1L8.5 8.5l.94-2.06 2.06-.94-2.06-.94L8.5 2.5l-.94 2.06-2.06.94zm10 10l.94 2.06.94-2.06 2.06-.94-2.06-.94-.94-2.06-.94 2.06-2.06.94z\"/><path d=\"M17.41 7.96l-1.37-1.37c-.4-.4-.92-.59-1.43-.59-.52 0-1.04.2-1.43.59L10.3 9.45l-7.72 7.72c-.78.78-.78 2.05 0 2.83L4 21.41c.39.39.9.59 1.41.59.51 0 1.02-.2 1.41-.59l7.78-7.78 2.81-2.81c.8-.78.8-2.07 0-2.86zM5.41 20L4 18.59l7.72-7.72 1.47 1.35L5.41 20z\"/>\n",
       "  </svg>\n",
       "      </button>\n",
       "      \n",
       "  <style>\n",
       "    .colab-df-container {\n",
       "      display:flex;\n",
       "      flex-wrap:wrap;\n",
       "      gap: 12px;\n",
       "    }\n",
       "\n",
       "    .colab-df-convert {\n",
       "      background-color: #E8F0FE;\n",
       "      border: none;\n",
       "      border-radius: 50%;\n",
       "      cursor: pointer;\n",
       "      display: none;\n",
       "      fill: #1967D2;\n",
       "      height: 32px;\n",
       "      padding: 0 0 0 0;\n",
       "      width: 32px;\n",
       "    }\n",
       "\n",
       "    .colab-df-convert:hover {\n",
       "      background-color: #E2EBFA;\n",
       "      box-shadow: 0px 1px 2px rgba(60, 64, 67, 0.3), 0px 1px 3px 1px rgba(60, 64, 67, 0.15);\n",
       "      fill: #174EA6;\n",
       "    }\n",
       "\n",
       "    [theme=dark] .colab-df-convert {\n",
       "      background-color: #3B4455;\n",
       "      fill: #D2E3FC;\n",
       "    }\n",
       "\n",
       "    [theme=dark] .colab-df-convert:hover {\n",
       "      background-color: #434B5C;\n",
       "      box-shadow: 0px 1px 3px 1px rgba(0, 0, 0, 0.15);\n",
       "      filter: drop-shadow(0px 1px 2px rgba(0, 0, 0, 0.3));\n",
       "      fill: #FFFFFF;\n",
       "    }\n",
       "  </style>\n",
       "\n",
       "      <script>\n",
       "        const buttonEl =\n",
       "          document.querySelector('#df-36068958-5f7e-4820-820b-23284895a5ba button.colab-df-convert');\n",
       "        buttonEl.style.display =\n",
       "          google.colab.kernel.accessAllowed ? 'block' : 'none';\n",
       "\n",
       "        async function convertToInteractive(key) {\n",
       "          const element = document.querySelector('#df-36068958-5f7e-4820-820b-23284895a5ba');\n",
       "          const dataTable =\n",
       "            await google.colab.kernel.invokeFunction('convertToInteractive',\n",
       "                                                     [key], {});\n",
       "          if (!dataTable) return;\n",
       "\n",
       "          const docLinkHtml = 'Like what you see? Visit the ' +\n",
       "            '<a target=\"_blank\" href=https://colab.research.google.com/notebooks/data_table.ipynb>data table notebook</a>'\n",
       "            + ' to learn more about interactive tables.';\n",
       "          element.innerHTML = '';\n",
       "          dataTable['output_type'] = 'display_data';\n",
       "          await google.colab.output.renderOutput(dataTable, element);\n",
       "          const docLink = document.createElement('div');\n",
       "          docLink.innerHTML = docLinkHtml;\n",
       "          element.appendChild(docLink);\n",
       "        }\n",
       "      </script>\n",
       "    </div>\n",
       "  </div>\n",
       "  "
      ],
      "text/plain": [
       "                                                       vi  \\\n",
       "0       lúc đó ngồi cạnh tôi là một học sinh cấp một t...   \n",
       "1       và tôi nghĩ theo thời gian những năm tới chúng...   \n",
       "2       liệu có đúng không nếu đánh giá một người đàn ...   \n",
       "3                     đèn đỏ giao thông có bảng đếm ngược   \n",
       "4                    nhưng làm sao chúng làm được điều đó   \n",
       "...                                                   ...   \n",
       "133313  cho phép tôi tinh giảm điều này tới mức đơn gi...   \n",
       "133314  các bạn đều biết twitter và các phiên bản nhái...   \n",
       "133315  nguồn tài chính quan trọng không kém thậm chí ...   \n",
       "133316  ở tuổi tôi đã tuyển những người từ đại học cam...   \n",
       "133317  biét nhiều để có thể đặt ra nhiều câu hỏi để c...   \n",
       "\n",
       "                                                       en type_data  \n",
       "0       startseq and in the seat next to me was a high...     train  \n",
       "1       startseq and i think with time in the years to...     train  \n",
       "2       startseq is not the measure of a man his willi...     train  \n",
       "3       startseq red traffic lights have a countdown d...     train  \n",
       "4                   startseq but how do we do that endseq     train  \n",
       "...                                                   ...       ...  \n",
       "133313  startseq and let me reduce this to the simples...      test  \n",
       "133314  startseq you know twitter and twitter clones h...      test  \n",
       "133315  startseq the supply of money — just as importa...      test  \n",
       "133316  startseq at the age of i was recruiting people...      test  \n",
       "133317  startseq knowing a lot of stuff the purpose is...      test  \n",
       "\n",
       "[133318 rows x 3 columns]"
      ]
     },
     "execution_count": 36,
     "metadata": {},
     "output_type": "execute_result"
    }
   ],
   "source": [
    "df"
   ]
  },
  {
   "cell_type": "code",
   "execution_count": null,
   "metadata": {
    "id": "xJqu2vySIt7x"
   },
   "outputs": [],
   "source": [
    "vi_train, en_train = df[df.type_data == \"train\"].vi, df[df.type_data == \"train\"].en\n",
    "vi_valid, en_valid = df[df.type_data == \"valid\"].vi, df[df.type_data == \"valid\"].en\n",
    "vi_test, en_test = df[df.type_data == \"test\"].vi, df[df.type_data == \"test\"].en"
   ]
  },
  {
   "cell_type": "markdown",
   "metadata": {
    "id": "g2EzBUl_No55"
   },
   "source": [
    "#### Feature Extraction"
   ]
  },
  {
   "cell_type": "code",
   "execution_count": null,
   "metadata": {
    "id": "o0GIUDe0pGvy"
   },
   "outputs": [],
   "source": [
    "vi_max_len = 100\n",
    "en_max_len = 80"
   ]
  },
  {
   "cell_type": "markdown",
   "metadata": {
    "id": "rWIoTgSLD6c_"
   },
   "source": [
    "**Encoder input data**"
   ]
  },
  {
   "cell_type": "code",
   "execution_count": null,
   "metadata": {
    "colab": {
     "base_uri": "https://localhost:8080/"
    },
    "executionInfo": {
     "elapsed": 5295,
     "status": "ok",
     "timestamp": 1647908781250,
     "user": {
      "displayName": "Thái Nguyễn Quốc",
      "photoUrl": "https://lh3.googleusercontent.com/a-/AOh14GhZLNSWy4-fLj7PmicmKxXQvi7xGOe2vDlaHSFo7A=s64",
      "userId": "03315292090052971901"
     },
     "user_tz": -420
    },
    "id": "chJEbng-IztO",
    "outputId": "264af4fd-7235-4b1e-e805-a20f2c8f7eb4"
   },
   "outputs": [
    {
     "data": {
      "text/plain": [
       "16055"
      ]
     },
     "execution_count": 12,
     "metadata": {},
     "output_type": "execute_result"
    }
   ],
   "source": [
    "vi_tokenizer = Tokenizer(oov_token = '<OOV>')\n",
    "vi_tokenizer.fit_on_texts(vi_train)\n",
    "vi_word_dict = vi_tokenizer.word_index\n",
    "vi_vocab_size = len(vi_word_dict) + 1\n",
    "vi_vocab_size"
   ]
  },
  {
   "cell_type": "code",
   "execution_count": null,
   "metadata": {
    "colab": {
     "base_uri": "https://localhost:8080/"
    },
    "executionInfo": {
     "elapsed": 5717,
     "status": "ok",
     "timestamp": 1647908786962,
     "user": {
      "displayName": "Thái Nguyễn Quốc",
      "photoUrl": "https://lh3.googleusercontent.com/a-/AOh14GhZLNSWy4-fLj7PmicmKxXQvi7xGOe2vDlaHSFo7A=s64",
      "userId": "03315292090052971901"
     },
     "user_tz": -420
    },
    "id": "m15SeIh8JRc4",
    "outputId": "23572d70-200b-407f-c9c3-199f46211175"
   },
   "outputs": [
    {
     "data": {
      "text/plain": [
       "((93322, 100), (19998, 100))"
      ]
     },
     "execution_count": 13,
     "metadata": {},
     "output_type": "execute_result"
    }
   ],
   "source": [
    "vi_train_padded_seqs = encode_sequences(vi_tokenizer, vi_max_len, vi_train)\n",
    "vi_valid_padded_seqs = encode_sequences(vi_tokenizer, vi_max_len, vi_valid)\n",
    "vi_train_padded_seqs.shape, vi_valid_padded_seqs.shape"
   ]
  },
  {
   "cell_type": "markdown",
   "metadata": {
    "id": "MY67EOgJJkCx"
   },
   "source": [
    "**Decoder input and output data**\n",
    "- Example:\n",
    "    - encoder input: \"tôi yêu bạn\"\n",
    "    - decoder input: \"startseq i love you endseq\"\n",
    "    - decoder output: \"i love you endseq\"\n",
    "1. Remove \"startseq\" token from english corpus\n",
    "2. Padding\n",
    "3. Convert to one hot encoding"
   ]
  },
  {
   "cell_type": "code",
   "execution_count": null,
   "metadata": {
    "colab": {
     "base_uri": "https://localhost:8080/"
    },
    "executionInfo": {
     "elapsed": 2851,
     "status": "ok",
     "timestamp": 1647908789807,
     "user": {
      "displayName": "Thái Nguyễn Quốc",
      "photoUrl": "https://lh3.googleusercontent.com/a-/AOh14GhZLNSWy4-fLj7PmicmKxXQvi7xGOe2vDlaHSFo7A=s64",
      "userId": "03315292090052971901"
     },
     "user_tz": -420
    },
    "id": "XmENzFf0Jjbo",
    "outputId": "a81e47df-4379-495c-e7d7-c5acdaacc798"
   },
   "outputs": [
    {
     "data": {
      "text/plain": [
       "36256"
      ]
     },
     "execution_count": 14,
     "metadata": {},
     "output_type": "execute_result"
    }
   ],
   "source": [
    "en_tokenizer = Tokenizer(oov_token = '<OOV>')\n",
    "en_tokenizer.fit_on_texts(en_train)\n",
    "en_word_dict = en_tokenizer.word_index\n",
    "en_vocab_size = len(en_tokenizer.index_word) + 1\n",
    "en_vocab_size"
   ]
  },
  {
   "cell_type": "code",
   "execution_count": null,
   "metadata": {
    "colab": {
     "base_uri": "https://localhost:8080/"
    },
    "executionInfo": {
     "elapsed": 4873,
     "status": "ok",
     "timestamp": 1647908794674,
     "user": {
      "displayName": "Thái Nguyễn Quốc",
      "photoUrl": "https://lh3.googleusercontent.com/a-/AOh14GhZLNSWy4-fLj7PmicmKxXQvi7xGOe2vDlaHSFo7A=s64",
      "userId": "03315292090052971901"
     },
     "user_tz": -420
    },
    "id": "fBQ7YR-iJ4Ov",
    "outputId": "dac44e6c-497c-4faa-f903-2b62a0df4080"
   },
   "outputs": [
    {
     "data": {
      "text/plain": [
       "((93322, 80), (19998, 80), (93322, 80), (19998, 80))"
      ]
     },
     "execution_count": 15,
     "metadata": {},
     "output_type": "execute_result"
    }
   ],
   "source": [
    "en_train_padded_seqs, en_train_output_padded_seqs = encode_sequences(en_tokenizer, en_max_len, en_train, True)\n",
    "en_valid_padded_seqs, en_valid_output_padded_seqs = encode_sequences(en_tokenizer, en_max_len, en_valid, True)\n",
    "en_train_padded_seqs.shape, en_valid_padded_seqs.shape, en_train_output_padded_seqs.shape, en_valid_output_padded_seqs.shape"
   ]
  },
  {
   "cell_type": "code",
   "execution_count": null,
   "metadata": {
    "colab": {
     "base_uri": "https://localhost:8080/"
    },
    "executionInfo": {
     "elapsed": 22,
     "status": "ok",
     "timestamp": 1647908794675,
     "user": {
      "displayName": "Thái Nguyễn Quốc",
      "photoUrl": "https://lh3.googleusercontent.com/a-/AOh14GhZLNSWy4-fLj7PmicmKxXQvi7xGOe2vDlaHSFo7A=s64",
      "userId": "03315292090052971901"
     },
     "user_tz": -420
    },
    "id": "A9QPknPLlJro",
    "outputId": "c347de97-bf53-412f-ec7c-60361e313522"
   },
   "outputs": [
    {
     "data": {
      "text/plain": [
       "array([[   2,    5,   12, ...,    0,    0,    0],\n",
       "       [   2,    5,   11, ...,    0,    0,    0],\n",
       "       [   2,    8,   18, ...,    0,    0,    0],\n",
       "       ...,\n",
       "       [   2,   38,   17, ...,    0,    0,    0],\n",
       "       [   2,   15,   20, ...,    0,    0,    0],\n",
       "       [   2,   13, 3205, ...,    0,    0,    0]], dtype=int32)"
      ]
     },
     "execution_count": 16,
     "metadata": {},
     "output_type": "execute_result"
    }
   ],
   "source": [
    "en_train_padded_seqs"
   ]
  },
  {
   "cell_type": "code",
   "execution_count": null,
   "metadata": {
    "colab": {
     "base_uri": "https://localhost:8080/"
    },
    "executionInfo": {
     "elapsed": 14,
     "status": "ok",
     "timestamp": 1647908794676,
     "user": {
      "displayName": "Thái Nguyễn Quốc",
      "photoUrl": "https://lh3.googleusercontent.com/a-/AOh14GhZLNSWy4-fLj7PmicmKxXQvi7xGOe2vDlaHSFo7A=s64",
      "userId": "03315292090052971901"
     },
     "user_tz": -420
    },
    "id": "5zTF2RUNlLEl",
    "outputId": "c8c2c43e-024b-451f-fe03-869aef4b2ef9"
   },
   "outputs": [
    {
     "data": {
      "text/plain": [
       "array([[    5,    12,     4, ...,     0,     0,     0],\n",
       "       [    5,    11,    69, ...,     0,     0,     0],\n",
       "       [    8,    18,     4, ...,     0,     0,     0],\n",
       "       ...,\n",
       "       [   38,    17,   722, ...,     0,     0,     0],\n",
       "       [   15,    20,     6, ...,     0,     0,     0],\n",
       "       [   13,  3205, 36253, ...,     0,     0,     0]], dtype=int32)"
      ]
     },
     "execution_count": 17,
     "metadata": {},
     "output_type": "execute_result"
    }
   ],
   "source": [
    "en_train_output_padded_seqs"
   ]
  },
  {
   "cell_type": "code",
   "execution_count": null,
   "metadata": {
    "id": "a2bN4MFSMKLV"
   },
   "outputs": [],
   "source": [
    "def generate_encode_batch(src_input_seqs, tgt_input_seqs, tgt_output_seqs, batch_size, en_vocab_size):\n",
    "    while True:\n",
    "        for j in range(0, len(src_input_seqs), batch_size):\n",
    "            src_input_seq = src_input_seqs[j:j+batch_size]\n",
    "            tgt_input_seq = tgt_input_seqs[j:j+batch_size]\n",
    "            tgt_output_seq = tgt_output_seqs[j:j+batch_size]\n",
    "            tgt_output_seq = encode_outputs(tgt_output_seq, en_vocab_size)\n",
    "\n",
    "            src_input_seq = np.array(src_input_seq)\n",
    "            tgt_input_seq = np.array(tgt_input_seq)\n",
    "            tgt_output_seq = np.array(tgt_output_seq)\n",
    "            yield ([src_input_seq, tgt_input_seq], tgt_output_seq)"
   ]
  },
  {
   "cell_type": "code",
   "execution_count": null,
   "metadata": {
    "id": "E4UAyVFHNBeY"
   },
   "outputs": [],
   "source": [
    "encode_batch = generate_encode_batch(vi_train_padded_seqs, en_train_padded_seqs, en_train_output_padded_seqs, batch_size, en_vocab_size)"
   ]
  },
  {
   "cell_type": "code",
   "execution_count": null,
   "metadata": {
    "colab": {
     "base_uri": "https://localhost:8080/"
    },
    "executionInfo": {
     "elapsed": 3919,
     "status": "ok",
     "timestamp": 1647908810509,
     "user": {
      "displayName": "Thái Nguyễn Quốc",
      "photoUrl": "https://lh3.googleusercontent.com/a-/AOh14GhZLNSWy4-fLj7PmicmKxXQvi7xGOe2vDlaHSFo7A=s64",
      "userId": "03315292090052971901"
     },
     "user_tz": -420
    },
    "id": "vL8hKTQxNQ5K",
    "outputId": "9460c049-5ec7-43ec-a172-5020bc167269"
   },
   "outputs": [
    {
     "data": {
      "text/plain": [
       "((128, 100), (128, 80), (128, 80, 36256))"
      ]
     },
     "execution_count": 22,
     "metadata": {},
     "output_type": "execute_result"
    }
   ],
   "source": [
    "next(iter(encode_batch))[0][0].shape, next(iter(encode_batch))[0][1].shape, next(iter(encode_batch))[1].shape"
   ]
  },
  {
   "cell_type": "markdown",
   "metadata": {
    "id": "isLkgmBCN5zC"
   },
   "source": [
    "#### Seq2Seq Model"
   ]
  },
  {
   "cell_type": "code",
   "execution_count": null,
   "metadata": {
    "id": "7olXj453QFw1"
   },
   "outputs": [],
   "source": [
    "embedding_dim = 200\n",
    "hidden_size = 256\n",
    "batch_size = 128\n",
    "epochs = 15\n",
    "train_samples = len(vi_train_padded_seqs)\n",
    "val_samples = len(vi_valid_padded_seqs)"
   ]
  },
  {
   "cell_type": "code",
   "execution_count": null,
   "metadata": {
    "colab": {
     "base_uri": "https://localhost:8080/"
    },
    "executionInfo": {
     "elapsed": 14539,
     "status": "ok",
     "timestamp": 1647908825044,
     "user": {
      "displayName": "Thái Nguyễn Quốc",
      "photoUrl": "https://lh3.googleusercontent.com/a-/AOh14GhZLNSWy4-fLj7PmicmKxXQvi7xGOe2vDlaHSFo7A=s64",
      "userId": "03315292090052971901"
     },
     "user_tz": -420
    },
    "id": "2hCVg70dN8ap",
    "outputId": "6a83bd38-c702-40fc-df81-15f0315c48ec"
   },
   "outputs": [
    {
     "name": "stdout",
     "output_type": "stream",
     "text": [
      "Model: \"model\"\n",
      "__________________________________________________________________________________________________\n",
      " Layer (type)                   Output Shape         Param #     Connected to                     \n",
      "==================================================================================================\n",
      " input_1 (InputLayer)           [(None, 100)]        0           []                               \n",
      "                                                                                                  \n",
      " input_2 (InputLayer)           [(None, 80)]         0           []                               \n",
      "                                                                                                  \n",
      " embedding (Embedding)          (None, 100, 200)     3211000     ['input_1[0][0]']                \n",
      "                                                                                                  \n",
      " embedding_1 (Embedding)        (None, 80, 200)      7251200     ['input_2[0][0]']                \n",
      "                                                                                                  \n",
      " lstm (LSTM)                    [(None, 256),        467968      ['embedding[0][0]']              \n",
      "                                 (None, 256),                                                     \n",
      "                                 (None, 256)]                                                     \n",
      "                                                                                                  \n",
      " lstm_1 (LSTM)                  [(None, 80, 256),    467968      ['embedding_1[0][0]',            \n",
      "                                 (None, 256),                     'lstm[0][1]',                   \n",
      "                                 (None, 256)]                     'lstm[0][2]']                   \n",
      "                                                                                                  \n",
      " dense (Dense)                  (None, 80, 36256)    9317792     ['lstm_1[0][0]']                 \n",
      "                                                                                                  \n",
      "==================================================================================================\n",
      "Total params: 20,715,928\n",
      "Trainable params: 20,715,928\n",
      "Non-trainable params: 0\n",
      "__________________________________________________________________________________________________\n"
     ]
    }
   ],
   "source": [
    "encoder_inputs = Input(shape=(vi_max_len,))\n",
    "encoder_embedding = Embedding(vi_vocab_size, embedding_dim, mask_zero=True)(encoder_inputs)\n",
    "encoder_outputs, state_h, state_c = LSTM(hidden_size, return_state=True)(encoder_embedding)\n",
    "encoder_states = [state_h, state_c]\n",
    "\n",
    "decoder_inputs = Input(shape=(en_max_len,))\n",
    "decoder_embedding = Embedding(en_vocab_size, embedding_dim, mask_zero=True)(decoder_inputs)\n",
    "decoder_lstm = LSTM(hidden_size, return_state=True, return_sequences=True)\n",
    "decoder_outputs, _, _ = decoder_lstm(decoder_embedding, initial_state=encoder_states)\n",
    "decoder_dense = Dense(en_vocab_size, activation=\"softmax\") \n",
    "output = decoder_dense(decoder_outputs)\n",
    "\n",
    "seq2seq_model = Model([encoder_inputs, decoder_inputs], output )\n",
    "seq2seq_model.compile(loss='categorical_crossentropy', optimizer='adam', metrics=['accuracy'])\n",
    "\n",
    "seq2seq_model.summary()"
   ]
  },
  {
   "cell_type": "code",
   "execution_count": null,
   "metadata": {
    "id": "pBw-cevrPuP_"
   },
   "outputs": [],
   "source": [
    "file_name = urljoin(source_path, 'save_model/machine_translation_seq2seq.h5')\n",
    "checkpoint = ModelCheckpoint(file_name, monitor='val_loss', verbose=1, save_best_only=True, mode='min')"
   ]
  },
  {
   "cell_type": "code",
   "execution_count": null,
   "metadata": {
    "colab": {
     "base_uri": "https://localhost:8080/"
    },
    "executionInfo": {
     "elapsed": 15042886,
     "status": "ok",
     "timestamp": 1647923872382,
     "user": {
      "displayName": "Thái Nguyễn Quốc",
      "photoUrl": "https://lh3.googleusercontent.com/a-/AOh14GhZLNSWy4-fLj7PmicmKxXQvi7xGOe2vDlaHSFo7A=s64",
      "userId": "03315292090052971901"
     },
     "user_tz": -420
    },
    "id": "9owT8YE6Pyqr",
    "outputId": "b16e72d2-835d-44a3-a2a1-5bec3b04f58b"
   },
   "outputs": [
    {
     "name": "stdout",
     "output_type": "stream",
     "text": [
      "Epoch 1/15\n",
      "729/729 [==============================] - ETA: 0s - loss: 1.4807 - accuracy: 0.1431\n",
      "Epoch 1: val_loss improved from inf to 1.32884, saving model to /content/drive/MyDrive/AI_VIETNAM/Course/aio_insight/03_rnn/save_model/machine_translation_seq2seq.h5\n",
      "729/729 [==============================] - 915s 1s/step - loss: 1.4807 - accuracy: 0.1431 - val_loss: 1.3288 - val_accuracy: 0.2094\n",
      "Epoch 2/15\n",
      "729/729 [==============================] - ETA: 0s - loss: 1.2562 - accuracy: 0.2328\n",
      "Epoch 2: val_loss improved from 1.32884 to 1.22908, saving model to /content/drive/MyDrive/AI_VIETNAM/Course/aio_insight/03_rnn/save_model/machine_translation_seq2seq.h5\n",
      "729/729 [==============================] - 895s 1s/step - loss: 1.2562 - accuracy: 0.2328 - val_loss: 1.2291 - val_accuracy: 0.2561\n",
      "Epoch 3/15\n",
      "729/729 [==============================] - ETA: 0s - loss: 1.1660 - accuracy: 0.2725\n",
      "Epoch 3: val_loss improved from 1.22908 to 1.16884, saving model to /content/drive/MyDrive/AI_VIETNAM/Course/aio_insight/03_rnn/save_model/machine_translation_seq2seq.h5\n",
      "729/729 [==============================] - 922s 1s/step - loss: 1.1660 - accuracy: 0.2725 - val_loss: 1.1688 - val_accuracy: 0.2814\n",
      "Epoch 4/15\n",
      "729/729 [==============================] - ETA: 0s - loss: 1.0997 - accuracy: 0.2965\n",
      "Epoch 4: val_loss improved from 1.16884 to 1.12676, saving model to /content/drive/MyDrive/AI_VIETNAM/Course/aio_insight/03_rnn/save_model/machine_translation_seq2seq.h5\n",
      "729/729 [==============================] - 899s 1s/step - loss: 1.0997 - accuracy: 0.2965 - val_loss: 1.1268 - val_accuracy: 0.2989\n",
      "Epoch 5/15\n",
      "729/729 [==============================] - ETA: 0s - loss: 1.0443 - accuracy: 0.3150\n",
      "Epoch 5: val_loss improved from 1.12676 to 1.09655, saving model to /content/drive/MyDrive/AI_VIETNAM/Course/aio_insight/03_rnn/save_model/machine_translation_seq2seq.h5\n",
      "729/729 [==============================] - 921s 1s/step - loss: 1.0443 - accuracy: 0.3150 - val_loss: 1.0966 - val_accuracy: 0.3107\n",
      "Epoch 6/15\n",
      "729/729 [==============================] - ETA: 0s - loss: 0.9979 - accuracy: 0.3293\n",
      "Epoch 6: val_loss improved from 1.09655 to 1.07537, saving model to /content/drive/MyDrive/AI_VIETNAM/Course/aio_insight/03_rnn/save_model/machine_translation_seq2seq.h5\n",
      "729/729 [==============================] - 897s 1s/step - loss: 0.9979 - accuracy: 0.3293 - val_loss: 1.0754 - val_accuracy: 0.3191\n",
      "Epoch 7/15\n",
      "729/729 [==============================] - ETA: 0s - loss: 0.9574 - accuracy: 0.3414\n",
      "Epoch 7: val_loss improved from 1.07537 to 1.06060, saving model to /content/drive/MyDrive/AI_VIETNAM/Course/aio_insight/03_rnn/save_model/machine_translation_seq2seq.h5\n",
      "729/729 [==============================] - 1041s 1s/step - loss: 0.9574 - accuracy: 0.3414 - val_loss: 1.0606 - val_accuracy: 0.3251\n",
      "Epoch 8/15\n",
      "729/729 [==============================] - ETA: 0s - loss: 0.9213 - accuracy: 0.3521\n",
      "Epoch 8: val_loss improved from 1.06060 to 1.05012, saving model to /content/drive/MyDrive/AI_VIETNAM/Course/aio_insight/03_rnn/save_model/machine_translation_seq2seq.h5\n",
      "729/729 [==============================] - 1060s 1s/step - loss: 0.9213 - accuracy: 0.3521 - val_loss: 1.0501 - val_accuracy: 0.3291\n",
      "Epoch 9/15\n",
      "729/729 [==============================] - ETA: 0s - loss: 0.8883 - accuracy: 0.3621\n",
      "Epoch 9: val_loss improved from 1.05012 to 1.04487, saving model to /content/drive/MyDrive/AI_VIETNAM/Course/aio_insight/03_rnn/save_model/machine_translation_seq2seq.h5\n",
      "729/729 [==============================] - 1063s 1s/step - loss: 0.8883 - accuracy: 0.3621 - val_loss: 1.0449 - val_accuracy: 0.3302\n",
      "Epoch 10/15\n",
      "729/729 [==============================] - ETA: 0s - loss: 0.8577 - accuracy: 0.3719\n",
      "Epoch 10: val_loss improved from 1.04487 to 1.04168, saving model to /content/drive/MyDrive/AI_VIETNAM/Course/aio_insight/03_rnn/save_model/machine_translation_seq2seq.h5\n",
      "729/729 [==============================] - 1064s 1s/step - loss: 0.8577 - accuracy: 0.3719 - val_loss: 1.0417 - val_accuracy: 0.3317\n",
      "Epoch 11/15\n",
      "729/729 [==============================] - ETA: 0s - loss: 0.8292 - accuracy: 0.3819\n",
      "Epoch 11: val_loss improved from 1.04168 to 1.04045, saving model to /content/drive/MyDrive/AI_VIETNAM/Course/aio_insight/03_rnn/save_model/machine_translation_seq2seq.h5\n",
      "729/729 [==============================] - 1067s 1s/step - loss: 0.8292 - accuracy: 0.3819 - val_loss: 1.0404 - val_accuracy: 0.3338\n",
      "Epoch 12/15\n",
      "729/729 [==============================] - ETA: 0s - loss: 0.8030 - accuracy: 0.3921\n",
      "Epoch 12: val_loss did not improve from 1.04045\n",
      "729/729 [==============================] - 1079s 1s/step - loss: 0.8030 - accuracy: 0.3921 - val_loss: 1.0417 - val_accuracy: 0.3352\n",
      "Epoch 13/15\n",
      "729/729 [==============================] - ETA: 0s - loss: 0.7790 - accuracy: 0.4023\n",
      "Epoch 13: val_loss did not improve from 1.04045\n",
      "729/729 [==============================] - 1080s 1s/step - loss: 0.7790 - accuracy: 0.4023 - val_loss: 1.0430 - val_accuracy: 0.3348\n",
      "Epoch 14/15\n",
      "729/729 [==============================] - ETA: 0s - loss: 0.7565 - accuracy: 0.4128\n",
      "Epoch 14: val_loss did not improve from 1.04045\n",
      "729/729 [==============================] - 1067s 1s/step - loss: 0.7565 - accuracy: 0.4128 - val_loss: 1.0474 - val_accuracy: 0.3327\n",
      "Epoch 15/15\n",
      "729/729 [==============================] - ETA: 0s - loss: 0.7353 - accuracy: 0.4234\n",
      "Epoch 15: val_loss did not improve from 1.04045\n",
      "729/729 [==============================] - 1069s 1s/step - loss: 0.7353 - accuracy: 0.4234 - val_loss: 1.0528 - val_accuracy: 0.3333\n"
     ]
    }
   ],
   "source": [
    "history_seq2seq = seq2seq_model.fit(generate_encode_batch(vi_train_padded_seqs, en_train_padded_seqs, en_train_output_padded_seqs, batch_size = batch_size, en_vocab_size=en_vocab_size),\n",
    "                            steps_per_epoch = train_samples//batch_size,\n",
    "                            epochs=epochs,\n",
    "                            validation_data = generate_encode_batch(vi_valid_padded_seqs, en_valid_padded_seqs, en_valid_output_padded_seqs, batch_size = batch_size, en_vocab_size=en_vocab_size),\n",
    "                            validation_steps = val_samples//batch_size,\n",
    "                            callbacks=[checkpoint]\n",
    "                            )"
   ]
  },
  {
   "cell_type": "markdown",
   "metadata": {
    "id": "ePGD8UCwof8-"
   },
   "source": [
    "#### Inference"
   ]
  },
  {
   "cell_type": "code",
   "execution_count": null,
   "metadata": {
    "id": "bOKRcKcxb_br"
   },
   "outputs": [],
   "source": [
    "def get_inference_models():\n",
    "    encoder_model = Model(encoder_inputs, encoder_states)\n",
    "    \n",
    "    decoder_state_input_h = Input(shape=(hidden_size,))\n",
    "    decoder_state_input_c = Input(shape=(hidden_size,))\n",
    "    \n",
    "    decoder_states_inputs = [decoder_state_input_h, decoder_state_input_c]\n",
    "    \n",
    "    decoder_outputs, state_h, state_c = decoder_lstm(decoder_embedding , initial_state=decoder_states_inputs)\n",
    "    decoder_states = [state_h, state_c]\n",
    "    decoder_outputs = decoder_dense(decoder_outputs)\n",
    "    decoder_model = Model([decoder_inputs] + decoder_states_inputs, [decoder_outputs] + decoder_states)\n",
    "    \n",
    "    return encoder_model , decoder_model"
   ]
  },
  {
   "cell_type": "code",
   "execution_count": null,
   "metadata": {
    "colab": {
     "base_uri": "https://localhost:8080/"
    },
    "executionInfo": {
     "elapsed": 4055,
     "status": "ok",
     "timestamp": 1647936339637,
     "user": {
      "displayName": "Thái Nguyễn Quốc",
      "photoUrl": "https://lh3.googleusercontent.com/a-/AOh14GhZLNSWy4-fLj7PmicmKxXQvi7xGOe2vDlaHSFo7A=s64",
      "userId": "03315292090052971901"
     },
     "user_tz": -420
    },
    "id": "nn0wY0weclhG",
    "outputId": "acc4da52-8135-444c-9d10-0c23fa9dbbde"
   },
   "outputs": [
    {
     "name": "stdout",
     "output_type": "stream",
     "text": [
      "WARNING:tensorflow:Compiled the loaded model, but the compiled metrics have yet to be built. `model.compile_metrics` will be empty until you train or evaluate the model.\n",
      "WARNING:tensorflow:Compiled the loaded model, but the compiled metrics have yet to be built. `model.compile_metrics` will be empty until you train or evaluate the model.\n",
      "WARNING:tensorflow:No training configuration found in the save file, so the model was *not* compiled. Compile it manually.\n",
      "WARNING:tensorflow:No training configuration found in the save file, so the model was *not* compiled. Compile it manually.\n"
     ]
    }
   ],
   "source": [
    "encoder_model , decoder_model = get_inference_models()\n",
    "\n",
    "encoder_model.save(urljoin(source_path, 'save_model/machine_translation_seq2seq_encoder.h5')) \n",
    "decoder_model.save(urljoin(source_path, 'save_model/machine_translation_seq2seq_decoder.h5'))\n",
    "\n",
    "enc_model = load_model(urljoin(source_path, 'save_model/machine_translation_seq2seq_encoder.h5')) \n",
    "dec_model = load_model(urljoin(source_path, 'save_model/machine_translation_seq2seq_decoder.h5'))"
   ]
  },
  {
   "cell_type": "code",
   "execution_count": null,
   "metadata": {},
   "outputs": [],
   "source": []
  },
  {
   "cell_type": "code",
   "execution_count": null,
   "metadata": {},
   "outputs": [],
   "source": []
  },
  {
   "cell_type": "markdown",
   "metadata": {
    "id": "QMMS1SPx-b-4"
   },
   "source": [
    "### 6.Prediction"
   ]
  },
  {
   "cell_type": "code",
   "execution_count": null,
   "metadata": {
    "id": "PBXpiqkNcXGL"
   },
   "outputs": [],
   "source": [
    "def nmt_predict_seq2seq(text):\n",
    "    states_values = encoder_model.predict(encode_sequences(vi_tokenizer, vi_max_len, corpus=[text]))\n",
    "    empty_target_seq = np.zeros( ( 1 , 1 ) )\n",
    "    empty_target_seq[0, 0] = en_tokenizer.word_index['startseq']\n",
    "    stop_condition = False\n",
    "    decoded_translation = ''\n",
    "    while not stop_condition :\n",
    "        dec_outputs , h , c = decoder_model.predict([ empty_target_seq ] + states_values )\n",
    "        sampled_word_index = np.argmax( dec_outputs[0, -1, :] )\n",
    "        sampled_word = None\n",
    "        for word , index in en_tokenizer.word_index.items() :\n",
    "            if sampled_word_index == index :\n",
    "                decoded_translation += ' {}'.format( word )\n",
    "                sampled_word = word\n",
    "            \n",
    "        if sampled_word == 'endseq' or len(decoded_translation.split()) > en_max_len:\n",
    "            stop_condition = True\n",
    "                \n",
    "        empty_target_seq = np.zeros( ( 1 , 1 ) )  \n",
    "        empty_target_seq[ 0 , 0 ] = sampled_word_index\n",
    "        states_values = [ h , c ]\n",
    "    return \" \".join(decoded_translation.split()[:-1])"
   ]
  },
  {
   "cell_type": "code",
   "execution_count": null,
   "metadata": {
    "id": "dISi0q4H-d5T"
   },
   "outputs": [],
   "source": [
    "def nmt_predict(test_sentence, vi_tokenizer, vi_max_len, model, en_tokenizer):\n",
    "    vi_test_padded_seq = encode_sequences(vi_tokenizer, vi_max_len, [test_sentence])\n",
    "    vi_test_padded_seq = vi_test_padded_seq.reshape(1, vi_max_len)\n",
    "    predict_seqs = model.predict(vi_test_padded_seq)\n",
    "\n",
    "    predict_sentence = []\n",
    "    for seq in predict_seqs[0]:\n",
    "        idx = np.argmax(seq)\n",
    "        if idx not in [0, 1]:\n",
    "            word = en_tokenizer.index_word[idx]\n",
    "            predict_sentence.append(word)\n",
    "        elif idx == 3:\n",
    "            break\n",
    "    return \" \".join([word for word in predict_sentence if word not in [\"startseq\", \"endseq\"]])"
   ]
  },
  {
   "cell_type": "code",
   "execution_count": null,
   "metadata": {
    "id": "wm80YrwS-m3r"
   },
   "outputs": [],
   "source": [
    "def evaluate(src, tgt, model=None):\n",
    "    if model != None:\n",
    "        predict_seqs = nmt_predict(src, vi_tokenizer, vi_max_len, model, en_tokenizer)\n",
    "        src = \" \".join(src.split()[1:-1])\n",
    "    else:\n",
    "        predict_seqs = nmt_predict_seq2seq(src)\n",
    "    tgt = \" \".join(tgt.split()[1:-1])\n",
    "    print(\"SRC: \", src)\n",
    "    print(\"REFERENCE: \", tgt)\n",
    "    print(\"PREDICT: \", predict_seqs)\n",
    "\n",
    "    print('BLEU-1: %f' % sentence_bleu([predict_seqs.split()], tgt.split(), weights=(1., 0, 0, 0)))\n",
    "    # print('BLEU-2: %f' % sentence_bleu([predict_seqs.split()], tgt.split(), weights=(0.5, 0.5, 0, 0)))\n",
    "    # print('BLEU-3: %f' % sentence_bleu([predict_seqs.split()], tgt.split(), weights=(0.3, 0.3, 0.3, 0)))\n",
    "    # print('BLEU-4: %f' % sentence_bleu([predict_seqs.split()], tgt.split(), weights=(0.25, 0.25, 0.25, 0.25)))"
   ]
  },
  {
   "cell_type": "code",
   "execution_count": null,
   "metadata": {
    "id": "8d0c4cc1EJlR"
   },
   "outputs": [],
   "source": [
    "model_rnn =load_model(urljoin(source_path, 'save_model/machine_translation_rnn.h5'))\n",
    "model_lstm =load_model(urljoin(source_path, 'save_model/machine_translation_lstm.h5'))\n",
    "model_gru =load_model(urljoin(source_path, 'save_model/machine_translation_gru.h5'))\n",
    "model_bigru =load_model(urljoin(source_path, 'save_model/machine_translation_bigru.h5'))\n",
    "model_stackedgru =load_model(urljoin(source_path, 'save_model/machine_translation_stackedgru.h5'))"
   ]
  },
  {
   "cell_type": "code",
   "execution_count": null,
   "metadata": {
    "colab": {
     "base_uri": "https://localhost:8080/"
    },
    "executionInfo": {
     "elapsed": 1489,
     "status": "ok",
     "timestamp": 1647936628473,
     "user": {
      "displayName": "Thái Nguyễn Quốc",
      "photoUrl": "https://lh3.googleusercontent.com/a-/AOh14GhZLNSWy4-fLj7PmicmKxXQvi7xGOe2vDlaHSFo7A=s64",
      "userId": "03315292090052971901"
     },
     "user_tz": -420
    },
    "id": "iRmZsONGq6jA",
    "outputId": "37de20f2-5bcd-44ef-92c1-1693ebd7dd9a"
   },
   "outputs": [
    {
     "name": "stdout",
     "output_type": "stream",
     "text": [
      "SRC:  và khi chúng tôi mới gặp nhau tôi nhớ anh ấy đã đưa tôi đi hẹn hò\n",
      "REFERENCE:  and when we first met one of the things that i remember is that he took me out on a date\n",
      "PREDICT:  and when i came back to the next time i thought you are going to go to school\n",
      "BLEU-1: 0.190476\n"
     ]
    },
    {
     "name": "stderr",
     "output_type": "stream",
     "text": [
      "/usr/local/lib/python3.7/dist-packages/nltk/translate/bleu_score.py:490: UserWarning: \n",
      "Corpus/Sentence contains 0 counts of 3-gram overlaps.\n",
      "BLEU scores might be undesirable; use SmoothingFunction().\n",
      "  warnings.warn(_msg)\n"
     ]
    }
   ],
   "source": [
    "evaluate(list(df[df.type_data == \"test\"].vi)[0], list(df[df.type_data == \"test\"].en)[0])"
   ]
  },
  {
   "cell_type": "code",
   "execution_count": null,
   "metadata": {
    "colab": {
     "base_uri": "https://localhost:8080/"
    },
    "executionInfo": {
     "elapsed": 794,
     "status": "ok",
     "timestamp": 1647936661977,
     "user": {
      "displayName": "Thái Nguyễn Quốc",
      "photoUrl": "https://lh3.googleusercontent.com/a-/AOh14GhZLNSWy4-fLj7PmicmKxXQvi7xGOe2vDlaHSFo7A=s64",
      "userId": "03315292090052971901"
     },
     "user_tz": -420
    },
    "id": "c8MDcjAJrchB",
    "outputId": "cc370197-4b29-4465-babf-75693a874503"
   },
   "outputs": [
    {
     "name": "stdout",
     "output_type": "stream",
     "text": [
      "SRC:  cảm ơn\n",
      "REFERENCE:  thank you\n",
      "PREDICT:  thank you\n",
      "BLEU-1: 1.000000\n"
     ]
    },
    {
     "name": "stderr",
     "output_type": "stream",
     "text": [
      "/usr/local/lib/python3.7/dist-packages/nltk/translate/bleu_score.py:490: UserWarning: \n",
      "Corpus/Sentence contains 0 counts of 3-gram overlaps.\n",
      "BLEU scores might be undesirable; use SmoothingFunction().\n",
      "  warnings.warn(_msg)\n"
     ]
    }
   ],
   "source": [
    "evaluate(list(df[df.type_data == \"test\"].vi)[2], list(df[df.type_data == \"test\"].en)[2])"
   ]
  },
  {
   "cell_type": "code",
   "execution_count": null,
   "metadata": {
    "colab": {
     "base_uri": "https://localhost:8080/"
    },
    "executionInfo": {
     "elapsed": 22,
     "status": "ok",
     "timestamp": 1646587994947,
     "user": {
      "displayName": "Thái Nguyễn Quốc",
      "photoUrl": "https://lh3.googleusercontent.com/a-/AOh14GhZLNSWy4-fLj7PmicmKxXQvi7xGOe2vDlaHSFo7A=s64",
      "userId": "03315292090052971901"
     },
     "user_tz": -420
    },
    "id": "EZdlpTzkRmT5",
    "outputId": "c8b4b0c3-2ef9-4d48-f7cb-ece350f20413"
   },
   "outputs": [
    {
     "name": "stdout",
     "output_type": "stream",
     "text": [
      "SRC:  và khi chúng tôi mới gặp nhau tôi nhớ anh ấy đã đưa tôi đi hẹn hò\n",
      "REFERENCE:  and when we first met one of the things that i remember is that he took me out on a date\n",
      "PREDICT:  and\n",
      "BLEU-1: 0.047619\n"
     ]
    },
    {
     "name": "stderr",
     "output_type": "stream",
     "text": [
      "/usr/local/lib/python3.7/dist-packages/nltk/translate/bleu_score.py:490: UserWarning: \n",
      "Corpus/Sentence contains 0 counts of 2-gram overlaps.\n",
      "BLEU scores might be undesirable; use SmoothingFunction().\n",
      "  warnings.warn(_msg)\n"
     ]
    }
   ],
   "source": [
    "evaluate(list(df[df.type_data == \"test\"].vi)[0], list(df[df.type_data == \"test\"].en)[0], model_rnn)"
   ]
  },
  {
   "cell_type": "code",
   "execution_count": null,
   "metadata": {
    "colab": {
     "base_uri": "https://localhost:8080/"
    },
    "executionInfo": {
     "elapsed": 326,
     "status": "ok",
     "timestamp": 1646588003097,
     "user": {
      "displayName": "Thái Nguyễn Quốc",
      "photoUrl": "https://lh3.googleusercontent.com/a-/AOh14GhZLNSWy4-fLj7PmicmKxXQvi7xGOe2vDlaHSFo7A=s64",
      "userId": "03315292090052971901"
     },
     "user_tz": -420
    },
    "id": "YikdVgf5O01s",
    "outputId": "e59ae3cf-e39a-4c2c-a7c8-e99c6cb11f4d"
   },
   "outputs": [
    {
     "name": "stdout",
     "output_type": "stream",
     "text": [
      "SRC:  cảm ơn\n",
      "REFERENCE:  thank you\n",
      "PREDICT:  thank\n",
      "BLEU-1: 0.500000\n"
     ]
    },
    {
     "name": "stderr",
     "output_type": "stream",
     "text": [
      "/usr/local/lib/python3.7/dist-packages/nltk/translate/bleu_score.py:490: UserWarning: \n",
      "Corpus/Sentence contains 0 counts of 2-gram overlaps.\n",
      "BLEU scores might be undesirable; use SmoothingFunction().\n",
      "  warnings.warn(_msg)\n"
     ]
    }
   ],
   "source": [
    "evaluate(list(df[df.type_data == \"test\"].vi)[2], list(df[df.type_data == \"test\"].en)[2], model_rnn)"
   ]
  },
  {
   "cell_type": "code",
   "execution_count": null,
   "metadata": {
    "colab": {
     "base_uri": "https://localhost:8080/"
    },
    "executionInfo": {
     "elapsed": 2170,
     "status": "ok",
     "timestamp": 1646588019940,
     "user": {
      "displayName": "Thái Nguyễn Quốc",
      "photoUrl": "https://lh3.googleusercontent.com/a-/AOh14GhZLNSWy4-fLj7PmicmKxXQvi7xGOe2vDlaHSFo7A=s64",
      "userId": "03315292090052971901"
     },
     "user_tz": -420
    },
    "id": "BD6Ju66tSx3p",
    "outputId": "e88cac46-697b-4ed9-8a27-b43317a31173"
   },
   "outputs": [
    {
     "name": "stdout",
     "output_type": "stream",
     "text": [
      "SRC:  và khi chúng tôi mới gặp nhau tôi nhớ anh ấy đã đưa tôi đi hẹn hò\n",
      "REFERENCE:  and when we first met one of the things that i remember is that he took me out on a date\n",
      "PREDICT:  and when i to to i i i i i i\n",
      "BLEU-1: 0.142857\n"
     ]
    },
    {
     "name": "stderr",
     "output_type": "stream",
     "text": [
      "/usr/local/lib/python3.7/dist-packages/nltk/translate/bleu_score.py:490: UserWarning: \n",
      "Corpus/Sentence contains 0 counts of 3-gram overlaps.\n",
      "BLEU scores might be undesirable; use SmoothingFunction().\n",
      "  warnings.warn(_msg)\n"
     ]
    }
   ],
   "source": [
    "evaluate(list(df[df.type_data == \"test\"].vi)[0], list(df[df.type_data == \"test\"].en)[0], model_lstm)"
   ]
  },
  {
   "cell_type": "code",
   "execution_count": null,
   "metadata": {
    "colab": {
     "base_uri": "https://localhost:8080/"
    },
    "executionInfo": {
     "elapsed": 307,
     "status": "ok",
     "timestamp": 1646588029749,
     "user": {
      "displayName": "Thái Nguyễn Quốc",
      "photoUrl": "https://lh3.googleusercontent.com/a-/AOh14GhZLNSWy4-fLj7PmicmKxXQvi7xGOe2vDlaHSFo7A=s64",
      "userId": "03315292090052971901"
     },
     "user_tz": -420
    },
    "id": "gFn-QECXRByo",
    "outputId": "fcb84670-817a-49d1-d559-65d565998cc5"
   },
   "outputs": [
    {
     "name": "stdout",
     "output_type": "stream",
     "text": [
      "SRC:  cảm ơn\n",
      "REFERENCE:  thank you\n",
      "PREDICT:  thank you\n",
      "BLEU-1: 1.000000\n"
     ]
    },
    {
     "name": "stderr",
     "output_type": "stream",
     "text": [
      "/usr/local/lib/python3.7/dist-packages/nltk/translate/bleu_score.py:490: UserWarning: \n",
      "Corpus/Sentence contains 0 counts of 3-gram overlaps.\n",
      "BLEU scores might be undesirable; use SmoothingFunction().\n",
      "  warnings.warn(_msg)\n"
     ]
    }
   ],
   "source": [
    "evaluate(list(df[df.type_data == \"test\"].vi)[2], list(df[df.type_data == \"test\"].en)[2], model_lstm)"
   ]
  },
  {
   "cell_type": "code",
   "execution_count": null,
   "metadata": {
    "colab": {
     "base_uri": "https://localhost:8080/"
    },
    "executionInfo": {
     "elapsed": 2786,
     "status": "ok",
     "timestamp": 1646588047570,
     "user": {
      "displayName": "Thái Nguyễn Quốc",
      "photoUrl": "https://lh3.googleusercontent.com/a-/AOh14GhZLNSWy4-fLj7PmicmKxXQvi7xGOe2vDlaHSFo7A=s64",
      "userId": "03315292090052971901"
     },
     "user_tz": -420
    },
    "id": "zVAP4fQBS4tU",
    "outputId": "a5c3b723-41fe-4c6d-b447-054b661f02de"
   },
   "outputs": [
    {
     "name": "stdout",
     "output_type": "stream",
     "text": [
      "SRC:  và khi chúng tôi mới gặp nhau tôi nhớ anh ấy đã đưa tôi đi hẹn hò\n",
      "REFERENCE:  and when we first met one of the things that i remember is that he took me out on a date\n",
      "PREDICT:  and i i i i i i i i you you\n",
      "BLEU-1: 0.095238\n"
     ]
    },
    {
     "name": "stderr",
     "output_type": "stream",
     "text": [
      "/usr/local/lib/python3.7/dist-packages/nltk/translate/bleu_score.py:490: UserWarning: \n",
      "Corpus/Sentence contains 0 counts of 2-gram overlaps.\n",
      "BLEU scores might be undesirable; use SmoothingFunction().\n",
      "  warnings.warn(_msg)\n"
     ]
    }
   ],
   "source": [
    "evaluate(list(df[df.type_data == \"test\"].vi)[0], list(df[df.type_data == \"test\"].en)[0], model_gru)"
   ]
  },
  {
   "cell_type": "code",
   "execution_count": null,
   "metadata": {
    "colab": {
     "base_uri": "https://localhost:8080/"
    },
    "executionInfo": {
     "elapsed": 2649,
     "status": "ok",
     "timestamp": 1646587643745,
     "user": {
      "displayName": "Thái Nguyễn Quốc",
      "photoUrl": "https://lh3.googleusercontent.com/a-/AOh14GhZLNSWy4-fLj7PmicmKxXQvi7xGOe2vDlaHSFo7A=s64",
      "userId": "03315292090052971901"
     },
     "user_tz": -420
    },
    "id": "s9_5rXWdRVax",
    "outputId": "83dfa3b5-daec-46ad-f134-110f6dece4cd"
   },
   "outputs": [
    {
     "name": "stdout",
     "output_type": "stream",
     "text": [
      "SRC:  cảm ơn\n",
      "REFERENCE:  thank you\n",
      "PREDICT:  thank you\n",
      "BLEU-1: 1.000000\n"
     ]
    },
    {
     "name": "stderr",
     "output_type": "stream",
     "text": [
      "/usr/local/lib/python3.7/dist-packages/nltk/translate/bleu_score.py:490: UserWarning: \n",
      "Corpus/Sentence contains 0 counts of 3-gram overlaps.\n",
      "BLEU scores might be undesirable; use SmoothingFunction().\n",
      "  warnings.warn(_msg)\n"
     ]
    }
   ],
   "source": [
    "evaluate(list(df[df.type_data == \"test\"].vi)[2], list(df[df.type_data == \"test\"].en)[2], model_gru)"
   ]
  },
  {
   "cell_type": "code",
   "execution_count": null,
   "metadata": {
    "colab": {
     "base_uri": "https://localhost:8080/"
    },
    "executionInfo": {
     "elapsed": 3881,
     "status": "ok",
     "timestamp": 1646588070199,
     "user": {
      "displayName": "Thái Nguyễn Quốc",
      "photoUrl": "https://lh3.googleusercontent.com/a-/AOh14GhZLNSWy4-fLj7PmicmKxXQvi7xGOe2vDlaHSFo7A=s64",
      "userId": "03315292090052971901"
     },
     "user_tz": -420
    },
    "id": "2E7fyONVS899",
    "outputId": "79d03be3-d1ca-4c4f-875e-1bb0413ee948"
   },
   "outputs": [
    {
     "name": "stdout",
     "output_type": "stream",
     "text": [
      "WARNING:tensorflow:5 out of the last 19 calls to <function Model.make_predict_function.<locals>.predict_function at 0x7f5b26578a70> triggered tf.function retracing. Tracing is expensive and the excessive number of tracings could be due to (1) creating @tf.function repeatedly in a loop, (2) passing tensors with different shapes, (3) passing Python objects instead of tensors. For (1), please define your @tf.function outside of the loop. For (2), @tf.function has experimental_relax_shapes=True option that relaxes argument shapes that can avoid unnecessary retracing. For (3), please refer to https://www.tensorflow.org/guide/function#controlling_retracing and https://www.tensorflow.org/api_docs/python/tf/function for  more details.\n",
      "SRC:  và khi chúng tôi mới gặp nhau tôi nhớ anh ấy đã đưa tôi đi hẹn hò\n",
      "REFERENCE:  and when we first met one of the things that i remember is that he took me out on a date\n",
      "PREDICT:  and then i i i i i i i i i i i\n",
      "BLEU-1: 0.095238\n"
     ]
    },
    {
     "name": "stderr",
     "output_type": "stream",
     "text": [
      "/usr/local/lib/python3.7/dist-packages/nltk/translate/bleu_score.py:490: UserWarning: \n",
      "Corpus/Sentence contains 0 counts of 2-gram overlaps.\n",
      "BLEU scores might be undesirable; use SmoothingFunction().\n",
      "  warnings.warn(_msg)\n"
     ]
    }
   ],
   "source": [
    "evaluate(list(df[df.type_data == \"test\"].vi)[0], list(df[df.type_data == \"test\"].en)[0], model_bigru)"
   ]
  },
  {
   "cell_type": "code",
   "execution_count": null,
   "metadata": {
    "colab": {
     "base_uri": "https://localhost:8080/"
    },
    "executionInfo": {
     "elapsed": 3593,
     "status": "ok",
     "timestamp": 1646587655521,
     "user": {
      "displayName": "Thái Nguyễn Quốc",
      "photoUrl": "https://lh3.googleusercontent.com/a-/AOh14GhZLNSWy4-fLj7PmicmKxXQvi7xGOe2vDlaHSFo7A=s64",
      "userId": "03315292090052971901"
     },
     "user_tz": -420
    },
    "id": "b_hUazDtRYx_",
    "outputId": "b169d66e-d9ea-4e7c-e98c-1911498c2bf4"
   },
   "outputs": [
    {
     "name": "stdout",
     "output_type": "stream",
     "text": [
      "SRC:  cảm ơn\n",
      "REFERENCE:  thank you\n",
      "PREDICT:  thank you\n",
      "BLEU-1: 1.000000\n"
     ]
    },
    {
     "name": "stderr",
     "output_type": "stream",
     "text": [
      "/usr/local/lib/python3.7/dist-packages/nltk/translate/bleu_score.py:490: UserWarning: \n",
      "Corpus/Sentence contains 0 counts of 3-gram overlaps.\n",
      "BLEU scores might be undesirable; use SmoothingFunction().\n",
      "  warnings.warn(_msg)\n"
     ]
    }
   ],
   "source": [
    "evaluate(list(df[df.type_data == \"test\"].vi)[2], list(df[df.type_data == \"test\"].en)[2], model_bigru)"
   ]
  },
  {
   "cell_type": "code",
   "execution_count": null,
   "metadata": {
    "colab": {
     "base_uri": "https://localhost:8080/"
    },
    "executionInfo": {
     "elapsed": 3701,
     "status": "ok",
     "timestamp": 1646588164054,
     "user": {
      "displayName": "Thái Nguyễn Quốc",
      "photoUrl": "https://lh3.googleusercontent.com/a-/AOh14GhZLNSWy4-fLj7PmicmKxXQvi7xGOe2vDlaHSFo7A=s64",
      "userId": "03315292090052971901"
     },
     "user_tz": -420
    },
    "id": "JfJayYJZTU0P",
    "outputId": "baa19ad0-acee-4d59-df80-40c043db4cd0"
   },
   "outputs": [
    {
     "name": "stdout",
     "output_type": "stream",
     "text": [
      "SRC:  và khi chúng tôi mới gặp nhau tôi nhớ anh ấy đã đưa tôi đi hẹn hò\n",
      "REFERENCE:  and when we first met one of the things that i remember is that he took me out on a date\n",
      "PREDICT:  and i i apos i i i i i to to to\n",
      "BLEU-1: 0.095238\n"
     ]
    },
    {
     "name": "stderr",
     "output_type": "stream",
     "text": [
      "/usr/local/lib/python3.7/dist-packages/nltk/translate/bleu_score.py:490: UserWarning: \n",
      "Corpus/Sentence contains 0 counts of 2-gram overlaps.\n",
      "BLEU scores might be undesirable; use SmoothingFunction().\n",
      "  warnings.warn(_msg)\n"
     ]
    }
   ],
   "source": [
    "evaluate(list(df[df.type_data == \"test\"].vi)[0], list(df[df.type_data == \"test\"].en)[0], model_stackedgru)"
   ]
  },
  {
   "cell_type": "code",
   "execution_count": null,
   "metadata": {
    "colab": {
     "base_uri": "https://localhost:8080/"
    },
    "executionInfo": {
     "elapsed": 3761,
     "status": "ok",
     "timestamp": 1646587669965,
     "user": {
      "displayName": "Thái Nguyễn Quốc",
      "photoUrl": "https://lh3.googleusercontent.com/a-/AOh14GhZLNSWy4-fLj7PmicmKxXQvi7xGOe2vDlaHSFo7A=s64",
      "userId": "03315292090052971901"
     },
     "user_tz": -420
    },
    "id": "LFEW5vAYRbvU",
    "outputId": "7aeeec5f-1d25-47c4-9fb6-dca31b25832d"
   },
   "outputs": [
    {
     "name": "stdout",
     "output_type": "stream",
     "text": [
      "WARNING:tensorflow:5 out of the last 16 calls to <function Model.make_predict_function.<locals>.predict_function at 0x7f5b2dcf0c20> triggered tf.function retracing. Tracing is expensive and the excessive number of tracings could be due to (1) creating @tf.function repeatedly in a loop, (2) passing tensors with different shapes, (3) passing Python objects instead of tensors. For (1), please define your @tf.function outside of the loop. For (2), @tf.function has experimental_relax_shapes=True option that relaxes argument shapes that can avoid unnecessary retracing. For (3), please refer to https://www.tensorflow.org/guide/function#controlling_retracing and https://www.tensorflow.org/api_docs/python/tf/function for  more details.\n",
      "SRC:  cảm ơn\n",
      "REFERENCE:  thank you\n",
      "PREDICT:  thank you\n",
      "BLEU-1: 1.000000\n"
     ]
    },
    {
     "name": "stderr",
     "output_type": "stream",
     "text": [
      "/usr/local/lib/python3.7/dist-packages/nltk/translate/bleu_score.py:490: UserWarning: \n",
      "Corpus/Sentence contains 0 counts of 3-gram overlaps.\n",
      "BLEU scores might be undesirable; use SmoothingFunction().\n",
      "  warnings.warn(_msg)\n"
     ]
    }
   ],
   "source": [
    "evaluate(list(df[df.type_data == \"test\"].vi)[2], list(df[df.type_data == \"test\"].en)[2], model_stackedgru)"
   ]
  },
  {
   "cell_type": "markdown",
   "metadata": {
    "id": "a2ifOughr9Qf"
   },
   "source": [
    "### 7.Evaluate Test Set"
   ]
  },
  {
   "cell_type": "code",
   "execution_count": null,
   "metadata": {
    "id": "bKpnRxAZsCFU"
   },
   "outputs": [],
   "source": [
    "def blue_score_test_set():\n",
    "    blue_1 = []\n",
    "    for idx, (src, tgt) in enumerate(zip(list(vi_test), list(en_test))):\n",
    "        print(idx)\n",
    "        # print(src, tgt)\n",
    "        predict_seqs = nmt_predict_seq2seq(src)\n",
    "        blue_score = sentence_bleu([predict_seqs.split()], tgt.split(), weights=(1., 0, 0, 0))\n",
    "        blue_1.append(blue_score)\n",
    "    return sum(blue_1)/len(blue_1)\n",
    "blue_score_test_set()"
   ]
  }
 ],
 "metadata": {
  "accelerator": "GPU",
  "colab": {
   "authorship_tag": "ABX9TyPAPWkpU/qKW/FZ4VI+4/tD",
   "collapsed_sections": [],
   "machine_shape": "hm",
   "name": "[colab]-Machine-Translation.ipynb",
   "provenance": []
  },
  "kernelspec": {
   "display_name": "Python 3 (ipykernel)",
   "language": "python",
   "name": "python3"
  },
  "language_info": {
   "codemirror_mode": {
    "name": "ipython",
    "version": 3
   },
   "file_extension": ".py",
   "mimetype": "text/x-python",
   "name": "python",
   "nbconvert_exporter": "python",
   "pygments_lexer": "ipython3",
   "version": "3.9.7"
  },
  "widgets": {
   "application/vnd.jupyter.widget-state+json": {
    "005f324d05ea421d932efadda6c0c871": {
     "model_module": "@jupyter-widgets/controls",
     "model_module_version": "1.5.0",
     "model_name": "DescriptionStyleModel",
     "state": {
      "_model_module": "@jupyter-widgets/controls",
      "_model_module_version": "1.5.0",
      "_model_name": "DescriptionStyleModel",
      "_view_count": null,
      "_view_module": "@jupyter-widgets/base",
      "_view_module_version": "1.2.0",
      "_view_name": "StyleView",
      "description_width": ""
     }
    },
    "00e610ed98164e4983f1c375540e6d03": {
     "model_module": "@jupyter-widgets/controls",
     "model_module_version": "1.5.0",
     "model_name": "DescriptionStyleModel",
     "state": {
      "_model_module": "@jupyter-widgets/controls",
      "_model_module_version": "1.5.0",
      "_model_name": "DescriptionStyleModel",
      "_view_count": null,
      "_view_module": "@jupyter-widgets/base",
      "_view_module_version": "1.2.0",
      "_view_name": "StyleView",
      "description_width": ""
     }
    },
    "01aa94c086aa4fe28096414363a7e63d": {
     "model_module": "@jupyter-widgets/base",
     "model_module_version": "1.2.0",
     "model_name": "LayoutModel",
     "state": {
      "_model_module": "@jupyter-widgets/base",
      "_model_module_version": "1.2.0",
      "_model_name": "LayoutModel",
      "_view_count": null,
      "_view_module": "@jupyter-widgets/base",
      "_view_module_version": "1.2.0",
      "_view_name": "LayoutView",
      "align_content": null,
      "align_items": null,
      "align_self": null,
      "border": null,
      "bottom": null,
      "display": null,
      "flex": null,
      "flex_flow": null,
      "grid_area": null,
      "grid_auto_columns": null,
      "grid_auto_flow": null,
      "grid_auto_rows": null,
      "grid_column": null,
      "grid_gap": null,
      "grid_row": null,
      "grid_template_areas": null,
      "grid_template_columns": null,
      "grid_template_rows": null,
      "height": null,
      "justify_content": null,
      "justify_items": null,
      "left": null,
      "margin": null,
      "max_height": null,
      "max_width": null,
      "min_height": null,
      "min_width": null,
      "object_fit": null,
      "object_position": null,
      "order": null,
      "overflow": null,
      "overflow_x": null,
      "overflow_y": null,
      "padding": null,
      "right": null,
      "top": null,
      "visibility": null,
      "width": null
     }
    },
    "051a2d5c01a9416a9cca3cb80cd11956": {
     "model_module": "@jupyter-widgets/controls",
     "model_module_version": "1.5.0",
     "model_name": "HBoxModel",
     "state": {
      "_dom_classes": [],
      "_model_module": "@jupyter-widgets/controls",
      "_model_module_version": "1.5.0",
      "_model_name": "HBoxModel",
      "_view_count": null,
      "_view_module": "@jupyter-widgets/controls",
      "_view_module_version": "1.5.0",
      "_view_name": "HBoxView",
      "box_style": "",
      "children": [
       "IPY_MODEL_a5463d1a7b8a4a1caea5b4eb060b78c8",
       "IPY_MODEL_e280761f8abd4969bd156f19bfc21e91",
       "IPY_MODEL_4db52a3368d848a98069e9fe823cf5be"
      ],
      "layout": "IPY_MODEL_45e5333f721549e789acb47a68752959"
     }
    },
    "0ed074304b464d5cbd5d68e611851fa0": {
     "model_module": "@jupyter-widgets/controls",
     "model_module_version": "1.5.0",
     "model_name": "DescriptionStyleModel",
     "state": {
      "_model_module": "@jupyter-widgets/controls",
      "_model_module_version": "1.5.0",
      "_model_name": "DescriptionStyleModel",
      "_view_count": null,
      "_view_module": "@jupyter-widgets/base",
      "_view_module_version": "1.2.0",
      "_view_name": "StyleView",
      "description_width": ""
     }
    },
    "1098d1c93e504bce95bf6a5e706db73c": {
     "model_module": "@jupyter-widgets/controls",
     "model_module_version": "1.5.0",
     "model_name": "DescriptionStyleModel",
     "state": {
      "_model_module": "@jupyter-widgets/controls",
      "_model_module_version": "1.5.0",
      "_model_name": "DescriptionStyleModel",
      "_view_count": null,
      "_view_module": "@jupyter-widgets/base",
      "_view_module_version": "1.2.0",
      "_view_name": "StyleView",
      "description_width": ""
     }
    },
    "1241d8ffae60477086548c34569ee6da": {
     "model_module": "@jupyter-widgets/base",
     "model_module_version": "1.2.0",
     "model_name": "LayoutModel",
     "state": {
      "_model_module": "@jupyter-widgets/base",
      "_model_module_version": "1.2.0",
      "_model_name": "LayoutModel",
      "_view_count": null,
      "_view_module": "@jupyter-widgets/base",
      "_view_module_version": "1.2.0",
      "_view_name": "LayoutView",
      "align_content": null,
      "align_items": null,
      "align_self": null,
      "border": null,
      "bottom": null,
      "display": null,
      "flex": null,
      "flex_flow": null,
      "grid_area": null,
      "grid_auto_columns": null,
      "grid_auto_flow": null,
      "grid_auto_rows": null,
      "grid_column": null,
      "grid_gap": null,
      "grid_row": null,
      "grid_template_areas": null,
      "grid_template_columns": null,
      "grid_template_rows": null,
      "height": null,
      "justify_content": null,
      "justify_items": null,
      "left": null,
      "margin": null,
      "max_height": null,
      "max_width": null,
      "min_height": null,
      "min_width": null,
      "object_fit": null,
      "object_position": null,
      "order": null,
      "overflow": null,
      "overflow_x": null,
      "overflow_y": null,
      "padding": null,
      "right": null,
      "top": null,
      "visibility": null,
      "width": null
     }
    },
    "12d4c995fd0c4b079b9b6d12fe4d2e4f": {
     "model_module": "@jupyter-widgets/base",
     "model_module_version": "1.2.0",
     "model_name": "LayoutModel",
     "state": {
      "_model_module": "@jupyter-widgets/base",
      "_model_module_version": "1.2.0",
      "_model_name": "LayoutModel",
      "_view_count": null,
      "_view_module": "@jupyter-widgets/base",
      "_view_module_version": "1.2.0",
      "_view_name": "LayoutView",
      "align_content": null,
      "align_items": null,
      "align_self": null,
      "border": null,
      "bottom": null,
      "display": null,
      "flex": null,
      "flex_flow": null,
      "grid_area": null,
      "grid_auto_columns": null,
      "grid_auto_flow": null,
      "grid_auto_rows": null,
      "grid_column": null,
      "grid_gap": null,
      "grid_row": null,
      "grid_template_areas": null,
      "grid_template_columns": null,
      "grid_template_rows": null,
      "height": null,
      "justify_content": null,
      "justify_items": null,
      "left": null,
      "margin": null,
      "max_height": null,
      "max_width": null,
      "min_height": null,
      "min_width": null,
      "object_fit": null,
      "object_position": null,
      "order": null,
      "overflow": null,
      "overflow_x": null,
      "overflow_y": null,
      "padding": null,
      "right": null,
      "top": null,
      "visibility": null,
      "width": null
     }
    },
    "135dcef930814144b3f3e58bddcd81d3": {
     "model_module": "@jupyter-widgets/controls",
     "model_module_version": "1.5.0",
     "model_name": "DescriptionStyleModel",
     "state": {
      "_model_module": "@jupyter-widgets/controls",
      "_model_module_version": "1.5.0",
      "_model_name": "DescriptionStyleModel",
      "_view_count": null,
      "_view_module": "@jupyter-widgets/base",
      "_view_module_version": "1.2.0",
      "_view_name": "StyleView",
      "description_width": ""
     }
    },
    "1498756ef8fe4750be353c8363f7503e": {
     "model_module": "@jupyter-widgets/controls",
     "model_module_version": "1.5.0",
     "model_name": "ProgressStyleModel",
     "state": {
      "_model_module": "@jupyter-widgets/controls",
      "_model_module_version": "1.5.0",
      "_model_name": "ProgressStyleModel",
      "_view_count": null,
      "_view_module": "@jupyter-widgets/base",
      "_view_module_version": "1.2.0",
      "_view_name": "StyleView",
      "bar_color": null,
      "description_width": ""
     }
    },
    "156c65eb607442acb11a354ec0c3845f": {
     "model_module": "@jupyter-widgets/base",
     "model_module_version": "1.2.0",
     "model_name": "LayoutModel",
     "state": {
      "_model_module": "@jupyter-widgets/base",
      "_model_module_version": "1.2.0",
      "_model_name": "LayoutModel",
      "_view_count": null,
      "_view_module": "@jupyter-widgets/base",
      "_view_module_version": "1.2.0",
      "_view_name": "LayoutView",
      "align_content": null,
      "align_items": null,
      "align_self": null,
      "border": null,
      "bottom": null,
      "display": null,
      "flex": null,
      "flex_flow": null,
      "grid_area": null,
      "grid_auto_columns": null,
      "grid_auto_flow": null,
      "grid_auto_rows": null,
      "grid_column": null,
      "grid_gap": null,
      "grid_row": null,
      "grid_template_areas": null,
      "grid_template_columns": null,
      "grid_template_rows": null,
      "height": null,
      "justify_content": null,
      "justify_items": null,
      "left": null,
      "margin": null,
      "max_height": null,
      "max_width": null,
      "min_height": null,
      "min_width": null,
      "object_fit": null,
      "object_position": null,
      "order": null,
      "overflow": null,
      "overflow_x": null,
      "overflow_y": null,
      "padding": null,
      "right": null,
      "top": null,
      "visibility": null,
      "width": null
     }
    },
    "18a2110145df40a1935ef997c2c8d126": {
     "model_module": "@jupyter-widgets/controls",
     "model_module_version": "1.5.0",
     "model_name": "HTMLModel",
     "state": {
      "_dom_classes": [],
      "_model_module": "@jupyter-widgets/controls",
      "_model_module_version": "1.5.0",
      "_model_name": "HTMLModel",
      "_view_count": null,
      "_view_module": "@jupyter-widgets/controls",
      "_view_module_version": "1.5.0",
      "_view_name": "HTMLView",
      "description": "",
      "description_tooltip": null,
      "layout": "IPY_MODEL_e5aa795ddd174bdf8f88e269ce842942",
      "placeholder": "​",
      "style": "IPY_MODEL_005f324d05ea421d932efadda6c0c871",
      "value": " 3/3 [00:00&lt;00:00, 79.47it/s]"
     }
    },
    "18c8aa4335b84fc6aeed0002f6afbc18": {
     "model_module": "@jupyter-widgets/controls",
     "model_module_version": "1.5.0",
     "model_name": "HTMLModel",
     "state": {
      "_dom_classes": [],
      "_model_module": "@jupyter-widgets/controls",
      "_model_module_version": "1.5.0",
      "_model_name": "HTMLModel",
      "_view_count": null,
      "_view_module": "@jupyter-widgets/controls",
      "_view_module_version": "1.5.0",
      "_view_name": "HTMLView",
      "description": "",
      "description_tooltip": null,
      "layout": "IPY_MODEL_957b71fb74314198aa691a67b7a8c45a",
      "placeholder": "​",
      "style": "IPY_MODEL_9db4a9c204404bd2af67242dfecd3e76",
      "value": " 0/1269 [00:00&lt;?, ? examples/s]"
     }
    },
    "1a538921340b4c06a9970505d62401ef": {
     "model_module": "@jupyter-widgets/controls",
     "model_module_version": "1.5.0",
     "model_name": "ProgressStyleModel",
     "state": {
      "_model_module": "@jupyter-widgets/controls",
      "_model_module_version": "1.5.0",
      "_model_name": "ProgressStyleModel",
      "_view_count": null,
      "_view_module": "@jupyter-widgets/base",
      "_view_module_version": "1.2.0",
      "_view_name": "StyleView",
      "bar_color": null,
      "description_width": ""
     }
    },
    "1b1c6fd05b5348e89d78a900925553fd": {
     "model_module": "@jupyter-widgets/base",
     "model_module_version": "1.2.0",
     "model_name": "LayoutModel",
     "state": {
      "_model_module": "@jupyter-widgets/base",
      "_model_module_version": "1.2.0",
      "_model_name": "LayoutModel",
      "_view_count": null,
      "_view_module": "@jupyter-widgets/base",
      "_view_module_version": "1.2.0",
      "_view_name": "LayoutView",
      "align_content": null,
      "align_items": null,
      "align_self": null,
      "border": null,
      "bottom": null,
      "display": null,
      "flex": null,
      "flex_flow": null,
      "grid_area": null,
      "grid_auto_columns": null,
      "grid_auto_flow": null,
      "grid_auto_rows": null,
      "grid_column": null,
      "grid_gap": null,
      "grid_row": null,
      "grid_template_areas": null,
      "grid_template_columns": null,
      "grid_template_rows": null,
      "height": null,
      "justify_content": null,
      "justify_items": null,
      "left": null,
      "margin": null,
      "max_height": null,
      "max_width": null,
      "min_height": null,
      "min_width": null,
      "object_fit": null,
      "object_position": null,
      "order": null,
      "overflow": null,
      "overflow_x": null,
      "overflow_y": null,
      "padding": null,
      "right": null,
      "top": null,
      "visibility": null,
      "width": null
     }
    },
    "1ba7df86c6604de59fe3e6d4ea6ca675": {
     "model_module": "@jupyter-widgets/controls",
     "model_module_version": "1.5.0",
     "model_name": "HTMLModel",
     "state": {
      "_dom_classes": [],
      "_model_module": "@jupyter-widgets/controls",
      "_model_module_version": "1.5.0",
      "_model_name": "HTMLModel",
      "_view_count": null,
      "_view_module": "@jupyter-widgets/controls",
      "_view_module_version": "1.5.0",
      "_view_name": "HTMLView",
      "description": "",
      "description_tooltip": null,
      "layout": "IPY_MODEL_ecde87ade3ab4881a2ce0fa1cfbc1717",
      "placeholder": "​",
      "style": "IPY_MODEL_883fbf64db1a4e818d660857909139ca",
      "value": " 184k/184k [00:00&lt;00:00, 438kB/s]"
     }
    },
    "1e7cae527d074546be9bb6b4650058bf": {
     "model_module": "@jupyter-widgets/controls",
     "model_module_version": "1.5.0",
     "model_name": "HBoxModel",
     "state": {
      "_dom_classes": [],
      "_model_module": "@jupyter-widgets/controls",
      "_model_module_version": "1.5.0",
      "_model_name": "HBoxModel",
      "_view_count": null,
      "_view_module": "@jupyter-widgets/controls",
      "_view_module_version": "1.5.0",
      "_view_name": "HBoxView",
      "box_style": "",
      "children": [
       "IPY_MODEL_33135692494e4c3f90c3dbc69ae88a93",
       "IPY_MODEL_abae539ceec6418ead98fdbbd8066579",
       "IPY_MODEL_331cc4986f6b460b9d8bd81abd421deb"
      ],
      "layout": "IPY_MODEL_9e2d35d7a81e403393acdbd44ed37481"
     }
    },
    "2199979354cb4978b20c22ab247b719c": {
     "model_module": "@jupyter-widgets/controls",
     "model_module_version": "1.5.0",
     "model_name": "HBoxModel",
     "state": {
      "_dom_classes": [],
      "_model_module": "@jupyter-widgets/controls",
      "_model_module_version": "1.5.0",
      "_model_name": "HBoxModel",
      "_view_count": null,
      "_view_module": "@jupyter-widgets/controls",
      "_view_module_version": "1.5.0",
      "_view_name": "HBoxView",
      "box_style": "",
      "children": [
       "IPY_MODEL_d9c75955dbe64cd889c337cecb2ba85f",
       "IPY_MODEL_cac2e473c43f455f93a50590487ad734",
       "IPY_MODEL_18a2110145df40a1935ef997c2c8d126"
      ],
      "layout": "IPY_MODEL_b169c479486b4cf49ae4b003e002b5b6"
     }
    },
    "29cf886bb09b48c0b6cf3b01dbd805db": {
     "model_module": "@jupyter-widgets/base",
     "model_module_version": "1.2.0",
     "model_name": "LayoutModel",
     "state": {
      "_model_module": "@jupyter-widgets/base",
      "_model_module_version": "1.2.0",
      "_model_name": "LayoutModel",
      "_view_count": null,
      "_view_module": "@jupyter-widgets/base",
      "_view_module_version": "1.2.0",
      "_view_name": "LayoutView",
      "align_content": null,
      "align_items": null,
      "align_self": null,
      "border": null,
      "bottom": null,
      "display": null,
      "flex": null,
      "flex_flow": null,
      "grid_area": null,
      "grid_auto_columns": null,
      "grid_auto_flow": null,
      "grid_auto_rows": null,
      "grid_column": null,
      "grid_gap": null,
      "grid_row": null,
      "grid_template_areas": null,
      "grid_template_columns": null,
      "grid_template_rows": null,
      "height": null,
      "justify_content": null,
      "justify_items": null,
      "left": null,
      "margin": null,
      "max_height": null,
      "max_width": null,
      "min_height": null,
      "min_width": null,
      "object_fit": null,
      "object_position": null,
      "order": null,
      "overflow": null,
      "overflow_x": null,
      "overflow_y": null,
      "padding": null,
      "right": null,
      "top": null,
      "visibility": null,
      "width": null
     }
    },
    "2ba2c032d1dc418b99e5780077b9842e": {
     "model_module": "@jupyter-widgets/controls",
     "model_module_version": "1.5.0",
     "model_name": "DescriptionStyleModel",
     "state": {
      "_model_module": "@jupyter-widgets/controls",
      "_model_module_version": "1.5.0",
      "_model_name": "DescriptionStyleModel",
      "_view_count": null,
      "_view_module": "@jupyter-widgets/base",
      "_view_module_version": "1.2.0",
      "_view_name": "StyleView",
      "description_width": ""
     }
    },
    "2e3898b08055413f89b722d85690682f": {
     "model_module": "@jupyter-widgets/controls",
     "model_module_version": "1.5.0",
     "model_name": "HBoxModel",
     "state": {
      "_dom_classes": [],
      "_model_module": "@jupyter-widgets/controls",
      "_model_module_version": "1.5.0",
      "_model_name": "HBoxModel",
      "_view_count": null,
      "_view_module": "@jupyter-widgets/controls",
      "_view_module_version": "1.5.0",
      "_view_name": "HBoxView",
      "box_style": "",
      "children": [
       "IPY_MODEL_7292748251e04bc89ea288a7579fbcb1",
       "IPY_MODEL_58263c046ac345cab147911e4334ddda",
       "IPY_MODEL_1ba7df86c6604de59fe3e6d4ea6ca675"
      ],
      "layout": "IPY_MODEL_b2eac95f81a449708b7651d034e588b3"
     }
    },
    "2e47c5ad443b4cb8bb0e68835d12885e": {
     "model_module": "@jupyter-widgets/controls",
     "model_module_version": "1.5.0",
     "model_name": "DescriptionStyleModel",
     "state": {
      "_model_module": "@jupyter-widgets/controls",
      "_model_module_version": "1.5.0",
      "_model_name": "DescriptionStyleModel",
      "_view_count": null,
      "_view_module": "@jupyter-widgets/base",
      "_view_module_version": "1.2.0",
      "_view_name": "StyleView",
      "description_width": ""
     }
    },
    "318a035b49b04419a3b4e32f57e3fc61": {
     "model_module": "@jupyter-widgets/controls",
     "model_module_version": "1.5.0",
     "model_name": "HTMLModel",
     "state": {
      "_dom_classes": [],
      "_model_module": "@jupyter-widgets/controls",
      "_model_module_version": "1.5.0",
      "_model_name": "HTMLModel",
      "_view_count": null,
      "_view_module": "@jupyter-widgets/controls",
      "_view_module_version": "1.5.0",
      "_view_name": "HTMLView",
      "description": "",
      "description_tooltip": null,
      "layout": "IPY_MODEL_7697b3792a2a4cedbec2ded7ec6cfaa1",
      "placeholder": "​",
      "style": "IPY_MODEL_2ba2c032d1dc418b99e5780077b9842e",
      "value": "Downloading data: 100%"
     }
    },
    "33135692494e4c3f90c3dbc69ae88a93": {
     "model_module": "@jupyter-widgets/controls",
     "model_module_version": "1.5.0",
     "model_name": "HTMLModel",
     "state": {
      "_dom_classes": [],
      "_model_module": "@jupyter-widgets/controls",
      "_model_module_version": "1.5.0",
      "_model_name": "HTMLModel",
      "_view_count": null,
      "_view_module": "@jupyter-widgets/controls",
      "_view_module_version": "1.5.0",
      "_view_name": "HTMLView",
      "description": "",
      "description_tooltip": null,
      "layout": "IPY_MODEL_7adf739c0a6e4599b503957ca075f048",
      "placeholder": "​",
      "style": "IPY_MODEL_135dcef930814144b3f3e58bddcd81d3",
      "value": "Generating train split:  99%"
     }
    },
    "331cc4986f6b460b9d8bd81abd421deb": {
     "model_module": "@jupyter-widgets/controls",
     "model_module_version": "1.5.0",
     "model_name": "HTMLModel",
     "state": {
      "_dom_classes": [],
      "_model_module": "@jupyter-widgets/controls",
      "_model_module_version": "1.5.0",
      "_model_name": "HTMLModel",
      "_view_count": null,
      "_view_module": "@jupyter-widgets/controls",
      "_view_module_version": "1.5.0",
      "_view_name": "HTMLView",
      "description": "",
      "description_tooltip": null,
      "layout": "IPY_MODEL_29cf886bb09b48c0b6cf3b01dbd805db",
      "placeholder": "​",
      "style": "IPY_MODEL_2e47c5ad443b4cb8bb0e68835d12885e",
      "value": " 132149/133318 [00:06&lt;00:00, 22860.01 examples/s]"
     }
    },
    "34cc6d3139a547ee9a142a7891454326": {
     "model_module": "@jupyter-widgets/controls",
     "model_module_version": "1.5.0",
     "model_name": "ProgressStyleModel",
     "state": {
      "_model_module": "@jupyter-widgets/controls",
      "_model_module_version": "1.5.0",
      "_model_name": "ProgressStyleModel",
      "_view_count": null,
      "_view_module": "@jupyter-widgets/base",
      "_view_module_version": "1.2.0",
      "_view_name": "StyleView",
      "bar_color": null,
      "description_width": ""
     }
    },
    "357a90a36fef4e7d839fe4a9b2a71ab1": {
     "model_module": "@jupyter-widgets/base",
     "model_module_version": "1.2.0",
     "model_name": "LayoutModel",
     "state": {
      "_model_module": "@jupyter-widgets/base",
      "_model_module_version": "1.2.0",
      "_model_name": "LayoutModel",
      "_view_count": null,
      "_view_module": "@jupyter-widgets/base",
      "_view_module_version": "1.2.0",
      "_view_name": "LayoutView",
      "align_content": null,
      "align_items": null,
      "align_self": null,
      "border": null,
      "bottom": null,
      "display": null,
      "flex": null,
      "flex_flow": null,
      "grid_area": null,
      "grid_auto_columns": null,
      "grid_auto_flow": null,
      "grid_auto_rows": null,
      "grid_column": null,
      "grid_gap": null,
      "grid_row": null,
      "grid_template_areas": null,
      "grid_template_columns": null,
      "grid_template_rows": null,
      "height": null,
      "justify_content": null,
      "justify_items": null,
      "left": null,
      "margin": null,
      "max_height": null,
      "max_width": null,
      "min_height": null,
      "min_width": null,
      "object_fit": null,
      "object_position": null,
      "order": null,
      "overflow": null,
      "overflow_x": null,
      "overflow_y": null,
      "padding": null,
      "right": null,
      "top": null,
      "visibility": null,
      "width": null
     }
    },
    "372d3dc91cf444bebdbfea1f1da4db66": {
     "model_module": "@jupyter-widgets/controls",
     "model_module_version": "1.5.0",
     "model_name": "HTMLModel",
     "state": {
      "_dom_classes": [],
      "_model_module": "@jupyter-widgets/controls",
      "_model_module_version": "1.5.0",
      "_model_name": "HTMLModel",
      "_view_count": null,
      "_view_module": "@jupyter-widgets/controls",
      "_view_module_version": "1.5.0",
      "_view_name": "HTMLView",
      "description": "",
      "description_tooltip": null,
      "layout": "IPY_MODEL_6d9894e7b84847548ec6364387b88dcf",
      "placeholder": "​",
      "style": "IPY_MODEL_f552872218f1478f8b6d3e05aa2f5311",
      "value": "Downloading metadata: "
     }
    },
    "37d0d0be8ee94413a67fdd367715e273": {
     "model_module": "@jupyter-widgets/controls",
     "model_module_version": "1.5.0",
     "model_name": "HTMLModel",
     "state": {
      "_dom_classes": [],
      "_model_module": "@jupyter-widgets/controls",
      "_model_module_version": "1.5.0",
      "_model_name": "HTMLModel",
      "_view_count": null,
      "_view_module": "@jupyter-widgets/controls",
      "_view_module_version": "1.5.0",
      "_view_name": "HTMLView",
      "description": "",
      "description_tooltip": null,
      "layout": "IPY_MODEL_357a90a36fef4e7d839fe4a9b2a71ab1",
      "placeholder": "​",
      "style": "IPY_MODEL_60e51c1da89a4196ab3391071ec47da9",
      "value": "Downloading data: 100%"
     }
    },
    "3b5365ec23cb48409662c7cd4527c4a2": {
     "model_module": "@jupyter-widgets/base",
     "model_module_version": "1.2.0",
     "model_name": "LayoutModel",
     "state": {
      "_model_module": "@jupyter-widgets/base",
      "_model_module_version": "1.2.0",
      "_model_name": "LayoutModel",
      "_view_count": null,
      "_view_module": "@jupyter-widgets/base",
      "_view_module_version": "1.2.0",
      "_view_name": "LayoutView",
      "align_content": null,
      "align_items": null,
      "align_self": null,
      "border": null,
      "bottom": null,
      "display": null,
      "flex": null,
      "flex_flow": null,
      "grid_area": null,
      "grid_auto_columns": null,
      "grid_auto_flow": null,
      "grid_auto_rows": null,
      "grid_column": null,
      "grid_gap": null,
      "grid_row": null,
      "grid_template_areas": null,
      "grid_template_columns": null,
      "grid_template_rows": null,
      "height": null,
      "justify_content": null,
      "justify_items": null,
      "left": null,
      "margin": null,
      "max_height": null,
      "max_width": null,
      "min_height": null,
      "min_width": null,
      "object_fit": null,
      "object_position": null,
      "order": null,
      "overflow": null,
      "overflow_x": null,
      "overflow_y": null,
      "padding": null,
      "right": null,
      "top": null,
      "visibility": null,
      "width": null
     }
    },
    "3c63fbd5a6b44e35829f9bf15ac6f44b": {
     "model_module": "@jupyter-widgets/controls",
     "model_module_version": "1.5.0",
     "model_name": "FloatProgressModel",
     "state": {
      "_dom_classes": [],
      "_model_module": "@jupyter-widgets/controls",
      "_model_module_version": "1.5.0",
      "_model_name": "FloatProgressModel",
      "_view_count": null,
      "_view_module": "@jupyter-widgets/controls",
      "_view_module_version": "1.5.0",
      "_view_name": "ProgressView",
      "bar_style": "success",
      "description": "",
      "description_tooltip": null,
      "layout": "IPY_MODEL_bb99d07146e243a496948c40fb4d0e1f",
      "max": 1085,
      "min": 0,
      "orientation": "horizontal",
      "style": "IPY_MODEL_6334f120f3434f1a8dd4efa0ec38890d",
      "value": 1085
     }
    },
    "3dbe231ac8914d14845e20e443490c0a": {
     "model_module": "@jupyter-widgets/base",
     "model_module_version": "1.2.0",
     "model_name": "LayoutModel",
     "state": {
      "_model_module": "@jupyter-widgets/base",
      "_model_module_version": "1.2.0",
      "_model_name": "LayoutModel",
      "_view_count": null,
      "_view_module": "@jupyter-widgets/base",
      "_view_module_version": "1.2.0",
      "_view_name": "LayoutView",
      "align_content": null,
      "align_items": null,
      "align_self": null,
      "border": null,
      "bottom": null,
      "display": null,
      "flex": null,
      "flex_flow": null,
      "grid_area": null,
      "grid_auto_columns": null,
      "grid_auto_flow": null,
      "grid_auto_rows": null,
      "grid_column": null,
      "grid_gap": null,
      "grid_row": null,
      "grid_template_areas": null,
      "grid_template_columns": null,
      "grid_template_rows": null,
      "height": null,
      "justify_content": null,
      "justify_items": null,
      "left": null,
      "margin": null,
      "max_height": null,
      "max_width": null,
      "min_height": null,
      "min_width": null,
      "object_fit": null,
      "object_position": null,
      "order": null,
      "overflow": null,
      "overflow_x": null,
      "overflow_y": null,
      "padding": null,
      "right": null,
      "top": null,
      "visibility": null,
      "width": null
     }
    },
    "401835911eeb4787a28aa4da7fcb9e29": {
     "model_module": "@jupyter-widgets/controls",
     "model_module_version": "1.5.0",
     "model_name": "HTMLModel",
     "state": {
      "_dom_classes": [],
      "_model_module": "@jupyter-widgets/controls",
      "_model_module_version": "1.5.0",
      "_model_name": "HTMLModel",
      "_view_count": null,
      "_view_module": "@jupyter-widgets/controls",
      "_view_module_version": "1.5.0",
      "_view_name": "HTMLView",
      "description": "",
      "description_tooltip": null,
      "layout": "IPY_MODEL_cfb83c1d85544906b7f2ab8f7a65de2d",
      "placeholder": "​",
      "style": "IPY_MODEL_ffd294fe9f334613b0d8763610b18386",
      "value": " 140k/140k [00:00&lt;00:00, 260kB/s]"
     }
    },
    "4199cd0281e54b4fab8c76612b7af1ec": {
     "model_module": "@jupyter-widgets/controls",
     "model_module_version": "1.5.0",
     "model_name": "ProgressStyleModel",
     "state": {
      "_model_module": "@jupyter-widgets/controls",
      "_model_module_version": "1.5.0",
      "_model_name": "ProgressStyleModel",
      "_view_count": null,
      "_view_module": "@jupyter-widgets/base",
      "_view_module_version": "1.2.0",
      "_view_name": "StyleView",
      "bar_color": null,
      "description_width": ""
     }
    },
    "44557a25be7f421590b39dd5b8e63372": {
     "model_module": "@jupyter-widgets/controls",
     "model_module_version": "1.5.0",
     "model_name": "FloatProgressModel",
     "state": {
      "_dom_classes": [],
      "_model_module": "@jupyter-widgets/controls",
      "_model_module_version": "1.5.0",
      "_model_name": "FloatProgressModel",
      "_view_count": null,
      "_view_module": "@jupyter-widgets/controls",
      "_view_module_version": "1.5.0",
      "_view_name": "ProgressView",
      "bar_style": "",
      "description": "",
      "description_tooltip": null,
      "layout": "IPY_MODEL_6e28b74367f74dc0a1f341f82c5cfd1f",
      "max": 1269,
      "min": 0,
      "orientation": "horizontal",
      "style": "IPY_MODEL_897c35c6e75d4eab8274c2b86cd137cd",
      "value": 1269
     }
    },
    "44cc57b94be54e978c049fffa42f1a8a": {
     "model_module": "@jupyter-widgets/controls",
     "model_module_version": "1.5.0",
     "model_name": "DescriptionStyleModel",
     "state": {
      "_model_module": "@jupyter-widgets/controls",
      "_model_module_version": "1.5.0",
      "_model_name": "DescriptionStyleModel",
      "_view_count": null,
      "_view_module": "@jupyter-widgets/base",
      "_view_module_version": "1.2.0",
      "_view_name": "StyleView",
      "description_width": ""
     }
    },
    "45e5333f721549e789acb47a68752959": {
     "model_module": "@jupyter-widgets/base",
     "model_module_version": "1.2.0",
     "model_name": "LayoutModel",
     "state": {
      "_model_module": "@jupyter-widgets/base",
      "_model_module_version": "1.2.0",
      "_model_name": "LayoutModel",
      "_view_count": null,
      "_view_module": "@jupyter-widgets/base",
      "_view_module_version": "1.2.0",
      "_view_name": "LayoutView",
      "align_content": null,
      "align_items": null,
      "align_self": null,
      "border": null,
      "bottom": null,
      "display": null,
      "flex": null,
      "flex_flow": null,
      "grid_area": null,
      "grid_auto_columns": null,
      "grid_auto_flow": null,
      "grid_auto_rows": null,
      "grid_column": null,
      "grid_gap": null,
      "grid_row": null,
      "grid_template_areas": null,
      "grid_template_columns": null,
      "grid_template_rows": null,
      "height": null,
      "justify_content": null,
      "justify_items": null,
      "left": null,
      "margin": null,
      "max_height": null,
      "max_width": null,
      "min_height": null,
      "min_width": null,
      "object_fit": null,
      "object_position": null,
      "order": null,
      "overflow": null,
      "overflow_x": null,
      "overflow_y": null,
      "padding": null,
      "right": null,
      "top": null,
      "visibility": null,
      "width": null
     }
    },
    "496739855f0d497da817eef68ea66a75": {
     "model_module": "@jupyter-widgets/controls",
     "model_module_version": "1.5.0",
     "model_name": "HTMLModel",
     "state": {
      "_dom_classes": [],
      "_model_module": "@jupyter-widgets/controls",
      "_model_module_version": "1.5.0",
      "_model_name": "HTMLModel",
      "_view_count": null,
      "_view_module": "@jupyter-widgets/controls",
      "_view_module_version": "1.5.0",
      "_view_name": "HTMLView",
      "description": "",
      "description_tooltip": null,
      "layout": "IPY_MODEL_de955e4ed85b4bc48cf45ce9711da0d3",
      "placeholder": "​",
      "style": "IPY_MODEL_bc099377274640f7b9f428968f51f458",
      "value": " 4.88k/? [00:00&lt;00:00, 89.9kB/s]"
     }
    },
    "4a9cc699d2a6499dab819a2e4e2e2e9e": {
     "model_module": "@jupyter-widgets/base",
     "model_module_version": "1.2.0",
     "model_name": "LayoutModel",
     "state": {
      "_model_module": "@jupyter-widgets/base",
      "_model_module_version": "1.2.0",
      "_model_name": "LayoutModel",
      "_view_count": null,
      "_view_module": "@jupyter-widgets/base",
      "_view_module_version": "1.2.0",
      "_view_name": "LayoutView",
      "align_content": null,
      "align_items": null,
      "align_self": null,
      "border": null,
      "bottom": null,
      "display": null,
      "flex": null,
      "flex_flow": null,
      "grid_area": null,
      "grid_auto_columns": null,
      "grid_auto_flow": null,
      "grid_auto_rows": null,
      "grid_column": null,
      "grid_gap": null,
      "grid_row": null,
      "grid_template_areas": null,
      "grid_template_columns": null,
      "grid_template_rows": null,
      "height": null,
      "justify_content": null,
      "justify_items": null,
      "left": null,
      "margin": null,
      "max_height": null,
      "max_width": null,
      "min_height": null,
      "min_width": null,
      "object_fit": null,
      "object_position": null,
      "order": null,
      "overflow": null,
      "overflow_x": null,
      "overflow_y": null,
      "padding": null,
      "right": null,
      "top": null,
      "visibility": null,
      "width": null
     }
    },
    "4db52a3368d848a98069e9fe823cf5be": {
     "model_module": "@jupyter-widgets/controls",
     "model_module_version": "1.5.0",
     "model_name": "HTMLModel",
     "state": {
      "_dom_classes": [],
      "_model_module": "@jupyter-widgets/controls",
      "_model_module_version": "1.5.0",
      "_model_name": "HTMLModel",
      "_view_count": null,
      "_view_module": "@jupyter-widgets/controls",
      "_view_module_version": "1.5.0",
      "_view_name": "HTMLView",
      "description": "",
      "description_tooltip": null,
      "layout": "IPY_MODEL_3b5365ec23cb48409662c7cd4527c4a2",
      "placeholder": "​",
      "style": "IPY_MODEL_0ed074304b464d5cbd5d68e611851fa0",
      "value": " 188k/188k [00:00&lt;00:00, 406kB/s]"
     }
    },
    "4fc661a941464d668380e97ba9549d87": {
     "model_module": "@jupyter-widgets/controls",
     "model_module_version": "1.5.0",
     "model_name": "ProgressStyleModel",
     "state": {
      "_model_module": "@jupyter-widgets/controls",
      "_model_module_version": "1.5.0",
      "_model_name": "ProgressStyleModel",
      "_view_count": null,
      "_view_module": "@jupyter-widgets/base",
      "_view_module_version": "1.2.0",
      "_view_name": "StyleView",
      "bar_color": null,
      "description_width": ""
     }
    },
    "53b9c2d0dc7544e28ebac92d7dd46812": {
     "model_module": "@jupyter-widgets/base",
     "model_module_version": "1.2.0",
     "model_name": "LayoutModel",
     "state": {
      "_model_module": "@jupyter-widgets/base",
      "_model_module_version": "1.2.0",
      "_model_name": "LayoutModel",
      "_view_count": null,
      "_view_module": "@jupyter-widgets/base",
      "_view_module_version": "1.2.0",
      "_view_name": "LayoutView",
      "align_content": null,
      "align_items": null,
      "align_self": null,
      "border": null,
      "bottom": null,
      "display": null,
      "flex": null,
      "flex_flow": null,
      "grid_area": null,
      "grid_auto_columns": null,
      "grid_auto_flow": null,
      "grid_auto_rows": null,
      "grid_column": null,
      "grid_gap": null,
      "grid_row": null,
      "grid_template_areas": null,
      "grid_template_columns": null,
      "grid_template_rows": null,
      "height": null,
      "justify_content": null,
      "justify_items": null,
      "left": null,
      "margin": null,
      "max_height": null,
      "max_width": null,
      "min_height": null,
      "min_width": null,
      "object_fit": null,
      "object_position": null,
      "order": null,
      "overflow": null,
      "overflow_x": null,
      "overflow_y": null,
      "padding": null,
      "right": null,
      "top": null,
      "visibility": null,
      "width": null
     }
    },
    "53fd00aae9614e84a8ecea85494e613f": {
     "model_module": "@jupyter-widgets/controls",
     "model_module_version": "1.5.0",
     "model_name": "HTMLModel",
     "state": {
      "_dom_classes": [],
      "_model_module": "@jupyter-widgets/controls",
      "_model_module_version": "1.5.0",
      "_model_name": "HTMLModel",
      "_view_count": null,
      "_view_module": "@jupyter-widgets/controls",
      "_view_module_version": "1.5.0",
      "_view_name": "HTMLView",
      "description": "",
      "description_tooltip": null,
      "layout": "IPY_MODEL_9df41a02b7914555a617788f3a292ea7",
      "placeholder": "​",
      "style": "IPY_MODEL_9766179be0794bfc8ed320265dcaea66",
      "value": " 5.16k/? [00:00&lt;00:00, 67.1kB/s]"
     }
    },
    "56d64c0ea7704a1fbd48037b9d785169": {
     "model_module": "@jupyter-widgets/controls",
     "model_module_version": "1.5.0",
     "model_name": "HTMLModel",
     "state": {
      "_dom_classes": [],
      "_model_module": "@jupyter-widgets/controls",
      "_model_module_version": "1.5.0",
      "_model_name": "HTMLModel",
      "_view_count": null,
      "_view_module": "@jupyter-widgets/controls",
      "_view_module_version": "1.5.0",
      "_view_name": "HTMLView",
      "description": "",
      "description_tooltip": null,
      "layout": "IPY_MODEL_f00b6a448ad04c4188aba91292aea613",
      "placeholder": "​",
      "style": "IPY_MODEL_b42ddbe3167f4a2cbf294ae1c3c9adc4",
      "value": " 13.6M/13.6M [00:02&lt;00:00, 12.1MB/s]"
     }
    },
    "58263c046ac345cab147911e4334ddda": {
     "model_module": "@jupyter-widgets/controls",
     "model_module_version": "1.5.0",
     "model_name": "FloatProgressModel",
     "state": {
      "_dom_classes": [],
      "_model_module": "@jupyter-widgets/controls",
      "_model_module_version": "1.5.0",
      "_model_name": "FloatProgressModel",
      "_view_count": null,
      "_view_module": "@jupyter-widgets/controls",
      "_view_module_version": "1.5.0",
      "_view_name": "ProgressView",
      "bar_style": "success",
      "description": "",
      "description_tooltip": null,
      "layout": "IPY_MODEL_f10371d3e483400c82e76240c6f6d338",
      "max": 183855,
      "min": 0,
      "orientation": "horizontal",
      "style": "IPY_MODEL_4199cd0281e54b4fab8c76612b7af1ec",
      "value": 183855
     }
    },
    "5914c7f0df104782a90c215a291b3151": {
     "model_module": "@jupyter-widgets/controls",
     "model_module_version": "1.5.0",
     "model_name": "HTMLModel",
     "state": {
      "_dom_classes": [],
      "_model_module": "@jupyter-widgets/controls",
      "_model_module_version": "1.5.0",
      "_model_name": "HTMLModel",
      "_view_count": null,
      "_view_module": "@jupyter-widgets/controls",
      "_view_module_version": "1.5.0",
      "_view_name": "HTMLView",
      "description": "",
      "description_tooltip": null,
      "layout": "IPY_MODEL_bf4f2295e7a9477eaa03564dc86a39da",
      "placeholder": "​",
      "style": "IPY_MODEL_1098d1c93e504bce95bf6a5e706db73c",
      "value": " 0/1269 [00:00&lt;?, ? examples/s]"
     }
    },
    "595ff389abe64fb2a05459b45a9711d4": {
     "model_module": "@jupyter-widgets/controls",
     "model_module_version": "1.5.0",
     "model_name": "ProgressStyleModel",
     "state": {
      "_model_module": "@jupyter-widgets/controls",
      "_model_module_version": "1.5.0",
      "_model_name": "ProgressStyleModel",
      "_view_count": null,
      "_view_module": "@jupyter-widgets/base",
      "_view_module_version": "1.2.0",
      "_view_name": "StyleView",
      "bar_color": null,
      "description_width": ""
     }
    },
    "606a801b0a5648c789d2ab332e1fb735": {
     "model_module": "@jupyter-widgets/controls",
     "model_module_version": "1.5.0",
     "model_name": "HBoxModel",
     "state": {
      "_dom_classes": [],
      "_model_module": "@jupyter-widgets/controls",
      "_model_module_version": "1.5.0",
      "_model_name": "HBoxModel",
      "_view_count": null,
      "_view_module": "@jupyter-widgets/controls",
      "_view_module_version": "1.5.0",
      "_view_name": "HBoxView",
      "box_style": "",
      "children": [
       "IPY_MODEL_a695addb4fb84620936cfe702acc89d2",
       "IPY_MODEL_ee5e8623eaba4589821784eb8831a512",
       "IPY_MODEL_401835911eeb4787a28aa4da7fcb9e29"
      ],
      "layout": "IPY_MODEL_ef02290c1e064fe7b64607b3fb3969a1"
     }
    },
    "60e51c1da89a4196ab3391071ec47da9": {
     "model_module": "@jupyter-widgets/controls",
     "model_module_version": "1.5.0",
     "model_name": "DescriptionStyleModel",
     "state": {
      "_model_module": "@jupyter-widgets/controls",
      "_model_module_version": "1.5.0",
      "_model_name": "DescriptionStyleModel",
      "_view_count": null,
      "_view_module": "@jupyter-widgets/base",
      "_view_module_version": "1.2.0",
      "_view_name": "StyleView",
      "description_width": ""
     }
    },
    "616b092f195e480ba2b6c11041de60e8": {
     "model_module": "@jupyter-widgets/controls",
     "model_module_version": "1.5.0",
     "model_name": "HBoxModel",
     "state": {
      "_dom_classes": [],
      "_model_module": "@jupyter-widgets/controls",
      "_model_module_version": "1.5.0",
      "_model_name": "HBoxModel",
      "_view_count": null,
      "_view_module": "@jupyter-widgets/controls",
      "_view_module_version": "1.5.0",
      "_view_name": "HBoxView",
      "box_style": "",
      "children": [
       "IPY_MODEL_372d3dc91cf444bebdbfea1f1da4db66",
       "IPY_MODEL_3c63fbd5a6b44e35829f9bf15ac6f44b",
       "IPY_MODEL_496739855f0d497da817eef68ea66a75"
      ],
      "layout": "IPY_MODEL_9b88ff94aa0148a590e45ba8bd893401"
     }
    },
    "6334f120f3434f1a8dd4efa0ec38890d": {
     "model_module": "@jupyter-widgets/controls",
     "model_module_version": "1.5.0",
     "model_name": "ProgressStyleModel",
     "state": {
      "_model_module": "@jupyter-widgets/controls",
      "_model_module_version": "1.5.0",
      "_model_name": "ProgressStyleModel",
      "_view_count": null,
      "_view_module": "@jupyter-widgets/base",
      "_view_module_version": "1.2.0",
      "_view_name": "StyleView",
      "bar_color": null,
      "description_width": ""
     }
    },
    "639c704e6671423e8fa7ce647e7e0c68": {
     "model_module": "@jupyter-widgets/controls",
     "model_module_version": "1.5.0",
     "model_name": "HTMLModel",
     "state": {
      "_dom_classes": [],
      "_model_module": "@jupyter-widgets/controls",
      "_model_module_version": "1.5.0",
      "_model_name": "HTMLModel",
      "_view_count": null,
      "_view_module": "@jupyter-widgets/controls",
      "_view_module_version": "1.5.0",
      "_view_name": "HTMLView",
      "description": "",
      "description_tooltip": null,
      "layout": "IPY_MODEL_cbef1d7290b54ae6bf443817dbfdc8fb",
      "placeholder": "​",
      "style": "IPY_MODEL_66eaa24680ce4645983824bb7f5faccb",
      "value": " 132k/132k [00:00&lt;00:00, 327kB/s]"
     }
    },
    "66eaa24680ce4645983824bb7f5faccb": {
     "model_module": "@jupyter-widgets/controls",
     "model_module_version": "1.5.0",
     "model_name": "DescriptionStyleModel",
     "state": {
      "_model_module": "@jupyter-widgets/controls",
      "_model_module_version": "1.5.0",
      "_model_name": "DescriptionStyleModel",
      "_view_count": null,
      "_view_module": "@jupyter-widgets/base",
      "_view_module_version": "1.2.0",
      "_view_name": "StyleView",
      "description_width": ""
     }
    },
    "6d5be9f226ed456c861c8916af407f52": {
     "model_module": "@jupyter-widgets/base",
     "model_module_version": "1.2.0",
     "model_name": "LayoutModel",
     "state": {
      "_model_module": "@jupyter-widgets/base",
      "_model_module_version": "1.2.0",
      "_model_name": "LayoutModel",
      "_view_count": null,
      "_view_module": "@jupyter-widgets/base",
      "_view_module_version": "1.2.0",
      "_view_name": "LayoutView",
      "align_content": null,
      "align_items": null,
      "align_self": null,
      "border": null,
      "bottom": null,
      "display": null,
      "flex": null,
      "flex_flow": null,
      "grid_area": null,
      "grid_auto_columns": null,
      "grid_auto_flow": null,
      "grid_auto_rows": null,
      "grid_column": null,
      "grid_gap": null,
      "grid_row": null,
      "grid_template_areas": null,
      "grid_template_columns": null,
      "grid_template_rows": null,
      "height": null,
      "justify_content": null,
      "justify_items": null,
      "left": null,
      "margin": null,
      "max_height": null,
      "max_width": null,
      "min_height": null,
      "min_width": null,
      "object_fit": null,
      "object_position": null,
      "order": null,
      "overflow": null,
      "overflow_x": null,
      "overflow_y": null,
      "padding": null,
      "right": null,
      "top": null,
      "visibility": null,
      "width": null
     }
    },
    "6d9894e7b84847548ec6364387b88dcf": {
     "model_module": "@jupyter-widgets/base",
     "model_module_version": "1.2.0",
     "model_name": "LayoutModel",
     "state": {
      "_model_module": "@jupyter-widgets/base",
      "_model_module_version": "1.2.0",
      "_model_name": "LayoutModel",
      "_view_count": null,
      "_view_module": "@jupyter-widgets/base",
      "_view_module_version": "1.2.0",
      "_view_name": "LayoutView",
      "align_content": null,
      "align_items": null,
      "align_self": null,
      "border": null,
      "bottom": null,
      "display": null,
      "flex": null,
      "flex_flow": null,
      "grid_area": null,
      "grid_auto_columns": null,
      "grid_auto_flow": null,
      "grid_auto_rows": null,
      "grid_column": null,
      "grid_gap": null,
      "grid_row": null,
      "grid_template_areas": null,
      "grid_template_columns": null,
      "grid_template_rows": null,
      "height": null,
      "justify_content": null,
      "justify_items": null,
      "left": null,
      "margin": null,
      "max_height": null,
      "max_width": null,
      "min_height": null,
      "min_width": null,
      "object_fit": null,
      "object_position": null,
      "order": null,
      "overflow": null,
      "overflow_x": null,
      "overflow_y": null,
      "padding": null,
      "right": null,
      "top": null,
      "visibility": null,
      "width": null
     }
    },
    "6e28b74367f74dc0a1f341f82c5cfd1f": {
     "model_module": "@jupyter-widgets/base",
     "model_module_version": "1.2.0",
     "model_name": "LayoutModel",
     "state": {
      "_model_module": "@jupyter-widgets/base",
      "_model_module_version": "1.2.0",
      "_model_name": "LayoutModel",
      "_view_count": null,
      "_view_module": "@jupyter-widgets/base",
      "_view_module_version": "1.2.0",
      "_view_name": "LayoutView",
      "align_content": null,
      "align_items": null,
      "align_self": null,
      "border": null,
      "bottom": null,
      "display": null,
      "flex": null,
      "flex_flow": null,
      "grid_area": null,
      "grid_auto_columns": null,
      "grid_auto_flow": null,
      "grid_auto_rows": null,
      "grid_column": null,
      "grid_gap": null,
      "grid_row": null,
      "grid_template_areas": null,
      "grid_template_columns": null,
      "grid_template_rows": null,
      "height": null,
      "justify_content": null,
      "justify_items": null,
      "left": null,
      "margin": null,
      "max_height": null,
      "max_width": null,
      "min_height": null,
      "min_width": null,
      "object_fit": null,
      "object_position": null,
      "order": null,
      "overflow": null,
      "overflow_x": null,
      "overflow_y": null,
      "padding": null,
      "right": null,
      "top": null,
      "visibility": null,
      "width": null
     }
    },
    "6ee34dfe806c45df9d086a4001fc519c": {
     "model_module": "@jupyter-widgets/base",
     "model_module_version": "1.2.0",
     "model_name": "LayoutModel",
     "state": {
      "_model_module": "@jupyter-widgets/base",
      "_model_module_version": "1.2.0",
      "_model_name": "LayoutModel",
      "_view_count": null,
      "_view_module": "@jupyter-widgets/base",
      "_view_module_version": "1.2.0",
      "_view_name": "LayoutView",
      "align_content": null,
      "align_items": null,
      "align_self": null,
      "border": null,
      "bottom": null,
      "display": null,
      "flex": null,
      "flex_flow": null,
      "grid_area": null,
      "grid_auto_columns": null,
      "grid_auto_flow": null,
      "grid_auto_rows": null,
      "grid_column": null,
      "grid_gap": null,
      "grid_row": null,
      "grid_template_areas": null,
      "grid_template_columns": null,
      "grid_template_rows": null,
      "height": null,
      "justify_content": null,
      "justify_items": null,
      "left": null,
      "margin": null,
      "max_height": null,
      "max_width": null,
      "min_height": null,
      "min_width": null,
      "object_fit": null,
      "object_position": null,
      "order": null,
      "overflow": null,
      "overflow_x": null,
      "overflow_y": null,
      "padding": null,
      "right": null,
      "top": null,
      "visibility": null,
      "width": null
     }
    },
    "6f293c8b9eae42dfbc3fe22eac148548": {
     "model_module": "@jupyter-widgets/controls",
     "model_module_version": "1.5.0",
     "model_name": "HTMLModel",
     "state": {
      "_dom_classes": [],
      "_model_module": "@jupyter-widgets/controls",
      "_model_module_version": "1.5.0",
      "_model_name": "HTMLModel",
      "_view_count": null,
      "_view_module": "@jupyter-widgets/controls",
      "_view_module_version": "1.5.0",
      "_view_name": "HTMLView",
      "description": "",
      "description_tooltip": null,
      "layout": "IPY_MODEL_01aa94c086aa4fe28096414363a7e63d",
      "placeholder": "​",
      "style": "IPY_MODEL_b907d8bd62d54ec0b809c6cf7b55db00",
      "value": " 18.1M/18.1M [00:03&lt;00:00, 12.9MB/s]"
     }
    },
    "7292748251e04bc89ea288a7579fbcb1": {
     "model_module": "@jupyter-widgets/controls",
     "model_module_version": "1.5.0",
     "model_name": "HTMLModel",
     "state": {
      "_dom_classes": [],
      "_model_module": "@jupyter-widgets/controls",
      "_model_module_version": "1.5.0",
      "_model_name": "HTMLModel",
      "_view_count": null,
      "_view_module": "@jupyter-widgets/controls",
      "_view_module_version": "1.5.0",
      "_view_name": "HTMLView",
      "description": "",
      "description_tooltip": null,
      "layout": "IPY_MODEL_914ebb753efd4c9faf3bbf8b94bd726a",
      "placeholder": "​",
      "style": "IPY_MODEL_ad61a7601fbd485ca88c7c81da749fa2",
      "value": "Downloading data: 100%"
     }
    },
    "72d614ef449f4f85b545c8070b870c4a": {
     "model_module": "@jupyter-widgets/base",
     "model_module_version": "1.2.0",
     "model_name": "LayoutModel",
     "state": {
      "_model_module": "@jupyter-widgets/base",
      "_model_module_version": "1.2.0",
      "_model_name": "LayoutModel",
      "_view_count": null,
      "_view_module": "@jupyter-widgets/base",
      "_view_module_version": "1.2.0",
      "_view_name": "LayoutView",
      "align_content": null,
      "align_items": null,
      "align_self": null,
      "border": null,
      "bottom": null,
      "display": null,
      "flex": null,
      "flex_flow": null,
      "grid_area": null,
      "grid_auto_columns": null,
      "grid_auto_flow": null,
      "grid_auto_rows": null,
      "grid_column": null,
      "grid_gap": null,
      "grid_row": null,
      "grid_template_areas": null,
      "grid_template_columns": null,
      "grid_template_rows": null,
      "height": null,
      "justify_content": null,
      "justify_items": null,
      "left": null,
      "margin": null,
      "max_height": null,
      "max_width": null,
      "min_height": null,
      "min_width": null,
      "object_fit": null,
      "object_position": null,
      "order": null,
      "overflow": null,
      "overflow_x": null,
      "overflow_y": null,
      "padding": null,
      "right": null,
      "top": null,
      "visibility": null,
      "width": null
     }
    },
    "737dbb7a2e0d4c0284269b08079c0d94": {
     "model_module": "@jupyter-widgets/controls",
     "model_module_version": "1.5.0",
     "model_name": "HTMLModel",
     "state": {
      "_dom_classes": [],
      "_model_module": "@jupyter-widgets/controls",
      "_model_module_version": "1.5.0",
      "_model_name": "HTMLModel",
      "_view_count": null,
      "_view_module": "@jupyter-widgets/controls",
      "_view_module_version": "1.5.0",
      "_view_name": "HTMLView",
      "description": "",
      "description_tooltip": null,
      "layout": "IPY_MODEL_c65f82977a114cb0adeb22017aaf363e",
      "placeholder": "​",
      "style": "IPY_MODEL_b56b46533eb148dca33f0b29168929db",
      "value": "Downloading builder script: "
     }
    },
    "7697b3792a2a4cedbec2ded7ec6cfaa1": {
     "model_module": "@jupyter-widgets/base",
     "model_module_version": "1.2.0",
     "model_name": "LayoutModel",
     "state": {
      "_model_module": "@jupyter-widgets/base",
      "_model_module_version": "1.2.0",
      "_model_name": "LayoutModel",
      "_view_count": null,
      "_view_module": "@jupyter-widgets/base",
      "_view_module_version": "1.2.0",
      "_view_name": "LayoutView",
      "align_content": null,
      "align_items": null,
      "align_self": null,
      "border": null,
      "bottom": null,
      "display": null,
      "flex": null,
      "flex_flow": null,
      "grid_area": null,
      "grid_auto_columns": null,
      "grid_auto_flow": null,
      "grid_auto_rows": null,
      "grid_column": null,
      "grid_gap": null,
      "grid_row": null,
      "grid_template_areas": null,
      "grid_template_columns": null,
      "grid_template_rows": null,
      "height": null,
      "justify_content": null,
      "justify_items": null,
      "left": null,
      "margin": null,
      "max_height": null,
      "max_width": null,
      "min_height": null,
      "min_width": null,
      "object_fit": null,
      "object_position": null,
      "order": null,
      "overflow": null,
      "overflow_x": null,
      "overflow_y": null,
      "padding": null,
      "right": null,
      "top": null,
      "visibility": null,
      "width": null
     }
    },
    "777255a66d794227b65d93cca3f8be31": {
     "model_module": "@jupyter-widgets/base",
     "model_module_version": "1.2.0",
     "model_name": "LayoutModel",
     "state": {
      "_model_module": "@jupyter-widgets/base",
      "_model_module_version": "1.2.0",
      "_model_name": "LayoutModel",
      "_view_count": null,
      "_view_module": "@jupyter-widgets/base",
      "_view_module_version": "1.2.0",
      "_view_name": "LayoutView",
      "align_content": null,
      "align_items": null,
      "align_self": null,
      "border": null,
      "bottom": null,
      "display": null,
      "flex": null,
      "flex_flow": null,
      "grid_area": null,
      "grid_auto_columns": null,
      "grid_auto_flow": null,
      "grid_auto_rows": null,
      "grid_column": null,
      "grid_gap": null,
      "grid_row": null,
      "grid_template_areas": null,
      "grid_template_columns": null,
      "grid_template_rows": null,
      "height": null,
      "justify_content": null,
      "justify_items": null,
      "left": null,
      "margin": null,
      "max_height": null,
      "max_width": null,
      "min_height": null,
      "min_width": null,
      "object_fit": null,
      "object_position": null,
      "order": null,
      "overflow": null,
      "overflow_x": null,
      "overflow_y": null,
      "padding": null,
      "right": null,
      "top": null,
      "visibility": null,
      "width": null
     }
    },
    "7adf739c0a6e4599b503957ca075f048": {
     "model_module": "@jupyter-widgets/base",
     "model_module_version": "1.2.0",
     "model_name": "LayoutModel",
     "state": {
      "_model_module": "@jupyter-widgets/base",
      "_model_module_version": "1.2.0",
      "_model_name": "LayoutModel",
      "_view_count": null,
      "_view_module": "@jupyter-widgets/base",
      "_view_module_version": "1.2.0",
      "_view_name": "LayoutView",
      "align_content": null,
      "align_items": null,
      "align_self": null,
      "border": null,
      "bottom": null,
      "display": null,
      "flex": null,
      "flex_flow": null,
      "grid_area": null,
      "grid_auto_columns": null,
      "grid_auto_flow": null,
      "grid_auto_rows": null,
      "grid_column": null,
      "grid_gap": null,
      "grid_row": null,
      "grid_template_areas": null,
      "grid_template_columns": null,
      "grid_template_rows": null,
      "height": null,
      "justify_content": null,
      "justify_items": null,
      "left": null,
      "margin": null,
      "max_height": null,
      "max_width": null,
      "min_height": null,
      "min_width": null,
      "object_fit": null,
      "object_position": null,
      "order": null,
      "overflow": null,
      "overflow_x": null,
      "overflow_y": null,
      "padding": null,
      "right": null,
      "top": null,
      "visibility": null,
      "width": null
     }
    },
    "7dcad4515d2f49f08f4e734ebe0921d4": {
     "model_module": "@jupyter-widgets/controls",
     "model_module_version": "1.5.0",
     "model_name": "DescriptionStyleModel",
     "state": {
      "_model_module": "@jupyter-widgets/controls",
      "_model_module_version": "1.5.0",
      "_model_name": "DescriptionStyleModel",
      "_view_count": null,
      "_view_module": "@jupyter-widgets/base",
      "_view_module_version": "1.2.0",
      "_view_name": "StyleView",
      "description_width": ""
     }
    },
    "85658d65c3184de99d8e11a2e4b2b935": {
     "model_module": "@jupyter-widgets/base",
     "model_module_version": "1.2.0",
     "model_name": "LayoutModel",
     "state": {
      "_model_module": "@jupyter-widgets/base",
      "_model_module_version": "1.2.0",
      "_model_name": "LayoutModel",
      "_view_count": null,
      "_view_module": "@jupyter-widgets/base",
      "_view_module_version": "1.2.0",
      "_view_name": "LayoutView",
      "align_content": null,
      "align_items": null,
      "align_self": null,
      "border": null,
      "bottom": null,
      "display": null,
      "flex": null,
      "flex_flow": null,
      "grid_area": null,
      "grid_auto_columns": null,
      "grid_auto_flow": null,
      "grid_auto_rows": null,
      "grid_column": null,
      "grid_gap": null,
      "grid_row": null,
      "grid_template_areas": null,
      "grid_template_columns": null,
      "grid_template_rows": null,
      "height": null,
      "justify_content": null,
      "justify_items": null,
      "left": null,
      "margin": null,
      "max_height": null,
      "max_width": null,
      "min_height": null,
      "min_width": null,
      "object_fit": null,
      "object_position": null,
      "order": null,
      "overflow": null,
      "overflow_x": null,
      "overflow_y": null,
      "padding": null,
      "right": null,
      "top": null,
      "visibility": null,
      "width": null
     }
    },
    "883fbf64db1a4e818d660857909139ca": {
     "model_module": "@jupyter-widgets/controls",
     "model_module_version": "1.5.0",
     "model_name": "DescriptionStyleModel",
     "state": {
      "_model_module": "@jupyter-widgets/controls",
      "_model_module_version": "1.5.0",
      "_model_name": "DescriptionStyleModel",
      "_view_count": null,
      "_view_module": "@jupyter-widgets/base",
      "_view_module_version": "1.2.0",
      "_view_name": "StyleView",
      "description_width": ""
     }
    },
    "8877eeca87d244eaac53c204ca244456": {
     "model_module": "@jupyter-widgets/controls",
     "model_module_version": "1.5.0",
     "model_name": "ProgressStyleModel",
     "state": {
      "_model_module": "@jupyter-widgets/controls",
      "_model_module_version": "1.5.0",
      "_model_name": "ProgressStyleModel",
      "_view_count": null,
      "_view_module": "@jupyter-widgets/base",
      "_view_module_version": "1.2.0",
      "_view_name": "StyleView",
      "bar_color": null,
      "description_width": ""
     }
    },
    "897c35c6e75d4eab8274c2b86cd137cd": {
     "model_module": "@jupyter-widgets/controls",
     "model_module_version": "1.5.0",
     "model_name": "ProgressStyleModel",
     "state": {
      "_model_module": "@jupyter-widgets/controls",
      "_model_module_version": "1.5.0",
      "_model_name": "ProgressStyleModel",
      "_view_count": null,
      "_view_module": "@jupyter-widgets/base",
      "_view_module_version": "1.2.0",
      "_view_name": "StyleView",
      "bar_color": null,
      "description_width": ""
     }
    },
    "89bdc8017f7e470186dfc62240a76c4e": {
     "model_module": "@jupyter-widgets/controls",
     "model_module_version": "1.5.0",
     "model_name": "HBoxModel",
     "state": {
      "_dom_classes": [],
      "_model_module": "@jupyter-widgets/controls",
      "_model_module_version": "1.5.0",
      "_model_name": "HBoxModel",
      "_view_count": null,
      "_view_module": "@jupyter-widgets/controls",
      "_view_module_version": "1.5.0",
      "_view_name": "HBoxView",
      "box_style": "",
      "children": [
       "IPY_MODEL_dcbf9ce02d784aa19f963ac500e4de13",
       "IPY_MODEL_44557a25be7f421590b39dd5b8e63372",
       "IPY_MODEL_5914c7f0df104782a90c215a291b3151"
      ],
      "layout": "IPY_MODEL_12d4c995fd0c4b079b9b6d12fe4d2e4f"
     }
    },
    "914ebb753efd4c9faf3bbf8b94bd726a": {
     "model_module": "@jupyter-widgets/base",
     "model_module_version": "1.2.0",
     "model_name": "LayoutModel",
     "state": {
      "_model_module": "@jupyter-widgets/base",
      "_model_module_version": "1.2.0",
      "_model_name": "LayoutModel",
      "_view_count": null,
      "_view_module": "@jupyter-widgets/base",
      "_view_module_version": "1.2.0",
      "_view_name": "LayoutView",
      "align_content": null,
      "align_items": null,
      "align_self": null,
      "border": null,
      "bottom": null,
      "display": null,
      "flex": null,
      "flex_flow": null,
      "grid_area": null,
      "grid_auto_columns": null,
      "grid_auto_flow": null,
      "grid_auto_rows": null,
      "grid_column": null,
      "grid_gap": null,
      "grid_row": null,
      "grid_template_areas": null,
      "grid_template_columns": null,
      "grid_template_rows": null,
      "height": null,
      "justify_content": null,
      "justify_items": null,
      "left": null,
      "margin": null,
      "max_height": null,
      "max_width": null,
      "min_height": null,
      "min_width": null,
      "object_fit": null,
      "object_position": null,
      "order": null,
      "overflow": null,
      "overflow_x": null,
      "overflow_y": null,
      "padding": null,
      "right": null,
      "top": null,
      "visibility": null,
      "width": null
     }
    },
    "953db44be9684e6692b4994c838a112d": {
     "model_module": "@jupyter-widgets/base",
     "model_module_version": "1.2.0",
     "model_name": "LayoutModel",
     "state": {
      "_model_module": "@jupyter-widgets/base",
      "_model_module_version": "1.2.0",
      "_model_name": "LayoutModel",
      "_view_count": null,
      "_view_module": "@jupyter-widgets/base",
      "_view_module_version": "1.2.0",
      "_view_name": "LayoutView",
      "align_content": null,
      "align_items": null,
      "align_self": null,
      "border": null,
      "bottom": null,
      "display": null,
      "flex": null,
      "flex_flow": null,
      "grid_area": null,
      "grid_auto_columns": null,
      "grid_auto_flow": null,
      "grid_auto_rows": null,
      "grid_column": null,
      "grid_gap": null,
      "grid_row": null,
      "grid_template_areas": null,
      "grid_template_columns": null,
      "grid_template_rows": null,
      "height": null,
      "justify_content": null,
      "justify_items": null,
      "left": null,
      "margin": null,
      "max_height": null,
      "max_width": null,
      "min_height": null,
      "min_width": null,
      "object_fit": null,
      "object_position": null,
      "order": null,
      "overflow": null,
      "overflow_x": null,
      "overflow_y": null,
      "padding": null,
      "right": null,
      "top": null,
      "visibility": null,
      "width": null
     }
    },
    "957b71fb74314198aa691a67b7a8c45a": {
     "model_module": "@jupyter-widgets/base",
     "model_module_version": "1.2.0",
     "model_name": "LayoutModel",
     "state": {
      "_model_module": "@jupyter-widgets/base",
      "_model_module_version": "1.2.0",
      "_model_name": "LayoutModel",
      "_view_count": null,
      "_view_module": "@jupyter-widgets/base",
      "_view_module_version": "1.2.0",
      "_view_name": "LayoutView",
      "align_content": null,
      "align_items": null,
      "align_self": null,
      "border": null,
      "bottom": null,
      "display": null,
      "flex": null,
      "flex_flow": null,
      "grid_area": null,
      "grid_auto_columns": null,
      "grid_auto_flow": null,
      "grid_auto_rows": null,
      "grid_column": null,
      "grid_gap": null,
      "grid_row": null,
      "grid_template_areas": null,
      "grid_template_columns": null,
      "grid_template_rows": null,
      "height": null,
      "justify_content": null,
      "justify_items": null,
      "left": null,
      "margin": null,
      "max_height": null,
      "max_width": null,
      "min_height": null,
      "min_width": null,
      "object_fit": null,
      "object_position": null,
      "order": null,
      "overflow": null,
      "overflow_x": null,
      "overflow_y": null,
      "padding": null,
      "right": null,
      "top": null,
      "visibility": null,
      "width": null
     }
    },
    "967b70bd25e948bb91cfe8d6b031ce4f": {
     "model_module": "@jupyter-widgets/base",
     "model_module_version": "1.2.0",
     "model_name": "LayoutModel",
     "state": {
      "_model_module": "@jupyter-widgets/base",
      "_model_module_version": "1.2.0",
      "_model_name": "LayoutModel",
      "_view_count": null,
      "_view_module": "@jupyter-widgets/base",
      "_view_module_version": "1.2.0",
      "_view_name": "LayoutView",
      "align_content": null,
      "align_items": null,
      "align_self": null,
      "border": null,
      "bottom": null,
      "display": null,
      "flex": null,
      "flex_flow": null,
      "grid_area": null,
      "grid_auto_columns": null,
      "grid_auto_flow": null,
      "grid_auto_rows": null,
      "grid_column": null,
      "grid_gap": null,
      "grid_row": null,
      "grid_template_areas": null,
      "grid_template_columns": null,
      "grid_template_rows": null,
      "height": null,
      "justify_content": null,
      "justify_items": null,
      "left": null,
      "margin": null,
      "max_height": null,
      "max_width": null,
      "min_height": null,
      "min_width": null,
      "object_fit": null,
      "object_position": null,
      "order": null,
      "overflow": null,
      "overflow_x": null,
      "overflow_y": null,
      "padding": null,
      "right": null,
      "top": null,
      "visibility": null,
      "width": null
     }
    },
    "96e7a36c06ec4a80b86ba416d3143d33": {
     "model_module": "@jupyter-widgets/controls",
     "model_module_version": "1.5.0",
     "model_name": "FloatProgressModel",
     "state": {
      "_dom_classes": [],
      "_model_module": "@jupyter-widgets/controls",
      "_model_module_version": "1.5.0",
      "_model_name": "FloatProgressModel",
      "_view_count": null,
      "_view_module": "@jupyter-widgets/controls",
      "_view_module_version": "1.5.0",
      "_view_name": "ProgressView",
      "bar_style": "success",
      "description": "",
      "description_tooltip": null,
      "layout": "IPY_MODEL_53b9c2d0dc7544e28ebac92d7dd46812",
      "max": 18074646,
      "min": 0,
      "orientation": "horizontal",
      "style": "IPY_MODEL_595ff389abe64fb2a05459b45a9711d4",
      "value": 18074646
     }
    },
    "9766179be0794bfc8ed320265dcaea66": {
     "model_module": "@jupyter-widgets/controls",
     "model_module_version": "1.5.0",
     "model_name": "DescriptionStyleModel",
     "state": {
      "_model_module": "@jupyter-widgets/controls",
      "_model_module_version": "1.5.0",
      "_model_name": "DescriptionStyleModel",
      "_view_count": null,
      "_view_module": "@jupyter-widgets/base",
      "_view_module_version": "1.2.0",
      "_view_name": "StyleView",
      "description_width": ""
     }
    },
    "990eae8e3b764aa7926582f54f723498": {
     "model_module": "@jupyter-widgets/controls",
     "model_module_version": "1.5.0",
     "model_name": "FloatProgressModel",
     "state": {
      "_dom_classes": [],
      "_model_module": "@jupyter-widgets/controls",
      "_model_module_version": "1.5.0",
      "_model_name": "FloatProgressModel",
      "_view_count": null,
      "_view_module": "@jupyter-widgets/controls",
      "_view_module_version": "1.5.0",
      "_view_name": "ProgressView",
      "bar_style": "success",
      "description": "",
      "description_tooltip": null,
      "layout": "IPY_MODEL_85658d65c3184de99d8e11a2e4b2b935",
      "max": 1884,
      "min": 0,
      "orientation": "horizontal",
      "style": "IPY_MODEL_4fc661a941464d668380e97ba9549d87",
      "value": 1884
     }
    },
    "9b88ff94aa0148a590e45ba8bd893401": {
     "model_module": "@jupyter-widgets/base",
     "model_module_version": "1.2.0",
     "model_name": "LayoutModel",
     "state": {
      "_model_module": "@jupyter-widgets/base",
      "_model_module_version": "1.2.0",
      "_model_name": "LayoutModel",
      "_view_count": null,
      "_view_module": "@jupyter-widgets/base",
      "_view_module_version": "1.2.0",
      "_view_name": "LayoutView",
      "align_content": null,
      "align_items": null,
      "align_self": null,
      "border": null,
      "bottom": null,
      "display": null,
      "flex": null,
      "flex_flow": null,
      "grid_area": null,
      "grid_auto_columns": null,
      "grid_auto_flow": null,
      "grid_auto_rows": null,
      "grid_column": null,
      "grid_gap": null,
      "grid_row": null,
      "grid_template_areas": null,
      "grid_template_columns": null,
      "grid_template_rows": null,
      "height": null,
      "justify_content": null,
      "justify_items": null,
      "left": null,
      "margin": null,
      "max_height": null,
      "max_width": null,
      "min_height": null,
      "min_width": null,
      "object_fit": null,
      "object_position": null,
      "order": null,
      "overflow": null,
      "overflow_x": null,
      "overflow_y": null,
      "padding": null,
      "right": null,
      "top": null,
      "visibility": null,
      "width": null
     }
    },
    "9c32ef1eab5d40aaa8972ed627d19084": {
     "model_module": "@jupyter-widgets/base",
     "model_module_version": "1.2.0",
     "model_name": "LayoutModel",
     "state": {
      "_model_module": "@jupyter-widgets/base",
      "_model_module_version": "1.2.0",
      "_model_name": "LayoutModel",
      "_view_count": null,
      "_view_module": "@jupyter-widgets/base",
      "_view_module_version": "1.2.0",
      "_view_name": "LayoutView",
      "align_content": null,
      "align_items": null,
      "align_self": null,
      "border": null,
      "bottom": null,
      "display": null,
      "flex": null,
      "flex_flow": null,
      "grid_area": null,
      "grid_auto_columns": null,
      "grid_auto_flow": null,
      "grid_auto_rows": null,
      "grid_column": null,
      "grid_gap": null,
      "grid_row": null,
      "grid_template_areas": null,
      "grid_template_columns": null,
      "grid_template_rows": null,
      "height": null,
      "justify_content": null,
      "justify_items": null,
      "left": null,
      "margin": null,
      "max_height": null,
      "max_width": null,
      "min_height": null,
      "min_width": null,
      "object_fit": null,
      "object_position": null,
      "order": null,
      "overflow": null,
      "overflow_x": null,
      "overflow_y": null,
      "padding": null,
      "right": null,
      "top": null,
      "visibility": null,
      "width": null
     }
    },
    "9d7e6d1e92b740658f7523664b675d50": {
     "model_module": "@jupyter-widgets/controls",
     "model_module_version": "1.5.0",
     "model_name": "FloatProgressModel",
     "state": {
      "_dom_classes": [],
      "_model_module": "@jupyter-widgets/controls",
      "_model_module_version": "1.5.0",
      "_model_name": "FloatProgressModel",
      "_view_count": null,
      "_view_module": "@jupyter-widgets/controls",
      "_view_module_version": "1.5.0",
      "_view_name": "ProgressView",
      "bar_style": "success",
      "description": "",
      "description_tooltip": null,
      "layout": "IPY_MODEL_967b70bd25e948bb91cfe8d6b031ce4f",
      "max": 13603614,
      "min": 0,
      "orientation": "horizontal",
      "style": "IPY_MODEL_1a538921340b4c06a9970505d62401ef",
      "value": 13603614
     }
    },
    "9db4a9c204404bd2af67242dfecd3e76": {
     "model_module": "@jupyter-widgets/controls",
     "model_module_version": "1.5.0",
     "model_name": "DescriptionStyleModel",
     "state": {
      "_model_module": "@jupyter-widgets/controls",
      "_model_module_version": "1.5.0",
      "_model_name": "DescriptionStyleModel",
      "_view_count": null,
      "_view_module": "@jupyter-widgets/base",
      "_view_module_version": "1.2.0",
      "_view_name": "StyleView",
      "description_width": ""
     }
    },
    "9df41a02b7914555a617788f3a292ea7": {
     "model_module": "@jupyter-widgets/base",
     "model_module_version": "1.2.0",
     "model_name": "LayoutModel",
     "state": {
      "_model_module": "@jupyter-widgets/base",
      "_model_module_version": "1.2.0",
      "_model_name": "LayoutModel",
      "_view_count": null,
      "_view_module": "@jupyter-widgets/base",
      "_view_module_version": "1.2.0",
      "_view_name": "LayoutView",
      "align_content": null,
      "align_items": null,
      "align_self": null,
      "border": null,
      "bottom": null,
      "display": null,
      "flex": null,
      "flex_flow": null,
      "grid_area": null,
      "grid_auto_columns": null,
      "grid_auto_flow": null,
      "grid_auto_rows": null,
      "grid_column": null,
      "grid_gap": null,
      "grid_row": null,
      "grid_template_areas": null,
      "grid_template_columns": null,
      "grid_template_rows": null,
      "height": null,
      "justify_content": null,
      "justify_items": null,
      "left": null,
      "margin": null,
      "max_height": null,
      "max_width": null,
      "min_height": null,
      "min_width": null,
      "object_fit": null,
      "object_position": null,
      "order": null,
      "overflow": null,
      "overflow_x": null,
      "overflow_y": null,
      "padding": null,
      "right": null,
      "top": null,
      "visibility": null,
      "width": null
     }
    },
    "9e2d35d7a81e403393acdbd44ed37481": {
     "model_module": "@jupyter-widgets/base",
     "model_module_version": "1.2.0",
     "model_name": "LayoutModel",
     "state": {
      "_model_module": "@jupyter-widgets/base",
      "_model_module_version": "1.2.0",
      "_model_name": "LayoutModel",
      "_view_count": null,
      "_view_module": "@jupyter-widgets/base",
      "_view_module_version": "1.2.0",
      "_view_name": "LayoutView",
      "align_content": null,
      "align_items": null,
      "align_self": null,
      "border": null,
      "bottom": null,
      "display": null,
      "flex": null,
      "flex_flow": null,
      "grid_area": null,
      "grid_auto_columns": null,
      "grid_auto_flow": null,
      "grid_auto_rows": null,
      "grid_column": null,
      "grid_gap": null,
      "grid_row": null,
      "grid_template_areas": null,
      "grid_template_columns": null,
      "grid_template_rows": null,
      "height": null,
      "justify_content": null,
      "justify_items": null,
      "left": null,
      "margin": null,
      "max_height": null,
      "max_width": null,
      "min_height": null,
      "min_width": null,
      "object_fit": null,
      "object_position": null,
      "order": null,
      "overflow": null,
      "overflow_x": null,
      "overflow_y": null,
      "padding": null,
      "right": null,
      "top": null,
      "visibility": null,
      "width": null
     }
    },
    "a3a1caee2f58428ab50b929460486fcb": {
     "model_module": "@jupyter-widgets/controls",
     "model_module_version": "1.5.0",
     "model_name": "HBoxModel",
     "state": {
      "_dom_classes": [],
      "_model_module": "@jupyter-widgets/controls",
      "_model_module_version": "1.5.0",
      "_model_name": "HBoxModel",
      "_view_count": null,
      "_view_module": "@jupyter-widgets/controls",
      "_view_module_version": "1.5.0",
      "_view_name": "HBoxView",
      "box_style": "",
      "children": [
       "IPY_MODEL_37d0d0be8ee94413a67fdd367715e273",
       "IPY_MODEL_96e7a36c06ec4a80b86ba416d3143d33",
       "IPY_MODEL_6f293c8b9eae42dfbc3fe22eac148548"
      ],
      "layout": "IPY_MODEL_72d614ef449f4f85b545c8070b870c4a"
     }
    },
    "a3b846a8c9394fb79832bc9e707eb50c": {
     "model_module": "@jupyter-widgets/base",
     "model_module_version": "1.2.0",
     "model_name": "LayoutModel",
     "state": {
      "_model_module": "@jupyter-widgets/base",
      "_model_module_version": "1.2.0",
      "_model_name": "LayoutModel",
      "_view_count": null,
      "_view_module": "@jupyter-widgets/base",
      "_view_module_version": "1.2.0",
      "_view_name": "LayoutView",
      "align_content": null,
      "align_items": null,
      "align_self": null,
      "border": null,
      "bottom": null,
      "display": null,
      "flex": null,
      "flex_flow": null,
      "grid_area": null,
      "grid_auto_columns": null,
      "grid_auto_flow": null,
      "grid_auto_rows": null,
      "grid_column": null,
      "grid_gap": null,
      "grid_row": null,
      "grid_template_areas": null,
      "grid_template_columns": null,
      "grid_template_rows": null,
      "height": null,
      "justify_content": null,
      "justify_items": null,
      "left": null,
      "margin": null,
      "max_height": null,
      "max_width": null,
      "min_height": null,
      "min_width": null,
      "object_fit": null,
      "object_position": null,
      "order": null,
      "overflow": null,
      "overflow_x": null,
      "overflow_y": null,
      "padding": null,
      "right": null,
      "top": null,
      "visibility": null,
      "width": null
     }
    },
    "a5463d1a7b8a4a1caea5b4eb060b78c8": {
     "model_module": "@jupyter-widgets/controls",
     "model_module_version": "1.5.0",
     "model_name": "HTMLModel",
     "state": {
      "_dom_classes": [],
      "_model_module": "@jupyter-widgets/controls",
      "_model_module_version": "1.5.0",
      "_model_name": "HTMLModel",
      "_view_count": null,
      "_view_module": "@jupyter-widgets/controls",
      "_view_module_version": "1.5.0",
      "_view_name": "HTMLView",
      "description": "",
      "description_tooltip": null,
      "layout": "IPY_MODEL_156c65eb607442acb11a354ec0c3845f",
      "placeholder": "​",
      "style": "IPY_MODEL_7dcad4515d2f49f08f4e734ebe0921d4",
      "value": "Downloading data: 100%"
     }
    },
    "a695addb4fb84620936cfe702acc89d2": {
     "model_module": "@jupyter-widgets/controls",
     "model_module_version": "1.5.0",
     "model_name": "HTMLModel",
     "state": {
      "_dom_classes": [],
      "_model_module": "@jupyter-widgets/controls",
      "_model_module_version": "1.5.0",
      "_model_name": "HTMLModel",
      "_view_count": null,
      "_view_module": "@jupyter-widgets/controls",
      "_view_module_version": "1.5.0",
      "_view_name": "HTMLView",
      "description": "",
      "description_tooltip": null,
      "layout": "IPY_MODEL_1241d8ffae60477086548c34569ee6da",
      "placeholder": "​",
      "style": "IPY_MODEL_da45ea4316e8406d9c917054d78bd131",
      "value": "Downloading data: 100%"
     }
    },
    "a6b2f9b1d0fc471280e623ec50be0e12": {
     "model_module": "@jupyter-widgets/base",
     "model_module_version": "1.2.0",
     "model_name": "LayoutModel",
     "state": {
      "_model_module": "@jupyter-widgets/base",
      "_model_module_version": "1.2.0",
      "_model_name": "LayoutModel",
      "_view_count": null,
      "_view_module": "@jupyter-widgets/base",
      "_view_module_version": "1.2.0",
      "_view_name": "LayoutView",
      "align_content": null,
      "align_items": null,
      "align_self": null,
      "border": null,
      "bottom": null,
      "display": null,
      "flex": null,
      "flex_flow": null,
      "grid_area": null,
      "grid_auto_columns": null,
      "grid_auto_flow": null,
      "grid_auto_rows": null,
      "grid_column": null,
      "grid_gap": null,
      "grid_row": null,
      "grid_template_areas": null,
      "grid_template_columns": null,
      "grid_template_rows": null,
      "height": null,
      "justify_content": null,
      "justify_items": null,
      "left": null,
      "margin": null,
      "max_height": null,
      "max_width": null,
      "min_height": null,
      "min_width": null,
      "object_fit": null,
      "object_position": null,
      "order": null,
      "overflow": null,
      "overflow_x": null,
      "overflow_y": null,
      "padding": null,
      "right": null,
      "top": null,
      "visibility": null,
      "width": null
     }
    },
    "abae539ceec6418ead98fdbbd8066579": {
     "model_module": "@jupyter-widgets/controls",
     "model_module_version": "1.5.0",
     "model_name": "FloatProgressModel",
     "state": {
      "_dom_classes": [],
      "_model_module": "@jupyter-widgets/controls",
      "_model_module_version": "1.5.0",
      "_model_name": "FloatProgressModel",
      "_view_count": null,
      "_view_module": "@jupyter-widgets/controls",
      "_view_module_version": "1.5.0",
      "_view_name": "ProgressView",
      "bar_style": "",
      "description": "",
      "description_tooltip": null,
      "layout": "IPY_MODEL_777255a66d794227b65d93cca3f8be31",
      "max": 133318,
      "min": 0,
      "orientation": "horizontal",
      "style": "IPY_MODEL_1498756ef8fe4750be353c8363f7503e",
      "value": 133318
     }
    },
    "ad61a7601fbd485ca88c7c81da749fa2": {
     "model_module": "@jupyter-widgets/controls",
     "model_module_version": "1.5.0",
     "model_name": "DescriptionStyleModel",
     "state": {
      "_model_module": "@jupyter-widgets/controls",
      "_model_module_version": "1.5.0",
      "_model_name": "DescriptionStyleModel",
      "_view_count": null,
      "_view_module": "@jupyter-widgets/base",
      "_view_module_version": "1.2.0",
      "_view_name": "StyleView",
      "description_width": ""
     }
    },
    "aed6de4d64c449de89bc55967d08ee62": {
     "model_module": "@jupyter-widgets/controls",
     "model_module_version": "1.5.0",
     "model_name": "FloatProgressModel",
     "state": {
      "_dom_classes": [],
      "_model_module": "@jupyter-widgets/controls",
      "_model_module_version": "1.5.0",
      "_model_name": "FloatProgressModel",
      "_view_count": null,
      "_view_module": "@jupyter-widgets/controls",
      "_view_module_version": "1.5.0",
      "_view_name": "ProgressView",
      "bar_style": "",
      "description": "",
      "description_tooltip": null,
      "layout": "IPY_MODEL_ce03f161a5cf46b6960d2fa1488d9505",
      "max": 1269,
      "min": 0,
      "orientation": "horizontal",
      "style": "IPY_MODEL_d41ca0241723427592816f26353b0e08",
      "value": 1269
     }
    },
    "b169c479486b4cf49ae4b003e002b5b6": {
     "model_module": "@jupyter-widgets/base",
     "model_module_version": "1.2.0",
     "model_name": "LayoutModel",
     "state": {
      "_model_module": "@jupyter-widgets/base",
      "_model_module_version": "1.2.0",
      "_model_name": "LayoutModel",
      "_view_count": null,
      "_view_module": "@jupyter-widgets/base",
      "_view_module_version": "1.2.0",
      "_view_name": "LayoutView",
      "align_content": null,
      "align_items": null,
      "align_self": null,
      "border": null,
      "bottom": null,
      "display": null,
      "flex": null,
      "flex_flow": null,
      "grid_area": null,
      "grid_auto_columns": null,
      "grid_auto_flow": null,
      "grid_auto_rows": null,
      "grid_column": null,
      "grid_gap": null,
      "grid_row": null,
      "grid_template_areas": null,
      "grid_template_columns": null,
      "grid_template_rows": null,
      "height": null,
      "justify_content": null,
      "justify_items": null,
      "left": null,
      "margin": null,
      "max_height": null,
      "max_width": null,
      "min_height": null,
      "min_width": null,
      "object_fit": null,
      "object_position": null,
      "order": null,
      "overflow": null,
      "overflow_x": null,
      "overflow_y": null,
      "padding": null,
      "right": null,
      "top": null,
      "visibility": null,
      "width": null
     }
    },
    "b16ae42f8ad5456aa5fe0b5e968e757a": {
     "model_module": "@jupyter-widgets/controls",
     "model_module_version": "1.5.0",
     "model_name": "HTMLModel",
     "state": {
      "_dom_classes": [],
      "_model_module": "@jupyter-widgets/controls",
      "_model_module_version": "1.5.0",
      "_model_name": "HTMLModel",
      "_view_count": null,
      "_view_module": "@jupyter-widgets/controls",
      "_view_module_version": "1.5.0",
      "_view_name": "HTMLView",
      "description": "",
      "description_tooltip": null,
      "layout": "IPY_MODEL_a6b2f9b1d0fc471280e623ec50be0e12",
      "placeholder": "​",
      "style": "IPY_MODEL_cf9902a1a55b414f869101bb70cf3e86",
      "value": "Downloading data: 100%"
     }
    },
    "b2eac95f81a449708b7651d034e588b3": {
     "model_module": "@jupyter-widgets/base",
     "model_module_version": "1.2.0",
     "model_name": "LayoutModel",
     "state": {
      "_model_module": "@jupyter-widgets/base",
      "_model_module_version": "1.2.0",
      "_model_name": "LayoutModel",
      "_view_count": null,
      "_view_module": "@jupyter-widgets/base",
      "_view_module_version": "1.2.0",
      "_view_name": "LayoutView",
      "align_content": null,
      "align_items": null,
      "align_self": null,
      "border": null,
      "bottom": null,
      "display": null,
      "flex": null,
      "flex_flow": null,
      "grid_area": null,
      "grid_auto_columns": null,
      "grid_auto_flow": null,
      "grid_auto_rows": null,
      "grid_column": null,
      "grid_gap": null,
      "grid_row": null,
      "grid_template_areas": null,
      "grid_template_columns": null,
      "grid_template_rows": null,
      "height": null,
      "justify_content": null,
      "justify_items": null,
      "left": null,
      "margin": null,
      "max_height": null,
      "max_width": null,
      "min_height": null,
      "min_width": null,
      "object_fit": null,
      "object_position": null,
      "order": null,
      "overflow": null,
      "overflow_x": null,
      "overflow_y": null,
      "padding": null,
      "right": null,
      "top": null,
      "visibility": null,
      "width": null
     }
    },
    "b42ddbe3167f4a2cbf294ae1c3c9adc4": {
     "model_module": "@jupyter-widgets/controls",
     "model_module_version": "1.5.0",
     "model_name": "DescriptionStyleModel",
     "state": {
      "_model_module": "@jupyter-widgets/controls",
      "_model_module_version": "1.5.0",
      "_model_name": "DescriptionStyleModel",
      "_view_count": null,
      "_view_module": "@jupyter-widgets/base",
      "_view_module_version": "1.2.0",
      "_view_name": "StyleView",
      "description_width": ""
     }
    },
    "b56b46533eb148dca33f0b29168929db": {
     "model_module": "@jupyter-widgets/controls",
     "model_module_version": "1.5.0",
     "model_name": "DescriptionStyleModel",
     "state": {
      "_model_module": "@jupyter-widgets/controls",
      "_model_module_version": "1.5.0",
      "_model_name": "DescriptionStyleModel",
      "_view_count": null,
      "_view_module": "@jupyter-widgets/base",
      "_view_module_version": "1.2.0",
      "_view_name": "StyleView",
      "description_width": ""
     }
    },
    "b654fe4ff0484b8db823c35371d81aa3": {
     "model_module": "@jupyter-widgets/controls",
     "model_module_version": "1.5.0",
     "model_name": "ProgressStyleModel",
     "state": {
      "_model_module": "@jupyter-widgets/controls",
      "_model_module_version": "1.5.0",
      "_model_name": "ProgressStyleModel",
      "_view_count": null,
      "_view_module": "@jupyter-widgets/base",
      "_view_module_version": "1.2.0",
      "_view_name": "StyleView",
      "bar_color": null,
      "description_width": ""
     }
    },
    "b907d8bd62d54ec0b809c6cf7b55db00": {
     "model_module": "@jupyter-widgets/controls",
     "model_module_version": "1.5.0",
     "model_name": "DescriptionStyleModel",
     "state": {
      "_model_module": "@jupyter-widgets/controls",
      "_model_module_version": "1.5.0",
      "_model_name": "DescriptionStyleModel",
      "_view_count": null,
      "_view_module": "@jupyter-widgets/base",
      "_view_module_version": "1.2.0",
      "_view_name": "StyleView",
      "description_width": ""
     }
    },
    "bb99d07146e243a496948c40fb4d0e1f": {
     "model_module": "@jupyter-widgets/base",
     "model_module_version": "1.2.0",
     "model_name": "LayoutModel",
     "state": {
      "_model_module": "@jupyter-widgets/base",
      "_model_module_version": "1.2.0",
      "_model_name": "LayoutModel",
      "_view_count": null,
      "_view_module": "@jupyter-widgets/base",
      "_view_module_version": "1.2.0",
      "_view_name": "LayoutView",
      "align_content": null,
      "align_items": null,
      "align_self": null,
      "border": null,
      "bottom": null,
      "display": null,
      "flex": null,
      "flex_flow": null,
      "grid_area": null,
      "grid_auto_columns": null,
      "grid_auto_flow": null,
      "grid_auto_rows": null,
      "grid_column": null,
      "grid_gap": null,
      "grid_row": null,
      "grid_template_areas": null,
      "grid_template_columns": null,
      "grid_template_rows": null,
      "height": null,
      "justify_content": null,
      "justify_items": null,
      "left": null,
      "margin": null,
      "max_height": null,
      "max_width": null,
      "min_height": null,
      "min_width": null,
      "object_fit": null,
      "object_position": null,
      "order": null,
      "overflow": null,
      "overflow_x": null,
      "overflow_y": null,
      "padding": null,
      "right": null,
      "top": null,
      "visibility": null,
      "width": null
     }
    },
    "bc099377274640f7b9f428968f51f458": {
     "model_module": "@jupyter-widgets/controls",
     "model_module_version": "1.5.0",
     "model_name": "DescriptionStyleModel",
     "state": {
      "_model_module": "@jupyter-widgets/controls",
      "_model_module_version": "1.5.0",
      "_model_name": "DescriptionStyleModel",
      "_view_count": null,
      "_view_module": "@jupyter-widgets/base",
      "_view_module_version": "1.2.0",
      "_view_name": "StyleView",
      "description_width": ""
     }
    },
    "bf4f2295e7a9477eaa03564dc86a39da": {
     "model_module": "@jupyter-widgets/base",
     "model_module_version": "1.2.0",
     "model_name": "LayoutModel",
     "state": {
      "_model_module": "@jupyter-widgets/base",
      "_model_module_version": "1.2.0",
      "_model_name": "LayoutModel",
      "_view_count": null,
      "_view_module": "@jupyter-widgets/base",
      "_view_module_version": "1.2.0",
      "_view_name": "LayoutView",
      "align_content": null,
      "align_items": null,
      "align_self": null,
      "border": null,
      "bottom": null,
      "display": null,
      "flex": null,
      "flex_flow": null,
      "grid_area": null,
      "grid_auto_columns": null,
      "grid_auto_flow": null,
      "grid_auto_rows": null,
      "grid_column": null,
      "grid_gap": null,
      "grid_row": null,
      "grid_template_areas": null,
      "grid_template_columns": null,
      "grid_template_rows": null,
      "height": null,
      "justify_content": null,
      "justify_items": null,
      "left": null,
      "margin": null,
      "max_height": null,
      "max_width": null,
      "min_height": null,
      "min_width": null,
      "object_fit": null,
      "object_position": null,
      "order": null,
      "overflow": null,
      "overflow_x": null,
      "overflow_y": null,
      "padding": null,
      "right": null,
      "top": null,
      "visibility": null,
      "width": null
     }
    },
    "c65f82977a114cb0adeb22017aaf363e": {
     "model_module": "@jupyter-widgets/base",
     "model_module_version": "1.2.0",
     "model_name": "LayoutModel",
     "state": {
      "_model_module": "@jupyter-widgets/base",
      "_model_module_version": "1.2.0",
      "_model_name": "LayoutModel",
      "_view_count": null,
      "_view_module": "@jupyter-widgets/base",
      "_view_module_version": "1.2.0",
      "_view_name": "LayoutView",
      "align_content": null,
      "align_items": null,
      "align_self": null,
      "border": null,
      "bottom": null,
      "display": null,
      "flex": null,
      "flex_flow": null,
      "grid_area": null,
      "grid_auto_columns": null,
      "grid_auto_flow": null,
      "grid_auto_rows": null,
      "grid_column": null,
      "grid_gap": null,
      "grid_row": null,
      "grid_template_areas": null,
      "grid_template_columns": null,
      "grid_template_rows": null,
      "height": null,
      "justify_content": null,
      "justify_items": null,
      "left": null,
      "margin": null,
      "max_height": null,
      "max_width": null,
      "min_height": null,
      "min_width": null,
      "object_fit": null,
      "object_position": null,
      "order": null,
      "overflow": null,
      "overflow_x": null,
      "overflow_y": null,
      "padding": null,
      "right": null,
      "top": null,
      "visibility": null,
      "width": null
     }
    },
    "cac2e473c43f455f93a50590487ad734": {
     "model_module": "@jupyter-widgets/controls",
     "model_module_version": "1.5.0",
     "model_name": "FloatProgressModel",
     "state": {
      "_dom_classes": [],
      "_model_module": "@jupyter-widgets/controls",
      "_model_module_version": "1.5.0",
      "_model_name": "FloatProgressModel",
      "_view_count": null,
      "_view_module": "@jupyter-widgets/controls",
      "_view_module_version": "1.5.0",
      "_view_name": "ProgressView",
      "bar_style": "success",
      "description": "",
      "description_tooltip": null,
      "layout": "IPY_MODEL_6ee34dfe806c45df9d086a4001fc519c",
      "max": 3,
      "min": 0,
      "orientation": "horizontal",
      "style": "IPY_MODEL_b654fe4ff0484b8db823c35371d81aa3",
      "value": 3
     }
    },
    "cbef1d7290b54ae6bf443817dbfdc8fb": {
     "model_module": "@jupyter-widgets/base",
     "model_module_version": "1.2.0",
     "model_name": "LayoutModel",
     "state": {
      "_model_module": "@jupyter-widgets/base",
      "_model_module_version": "1.2.0",
      "_model_name": "LayoutModel",
      "_view_count": null,
      "_view_module": "@jupyter-widgets/base",
      "_view_module_version": "1.2.0",
      "_view_name": "LayoutView",
      "align_content": null,
      "align_items": null,
      "align_self": null,
      "border": null,
      "bottom": null,
      "display": null,
      "flex": null,
      "flex_flow": null,
      "grid_area": null,
      "grid_auto_columns": null,
      "grid_auto_flow": null,
      "grid_auto_rows": null,
      "grid_column": null,
      "grid_gap": null,
      "grid_row": null,
      "grid_template_areas": null,
      "grid_template_columns": null,
      "grid_template_rows": null,
      "height": null,
      "justify_content": null,
      "justify_items": null,
      "left": null,
      "margin": null,
      "max_height": null,
      "max_width": null,
      "min_height": null,
      "min_width": null,
      "object_fit": null,
      "object_position": null,
      "order": null,
      "overflow": null,
      "overflow_x": null,
      "overflow_y": null,
      "padding": null,
      "right": null,
      "top": null,
      "visibility": null,
      "width": null
     }
    },
    "ce03f161a5cf46b6960d2fa1488d9505": {
     "model_module": "@jupyter-widgets/base",
     "model_module_version": "1.2.0",
     "model_name": "LayoutModel",
     "state": {
      "_model_module": "@jupyter-widgets/base",
      "_model_module_version": "1.2.0",
      "_model_name": "LayoutModel",
      "_view_count": null,
      "_view_module": "@jupyter-widgets/base",
      "_view_module_version": "1.2.0",
      "_view_name": "LayoutView",
      "align_content": null,
      "align_items": null,
      "align_self": null,
      "border": null,
      "bottom": null,
      "display": null,
      "flex": null,
      "flex_flow": null,
      "grid_area": null,
      "grid_auto_columns": null,
      "grid_auto_flow": null,
      "grid_auto_rows": null,
      "grid_column": null,
      "grid_gap": null,
      "grid_row": null,
      "grid_template_areas": null,
      "grid_template_columns": null,
      "grid_template_rows": null,
      "height": null,
      "justify_content": null,
      "justify_items": null,
      "left": null,
      "margin": null,
      "max_height": null,
      "max_width": null,
      "min_height": null,
      "min_width": null,
      "object_fit": null,
      "object_position": null,
      "order": null,
      "overflow": null,
      "overflow_x": null,
      "overflow_y": null,
      "padding": null,
      "right": null,
      "top": null,
      "visibility": null,
      "width": null
     }
    },
    "cea6a1a2399047ad97add5322ec23129": {
     "model_module": "@jupyter-widgets/controls",
     "model_module_version": "1.5.0",
     "model_name": "HBoxModel",
     "state": {
      "_dom_classes": [],
      "_model_module": "@jupyter-widgets/controls",
      "_model_module_version": "1.5.0",
      "_model_name": "HBoxModel",
      "_view_count": null,
      "_view_module": "@jupyter-widgets/controls",
      "_view_module_version": "1.5.0",
      "_view_name": "HBoxView",
      "box_style": "",
      "children": [
       "IPY_MODEL_737dbb7a2e0d4c0284269b08079c0d94",
       "IPY_MODEL_990eae8e3b764aa7926582f54f723498",
       "IPY_MODEL_53fd00aae9614e84a8ecea85494e613f"
      ],
      "layout": "IPY_MODEL_e9af6795cf014a57b7624308762de6c6"
     }
    },
    "cf9902a1a55b414f869101bb70cf3e86": {
     "model_module": "@jupyter-widgets/controls",
     "model_module_version": "1.5.0",
     "model_name": "DescriptionStyleModel",
     "state": {
      "_model_module": "@jupyter-widgets/controls",
      "_model_module_version": "1.5.0",
      "_model_name": "DescriptionStyleModel",
      "_view_count": null,
      "_view_module": "@jupyter-widgets/base",
      "_view_module_version": "1.2.0",
      "_view_name": "StyleView",
      "description_width": ""
     }
    },
    "cfb83c1d85544906b7f2ab8f7a65de2d": {
     "model_module": "@jupyter-widgets/base",
     "model_module_version": "1.2.0",
     "model_name": "LayoutModel",
     "state": {
      "_model_module": "@jupyter-widgets/base",
      "_model_module_version": "1.2.0",
      "_model_name": "LayoutModel",
      "_view_count": null,
      "_view_module": "@jupyter-widgets/base",
      "_view_module_version": "1.2.0",
      "_view_name": "LayoutView",
      "align_content": null,
      "align_items": null,
      "align_self": null,
      "border": null,
      "bottom": null,
      "display": null,
      "flex": null,
      "flex_flow": null,
      "grid_area": null,
      "grid_auto_columns": null,
      "grid_auto_flow": null,
      "grid_auto_rows": null,
      "grid_column": null,
      "grid_gap": null,
      "grid_row": null,
      "grid_template_areas": null,
      "grid_template_columns": null,
      "grid_template_rows": null,
      "height": null,
      "justify_content": null,
      "justify_items": null,
      "left": null,
      "margin": null,
      "max_height": null,
      "max_width": null,
      "min_height": null,
      "min_width": null,
      "object_fit": null,
      "object_position": null,
      "order": null,
      "overflow": null,
      "overflow_x": null,
      "overflow_y": null,
      "padding": null,
      "right": null,
      "top": null,
      "visibility": null,
      "width": null
     }
    },
    "d0734e06b54d4e67ac787bbb6796b598": {
     "model_module": "@jupyter-widgets/controls",
     "model_module_version": "1.5.0",
     "model_name": "HBoxModel",
     "state": {
      "_dom_classes": [],
      "_model_module": "@jupyter-widgets/controls",
      "_model_module_version": "1.5.0",
      "_model_name": "HBoxModel",
      "_view_count": null,
      "_view_module": "@jupyter-widgets/controls",
      "_view_module_version": "1.5.0",
      "_view_name": "HBoxView",
      "box_style": "",
      "children": [
       "IPY_MODEL_f7bc520c5454465396014507e963e231",
       "IPY_MODEL_aed6de4d64c449de89bc55967d08ee62",
       "IPY_MODEL_18c8aa4335b84fc6aeed0002f6afbc18"
      ],
      "layout": "IPY_MODEL_3dbe231ac8914d14845e20e443490c0a"
     }
    },
    "d2dada7fec3649279793b4157f5fd8c6": {
     "model_module": "@jupyter-widgets/base",
     "model_module_version": "1.2.0",
     "model_name": "LayoutModel",
     "state": {
      "_model_module": "@jupyter-widgets/base",
      "_model_module_version": "1.2.0",
      "_model_name": "LayoutModel",
      "_view_count": null,
      "_view_module": "@jupyter-widgets/base",
      "_view_module_version": "1.2.0",
      "_view_name": "LayoutView",
      "align_content": null,
      "align_items": null,
      "align_self": null,
      "border": null,
      "bottom": null,
      "display": null,
      "flex": null,
      "flex_flow": null,
      "grid_area": null,
      "grid_auto_columns": null,
      "grid_auto_flow": null,
      "grid_auto_rows": null,
      "grid_column": null,
      "grid_gap": null,
      "grid_row": null,
      "grid_template_areas": null,
      "grid_template_columns": null,
      "grid_template_rows": null,
      "height": null,
      "justify_content": null,
      "justify_items": null,
      "left": null,
      "margin": null,
      "max_height": null,
      "max_width": null,
      "min_height": null,
      "min_width": null,
      "object_fit": null,
      "object_position": null,
      "order": null,
      "overflow": null,
      "overflow_x": null,
      "overflow_y": null,
      "padding": null,
      "right": null,
      "top": null,
      "visibility": null,
      "width": null
     }
    },
    "d41ca0241723427592816f26353b0e08": {
     "model_module": "@jupyter-widgets/controls",
     "model_module_version": "1.5.0",
     "model_name": "ProgressStyleModel",
     "state": {
      "_model_module": "@jupyter-widgets/controls",
      "_model_module_version": "1.5.0",
      "_model_name": "ProgressStyleModel",
      "_view_count": null,
      "_view_module": "@jupyter-widgets/base",
      "_view_module_version": "1.2.0",
      "_view_name": "StyleView",
      "bar_color": null,
      "description_width": ""
     }
    },
    "d9168e49f45e4643a088972ddf37270f": {
     "model_module": "@jupyter-widgets/controls",
     "model_module_version": "1.5.0",
     "model_name": "FloatProgressModel",
     "state": {
      "_dom_classes": [],
      "_model_module": "@jupyter-widgets/controls",
      "_model_module_version": "1.5.0",
      "_model_name": "FloatProgressModel",
      "_view_count": null,
      "_view_module": "@jupyter-widgets/controls",
      "_view_module_version": "1.5.0",
      "_view_name": "ProgressView",
      "bar_style": "success",
      "description": "",
      "description_tooltip": null,
      "layout": "IPY_MODEL_6d5be9f226ed456c861c8916af407f52",
      "max": 132264,
      "min": 0,
      "orientation": "horizontal",
      "style": "IPY_MODEL_34cc6d3139a547ee9a142a7891454326",
      "value": 132264
     }
    },
    "d9c75955dbe64cd889c337cecb2ba85f": {
     "model_module": "@jupyter-widgets/controls",
     "model_module_version": "1.5.0",
     "model_name": "HTMLModel",
     "state": {
      "_dom_classes": [],
      "_model_module": "@jupyter-widgets/controls",
      "_model_module_version": "1.5.0",
      "_model_name": "HTMLModel",
      "_view_count": null,
      "_view_module": "@jupyter-widgets/controls",
      "_view_module_version": "1.5.0",
      "_view_name": "HTMLView",
      "description": "",
      "description_tooltip": null,
      "layout": "IPY_MODEL_1b1c6fd05b5348e89d78a900925553fd",
      "placeholder": "​",
      "style": "IPY_MODEL_44cc57b94be54e978c049fffa42f1a8a",
      "value": "100%"
     }
    },
    "d9ea337cdeab4ca1bc72e90d98c375b6": {
     "model_module": "@jupyter-widgets/controls",
     "model_module_version": "1.5.0",
     "model_name": "HBoxModel",
     "state": {
      "_dom_classes": [],
      "_model_module": "@jupyter-widgets/controls",
      "_model_module_version": "1.5.0",
      "_model_name": "HBoxModel",
      "_view_count": null,
      "_view_module": "@jupyter-widgets/controls",
      "_view_module_version": "1.5.0",
      "_view_name": "HBoxView",
      "box_style": "",
      "children": [
       "IPY_MODEL_b16ae42f8ad5456aa5fe0b5e968e757a",
       "IPY_MODEL_d9168e49f45e4643a088972ddf37270f",
       "IPY_MODEL_639c704e6671423e8fa7ce647e7e0c68"
      ],
      "layout": "IPY_MODEL_4a9cc699d2a6499dab819a2e4e2e2e9e"
     }
    },
    "da45ea4316e8406d9c917054d78bd131": {
     "model_module": "@jupyter-widgets/controls",
     "model_module_version": "1.5.0",
     "model_name": "DescriptionStyleModel",
     "state": {
      "_model_module": "@jupyter-widgets/controls",
      "_model_module_version": "1.5.0",
      "_model_name": "DescriptionStyleModel",
      "_view_count": null,
      "_view_module": "@jupyter-widgets/base",
      "_view_module_version": "1.2.0",
      "_view_name": "StyleView",
      "description_width": ""
     }
    },
    "dcbf9ce02d784aa19f963ac500e4de13": {
     "model_module": "@jupyter-widgets/controls",
     "model_module_version": "1.5.0",
     "model_name": "HTMLModel",
     "state": {
      "_dom_classes": [],
      "_model_module": "@jupyter-widgets/controls",
      "_model_module_version": "1.5.0",
      "_model_name": "HTMLModel",
      "_view_count": null,
      "_view_module": "@jupyter-widgets/controls",
      "_view_module_version": "1.5.0",
      "_view_name": "HTMLView",
      "description": "",
      "description_tooltip": null,
      "layout": "IPY_MODEL_9c32ef1eab5d40aaa8972ed627d19084",
      "placeholder": "​",
      "style": "IPY_MODEL_00e610ed98164e4983f1c375540e6d03",
      "value": "Generating validation split:   0%"
     }
    },
    "ddde99dd112247959fb60df405e23eff": {
     "model_module": "@jupyter-widgets/controls",
     "model_module_version": "1.5.0",
     "model_name": "DescriptionStyleModel",
     "state": {
      "_model_module": "@jupyter-widgets/controls",
      "_model_module_version": "1.5.0",
      "_model_name": "DescriptionStyleModel",
      "_view_count": null,
      "_view_module": "@jupyter-widgets/base",
      "_view_module_version": "1.2.0",
      "_view_name": "StyleView",
      "description_width": ""
     }
    },
    "de955e4ed85b4bc48cf45ce9711da0d3": {
     "model_module": "@jupyter-widgets/base",
     "model_module_version": "1.2.0",
     "model_name": "LayoutModel",
     "state": {
      "_model_module": "@jupyter-widgets/base",
      "_model_module_version": "1.2.0",
      "_model_name": "LayoutModel",
      "_view_count": null,
      "_view_module": "@jupyter-widgets/base",
      "_view_module_version": "1.2.0",
      "_view_name": "LayoutView",
      "align_content": null,
      "align_items": null,
      "align_self": null,
      "border": null,
      "bottom": null,
      "display": null,
      "flex": null,
      "flex_flow": null,
      "grid_area": null,
      "grid_auto_columns": null,
      "grid_auto_flow": null,
      "grid_auto_rows": null,
      "grid_column": null,
      "grid_gap": null,
      "grid_row": null,
      "grid_template_areas": null,
      "grid_template_columns": null,
      "grid_template_rows": null,
      "height": null,
      "justify_content": null,
      "justify_items": null,
      "left": null,
      "margin": null,
      "max_height": null,
      "max_width": null,
      "min_height": null,
      "min_width": null,
      "object_fit": null,
      "object_position": null,
      "order": null,
      "overflow": null,
      "overflow_x": null,
      "overflow_y": null,
      "padding": null,
      "right": null,
      "top": null,
      "visibility": null,
      "width": null
     }
    },
    "df917e6f27134b4b827043a63d44b1ee": {
     "model_module": "@jupyter-widgets/base",
     "model_module_version": "1.2.0",
     "model_name": "LayoutModel",
     "state": {
      "_model_module": "@jupyter-widgets/base",
      "_model_module_version": "1.2.0",
      "_model_name": "LayoutModel",
      "_view_count": null,
      "_view_module": "@jupyter-widgets/base",
      "_view_module_version": "1.2.0",
      "_view_name": "LayoutView",
      "align_content": null,
      "align_items": null,
      "align_self": null,
      "border": null,
      "bottom": null,
      "display": null,
      "flex": null,
      "flex_flow": null,
      "grid_area": null,
      "grid_auto_columns": null,
      "grid_auto_flow": null,
      "grid_auto_rows": null,
      "grid_column": null,
      "grid_gap": null,
      "grid_row": null,
      "grid_template_areas": null,
      "grid_template_columns": null,
      "grid_template_rows": null,
      "height": null,
      "justify_content": null,
      "justify_items": null,
      "left": null,
      "margin": null,
      "max_height": null,
      "max_width": null,
      "min_height": null,
      "min_width": null,
      "object_fit": null,
      "object_position": null,
      "order": null,
      "overflow": null,
      "overflow_x": null,
      "overflow_y": null,
      "padding": null,
      "right": null,
      "top": null,
      "visibility": null,
      "width": null
     }
    },
    "e0b6b2df619b4ef4b9e4145b6b335c3c": {
     "model_module": "@jupyter-widgets/controls",
     "model_module_version": "1.5.0",
     "model_name": "HBoxModel",
     "state": {
      "_dom_classes": [],
      "_model_module": "@jupyter-widgets/controls",
      "_model_module_version": "1.5.0",
      "_model_name": "HBoxModel",
      "_view_count": null,
      "_view_module": "@jupyter-widgets/controls",
      "_view_module_version": "1.5.0",
      "_view_name": "HBoxView",
      "box_style": "",
      "children": [
       "IPY_MODEL_318a035b49b04419a3b4e32f57e3fc61",
       "IPY_MODEL_9d7e6d1e92b740658f7523664b675d50",
       "IPY_MODEL_56d64c0ea7704a1fbd48037b9d785169"
      ],
      "layout": "IPY_MODEL_d2dada7fec3649279793b4157f5fd8c6"
     }
    },
    "e280761f8abd4969bd156f19bfc21e91": {
     "model_module": "@jupyter-widgets/controls",
     "model_module_version": "1.5.0",
     "model_name": "FloatProgressModel",
     "state": {
      "_dom_classes": [],
      "_model_module": "@jupyter-widgets/controls",
      "_model_module_version": "1.5.0",
      "_model_name": "FloatProgressModel",
      "_view_count": null,
      "_view_module": "@jupyter-widgets/controls",
      "_view_module_version": "1.5.0",
      "_view_name": "ProgressView",
      "bar_style": "success",
      "description": "",
      "description_tooltip": null,
      "layout": "IPY_MODEL_a3b846a8c9394fb79832bc9e707eb50c",
      "max": 188396,
      "min": 0,
      "orientation": "horizontal",
      "style": "IPY_MODEL_e8033a4b3887450cb46e95c209cf14b1",
      "value": 188396
     }
    },
    "e5aa795ddd174bdf8f88e269ce842942": {
     "model_module": "@jupyter-widgets/base",
     "model_module_version": "1.2.0",
     "model_name": "LayoutModel",
     "state": {
      "_model_module": "@jupyter-widgets/base",
      "_model_module_version": "1.2.0",
      "_model_name": "LayoutModel",
      "_view_count": null,
      "_view_module": "@jupyter-widgets/base",
      "_view_module_version": "1.2.0",
      "_view_name": "LayoutView",
      "align_content": null,
      "align_items": null,
      "align_self": null,
      "border": null,
      "bottom": null,
      "display": null,
      "flex": null,
      "flex_flow": null,
      "grid_area": null,
      "grid_auto_columns": null,
      "grid_auto_flow": null,
      "grid_auto_rows": null,
      "grid_column": null,
      "grid_gap": null,
      "grid_row": null,
      "grid_template_areas": null,
      "grid_template_columns": null,
      "grid_template_rows": null,
      "height": null,
      "justify_content": null,
      "justify_items": null,
      "left": null,
      "margin": null,
      "max_height": null,
      "max_width": null,
      "min_height": null,
      "min_width": null,
      "object_fit": null,
      "object_position": null,
      "order": null,
      "overflow": null,
      "overflow_x": null,
      "overflow_y": null,
      "padding": null,
      "right": null,
      "top": null,
      "visibility": null,
      "width": null
     }
    },
    "e8033a4b3887450cb46e95c209cf14b1": {
     "model_module": "@jupyter-widgets/controls",
     "model_module_version": "1.5.0",
     "model_name": "ProgressStyleModel",
     "state": {
      "_model_module": "@jupyter-widgets/controls",
      "_model_module_version": "1.5.0",
      "_model_name": "ProgressStyleModel",
      "_view_count": null,
      "_view_module": "@jupyter-widgets/base",
      "_view_module_version": "1.2.0",
      "_view_name": "StyleView",
      "bar_color": null,
      "description_width": ""
     }
    },
    "e9af6795cf014a57b7624308762de6c6": {
     "model_module": "@jupyter-widgets/base",
     "model_module_version": "1.2.0",
     "model_name": "LayoutModel",
     "state": {
      "_model_module": "@jupyter-widgets/base",
      "_model_module_version": "1.2.0",
      "_model_name": "LayoutModel",
      "_view_count": null,
      "_view_module": "@jupyter-widgets/base",
      "_view_module_version": "1.2.0",
      "_view_name": "LayoutView",
      "align_content": null,
      "align_items": null,
      "align_self": null,
      "border": null,
      "bottom": null,
      "display": null,
      "flex": null,
      "flex_flow": null,
      "grid_area": null,
      "grid_auto_columns": null,
      "grid_auto_flow": null,
      "grid_auto_rows": null,
      "grid_column": null,
      "grid_gap": null,
      "grid_row": null,
      "grid_template_areas": null,
      "grid_template_columns": null,
      "grid_template_rows": null,
      "height": null,
      "justify_content": null,
      "justify_items": null,
      "left": null,
      "margin": null,
      "max_height": null,
      "max_width": null,
      "min_height": null,
      "min_width": null,
      "object_fit": null,
      "object_position": null,
      "order": null,
      "overflow": null,
      "overflow_x": null,
      "overflow_y": null,
      "padding": null,
      "right": null,
      "top": null,
      "visibility": null,
      "width": null
     }
    },
    "ecde87ade3ab4881a2ce0fa1cfbc1717": {
     "model_module": "@jupyter-widgets/base",
     "model_module_version": "1.2.0",
     "model_name": "LayoutModel",
     "state": {
      "_model_module": "@jupyter-widgets/base",
      "_model_module_version": "1.2.0",
      "_model_name": "LayoutModel",
      "_view_count": null,
      "_view_module": "@jupyter-widgets/base",
      "_view_module_version": "1.2.0",
      "_view_name": "LayoutView",
      "align_content": null,
      "align_items": null,
      "align_self": null,
      "border": null,
      "bottom": null,
      "display": null,
      "flex": null,
      "flex_flow": null,
      "grid_area": null,
      "grid_auto_columns": null,
      "grid_auto_flow": null,
      "grid_auto_rows": null,
      "grid_column": null,
      "grid_gap": null,
      "grid_row": null,
      "grid_template_areas": null,
      "grid_template_columns": null,
      "grid_template_rows": null,
      "height": null,
      "justify_content": null,
      "justify_items": null,
      "left": null,
      "margin": null,
      "max_height": null,
      "max_width": null,
      "min_height": null,
      "min_width": null,
      "object_fit": null,
      "object_position": null,
      "order": null,
      "overflow": null,
      "overflow_x": null,
      "overflow_y": null,
      "padding": null,
      "right": null,
      "top": null,
      "visibility": null,
      "width": null
     }
    },
    "ee5e8623eaba4589821784eb8831a512": {
     "model_module": "@jupyter-widgets/controls",
     "model_module_version": "1.5.0",
     "model_name": "FloatProgressModel",
     "state": {
      "_dom_classes": [],
      "_model_module": "@jupyter-widgets/controls",
      "_model_module_version": "1.5.0",
      "_model_name": "FloatProgressModel",
      "_view_count": null,
      "_view_module": "@jupyter-widgets/controls",
      "_view_module_version": "1.5.0",
      "_view_name": "ProgressView",
      "bar_style": "success",
      "description": "",
      "description_tooltip": null,
      "layout": "IPY_MODEL_df917e6f27134b4b827043a63d44b1ee",
      "max": 140250,
      "min": 0,
      "orientation": "horizontal",
      "style": "IPY_MODEL_8877eeca87d244eaac53c204ca244456",
      "value": 140250
     }
    },
    "ef02290c1e064fe7b64607b3fb3969a1": {
     "model_module": "@jupyter-widgets/base",
     "model_module_version": "1.2.0",
     "model_name": "LayoutModel",
     "state": {
      "_model_module": "@jupyter-widgets/base",
      "_model_module_version": "1.2.0",
      "_model_name": "LayoutModel",
      "_view_count": null,
      "_view_module": "@jupyter-widgets/base",
      "_view_module_version": "1.2.0",
      "_view_name": "LayoutView",
      "align_content": null,
      "align_items": null,
      "align_self": null,
      "border": null,
      "bottom": null,
      "display": null,
      "flex": null,
      "flex_flow": null,
      "grid_area": null,
      "grid_auto_columns": null,
      "grid_auto_flow": null,
      "grid_auto_rows": null,
      "grid_column": null,
      "grid_gap": null,
      "grid_row": null,
      "grid_template_areas": null,
      "grid_template_columns": null,
      "grid_template_rows": null,
      "height": null,
      "justify_content": null,
      "justify_items": null,
      "left": null,
      "margin": null,
      "max_height": null,
      "max_width": null,
      "min_height": null,
      "min_width": null,
      "object_fit": null,
      "object_position": null,
      "order": null,
      "overflow": null,
      "overflow_x": null,
      "overflow_y": null,
      "padding": null,
      "right": null,
      "top": null,
      "visibility": null,
      "width": null
     }
    },
    "f00b6a448ad04c4188aba91292aea613": {
     "model_module": "@jupyter-widgets/base",
     "model_module_version": "1.2.0",
     "model_name": "LayoutModel",
     "state": {
      "_model_module": "@jupyter-widgets/base",
      "_model_module_version": "1.2.0",
      "_model_name": "LayoutModel",
      "_view_count": null,
      "_view_module": "@jupyter-widgets/base",
      "_view_module_version": "1.2.0",
      "_view_name": "LayoutView",
      "align_content": null,
      "align_items": null,
      "align_self": null,
      "border": null,
      "bottom": null,
      "display": null,
      "flex": null,
      "flex_flow": null,
      "grid_area": null,
      "grid_auto_columns": null,
      "grid_auto_flow": null,
      "grid_auto_rows": null,
      "grid_column": null,
      "grid_gap": null,
      "grid_row": null,
      "grid_template_areas": null,
      "grid_template_columns": null,
      "grid_template_rows": null,
      "height": null,
      "justify_content": null,
      "justify_items": null,
      "left": null,
      "margin": null,
      "max_height": null,
      "max_width": null,
      "min_height": null,
      "min_width": null,
      "object_fit": null,
      "object_position": null,
      "order": null,
      "overflow": null,
      "overflow_x": null,
      "overflow_y": null,
      "padding": null,
      "right": null,
      "top": null,
      "visibility": null,
      "width": null
     }
    },
    "f10371d3e483400c82e76240c6f6d338": {
     "model_module": "@jupyter-widgets/base",
     "model_module_version": "1.2.0",
     "model_name": "LayoutModel",
     "state": {
      "_model_module": "@jupyter-widgets/base",
      "_model_module_version": "1.2.0",
      "_model_name": "LayoutModel",
      "_view_count": null,
      "_view_module": "@jupyter-widgets/base",
      "_view_module_version": "1.2.0",
      "_view_name": "LayoutView",
      "align_content": null,
      "align_items": null,
      "align_self": null,
      "border": null,
      "bottom": null,
      "display": null,
      "flex": null,
      "flex_flow": null,
      "grid_area": null,
      "grid_auto_columns": null,
      "grid_auto_flow": null,
      "grid_auto_rows": null,
      "grid_column": null,
      "grid_gap": null,
      "grid_row": null,
      "grid_template_areas": null,
      "grid_template_columns": null,
      "grid_template_rows": null,
      "height": null,
      "justify_content": null,
      "justify_items": null,
      "left": null,
      "margin": null,
      "max_height": null,
      "max_width": null,
      "min_height": null,
      "min_width": null,
      "object_fit": null,
      "object_position": null,
      "order": null,
      "overflow": null,
      "overflow_x": null,
      "overflow_y": null,
      "padding": null,
      "right": null,
      "top": null,
      "visibility": null,
      "width": null
     }
    },
    "f552872218f1478f8b6d3e05aa2f5311": {
     "model_module": "@jupyter-widgets/controls",
     "model_module_version": "1.5.0",
     "model_name": "DescriptionStyleModel",
     "state": {
      "_model_module": "@jupyter-widgets/controls",
      "_model_module_version": "1.5.0",
      "_model_name": "DescriptionStyleModel",
      "_view_count": null,
      "_view_module": "@jupyter-widgets/base",
      "_view_module_version": "1.2.0",
      "_view_name": "StyleView",
      "description_width": ""
     }
    },
    "f7bc520c5454465396014507e963e231": {
     "model_module": "@jupyter-widgets/controls",
     "model_module_version": "1.5.0",
     "model_name": "HTMLModel",
     "state": {
      "_dom_classes": [],
      "_model_module": "@jupyter-widgets/controls",
      "_model_module_version": "1.5.0",
      "_model_name": "HTMLModel",
      "_view_count": null,
      "_view_module": "@jupyter-widgets/controls",
      "_view_module_version": "1.5.0",
      "_view_name": "HTMLView",
      "description": "",
      "description_tooltip": null,
      "layout": "IPY_MODEL_953db44be9684e6692b4994c838a112d",
      "placeholder": "​",
      "style": "IPY_MODEL_ddde99dd112247959fb60df405e23eff",
      "value": "Generating test split:   0%"
     }
    },
    "ffd294fe9f334613b0d8763610b18386": {
     "model_module": "@jupyter-widgets/controls",
     "model_module_version": "1.5.0",
     "model_name": "DescriptionStyleModel",
     "state": {
      "_model_module": "@jupyter-widgets/controls",
      "_model_module_version": "1.5.0",
      "_model_name": "DescriptionStyleModel",
      "_view_count": null,
      "_view_module": "@jupyter-widgets/base",
      "_view_module_version": "1.2.0",
      "_view_name": "StyleView",
      "description_width": ""
     }
    }
   }
  }
 },
 "nbformat": 4,
 "nbformat_minor": 1
}
