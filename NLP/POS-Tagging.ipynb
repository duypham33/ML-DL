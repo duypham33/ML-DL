{
 "cells": [
  {
   "cell_type": "markdown",
   "metadata": {
    "id": "0pQY42kXK4DO"
   },
   "source": [
    "## POS Tagging\n",
    "**Using treebank corpus**"
   ]
  },
  {
   "cell_type": "code",
   "execution_count": 1,
   "metadata": {
    "colab": {
     "base_uri": "https://localhost:8080/"
    },
    "executionInfo": {
     "elapsed": 3503,
     "status": "ok",
     "timestamp": 1647654344685,
     "user": {
      "displayName": "Thái Nguyễn Quốc",
      "photoUrl": "https://lh3.googleusercontent.com/a-/AOh14GhZLNSWy4-fLj7PmicmKxXQvi7xGOe2vDlaHSFo7A=s64",
      "userId": "03315292090052971901"
     },
     "user_tz": -420
    },
    "id": "8Gunh0zyKxH7",
    "outputId": "1281e4bd-5473-4685-b979-4411f8951c22"
   },
   "outputs": [
    {
     "name": "stdout",
     "output_type": "stream",
     "text": [
      "[nltk_data] Downloading package treebank to /root/nltk_data...\n",
      "[nltk_data]   Unzipping corpora/treebank.zip.\n"
     ]
    }
   ],
   "source": [
    "import numpy as np\n",
    "import nltk\n",
    "nltk.download('treebank')\n",
    "import matplotlib.pyplot as plt\n",
    "from sklearn.model_selection import train_test_split\n",
    "\n",
    "from keras.utils.vis_utils import plot_model\n",
    "from keras.preprocessing.text import Tokenizer\n",
    "from keras.utils.np_utils import to_categorical\n",
    "from keras.preprocessing.sequence import pad_sequences\n",
    "from keras.models import Sequential, Model\n",
    "from keras.layers import Input, InputLayer, Dense, Activation, Embedding, SimpleRNN, LSTM, GRU, Bidirectional, TimeDistributed"
   ]
  },
  {
   "cell_type": "markdown",
   "metadata": {
    "id": "oom7U_hVLZYw"
   },
   "source": [
    "### Prepare dataset"
   ]
  },
  {
   "cell_type": "code",
   "execution_count": 2,
   "metadata": {
    "colab": {
     "base_uri": "https://localhost:8080/"
    },
    "executionInfo": {
     "elapsed": 1303,
     "status": "ok",
     "timestamp": 1647654345978,
     "user": {
      "displayName": "Thái Nguyễn Quốc",
      "photoUrl": "https://lh3.googleusercontent.com/a-/AOh14GhZLNSWy4-fLj7PmicmKxXQvi7xGOe2vDlaHSFo7A=s64",
      "userId": "03315292090052971901"
     },
     "user_tz": -420
    },
    "id": "9Ld2kfN8Lcnx",
    "outputId": "88ebd629-342f-4b9b-ffe3-4ef063c793e5"
   },
   "outputs": [
    {
     "data": {
      "text/plain": [
       "3914"
      ]
     },
     "execution_count": 2,
     "metadata": {},
     "output_type": "execute_result"
    }
   ],
   "source": [
    "tagged_sentences = nltk.corpus.treebank.tagged_sents()\n",
    "len(tagged_sentences)"
   ]
  },
  {
   "cell_type": "code",
   "execution_count": 3,
   "metadata": {
    "colab": {
     "base_uri": "https://localhost:8080/"
    },
    "executionInfo": {
     "elapsed": 14,
     "status": "ok",
     "timestamp": 1647654345979,
     "user": {
      "displayName": "Thái Nguyễn Quốc",
      "photoUrl": "https://lh3.googleusercontent.com/a-/AOh14GhZLNSWy4-fLj7PmicmKxXQvi7xGOe2vDlaHSFo7A=s64",
      "userId": "03315292090052971901"
     },
     "user_tz": -420
    },
    "id": "e2oQ0u2XLe6x",
    "outputId": "d6773dec-f4f8-4a3a-dee8-cfe18637a76a"
   },
   "outputs": [
    {
     "data": {
      "text/plain": [
       "[('Pierre', 'NNP'),\n",
       " ('Vinken', 'NNP'),\n",
       " (',', ','),\n",
       " ('61', 'CD'),\n",
       " ('years', 'NNS'),\n",
       " ('old', 'JJ'),\n",
       " (',', ','),\n",
       " ('will', 'MD'),\n",
       " ('join', 'VB'),\n",
       " ('the', 'DT'),\n",
       " ('board', 'NN'),\n",
       " ('as', 'IN'),\n",
       " ('a', 'DT'),\n",
       " ('nonexecutive', 'JJ'),\n",
       " ('director', 'NN'),\n",
       " ('Nov.', 'NNP'),\n",
       " ('29', 'CD'),\n",
       " ('.', '.')]"
      ]
     },
     "execution_count": 3,
     "metadata": {},
     "output_type": "execute_result"
    }
   ],
   "source": [
    "tagged_sentences[0]"
   ]
  },
  {
   "cell_type": "code",
   "execution_count": null,
   "metadata": {
    "id": "BQGHzU3XLqcR"
   },
   "outputs": [],
   "source": [
    "# extract sentence and tag without seq2seq\n",
    "sentences, sentence_tags =[], [] \n",
    "for tagged_sentence in tagged_sentences:\n",
    "    sentence, tags = zip(*tagged_sentence)\n",
    "    sentences.append([word.lower() for word in sentence])\n",
    "    sentence_tags.append([tag for tag in tags])"
   ]
  },
  {
   "cell_type": "code",
   "execution_count": 4,
   "metadata": {
    "executionInfo": {
     "elapsed": 1148,
     "status": "ok",
     "timestamp": 1647654347121,
     "user": {
      "displayName": "Thái Nguyễn Quốc",
      "photoUrl": "https://lh3.googleusercontent.com/a-/AOh14GhZLNSWy4-fLj7PmicmKxXQvi7xGOe2vDlaHSFo7A=s64",
      "userId": "03315292090052971901"
     },
     "user_tz": -420
    },
    "id": "imiFr5IbV518"
   },
   "outputs": [],
   "source": [
    "# extract sentence and tag with seq2seq\n",
    "sentences, sentence_tags =[], [] \n",
    "for tagged_sentence in tagged_sentences:\n",
    "    sentence, tags = zip(*tagged_sentence)\n",
    "    sentences.append([\"startseq\"]+[word.lower() for word in sentence] + [\"endseq\"])\n",
    "    sentence_tags.append([\"startseq\"] + [tag for tag in tags] + [\"endseq\"])"
   ]
  },
  {
   "cell_type": "code",
   "execution_count": 31,
   "metadata": {
    "executionInfo": {
     "elapsed": 317,
     "status": "ok",
     "timestamp": 1647654959427,
     "user": {
      "displayName": "Thái Nguyễn Quốc",
      "photoUrl": "https://lh3.googleusercontent.com/a-/AOh14GhZLNSWy4-fLj7PmicmKxXQvi7xGOe2vDlaHSFo7A=s64",
      "userId": "03315292090052971901"
     },
     "user_tz": -420
    },
    "id": "P6oA8eJ0L5kA"
   },
   "outputs": [],
   "source": [
    "train_sentences, test_sentences, train_tags, test_tags = train_test_split(sentences, \n",
    "                                                                          sentence_tags, \n",
    "                                                                          test_size=0.3)"
   ]
  },
  {
   "cell_type": "code",
   "execution_count": 32,
   "metadata": {
    "executionInfo": {
     "elapsed": 7,
     "status": "ok",
     "timestamp": 1647654963025,
     "user": {
      "displayName": "Thái Nguyễn Quốc",
      "photoUrl": "https://lh3.googleusercontent.com/a-/AOh14GhZLNSWy4-fLj7PmicmKxXQvi7xGOe2vDlaHSFo7A=s64",
      "userId": "03315292090052971901"
     },
     "user_tz": -420
    },
    "id": "i73tsLyDPLnb"
   },
   "outputs": [],
   "source": [
    "valid_sentences, test_sentences, valid_tags, test_tags = train_test_split(test_sentences, \n",
    "                                                                          test_tags, \n",
    "                                                                          test_size=0.5)"
   ]
  },
  {
   "cell_type": "markdown",
   "metadata": {
    "id": "kHL_p5VVMzZp"
   },
   "source": [
    "### 2.Feature Extraction"
   ]
  },
  {
   "cell_type": "code",
   "execution_count": 7,
   "metadata": {
    "executionInfo": {
     "elapsed": 455,
     "status": "ok",
     "timestamp": 1647654359484,
     "user": {
      "displayName": "Thái Nguyễn Quốc",
      "photoUrl": "https://lh3.googleusercontent.com/a-/AOh14GhZLNSWy4-fLj7PmicmKxXQvi7xGOe2vDlaHSFo7A=s64",
      "userId": "03315292090052971901"
     },
     "user_tz": -420
    },
    "id": "DRPdrbzdNYRD"
   },
   "outputs": [],
   "source": [
    "# word (input word) tokenizer\n",
    "word_tokenizer = Tokenizer(oov_token=\"<OOV>\")                   \n",
    "word_tokenizer.fit_on_texts(train_sentences)\n",
    "train_seqs = word_tokenizer.texts_to_sequences(train_sentences)\n",
    "valid_seqs = word_tokenizer.texts_to_sequences(valid_sentences)"
   ]
  },
  {
   "cell_type": "code",
   "execution_count": 8,
   "metadata": {
    "colab": {
     "base_uri": "https://localhost:8080/"
    },
    "executionInfo": {
     "elapsed": 5,
     "status": "ok",
     "timestamp": 1647654361404,
     "user": {
      "displayName": "Thái Nguyễn Quốc",
      "photoUrl": "https://lh3.googleusercontent.com/a-/AOh14GhZLNSWy4-fLj7PmicmKxXQvi7xGOe2vDlaHSFo7A=s64",
      "userId": "03315292090052971901"
     },
     "user_tz": -420
    },
    "id": "4hjHVDZjN31u",
    "outputId": "7987b6a3-2549-4683-dc96-faf45581128f"
   },
   "outputs": [
    {
     "data": {
      "text/plain": [
       "273"
      ]
     },
     "execution_count": 8,
     "metadata": {},
     "output_type": "execute_result"
    }
   ],
   "source": [
    "max_len_word = np.max([len(seq) for seq in train_seqs])\n",
    "max_len_word"
   ]
  },
  {
   "cell_type": "code",
   "execution_count": 9,
   "metadata": {
    "colab": {
     "base_uri": "https://localhost:8080/"
    },
    "executionInfo": {
     "elapsed": 5,
     "status": "ok",
     "timestamp": 1647654363634,
     "user": {
      "displayName": "Thái Nguyễn Quốc",
      "photoUrl": "https://lh3.googleusercontent.com/a-/AOh14GhZLNSWy4-fLj7PmicmKxXQvi7xGOe2vDlaHSFo7A=s64",
      "userId": "03315292090052971901"
     },
     "user_tz": -420
    },
    "id": "KTzJwL3zOK3n",
    "outputId": "000e521e-1596-4c94-9417-a5a5507ab783"
   },
   "outputs": [
    {
     "data": {
      "text/plain": [
       "9531"
      ]
     },
     "execution_count": 9,
     "metadata": {},
     "output_type": "execute_result"
    }
   ],
   "source": [
    "vocab_size_word = len(word_tokenizer.index_word) + 1\n",
    "vocab_size_word"
   ]
  },
  {
   "cell_type": "code",
   "execution_count": 10,
   "metadata": {
    "executionInfo": {
     "elapsed": 4,
     "status": "ok",
     "timestamp": 1647654366618,
     "user": {
      "displayName": "Thái Nguyễn Quốc",
      "photoUrl": "https://lh3.googleusercontent.com/a-/AOh14GhZLNSWy4-fLj7PmicmKxXQvi7xGOe2vDlaHSFo7A=s64",
      "userId": "03315292090052971901"
     },
     "user_tz": -420
    },
    "id": "LVFgrZuENGiT"
   },
   "outputs": [],
   "source": [
    "train_padded_seqs = pad_sequences(train_seqs, maxlen=max_len_word, padding=\"post\")\n",
    "valid_padded_seqs = pad_sequences(valid_seqs, maxlen=max_len_word, padding=\"post\")"
   ]
  },
  {
   "cell_type": "code",
   "execution_count": 11,
   "metadata": {
    "colab": {
     "base_uri": "https://localhost:8080/"
    },
    "executionInfo": {
     "elapsed": 4,
     "status": "ok",
     "timestamp": 1647654369130,
     "user": {
      "displayName": "Thái Nguyễn Quốc",
      "photoUrl": "https://lh3.googleusercontent.com/a-/AOh14GhZLNSWy4-fLj7PmicmKxXQvi7xGOe2vDlaHSFo7A=s64",
      "userId": "03315292090052971901"
     },
     "user_tz": -420
    },
    "id": "E38-Q5K2OUtG",
    "outputId": "3354c672-a3ea-44fd-d35c-407968cf2743"
   },
   "outputs": [
    {
     "data": {
      "text/plain": [
       "((2739, 273), (587, 273))"
      ]
     },
     "execution_count": 11,
     "metadata": {},
     "output_type": "execute_result"
    }
   ],
   "source": [
    "train_padded_seqs.shape, valid_padded_seqs.shape"
   ]
  },
  {
   "cell_type": "code",
   "execution_count": 12,
   "metadata": {
    "executionInfo": {
     "elapsed": 6,
     "status": "ok",
     "timestamp": 1647654370822,
     "user": {
      "displayName": "Thái Nguyễn Quốc",
      "photoUrl": "https://lh3.googleusercontent.com/a-/AOh14GhZLNSWy4-fLj7PmicmKxXQvi7xGOe2vDlaHSFo7A=s64",
      "userId": "03315292090052971901"
     },
     "user_tz": -420
    },
    "id": "8anAwZvQOW8t"
   },
   "outputs": [],
   "source": [
    "# tag tokenizer\n",
    "tag_tokenizer = Tokenizer(oov_token=\"<OOV>\")                   \n",
    "tag_tokenizer.fit_on_texts(train_tags)\n",
    "train_tags = tag_tokenizer.texts_to_sequences(train_tags)\n",
    "valid_tags = tag_tokenizer.texts_to_sequences(valid_tags)"
   ]
  },
  {
   "cell_type": "code",
   "execution_count": 13,
   "metadata": {
    "colab": {
     "base_uri": "https://localhost:8080/"
    },
    "executionInfo": {
     "elapsed": 295,
     "status": "ok",
     "timestamp": 1647654376723,
     "user": {
      "displayName": "Thái Nguyễn Quốc",
      "photoUrl": "https://lh3.googleusercontent.com/a-/AOh14GhZLNSWy4-fLj7PmicmKxXQvi7xGOe2vDlaHSFo7A=s64",
      "userId": "03315292090052971901"
     },
     "user_tz": -420
    },
    "id": "yCHnPR_0Oeu6",
    "outputId": "fb3a1cdd-add3-468d-c2ff-d80d01426ffd"
   },
   "outputs": [
    {
     "data": {
      "text/plain": [
       "273"
      ]
     },
     "execution_count": 13,
     "metadata": {},
     "output_type": "execute_result"
    }
   ],
   "source": [
    "max_len_tag = np.max([len(seq) for seq in train_tags])\n",
    "max_len_tag"
   ]
  },
  {
   "cell_type": "code",
   "execution_count": 14,
   "metadata": {
    "colab": {
     "base_uri": "https://localhost:8080/"
    },
    "executionInfo": {
     "elapsed": 443,
     "status": "ok",
     "timestamp": 1647654378799,
     "user": {
      "displayName": "Thái Nguyễn Quốc",
      "photoUrl": "https://lh3.googleusercontent.com/a-/AOh14GhZLNSWy4-fLj7PmicmKxXQvi7xGOe2vDlaHSFo7A=s64",
      "userId": "03315292090052971901"
     },
     "user_tz": -420
    },
    "id": "xA8YZE2GOj8S",
    "outputId": "d1def8b0-d3fe-4d05-ca61-d05913ed6ff4"
   },
   "outputs": [
    {
     "data": {
      "text/plain": [
       "50"
      ]
     },
     "execution_count": 14,
     "metadata": {},
     "output_type": "execute_result"
    }
   ],
   "source": [
    "vocab_size_tag = len(tag_tokenizer.index_word) + 1\n",
    "vocab_size_tag"
   ]
  },
  {
   "cell_type": "code",
   "execution_count": 15,
   "metadata": {
    "executionInfo": {
     "elapsed": 6,
     "status": "ok",
     "timestamp": 1647654381618,
     "user": {
      "displayName": "Thái Nguyễn Quốc",
      "photoUrl": "https://lh3.googleusercontent.com/a-/AOh14GhZLNSWy4-fLj7PmicmKxXQvi7xGOe2vDlaHSFo7A=s64",
      "userId": "03315292090052971901"
     },
     "user_tz": -420
    },
    "id": "CM2zGcJUOmPg"
   },
   "outputs": [],
   "source": [
    "train_padded_tags = pad_sequences(train_tags, maxlen=max_len_word, padding=\"post\")\n",
    "valid_padded_tags = pad_sequences(valid_tags, maxlen=max_len_word, padding=\"post\")"
   ]
  },
  {
   "cell_type": "code",
   "execution_count": 16,
   "metadata": {
    "colab": {
     "base_uri": "https://localhost:8080/"
    },
    "executionInfo": {
     "elapsed": 330,
     "status": "ok",
     "timestamp": 1647654384220,
     "user": {
      "displayName": "Thái Nguyễn Quốc",
      "photoUrl": "https://lh3.googleusercontent.com/a-/AOh14GhZLNSWy4-fLj7PmicmKxXQvi7xGOe2vDlaHSFo7A=s64",
      "userId": "03315292090052971901"
     },
     "user_tz": -420
    },
    "id": "PF8CZczWOoCF",
    "outputId": "427b2efe-aaa9-4f18-c7ce-bfc05a0332a0"
   },
   "outputs": [
    {
     "data": {
      "text/plain": [
       "((2739, 273), (587, 273))"
      ]
     },
     "execution_count": 16,
     "metadata": {},
     "output_type": "execute_result"
    }
   ],
   "source": [
    "train_padded_tags.shape, valid_padded_tags.shape"
   ]
  },
  {
   "cell_type": "code",
   "execution_count": 17,
   "metadata": {
    "executionInfo": {
     "elapsed": 7,
     "status": "ok",
     "timestamp": 1647654387621,
     "user": {
      "displayName": "Thái Nguyễn Quốc",
      "photoUrl": "https://lh3.googleusercontent.com/a-/AOh14GhZLNSWy4-fLj7PmicmKxXQvi7xGOe2vDlaHSFo7A=s64",
      "userId": "03315292090052971901"
     },
     "user_tz": -420
    },
    "id": "NwEl8K2zOsE2"
   },
   "outputs": [],
   "source": [
    "#convert to one hot encode\n",
    "train_padded_tags = to_categorical(train_padded_tags, num_classes=vocab_size_tag)\n",
    "valid_padded_tags = to_categorical(valid_padded_tags, num_classes=vocab_size_tag)"
   ]
  },
  {
   "cell_type": "code",
   "execution_count": 18,
   "metadata": {
    "colab": {
     "base_uri": "https://localhost:8080/"
    },
    "executionInfo": {
     "elapsed": 12,
     "status": "ok",
     "timestamp": 1647654388969,
     "user": {
      "displayName": "Thái Nguyễn Quốc",
      "photoUrl": "https://lh3.googleusercontent.com/a-/AOh14GhZLNSWy4-fLj7PmicmKxXQvi7xGOe2vDlaHSFo7A=s64",
      "userId": "03315292090052971901"
     },
     "user_tz": -420
    },
    "id": "ewQewpwzOwWo",
    "outputId": "ca556d9d-2cd9-4197-89d4-7030762a2a81"
   },
   "outputs": [
    {
     "data": {
      "text/plain": [
       "((2739, 273, 50), (587, 273, 50))"
      ]
     },
     "execution_count": 18,
     "metadata": {},
     "output_type": "execute_result"
    }
   ],
   "source": [
    "train_padded_tags.shape, valid_padded_tags.shape"
   ]
  },
  {
   "cell_type": "markdown",
   "metadata": {
    "id": "TpaY6jqyO7nG"
   },
   "source": [
    "### 3.Model"
   ]
  },
  {
   "cell_type": "code",
   "execution_count": 50,
   "metadata": {
    "executionInfo": {
     "elapsed": 321,
     "status": "ok",
     "timestamp": 1647655325936,
     "user": {
      "displayName": "Thái Nguyễn Quốc",
      "photoUrl": "https://lh3.googleusercontent.com/a-/AOh14GhZLNSWy4-fLj7PmicmKxXQvi7xGOe2vDlaHSFo7A=s64",
      "userId": "03315292090052971901"
     },
     "user_tz": -420
    },
    "id": "pOeLdZAePy_W"
   },
   "outputs": [],
   "source": [
    "embedding_dim = 200\n",
    "hidden_size   = 256\n",
    "batch_size    = 512\n",
    "epochs = 50"
   ]
  },
  {
   "cell_type": "markdown",
   "metadata": {
    "id": "YLQdJyslQ4JN"
   },
   "source": [
    "#### **RNN**"
   ]
  },
  {
   "cell_type": "code",
   "execution_count": null,
   "metadata": {
    "colab": {
     "base_uri": "https://localhost:8080/"
    },
    "executionInfo": {
     "elapsed": 325,
     "status": "ok",
     "timestamp": 1646369641865,
     "user": {
      "displayName": "Thái Nguyễn Quốc",
      "photoUrl": "https://lh3.googleusercontent.com/a-/AOh14GhZLNSWy4-fLj7PmicmKxXQvi7xGOe2vDlaHSFo7A=s64",
      "userId": "03315292090052971901"
     },
     "user_tz": -420
    },
    "id": "2rTThETGPxdd",
    "outputId": "3ef187f1-a055-497d-aeb2-0021bbe25780"
   },
   "outputs": [
    {
     "name": "stdout",
     "output_type": "stream",
     "text": [
      "Model: \"sequential_2\"\n",
      "_________________________________________________________________\n",
      " Layer (type)                Output Shape              Param #   \n",
      "=================================================================\n",
      " embedding_2 (Embedding)     (None, 271, 200)          1890200   \n",
      "                                                                 \n",
      " simple_rnn_2 (SimpleRNN)    (None, 271, 256)          116992    \n",
      "                                                                 \n",
      " time_distributed_2 (TimeDis  (None, 271, 48)          12336     \n",
      " tributed)                                                       \n",
      "                                                                 \n",
      " activation_2 (Activation)   (None, 271, 48)           0         \n",
      "                                                                 \n",
      "=================================================================\n",
      "Total params: 2,019,528\n",
      "Trainable params: 2,019,528\n",
      "Non-trainable params: 0\n",
      "_________________________________________________________________\n"
     ]
    }
   ],
   "source": [
    "model_rnn = Sequential()\n",
    "model_rnn.add(InputLayer(input_shape=(max_len_word,)))\n",
    "model_rnn.add(Embedding(vocab_size_word, embedding_dim))\n",
    "model_rnn.add(SimpleRNN(hidden_size, return_sequences=True))\n",
    "model_rnn.add(TimeDistributed(Dense(vocab_size_tag)))\n",
    "model_rnn.add(Activation('softmax'))\n",
    " \n",
    "model_rnn.compile(loss='categorical_crossentropy', \n",
    "                  optimizer='adam', \n",
    "                  metrics=['accuracy'])\n",
    "model_rnn.summary()"
   ]
  },
  {
   "cell_type": "code",
   "execution_count": null,
   "metadata": {
    "colab": {
     "base_uri": "https://localhost:8080/"
    },
    "executionInfo": {
     "elapsed": 62090,
     "status": "ok",
     "timestamp": 1646369715354,
     "user": {
      "displayName": "Thái Nguyễn Quốc",
      "photoUrl": "https://lh3.googleusercontent.com/a-/AOh14GhZLNSWy4-fLj7PmicmKxXQvi7xGOe2vDlaHSFo7A=s64",
      "userId": "03315292090052971901"
     },
     "user_tz": -420
    },
    "id": "Rm0Z0i1AQQow",
    "outputId": "5512fad6-a2a7-4682-b411-a12ea01abf66"
   },
   "outputs": [
    {
     "name": "stdout",
     "output_type": "stream",
     "text": [
      "Epoch 1/50\n",
      "6/6 [==============================] - 2s 246ms/step - loss: 2.2629 - accuracy: 0.5739 - val_loss: 0.5752 - val_accuracy: 0.9068\n",
      "Epoch 2/50\n",
      "6/6 [==============================] - 1s 204ms/step - loss: 0.6462 - accuracy: 0.9035 - val_loss: 1.0766 - val_accuracy: 0.8729\n",
      "Epoch 3/50\n",
      "6/6 [==============================] - 1s 200ms/step - loss: 5.5273 - accuracy: 0.4797 - val_loss: 1.8684 - val_accuracy: 0.7225\n",
      "Epoch 4/50\n",
      "6/6 [==============================] - 1s 204ms/step - loss: 1.0937 - accuracy: 0.8426 - val_loss: 0.7511 - val_accuracy: 0.9074\n",
      "Epoch 5/50\n",
      "6/6 [==============================] - 1s 203ms/step - loss: 0.6696 - accuracy: 0.9073 - val_loss: 0.5041 - val_accuracy: 0.9093\n",
      "Epoch 6/50\n",
      "6/6 [==============================] - 1s 209ms/step - loss: 0.4786 - accuracy: 0.9080 - val_loss: 0.4323 - val_accuracy: 0.9097\n",
      "Epoch 7/50\n",
      "6/6 [==============================] - 1s 207ms/step - loss: 0.4203 - accuracy: 0.9081 - val_loss: 0.4033 - val_accuracy: 0.9094\n",
      "Epoch 8/50\n",
      "6/6 [==============================] - 1s 203ms/step - loss: 0.3980 - accuracy: 0.9093 - val_loss: 0.3916 - val_accuracy: 0.9102\n",
      "Epoch 9/50\n",
      "6/6 [==============================] - 1s 206ms/step - loss: 0.3891 - accuracy: 0.9102 - val_loss: 0.3827 - val_accuracy: 0.9118\n",
      "Epoch 10/50\n",
      "6/6 [==============================] - 1s 206ms/step - loss: 0.3781 - accuracy: 0.9127 - val_loss: 0.3756 - val_accuracy: 0.9134\n",
      "Epoch 11/50\n",
      "6/6 [==============================] - 1s 203ms/step - loss: 0.3701 - accuracy: 0.9150 - val_loss: 0.3714 - val_accuracy: 0.9147\n",
      "Epoch 12/50\n",
      "6/6 [==============================] - 1s 203ms/step - loss: 0.3639 - accuracy: 0.9175 - val_loss: 0.3668 - val_accuracy: 0.9164\n",
      "Epoch 13/50\n",
      "6/6 [==============================] - 1s 205ms/step - loss: 0.3576 - accuracy: 0.9214 - val_loss: 0.3624 - val_accuracy: 0.9191\n",
      "Epoch 14/50\n",
      "6/6 [==============================] - 1s 203ms/step - loss: 0.3515 - accuracy: 0.9263 - val_loss: 0.3587 - val_accuracy: 0.9214\n",
      "Epoch 15/50\n",
      "6/6 [==============================] - 1s 204ms/step - loss: 0.3445 - accuracy: 0.9289 - val_loss: 0.3533 - val_accuracy: 0.9235\n",
      "Epoch 16/50\n",
      "6/6 [==============================] - 1s 203ms/step - loss: 0.3365 - accuracy: 0.9305 - val_loss: 0.3479 - val_accuracy: 0.9249\n",
      "Epoch 17/50\n",
      "6/6 [==============================] - 1s 201ms/step - loss: 0.3273 - accuracy: 0.9306 - val_loss: 0.3411 - val_accuracy: 0.9256\n",
      "Epoch 18/50\n",
      "6/6 [==============================] - 1s 204ms/step - loss: 0.3174 - accuracy: 0.9313 - val_loss: 0.3340 - val_accuracy: 0.9264\n",
      "Epoch 19/50\n",
      "6/6 [==============================] - 1s 204ms/step - loss: 0.3077 - accuracy: 0.9327 - val_loss: 0.3265 - val_accuracy: 0.9274\n",
      "Epoch 20/50\n",
      "6/6 [==============================] - 1s 201ms/step - loss: 0.2989 - accuracy: 0.9331 - val_loss: 0.3204 - val_accuracy: 0.9284\n",
      "Epoch 21/50\n",
      "6/6 [==============================] - 1s 202ms/step - loss: 0.2916 - accuracy: 0.9336 - val_loss: 0.3152 - val_accuracy: 0.9295\n",
      "Epoch 22/50\n",
      "6/6 [==============================] - 1s 205ms/step - loss: 0.2854 - accuracy: 0.9348 - val_loss: 0.3111 - val_accuracy: 0.9309\n",
      "Epoch 23/50\n",
      "6/6 [==============================] - 1s 198ms/step - loss: 0.2799 - accuracy: 0.9373 - val_loss: 0.3081 - val_accuracy: 0.9328\n",
      "Epoch 24/50\n",
      "6/6 [==============================] - 1s 204ms/step - loss: 0.2749 - accuracy: 0.9410 - val_loss: 0.3050 - val_accuracy: 0.9347\n",
      "Epoch 25/50\n",
      "6/6 [==============================] - 1s 204ms/step - loss: 0.2702 - accuracy: 0.9440 - val_loss: 0.3016 - val_accuracy: 0.9359\n",
      "Epoch 26/50\n",
      "6/6 [==============================] - 1s 202ms/step - loss: 0.2657 - accuracy: 0.9457 - val_loss: 0.2985 - val_accuracy: 0.9369\n",
      "Epoch 27/50\n",
      "6/6 [==============================] - 1s 208ms/step - loss: 0.2612 - accuracy: 0.9467 - val_loss: 0.2946 - val_accuracy: 0.9379\n",
      "Epoch 28/50\n",
      "6/6 [==============================] - 1s 202ms/step - loss: 0.2568 - accuracy: 0.9475 - val_loss: 0.2925 - val_accuracy: 0.9385\n",
      "Epoch 29/50\n",
      "6/6 [==============================] - 1s 200ms/step - loss: 0.2523 - accuracy: 0.9485 - val_loss: 0.2869 - val_accuracy: 0.9401\n",
      "Epoch 30/50\n",
      "6/6 [==============================] - 1s 206ms/step - loss: 0.2477 - accuracy: 0.9498 - val_loss: 0.2843 - val_accuracy: 0.9410\n",
      "Epoch 31/50\n",
      "6/6 [==============================] - 1s 202ms/step - loss: 0.2429 - accuracy: 0.9512 - val_loss: 0.2808 - val_accuracy: 0.9423\n",
      "Epoch 32/50\n",
      "6/6 [==============================] - 1s 203ms/step - loss: 0.2380 - accuracy: 0.9527 - val_loss: 0.2733 - val_accuracy: 0.9442\n",
      "Epoch 33/50\n",
      "6/6 [==============================] - 1s 207ms/step - loss: 0.2328 - accuracy: 0.9541 - val_loss: 0.2700 - val_accuracy: 0.9451\n",
      "Epoch 34/50\n",
      "6/6 [==============================] - 1s 202ms/step - loss: 0.2273 - accuracy: 0.9555 - val_loss: 0.2646 - val_accuracy: 0.9467\n",
      "Epoch 35/50\n",
      "6/6 [==============================] - 1s 208ms/step - loss: 0.2216 - accuracy: 0.9569 - val_loss: 0.2581 - val_accuracy: 0.9482\n",
      "Epoch 36/50\n",
      "6/6 [==============================] - 1s 204ms/step - loss: 0.2157 - accuracy: 0.9584 - val_loss: 0.2527 - val_accuracy: 0.9494\n",
      "Epoch 37/50\n",
      "6/6 [==============================] - 1s 202ms/step - loss: 0.2095 - accuracy: 0.9597 - val_loss: 0.2474 - val_accuracy: 0.9506\n",
      "Epoch 38/50\n",
      "6/6 [==============================] - 1s 207ms/step - loss: 0.2032 - accuracy: 0.9611 - val_loss: 0.2397 - val_accuracy: 0.9522\n",
      "Epoch 39/50\n",
      "6/6 [==============================] - 1s 202ms/step - loss: 0.1967 - accuracy: 0.9623 - val_loss: 0.2335 - val_accuracy: 0.9535\n",
      "Epoch 40/50\n",
      "6/6 [==============================] - 1s 200ms/step - loss: 0.1901 - accuracy: 0.9635 - val_loss: 0.2273 - val_accuracy: 0.9544\n",
      "Epoch 41/50\n",
      "6/6 [==============================] - 1s 207ms/step - loss: 0.1835 - accuracy: 0.9649 - val_loss: 0.2198 - val_accuracy: 0.9560\n",
      "Epoch 42/50\n",
      "6/6 [==============================] - 1s 202ms/step - loss: 0.1769 - accuracy: 0.9661 - val_loss: 0.2141 - val_accuracy: 0.9570\n",
      "Epoch 43/50\n",
      "6/6 [==============================] - 1s 202ms/step - loss: 0.1703 - accuracy: 0.9673 - val_loss: 0.2056 - val_accuracy: 0.9587\n",
      "Epoch 44/50\n",
      "6/6 [==============================] - 1s 204ms/step - loss: 0.1639 - accuracy: 0.9685 - val_loss: 0.2006 - val_accuracy: 0.9598\n",
      "Epoch 45/50\n",
      "6/6 [==============================] - 1s 210ms/step - loss: 0.1577 - accuracy: 0.9698 - val_loss: 0.1922 - val_accuracy: 0.9612\n",
      "Epoch 46/50\n",
      "6/6 [==============================] - 1s 199ms/step - loss: 0.1516 - accuracy: 0.9710 - val_loss: 0.1878 - val_accuracy: 0.9619\n",
      "Epoch 47/50\n",
      "6/6 [==============================] - 1s 208ms/step - loss: 0.1458 - accuracy: 0.9723 - val_loss: 0.1802 - val_accuracy: 0.9634\n",
      "Epoch 48/50\n",
      "6/6 [==============================] - 1s 206ms/step - loss: 0.1401 - accuracy: 0.9735 - val_loss: 0.1754 - val_accuracy: 0.9644\n",
      "Epoch 49/50\n",
      "6/6 [==============================] - 1s 198ms/step - loss: 0.1347 - accuracy: 0.9748 - val_loss: 0.1698 - val_accuracy: 0.9656\n",
      "Epoch 50/50\n",
      "6/6 [==============================] - 1s 240ms/step - loss: 0.1294 - accuracy: 0.9761 - val_loss: 0.1639 - val_accuracy: 0.9668\n"
     ]
    }
   ],
   "source": [
    "history_rnn = model_rnn.fit(train_padded_seqs, train_padded_tags, \n",
    "                            batch_size=batch_size, epochs=epochs, \n",
    "                            validation_data=(valid_padded_seqs, valid_padded_tags))"
   ]
  },
  {
   "cell_type": "code",
   "execution_count": null,
   "metadata": {
    "colab": {
     "base_uri": "https://localhost:8080/",
     "height": 573
    },
    "executionInfo": {
     "elapsed": 1334,
     "status": "ok",
     "timestamp": 1646369865181,
     "user": {
      "displayName": "Thái Nguyễn Quốc",
      "photoUrl": "https://lh3.googleusercontent.com/a-/AOh14GhZLNSWy4-fLj7PmicmKxXQvi7xGOe2vDlaHSFo7A=s64",
      "userId": "03315292090052971901"
     },
     "user_tz": -420
    },
    "id": "ZYSmHxq-SIGM",
    "outputId": "e54bc8ba-7d4d-435f-aa61-6fd6def34803"
   },
   "outputs": [
    {
     "data": {
      "image/png": "[encoded data removed]",
      "text/plain": [
       "<Figure size 432x288 with 1 Axes>"
      ]
     },
     "metadata": {
      "needs_background": "light"
     },
     "output_type": "display_data"
    },
    {
     "data": {
      "image/png": "[encoded data removed]",
      "text/plain": [
       "<Figure size 432x288 with 1 Axes>"
      ]
     },
     "metadata": {
      "needs_background": "light"
     },
     "output_type": "display_data"
    }
   ],
   "source": [
    "# summarize history for accuracy\n",
    "plt.plot(history_rnn.history['accuracy'])\n",
    "plt.plot(history_rnn.history['val_accuracy'])\n",
    "plt.title('model accuracy')\n",
    "plt.ylabel('accuracy')\n",
    "plt.xlabel('epoch')\n",
    "plt.legend(['train', 'test'], loc='lower right')\n",
    "plt.show()\n",
    "# summarize history for loss\n",
    "plt.plot(history_rnn.history['loss'])\n",
    "plt.plot(history_rnn.history['val_loss'])\n",
    "plt.title('model loss')\n",
    "plt.ylabel('loss')\n",
    "plt.xlabel('epoch')\n",
    "plt.legend(['train', 'test'], loc='upper right')\n",
    "plt.show()"
   ]
  },
  {
   "cell_type": "code",
   "execution_count": null,
   "metadata": {},
   "outputs": [],
   "source": []
  },
  {
   "cell_type": "code",
   "execution_count": null,
   "metadata": {},
   "outputs": [],
   "source": []
  },
  {
   "cell_type": "markdown",
   "metadata": {
    "id": "jw67Zn-HSulb"
   },
   "source": [
    "#### **LSTM**"
   ]
  },
  {
   "cell_type": "code",
   "execution_count": null,
   "metadata": {
    "colab": {
     "base_uri": "https://localhost:8080/"
    },
    "executionInfo": {
     "elapsed": 792,
     "status": "ok",
     "timestamp": 1646369929259,
     "user": {
      "displayName": "Thái Nguyễn Quốc",
      "photoUrl": "https://lh3.googleusercontent.com/a-/AOh14GhZLNSWy4-fLj7PmicmKxXQvi7xGOe2vDlaHSFo7A=s64",
      "userId": "03315292090052971901"
     },
     "user_tz": -420
    },
    "id": "9lXsInJASwtG",
    "outputId": "e787a3c8-63b4-49d2-ee56-4df6ad658f37"
   },
   "outputs": [
    {
     "name": "stdout",
     "output_type": "stream",
     "text": [
      "Model: \"sequential_3\"\n",
      "_________________________________________________________________\n",
      " Layer (type)                Output Shape              Param #   \n",
      "=================================================================\n",
      " embedding_3 (Embedding)     (None, 271, 200)          1890200   \n",
      "                                                                 \n",
      " lstm (LSTM)                 (None, 271, 256)          467968    \n",
      "                                                                 \n",
      " time_distributed_3 (TimeDis  (None, 271, 48)          12336     \n",
      " tributed)                                                       \n",
      "                                                                 \n",
      " activation_3 (Activation)   (None, 271, 48)           0         \n",
      "                                                                 \n",
      "=================================================================\n",
      "Total params: 2,370,504\n",
      "Trainable params: 2,370,504\n",
      "Non-trainable params: 0\n",
      "_________________________________________________________________\n"
     ]
    }
   ],
   "source": [
    "model_lstm = Sequential()\n",
    "model_lstm.add(InputLayer(input_shape=(max_len_word,)))\n",
    "model_lstm.add(Embedding(vocab_size_word, embedding_dim))\n",
    "model_lstm.add(LSTM(hidden_size, return_sequences=True))\n",
    "model_lstm.add(TimeDistributed(Dense(vocab_size_tag)))\n",
    "model_lstm.add(Activation('softmax'))\n",
    " \n",
    "model_lstm.compile(loss='categorical_crossentropy', \n",
    "                   optimizer='adam', \n",
    "                   metrics=['accuracy'])\n",
    "model_lstm.summary()"
   ]
  },
  {
   "cell_type": "code",
   "execution_count": null,
   "metadata": {
    "colab": {
     "base_uri": "https://localhost:8080/"
    },
    "executionInfo": {
     "elapsed": 40245,
     "status": "ok",
     "timestamp": 1646370002584,
     "user": {
      "displayName": "Thái Nguyễn Quốc",
      "photoUrl": "https://lh3.googleusercontent.com/a-/AOh14GhZLNSWy4-fLj7PmicmKxXQvi7xGOe2vDlaHSFo7A=s64",
      "userId": "03315292090052971901"
     },
     "user_tz": -420
    },
    "id": "0Zmg1o3bS5wl",
    "outputId": "59b3fc8c-59ae-4814-afa4-462c3fa1ba90"
   },
   "outputs": [
    {
     "name": "stdout",
     "output_type": "stream",
     "text": [
      "Epoch 1/50\n",
      "6/6 [==============================] - 4s 206ms/step - loss: 3.1506 - accuracy: 0.7357 - val_loss: 0.4650 - val_accuracy: 0.9066\n",
      "Epoch 2/50\n",
      "6/6 [==============================] - 1s 124ms/step - loss: 0.5086 - accuracy: 0.9047 - val_loss: 0.5749 - val_accuracy: 0.9066\n",
      "Epoch 3/50\n",
      "6/6 [==============================] - 1s 122ms/step - loss: 0.5528 - accuracy: 0.9026 - val_loss: 0.4808 - val_accuracy: 0.9001\n",
      "Epoch 4/50\n",
      "6/6 [==============================] - 1s 126ms/step - loss: 0.4588 - accuracy: 0.9009 - val_loss: 0.4331 - val_accuracy: 0.9073\n",
      "Epoch 5/50\n",
      "6/6 [==============================] - 1s 126ms/step - loss: 0.4173 - accuracy: 0.9058 - val_loss: 0.4019 - val_accuracy: 0.9080\n",
      "Epoch 6/50\n",
      "6/6 [==============================] - 1s 123ms/step - loss: 0.3998 - accuracy: 0.9069 - val_loss: 0.3860 - val_accuracy: 0.9081\n",
      "Epoch 7/50\n",
      "6/6 [==============================] - 1s 118ms/step - loss: 0.3859 - accuracy: 0.9067 - val_loss: 0.3835 - val_accuracy: 0.9076\n",
      "Epoch 8/50\n",
      "6/6 [==============================] - 1s 128ms/step - loss: 0.3764 - accuracy: 0.9060 - val_loss: 0.3750 - val_accuracy: 0.9075\n",
      "Epoch 9/50\n",
      "6/6 [==============================] - 1s 121ms/step - loss: 0.3698 - accuracy: 0.9058 - val_loss: 0.3739 - val_accuracy: 0.9073\n",
      "Epoch 10/50\n",
      "6/6 [==============================] - 1s 120ms/step - loss: 0.3639 - accuracy: 0.9057 - val_loss: 0.3671 - val_accuracy: 0.9073\n",
      "Epoch 11/50\n",
      "6/6 [==============================] - 1s 122ms/step - loss: 0.3581 - accuracy: 0.9056 - val_loss: 0.3592 - val_accuracy: 0.9072\n",
      "Epoch 12/50\n",
      "6/6 [==============================] - 1s 125ms/step - loss: 0.3518 - accuracy: 0.9056 - val_loss: 0.3564 - val_accuracy: 0.9073\n",
      "Epoch 13/50\n",
      "6/6 [==============================] - 1s 119ms/step - loss: 0.3458 - accuracy: 0.9060 - val_loss: 0.3488 - val_accuracy: 0.9077\n",
      "Epoch 14/50\n",
      "6/6 [==============================] - 1s 121ms/step - loss: 0.3412 - accuracy: 0.9075 - val_loss: 0.3415 - val_accuracy: 0.9084\n",
      "Epoch 15/50\n",
      "6/6 [==============================] - 1s 122ms/step - loss: 0.3364 - accuracy: 0.9089 - val_loss: 0.3352 - val_accuracy: 0.9091\n",
      "Epoch 16/50\n",
      "6/6 [==============================] - 1s 126ms/step - loss: 0.3320 - accuracy: 0.9095 - val_loss: 0.3329 - val_accuracy: 0.9097\n",
      "Epoch 17/50\n",
      "6/6 [==============================] - 1s 123ms/step - loss: 0.3274 - accuracy: 0.9100 - val_loss: 0.3301 - val_accuracy: 0.9110\n",
      "Epoch 18/50\n",
      "6/6 [==============================] - 1s 118ms/step - loss: 0.3238 - accuracy: 0.9110 - val_loss: 0.3237 - val_accuracy: 0.9126\n",
      "Epoch 19/50\n",
      "6/6 [==============================] - 1s 120ms/step - loss: 0.3200 - accuracy: 0.9121 - val_loss: 0.3150 - val_accuracy: 0.9143\n",
      "Epoch 20/50\n",
      "6/6 [==============================] - 1s 122ms/step - loss: 0.3167 - accuracy: 0.9129 - val_loss: 0.3123 - val_accuracy: 0.9148\n",
      "Epoch 21/50\n",
      "6/6 [==============================] - 1s 123ms/step - loss: 0.3134 - accuracy: 0.9133 - val_loss: 0.3100 - val_accuracy: 0.9153\n",
      "Epoch 22/50\n",
      "6/6 [==============================] - 1s 121ms/step - loss: 0.3106 - accuracy: 0.9139 - val_loss: 0.3069 - val_accuracy: 0.9169\n",
      "Epoch 23/50\n",
      "6/6 [==============================] - 1s 121ms/step - loss: 0.3078 - accuracy: 0.9148 - val_loss: 0.3044 - val_accuracy: 0.9178\n",
      "Epoch 24/50\n",
      "6/6 [==============================] - 1s 124ms/step - loss: 0.3049 - accuracy: 0.9156 - val_loss: 0.3028 - val_accuracy: 0.9183\n",
      "Epoch 25/50\n",
      "6/6 [==============================] - 1s 122ms/step - loss: 0.3020 - accuracy: 0.9161 - val_loss: 0.3019 - val_accuracy: 0.9188\n",
      "Epoch 26/50\n",
      "6/6 [==============================] - 1s 125ms/step - loss: 0.2994 - accuracy: 0.9171 - val_loss: 0.3054 - val_accuracy: 0.9188\n",
      "Epoch 27/50\n",
      "6/6 [==============================] - 1s 118ms/step - loss: 0.2968 - accuracy: 0.9180 - val_loss: 0.3011 - val_accuracy: 0.9196\n",
      "Epoch 28/50\n",
      "6/6 [==============================] - 1s 123ms/step - loss: 0.2944 - accuracy: 0.9186 - val_loss: 0.2980 - val_accuracy: 0.9200\n",
      "Epoch 29/50\n",
      "6/6 [==============================] - 1s 123ms/step - loss: 0.2922 - accuracy: 0.9189 - val_loss: 0.2959 - val_accuracy: 0.9204\n",
      "Epoch 30/50\n",
      "6/6 [==============================] - 1s 120ms/step - loss: 0.2904 - accuracy: 0.9192 - val_loss: 0.2919 - val_accuracy: 0.9208\n",
      "Epoch 31/50\n",
      "6/6 [==============================] - 1s 116ms/step - loss: 0.2884 - accuracy: 0.9196 - val_loss: 0.2891 - val_accuracy: 0.9219\n",
      "Epoch 32/50\n",
      "6/6 [==============================] - 1s 123ms/step - loss: 0.2865 - accuracy: 0.9203 - val_loss: 0.2937 - val_accuracy: 0.9216\n",
      "Epoch 33/50\n",
      "6/6 [==============================] - 1s 128ms/step - loss: 0.2848 - accuracy: 0.9206 - val_loss: 0.2859 - val_accuracy: 0.9225\n",
      "Epoch 34/50\n",
      "6/6 [==============================] - 1s 123ms/step - loss: 0.2832 - accuracy: 0.9213 - val_loss: 0.2876 - val_accuracy: 0.9229\n",
      "Epoch 35/50\n",
      "6/6 [==============================] - 1s 126ms/step - loss: 0.2815 - accuracy: 0.9217 - val_loss: 0.2839 - val_accuracy: 0.9233\n",
      "Epoch 36/50\n",
      "6/6 [==============================] - 1s 123ms/step - loss: 0.2800 - accuracy: 0.9223 - val_loss: 0.2805 - val_accuracy: 0.9247\n",
      "Epoch 37/50\n",
      "6/6 [==============================] - 1s 119ms/step - loss: 0.2787 - accuracy: 0.9233 - val_loss: 0.2824 - val_accuracy: 0.9241\n",
      "Epoch 38/50\n",
      "6/6 [==============================] - 1s 123ms/step - loss: 0.2769 - accuracy: 0.9241 - val_loss: 0.2765 - val_accuracy: 0.9273\n",
      "Epoch 39/50\n",
      "6/6 [==============================] - 1s 123ms/step - loss: 0.2749 - accuracy: 0.9261 - val_loss: 0.2784 - val_accuracy: 0.9266\n",
      "Epoch 40/50\n",
      "6/6 [==============================] - 1s 123ms/step - loss: 0.2732 - accuracy: 0.9267 - val_loss: 0.2757 - val_accuracy: 0.9274\n",
      "Epoch 41/50\n",
      "6/6 [==============================] - 1s 117ms/step - loss: 0.2711 - accuracy: 0.9282 - val_loss: 0.2702 - val_accuracy: 0.9312\n",
      "Epoch 42/50\n",
      "6/6 [==============================] - 1s 121ms/step - loss: 0.2686 - accuracy: 0.9301 - val_loss: 0.2720 - val_accuracy: 0.9306\n",
      "Epoch 43/50\n",
      "6/6 [==============================] - 1s 123ms/step - loss: 0.2662 - accuracy: 0.9319 - val_loss: 0.2693 - val_accuracy: 0.9316\n",
      "Epoch 44/50\n",
      "6/6 [==============================] - 1s 123ms/step - loss: 0.2634 - accuracy: 0.9325 - val_loss: 0.2623 - val_accuracy: 0.9348\n",
      "Epoch 45/50\n",
      "6/6 [==============================] - 1s 119ms/step - loss: 0.2601 - accuracy: 0.9343 - val_loss: 0.2595 - val_accuracy: 0.9367\n",
      "Epoch 46/50\n",
      "6/6 [==============================] - 1s 121ms/step - loss: 0.2566 - accuracy: 0.9360 - val_loss: 0.2570 - val_accuracy: 0.9369\n",
      "Epoch 47/50\n",
      "6/6 [==============================] - 1s 124ms/step - loss: 0.2521 - accuracy: 0.9376 - val_loss: 0.2539 - val_accuracy: 0.9384\n",
      "Epoch 48/50\n",
      "6/6 [==============================] - 1s 123ms/step - loss: 0.2475 - accuracy: 0.9393 - val_loss: 0.2494 - val_accuracy: 0.9394\n",
      "Epoch 49/50\n",
      "6/6 [==============================] - 1s 127ms/step - loss: 0.2429 - accuracy: 0.9405 - val_loss: 0.2461 - val_accuracy: 0.9398\n",
      "Epoch 50/50\n",
      "6/6 [==============================] - 1s 116ms/step - loss: 0.2387 - accuracy: 0.9417 - val_loss: 0.2364 - val_accuracy: 0.9439\n"
     ]
    }
   ],
   "source": [
    "history_lstm = model_lstm.fit(train_padded_seqs, train_padded_tags, \n",
    "                             batch_size=batch_size, \n",
    "                             epochs=epochs, \n",
    "                             validation_data=(valid_padded_seqs, valid_padded_tags))"
   ]
  },
  {
   "cell_type": "code",
   "execution_count": null,
   "metadata": {
    "colab": {
     "base_uri": "https://localhost:8080/",
     "height": 573
    },
    "executionInfo": {
     "elapsed": 748,
     "status": "ok",
     "timestamp": 1646370080672,
     "user": {
      "displayName": "Thái Nguyễn Quốc",
      "photoUrl": "https://lh3.googleusercontent.com/a-/AOh14GhZLNSWy4-fLj7PmicmKxXQvi7xGOe2vDlaHSFo7A=s64",
      "userId": "03315292090052971901"
     },
     "user_tz": -420
    },
    "id": "5CefJCCFTYYc",
    "outputId": "11c54579-b5e8-4f09-a0dc-8d12722f9484"
   },
   "outputs": [
    {
     "data": {
      "image/png": "[encoded data removed]",
      "text/plain": [
       "<Figure size 432x288 with 1 Axes>"
      ]
     },
     "metadata": {
      "needs_background": "light"
     },
     "output_type": "display_data"
    },
    {
     "data": {
      "image/png": "[encoded data removed]",
      "text/plain": [
       "<Figure size 432x288 with 1 Axes>"
      ]
     },
     "metadata": {
      "needs_background": "light"
     },
     "output_type": "display_data"
    }
   ],
   "source": [
    "# summarize history for accuracy\n",
    "plt.plot(history_lstm.history['accuracy'])\n",
    "plt.plot(history_lstm.history['val_accuracy'])\n",
    "plt.title('model accuracy')\n",
    "plt.ylabel('accuracy')\n",
    "plt.xlabel('epoch')\n",
    "plt.legend(['train', 'test'], loc='lower right')\n",
    "plt.show()\n",
    "# summarize history for loss\n",
    "plt.plot(history_lstm.history['loss'])\n",
    "plt.plot(history_lstm.history['val_loss'])\n",
    "plt.title('model loss')\n",
    "plt.ylabel('loss')\n",
    "plt.xlabel('epoch')\n",
    "plt.legend(['train', 'test'], loc='upper right')\n",
    "plt.show()"
   ]
  },
  {
   "cell_type": "code",
   "execution_count": null,
   "metadata": {},
   "outputs": [],
   "source": []
  },
  {
   "cell_type": "code",
   "execution_count": null,
   "metadata": {},
   "outputs": [],
   "source": []
  },
  {
   "cell_type": "markdown",
   "metadata": {
    "id": "FWNDTB1uTh1N"
   },
   "source": [
    "#### **GRU**"
   ]
  },
  {
   "cell_type": "code",
   "execution_count": null,
   "metadata": {
    "colab": {
     "base_uri": "https://localhost:8080/"
    },
    "executionInfo": {
     "elapsed": 359,
     "status": "ok",
     "timestamp": 1646370137607,
     "user": {
      "displayName": "Thái Nguyễn Quốc",
      "photoUrl": "https://lh3.googleusercontent.com/a-/AOh14GhZLNSWy4-fLj7PmicmKxXQvi7xGOe2vDlaHSFo7A=s64",
      "userId": "03315292090052971901"
     },
     "user_tz": -420
    },
    "id": "OQ8KWc1uThM1",
    "outputId": "7537e272-d76f-4ed4-c2bc-089c5d9116ba"
   },
   "outputs": [
    {
     "name": "stdout",
     "output_type": "stream",
     "text": [
      "Model: \"sequential_4\"\n",
      "_________________________________________________________________\n",
      " Layer (type)                Output Shape              Param #   \n",
      "=================================================================\n",
      " embedding_4 (Embedding)     (None, 271, 200)          1890200   \n",
      "                                                                 \n",
      " gru (GRU)                   (None, 271, 256)          351744    \n",
      "                                                                 \n",
      " time_distributed_4 (TimeDis  (None, 271, 48)          12336     \n",
      " tributed)                                                       \n",
      "                                                                 \n",
      " activation_4 (Activation)   (None, 271, 48)           0         \n",
      "                                                                 \n",
      "=================================================================\n",
      "Total params: 2,254,280\n",
      "Trainable params: 2,254,280\n",
      "Non-trainable params: 0\n",
      "_________________________________________________________________\n"
     ]
    }
   ],
   "source": [
    "model_gru = Sequential()\n",
    "model_gru.add(InputLayer(input_shape=(max_len_word,)))\n",
    "model_gru.add(Embedding(vocab_size_word, embedding_dim))\n",
    "model_gru.add(GRU(hidden_size, return_sequences=True))\n",
    "model_gru.add(TimeDistributed(Dense(vocab_size_tag)))\n",
    "model_gru.add(Activation('softmax'))\n",
    " \n",
    "model_gru.compile(loss='categorical_crossentropy', \n",
    "                  optimizer='adam', \n",
    "                  metrics=['accuracy'])\n",
    "model_gru.summary()"
   ]
  },
  {
   "cell_type": "code",
   "execution_count": null,
   "metadata": {
    "colab": {
     "base_uri": "https://localhost:8080/"
    },
    "executionInfo": {
     "elapsed": 42739,
     "status": "ok",
     "timestamp": 1646370206325,
     "user": {
      "displayName": "Thái Nguyễn Quốc",
      "photoUrl": "https://lh3.googleusercontent.com/a-/AOh14GhZLNSWy4-fLj7PmicmKxXQvi7xGOe2vDlaHSFo7A=s64",
      "userId": "03315292090052971901"
     },
     "user_tz": -420
    },
    "id": "LBqL6xAETtn9",
    "outputId": "3b39bb06-926a-4154-b879-c9a6cbecf3f4"
   },
   "outputs": [
    {
     "name": "stdout",
     "output_type": "stream",
     "text": [
      "Epoch 1/50\n",
      "6/6 [==============================] - 2s 184ms/step - loss: 3.4691 - accuracy: 0.7361 - val_loss: 2.3078 - val_accuracy: 0.9066\n",
      "Epoch 2/50\n",
      "6/6 [==============================] - 1s 112ms/step - loss: 1.0519 - accuracy: 0.9047 - val_loss: 0.6158 - val_accuracy: 0.9066\n",
      "Epoch 3/50\n",
      "6/6 [==============================] - 1s 104ms/step - loss: 0.6173 - accuracy: 0.9049 - val_loss: 0.3815 - val_accuracy: 0.9099\n",
      "Epoch 4/50\n",
      "6/6 [==============================] - 1s 107ms/step - loss: 0.3822 - accuracy: 0.9138 - val_loss: 0.3809 - val_accuracy: 0.9114\n",
      "Epoch 5/50\n",
      "6/6 [==============================] - 1s 102ms/step - loss: 0.3904 - accuracy: 0.9075 - val_loss: 0.3797 - val_accuracy: 0.9091\n",
      "Epoch 6/50\n",
      "6/6 [==============================] - 1s 106ms/step - loss: 0.3861 - accuracy: 0.9072 - val_loss: 0.3738 - val_accuracy: 0.9109\n",
      "Epoch 7/50\n",
      "6/6 [==============================] - 1s 102ms/step - loss: 0.3793 - accuracy: 0.9093 - val_loss: 0.3675 - val_accuracy: 0.9160\n",
      "Epoch 8/50\n",
      "6/6 [==============================] - 1s 111ms/step - loss: 0.3727 - accuracy: 0.9179 - val_loss: 0.3619 - val_accuracy: 0.9307\n",
      "Epoch 9/50\n",
      "6/6 [==============================] - 1s 102ms/step - loss: 0.3669 - accuracy: 0.9295 - val_loss: 0.3570 - val_accuracy: 0.9332\n",
      "Epoch 10/50\n",
      "6/6 [==============================] - 1s 105ms/step - loss: 0.3620 - accuracy: 0.9303 - val_loss: 0.3528 - val_accuracy: 0.9337\n",
      "Epoch 11/50\n",
      "6/6 [==============================] - 1s 101ms/step - loss: 0.3576 - accuracy: 0.9311 - val_loss: 0.3487 - val_accuracy: 0.9343\n",
      "Epoch 12/50\n",
      "6/6 [==============================] - 1s 102ms/step - loss: 0.3529 - accuracy: 0.9318 - val_loss: 0.3440 - val_accuracy: 0.9343\n",
      "Epoch 13/50\n",
      "6/6 [==============================] - 1s 110ms/step - loss: 0.3474 - accuracy: 0.9319 - val_loss: 0.3379 - val_accuracy: 0.9336\n",
      "Epoch 14/50\n",
      "6/6 [==============================] - 1s 102ms/step - loss: 0.3396 - accuracy: 0.9315 - val_loss: 0.3285 - val_accuracy: 0.9325\n",
      "Epoch 15/50\n",
      "6/6 [==============================] - 1s 103ms/step - loss: 0.3270 - accuracy: 0.9305 - val_loss: 0.3121 - val_accuracy: 0.9304\n",
      "Epoch 16/50\n",
      "6/6 [==============================] - 1s 111ms/step - loss: 0.3073 - accuracy: 0.9269 - val_loss: 0.2943 - val_accuracy: 0.9284\n",
      "Epoch 17/50\n",
      "6/6 [==============================] - 1s 108ms/step - loss: 0.2962 - accuracy: 0.9258 - val_loss: 0.2861 - val_accuracy: 0.9255\n",
      "Epoch 18/50\n",
      "6/6 [==============================] - 1s 103ms/step - loss: 0.2873 - accuracy: 0.9236 - val_loss: 0.2787 - val_accuracy: 0.9255\n",
      "Epoch 19/50\n",
      "6/6 [==============================] - 1s 102ms/step - loss: 0.2815 - accuracy: 0.9234 - val_loss: 0.2750 - val_accuracy: 0.9263\n",
      "Epoch 20/50\n",
      "6/6 [==============================] - 1s 110ms/step - loss: 0.2775 - accuracy: 0.9244 - val_loss: 0.2710 - val_accuracy: 0.9273\n",
      "Epoch 21/50\n",
      "6/6 [==============================] - 1s 106ms/step - loss: 0.2739 - accuracy: 0.9281 - val_loss: 0.2679 - val_accuracy: 0.9331\n",
      "Epoch 22/50\n",
      "6/6 [==============================] - 1s 110ms/step - loss: 0.2709 - accuracy: 0.9321 - val_loss: 0.2650 - val_accuracy: 0.9326\n",
      "Epoch 23/50\n",
      "6/6 [==============================] - 1s 105ms/step - loss: 0.2677 - accuracy: 0.9310 - val_loss: 0.2620 - val_accuracy: 0.9328\n",
      "Epoch 24/50\n",
      "6/6 [==============================] - 1s 111ms/step - loss: 0.2644 - accuracy: 0.9321 - val_loss: 0.2587 - val_accuracy: 0.9358\n",
      "Epoch 25/50\n",
      "6/6 [==============================] - 1s 102ms/step - loss: 0.2608 - accuracy: 0.9358 - val_loss: 0.2550 - val_accuracy: 0.9384\n",
      "Epoch 26/50\n",
      "6/6 [==============================] - 1s 103ms/step - loss: 0.2568 - accuracy: 0.9376 - val_loss: 0.2508 - val_accuracy: 0.9396\n",
      "Epoch 27/50\n",
      "6/6 [==============================] - 1s 111ms/step - loss: 0.2522 - accuracy: 0.9384 - val_loss: 0.2461 - val_accuracy: 0.9414\n",
      "Epoch 28/50\n",
      "6/6 [==============================] - 1s 106ms/step - loss: 0.2469 - accuracy: 0.9416 - val_loss: 0.2406 - val_accuracy: 0.9474\n",
      "Epoch 29/50\n",
      "6/6 [==============================] - 1s 111ms/step - loss: 0.2408 - accuracy: 0.9472 - val_loss: 0.2343 - val_accuracy: 0.9488\n",
      "Epoch 30/50\n",
      "6/6 [==============================] - 1s 102ms/step - loss: 0.2337 - accuracy: 0.9481 - val_loss: 0.2271 - val_accuracy: 0.9496\n",
      "Epoch 31/50\n",
      "6/6 [==============================] - 1s 109ms/step - loss: 0.2257 - accuracy: 0.9493 - val_loss: 0.2190 - val_accuracy: 0.9511\n",
      "Epoch 32/50\n",
      "6/6 [==============================] - 1s 101ms/step - loss: 0.2168 - accuracy: 0.9515 - val_loss: 0.2101 - val_accuracy: 0.9528\n",
      "Epoch 33/50\n",
      "6/6 [==============================] - 1s 102ms/step - loss: 0.2070 - accuracy: 0.9530 - val_loss: 0.2006 - val_accuracy: 0.9538\n",
      "Epoch 34/50\n",
      "6/6 [==============================] - 1s 105ms/step - loss: 0.1967 - accuracy: 0.9544 - val_loss: 0.1908 - val_accuracy: 0.9554\n",
      "Epoch 35/50\n",
      "6/6 [==============================] - 1s 109ms/step - loss: 0.1862 - accuracy: 0.9566 - val_loss: 0.1810 - val_accuracy: 0.9578\n",
      "Epoch 36/50\n",
      "6/6 [==============================] - 1s 106ms/step - loss: 0.1757 - accuracy: 0.9592 - val_loss: 0.1716 - val_accuracy: 0.9605\n",
      "Epoch 37/50\n",
      "6/6 [==============================] - 1s 103ms/step - loss: 0.1656 - accuracy: 0.9622 - val_loss: 0.1625 - val_accuracy: 0.9621\n",
      "Epoch 38/50\n",
      "6/6 [==============================] - 1s 109ms/step - loss: 0.1559 - accuracy: 0.9647 - val_loss: 0.1541 - val_accuracy: 0.9648\n",
      "Epoch 39/50\n",
      "6/6 [==============================] - 1s 104ms/step - loss: 0.1467 - accuracy: 0.9674 - val_loss: 0.1461 - val_accuracy: 0.9668\n",
      "Epoch 40/50\n",
      "6/6 [==============================] - 1s 102ms/step - loss: 0.1380 - accuracy: 0.9695 - val_loss: 0.1387 - val_accuracy: 0.9684\n",
      "Epoch 41/50\n",
      "6/6 [==============================] - 1s 101ms/step - loss: 0.1298 - accuracy: 0.9715 - val_loss: 0.1316 - val_accuracy: 0.9703\n",
      "Epoch 42/50\n",
      "6/6 [==============================] - 1s 108ms/step - loss: 0.1218 - accuracy: 0.9737 - val_loss: 0.1249 - val_accuracy: 0.9719\n",
      "Epoch 43/50\n",
      "6/6 [==============================] - 1s 106ms/step - loss: 0.1142 - accuracy: 0.9759 - val_loss: 0.1186 - val_accuracy: 0.9735\n",
      "Epoch 44/50\n",
      "6/6 [==============================] - 1s 103ms/step - loss: 0.1069 - accuracy: 0.9776 - val_loss: 0.1126 - val_accuracy: 0.9746\n",
      "Epoch 45/50\n",
      "6/6 [==============================] - 1s 110ms/step - loss: 0.1000 - accuracy: 0.9792 - val_loss: 0.1069 - val_accuracy: 0.9757\n",
      "Epoch 46/50\n",
      "6/6 [==============================] - 1s 109ms/step - loss: 0.0933 - accuracy: 0.9810 - val_loss: 0.1014 - val_accuracy: 0.9774\n",
      "Epoch 47/50\n",
      "6/6 [==============================] - 1s 105ms/step - loss: 0.0870 - accuracy: 0.9828 - val_loss: 0.0963 - val_accuracy: 0.9787\n",
      "Epoch 48/50\n",
      "6/6 [==============================] - 1s 106ms/step - loss: 0.0810 - accuracy: 0.9844 - val_loss: 0.0915 - val_accuracy: 0.9798\n",
      "Epoch 49/50\n",
      "6/6 [==============================] - 1s 101ms/step - loss: 0.0753 - accuracy: 0.9857 - val_loss: 0.0870 - val_accuracy: 0.9808\n",
      "Epoch 50/50\n",
      "6/6 [==============================] - 1s 105ms/step - loss: 0.0701 - accuracy: 0.9868 - val_loss: 0.0828 - val_accuracy: 0.9816\n"
     ]
    }
   ],
   "source": [
    "history_gru = model_gru.fit(train_padded_seqs, train_padded_tags, \n",
    "                             batch_size=batch_size, \n",
    "                             epochs=epochs, \n",
    "                             validation_data=(valid_padded_seqs, valid_padded_tags))"
   ]
  },
  {
   "cell_type": "code",
   "execution_count": null,
   "metadata": {
    "colab": {
     "base_uri": "https://localhost:8080/",
     "height": 573
    },
    "executionInfo": {
     "elapsed": 430,
     "status": "ok",
     "timestamp": 1646370218753,
     "user": {
      "displayName": "Thái Nguyễn Quốc",
      "photoUrl": "https://lh3.googleusercontent.com/a-/AOh14GhZLNSWy4-fLj7PmicmKxXQvi7xGOe2vDlaHSFo7A=s64",
      "userId": "03315292090052971901"
     },
     "user_tz": -420
    },
    "id": "C3wNLAj2T6OD",
    "outputId": "9bb7a47b-d8f3-4956-daeb-6fe8f2e5d432"
   },
   "outputs": [
    {
     "data": {
      "image/png": "[encoded data removed]",
      "text/plain": [
       "<Figure size 432x288 with 1 Axes>"
      ]
     },
     "metadata": {
      "needs_background": "light"
     },
     "output_type": "display_data"
    },
    {
     "data": {
      "image/png": "[encoded data removed]",
      "text/plain": [
       "<Figure size 432x288 with 1 Axes>"
      ]
     },
     "metadata": {
      "needs_background": "light"
     },
     "output_type": "display_data"
    }
   ],
   "source": [
    "# summarize history for accuracy\n",
    "plt.plot(history_gru.history['accuracy'])\n",
    "plt.plot(history_gru.history['val_accuracy'])\n",
    "plt.title('model accuracy')\n",
    "plt.ylabel('accuracy')\n",
    "plt.xlabel('epoch')\n",
    "plt.legend(['train', 'test'], loc='lower right')\n",
    "plt.show()\n",
    "# summarize history for loss\n",
    "plt.plot(history_gru.history['loss'])\n",
    "plt.plot(history_gru.history['val_loss'])\n",
    "plt.title('model loss')\n",
    "plt.ylabel('loss')\n",
    "plt.xlabel('epoch')\n",
    "plt.legend(['train', 'test'], loc='upper right')\n",
    "plt.show()"
   ]
  },
  {
   "cell_type": "code",
   "execution_count": null,
   "metadata": {},
   "outputs": [],
   "source": []
  },
  {
   "cell_type": "markdown",
   "metadata": {
    "id": "iHk0ytwjUBpR"
   },
   "source": [
    "#### **Bidirectional GRU**"
   ]
  },
  {
   "cell_type": "code",
   "execution_count": null,
   "metadata": {
    "colab": {
     "base_uri": "https://localhost:8080/"
    },
    "executionInfo": {
     "elapsed": 822,
     "status": "ok",
     "timestamp": 1646370329769,
     "user": {
      "displayName": "Thái Nguyễn Quốc",
      "photoUrl": "https://lh3.googleusercontent.com/a-/AOh14GhZLNSWy4-fLj7PmicmKxXQvi7xGOe2vDlaHSFo7A=s64",
      "userId": "03315292090052971901"
     },
     "user_tz": -420
    },
    "id": "g8cqqf7NUHsD",
    "outputId": "c693ac57-586b-4b6c-ba8c-c2a7d1d54cbf"
   },
   "outputs": [
    {
     "name": "stdout",
     "output_type": "stream",
     "text": [
      "Model: \"sequential_5\"\n",
      "_________________________________________________________________\n",
      " Layer (type)                Output Shape              Param #   \n",
      "=================================================================\n",
      " embedding_5 (Embedding)     (None, 271, 200)          1890200   \n",
      "                                                                 \n",
      " bidirectional (Bidirectiona  (None, 271, 512)         703488    \n",
      " l)                                                              \n",
      "                                                                 \n",
      " time_distributed_5 (TimeDis  (None, 271, 48)          24624     \n",
      " tributed)                                                       \n",
      "                                                                 \n",
      " activation_5 (Activation)   (None, 271, 48)           0         \n",
      "                                                                 \n",
      "=================================================================\n",
      "Total params: 2,618,312\n",
      "Trainable params: 2,618,312\n",
      "Non-trainable params: 0\n",
      "_________________________________________________________________\n"
     ]
    }
   ],
   "source": [
    "model_bigru = Sequential()\n",
    "model_bigru.add(InputLayer(input_shape=(max_len_word,)))\n",
    "model_bigru.add(Embedding(vocab_size_word, embedding_dim))\n",
    "model_bigru.add(Bidirectional(GRU(hidden_size, return_sequences=True)))\n",
    "model_bigru.add(TimeDistributed(Dense(vocab_size_tag)))\n",
    "model_bigru.add(Activation('softmax'))\n",
    " \n",
    "model_bigru.compile(loss='categorical_crossentropy', \n",
    "                    optimizer='adam', \n",
    "                    metrics=['accuracy'])\n",
    "model_bigru.summary()"
   ]
  },
  {
   "cell_type": "code",
   "execution_count": null,
   "metadata": {
    "colab": {
     "base_uri": "https://localhost:8080/"
    },
    "executionInfo": {
     "elapsed": 60189,
     "status": "ok",
     "timestamp": 1646370409772,
     "user": {
      "displayName": "Thái Nguyễn Quốc",
      "photoUrl": "https://lh3.googleusercontent.com/a-/AOh14GhZLNSWy4-fLj7PmicmKxXQvi7xGOe2vDlaHSFo7A=s64",
      "userId": "03315292090052971901"
     },
     "user_tz": -420
    },
    "id": "dxr449mNUcVj",
    "outputId": "9844171e-d1de-4d9a-da2e-0116c6a56a5f"
   },
   "outputs": [
    {
     "name": "stdout",
     "output_type": "stream",
     "text": [
      "Epoch 1/50\n",
      "6/6 [==============================] - 5s 316ms/step - loss: 3.2944 - accuracy: 0.7358 - val_loss: 1.6518 - val_accuracy: 0.9066\n",
      "Epoch 2/50\n",
      "6/6 [==============================] - 1s 191ms/step - loss: 0.7820 - accuracy: 0.9047 - val_loss: 0.5513 - val_accuracy: 0.9066\n",
      "Epoch 3/50\n",
      "6/6 [==============================] - 1s 187ms/step - loss: 0.4395 - accuracy: 0.9069 - val_loss: 0.3600 - val_accuracy: 0.9215\n",
      "Epoch 4/50\n",
      "6/6 [==============================] - 1s 189ms/step - loss: 0.3690 - accuracy: 0.9153 - val_loss: 0.3632 - val_accuracy: 0.9131\n",
      "Epoch 5/50\n",
      "6/6 [==============================] - 1s 188ms/step - loss: 0.3706 - accuracy: 0.9108 - val_loss: 0.3606 - val_accuracy: 0.9143\n",
      "Epoch 6/50\n",
      "6/6 [==============================] - 1s 187ms/step - loss: 0.3658 - accuracy: 0.9152 - val_loss: 0.3537 - val_accuracy: 0.9262\n",
      "Epoch 7/50\n",
      "6/6 [==============================] - 1s 187ms/step - loss: 0.3577 - accuracy: 0.9308 - val_loss: 0.3454 - val_accuracy: 0.9333\n",
      "Epoch 8/50\n",
      "6/6 [==============================] - 1s 191ms/step - loss: 0.3485 - accuracy: 0.9320 - val_loss: 0.3361 - val_accuracy: 0.9333\n",
      "Epoch 9/50\n",
      "6/6 [==============================] - 1s 191ms/step - loss: 0.3378 - accuracy: 0.9336 - val_loss: 0.3245 - val_accuracy: 0.9340\n",
      "Epoch 10/50\n",
      "6/6 [==============================] - 1s 194ms/step - loss: 0.3237 - accuracy: 0.9329 - val_loss: 0.3077 - val_accuracy: 0.9311\n",
      "Epoch 11/50\n",
      "6/6 [==============================] - 1s 190ms/step - loss: 0.3056 - accuracy: 0.9267 - val_loss: 0.2943 - val_accuracy: 0.9245\n",
      "Epoch 12/50\n",
      "6/6 [==============================] - 1s 195ms/step - loss: 0.2958 - accuracy: 0.9235 - val_loss: 0.2842 - val_accuracy: 0.9268\n",
      "Epoch 13/50\n",
      "6/6 [==============================] - 1s 187ms/step - loss: 0.2865 - accuracy: 0.9246 - val_loss: 0.2795 - val_accuracy: 0.9264\n",
      "Epoch 14/50\n",
      "6/6 [==============================] - 1s 186ms/step - loss: 0.2812 - accuracy: 0.9245 - val_loss: 0.2735 - val_accuracy: 0.9281\n",
      "Epoch 15/50\n",
      "6/6 [==============================] - 1s 191ms/step - loss: 0.2760 - accuracy: 0.9267 - val_loss: 0.2690 - val_accuracy: 0.9294\n",
      "Epoch 16/50\n",
      "6/6 [==============================] - 1s 188ms/step - loss: 0.2714 - accuracy: 0.9277 - val_loss: 0.2648 - val_accuracy: 0.9307\n",
      "Epoch 17/50\n",
      "6/6 [==============================] - 1s 186ms/step - loss: 0.2669 - accuracy: 0.9290 - val_loss: 0.2606 - val_accuracy: 0.9320\n",
      "Epoch 18/50\n",
      "6/6 [==============================] - 1s 190ms/step - loss: 0.2622 - accuracy: 0.9306 - val_loss: 0.2557 - val_accuracy: 0.9340\n",
      "Epoch 19/50\n",
      "6/6 [==============================] - 1s 188ms/step - loss: 0.2570 - accuracy: 0.9333 - val_loss: 0.2504 - val_accuracy: 0.9377\n",
      "Epoch 20/50\n",
      "6/6 [==============================] - 1s 187ms/step - loss: 0.2511 - accuracy: 0.9374 - val_loss: 0.2444 - val_accuracy: 0.9411\n",
      "Epoch 21/50\n",
      "6/6 [==============================] - 1s 189ms/step - loss: 0.2444 - accuracy: 0.9407 - val_loss: 0.2373 - val_accuracy: 0.9435\n",
      "Epoch 22/50\n",
      "6/6 [==============================] - 1s 188ms/step - loss: 0.2366 - accuracy: 0.9436 - val_loss: 0.2292 - val_accuracy: 0.9468\n",
      "Epoch 23/50\n",
      "6/6 [==============================] - 1s 187ms/step - loss: 0.2278 - accuracy: 0.9469 - val_loss: 0.2201 - val_accuracy: 0.9489\n",
      "Epoch 24/50\n",
      "6/6 [==============================] - 1s 190ms/step - loss: 0.2177 - accuracy: 0.9489 - val_loss: 0.2098 - val_accuracy: 0.9503\n",
      "Epoch 25/50\n",
      "6/6 [==============================] - 1s 189ms/step - loss: 0.2065 - accuracy: 0.9504 - val_loss: 0.1987 - val_accuracy: 0.9524\n",
      "Epoch 26/50\n",
      "6/6 [==============================] - 1s 189ms/step - loss: 0.1946 - accuracy: 0.9527 - val_loss: 0.1873 - val_accuracy: 0.9546\n",
      "Epoch 27/50\n",
      "6/6 [==============================] - 1s 188ms/step - loss: 0.1825 - accuracy: 0.9555 - val_loss: 0.1758 - val_accuracy: 0.9575\n",
      "Epoch 28/50\n",
      "6/6 [==============================] - 1s 189ms/step - loss: 0.1703 - accuracy: 0.9590 - val_loss: 0.1647 - val_accuracy: 0.9613\n",
      "Epoch 29/50\n",
      "6/6 [==============================] - 1s 188ms/step - loss: 0.1583 - accuracy: 0.9642 - val_loss: 0.1540 - val_accuracy: 0.9653\n",
      "Epoch 30/50\n",
      "6/6 [==============================] - 1s 188ms/step - loss: 0.1468 - accuracy: 0.9681 - val_loss: 0.1436 - val_accuracy: 0.9683\n",
      "Epoch 31/50\n",
      "6/6 [==============================] - 1s 189ms/step - loss: 0.1354 - accuracy: 0.9716 - val_loss: 0.1336 - val_accuracy: 0.9710\n",
      "Epoch 32/50\n",
      "6/6 [==============================] - 1s 189ms/step - loss: 0.1245 - accuracy: 0.9748 - val_loss: 0.1241 - val_accuracy: 0.9732\n",
      "Epoch 33/50\n",
      "6/6 [==============================] - 1s 187ms/step - loss: 0.1139 - accuracy: 0.9774 - val_loss: 0.1150 - val_accuracy: 0.9753\n",
      "Epoch 34/50\n",
      "6/6 [==============================] - 1s 186ms/step - loss: 0.1037 - accuracy: 0.9796 - val_loss: 0.1065 - val_accuracy: 0.9772\n",
      "Epoch 35/50\n",
      "6/6 [==============================] - 1s 188ms/step - loss: 0.0942 - accuracy: 0.9817 - val_loss: 0.0985 - val_accuracy: 0.9789\n",
      "Epoch 36/50\n",
      "6/6 [==============================] - 1s 188ms/step - loss: 0.0852 - accuracy: 0.9835 - val_loss: 0.0910 - val_accuracy: 0.9802\n",
      "Epoch 37/50\n",
      "6/6 [==============================] - 1s 187ms/step - loss: 0.0768 - accuracy: 0.9850 - val_loss: 0.0843 - val_accuracy: 0.9813\n",
      "Epoch 38/50\n",
      "6/6 [==============================] - 1s 188ms/step - loss: 0.0692 - accuracy: 0.9864 - val_loss: 0.0781 - val_accuracy: 0.9827\n",
      "Epoch 39/50\n",
      "6/6 [==============================] - 1s 187ms/step - loss: 0.0623 - accuracy: 0.9879 - val_loss: 0.0726 - val_accuracy: 0.9841\n",
      "Epoch 40/50\n",
      "6/6 [==============================] - 1s 193ms/step - loss: 0.0561 - accuracy: 0.9894 - val_loss: 0.0677 - val_accuracy: 0.9855\n",
      "Epoch 41/50\n",
      "6/6 [==============================] - 1s 187ms/step - loss: 0.0505 - accuracy: 0.9907 - val_loss: 0.0634 - val_accuracy: 0.9866\n",
      "Epoch 42/50\n",
      "6/6 [==============================] - 1s 191ms/step - loss: 0.0457 - accuracy: 0.9918 - val_loss: 0.0595 - val_accuracy: 0.9874\n",
      "Epoch 43/50\n",
      "6/6 [==============================] - 1s 189ms/step - loss: 0.0413 - accuracy: 0.9925 - val_loss: 0.0562 - val_accuracy: 0.9879\n",
      "Epoch 44/50\n",
      "6/6 [==============================] - 1s 190ms/step - loss: 0.0376 - accuracy: 0.9931 - val_loss: 0.0534 - val_accuracy: 0.9882\n",
      "Epoch 45/50\n",
      "6/6 [==============================] - 1s 191ms/step - loss: 0.0344 - accuracy: 0.9935 - val_loss: 0.0509 - val_accuracy: 0.9886\n",
      "Epoch 46/50\n",
      "6/6 [==============================] - 1s 187ms/step - loss: 0.0315 - accuracy: 0.9939 - val_loss: 0.0488 - val_accuracy: 0.9887\n",
      "Epoch 47/50\n",
      "6/6 [==============================] - 1s 192ms/step - loss: 0.0290 - accuracy: 0.9942 - val_loss: 0.0469 - val_accuracy: 0.9890\n",
      "Epoch 48/50\n",
      "6/6 [==============================] - 1s 188ms/step - loss: 0.0269 - accuracy: 0.9945 - val_loss: 0.0452 - val_accuracy: 0.9893\n",
      "Epoch 49/50\n",
      "6/6 [==============================] - 1s 184ms/step - loss: 0.0249 - accuracy: 0.9949 - val_loss: 0.0438 - val_accuracy: 0.9896\n",
      "Epoch 50/50\n",
      "6/6 [==============================] - 1s 185ms/step - loss: 0.0232 - accuracy: 0.9952 - val_loss: 0.0426 - val_accuracy: 0.9897\n"
     ]
    }
   ],
   "source": [
    "history_bigru = model_bigru.fit(train_padded_seqs, train_padded_tags, \n",
    "                             batch_size=batch_size, \n",
    "                             epochs=epochs, \n",
    "                             validation_data=(valid_padded_seqs, valid_padded_tags))"
   ]
  },
  {
   "cell_type": "code",
   "execution_count": null,
   "metadata": {
    "colab": {
     "base_uri": "https://localhost:8080/",
     "height": 573
    },
    "executionInfo": {
     "elapsed": 502,
     "status": "ok",
     "timestamp": 1646370425508,
     "user": {
      "displayName": "Thái Nguyễn Quốc",
      "photoUrl": "https://lh3.googleusercontent.com/a-/AOh14GhZLNSWy4-fLj7PmicmKxXQvi7xGOe2vDlaHSFo7A=s64",
      "userId": "03315292090052971901"
     },
     "user_tz": -420
    },
    "id": "LQKyNpLUUhj9",
    "outputId": "7c67f867-d4ba-4a10-b310-e9ae88072aff"
   },
   "outputs": [
    {
     "data": {
      "image/png": "[encoded data removed]",
      "text/plain": [
       "<Figure size 432x288 with 1 Axes>"
      ]
     },
     "metadata": {
      "needs_background": "light"
     },
     "output_type": "display_data"
    },
    {
     "data": {
      "image/png": "[encoded data removed]",
      "text/plain": [
       "<Figure size 432x288 with 1 Axes>"
      ]
     },
     "metadata": {
      "needs_background": "light"
     },
     "output_type": "display_data"
    }
   ],
   "source": [
    "# summarize history for accuracy\n",
    "plt.plot(history_bigru.history['accuracy'])\n",
    "plt.plot(history_bigru.history['val_accuracy'])\n",
    "plt.title('model accuracy')\n",
    "plt.ylabel('accuracy')\n",
    "plt.xlabel('epoch')\n",
    "plt.legend(['train', 'test'], loc='lower right')\n",
    "plt.show()\n",
    "# summarize history for loss\n",
    "plt.plot(history_bigru.history['loss'])\n",
    "plt.plot(history_bigru.history['val_loss'])\n",
    "plt.title('model loss')\n",
    "plt.ylabel('loss')\n",
    "plt.xlabel('epoch')\n",
    "plt.legend(['train', 'test'], loc='upper right')\n",
    "plt.show()"
   ]
  },
  {
   "cell_type": "code",
   "execution_count": null,
   "metadata": {},
   "outputs": [],
   "source": []
  },
  {
   "cell_type": "markdown",
   "metadata": {
    "id": "WXhlOCP7U_9e"
   },
   "source": [
    "#### **Stacked GRU**"
   ]
  },
  {
   "cell_type": "code",
   "execution_count": null,
   "metadata": {
    "colab": {
     "base_uri": "https://localhost:8080/"
    },
    "executionInfo": {
     "elapsed": 789,
     "status": "ok",
     "timestamp": 1646370638444,
     "user": {
      "displayName": "Thái Nguyễn Quốc",
      "photoUrl": "https://lh3.googleusercontent.com/a-/AOh14GhZLNSWy4-fLj7PmicmKxXQvi7xGOe2vDlaHSFo7A=s64",
      "userId": "03315292090052971901"
     },
     "user_tz": -420
    },
    "id": "HvYavw-oVCcO",
    "outputId": "cde4779b-49ff-41fb-913f-6926e6ad2777"
   },
   "outputs": [
    {
     "name": "stdout",
     "output_type": "stream",
     "text": [
      "Model: \"sequential_6\"\n",
      "_________________________________________________________________\n",
      " Layer (type)                Output Shape              Param #   \n",
      "=================================================================\n",
      " embedding_6 (Embedding)     (None, 271, 200)          1890200   \n",
      "                                                                 \n",
      " gru_2 (GRU)                 (None, 271, 256)          351744    \n",
      "                                                                 \n",
      " gru_3 (GRU)                 (None, 271, 256)          394752    \n",
      "                                                                 \n",
      " time_distributed_6 (TimeDis  (None, 271, 48)          12336     \n",
      " tributed)                                                       \n",
      "                                                                 \n",
      " activation_6 (Activation)   (None, 271, 48)           0         \n",
      "                                                                 \n",
      "=================================================================\n",
      "Total params: 2,649,032\n",
      "Trainable params: 2,649,032\n",
      "Non-trainable params: 0\n",
      "_________________________________________________________________\n"
     ]
    }
   ],
   "source": [
    "model_stackgru = Sequential()\n",
    "model_stackgru.add(InputLayer(input_shape=(max_len_word,)))\n",
    "model_stackgru.add(Embedding(vocab_size_word, embedding_dim))\n",
    "model_stackgru.add(GRU(hidden_size, return_sequences=True))\n",
    "model_stackgru.add(GRU(hidden_size, return_sequences=True))\n",
    "model_stackgru.add(TimeDistributed(Dense(vocab_size_tag)))\n",
    "model_stackgru.add(Activation('softmax'))\n",
    " \n",
    "model_stackgru.compile(loss='categorical_crossentropy', \n",
    "                       optimizer='adam', \n",
    "                       metrics=['accuracy'])\n",
    "model_stackgru.summary()"
   ]
  },
  {
   "cell_type": "code",
   "execution_count": null,
   "metadata": {
    "colab": {
     "base_uri": "https://localhost:8080/"
    },
    "executionInfo": {
     "elapsed": 58098,
     "status": "ok",
     "timestamp": 1646370718912,
     "user": {
      "displayName": "Thái Nguyễn Quốc",
      "photoUrl": "https://lh3.googleusercontent.com/a-/AOh14GhZLNSWy4-fLj7PmicmKxXQvi7xGOe2vDlaHSFo7A=s64",
      "userId": "03315292090052971901"
     },
     "user_tz": -420
    },
    "id": "ZZkZyORhVnkn",
    "outputId": "a215d867-ba0f-488f-a6a4-1b29055be9b0"
   },
   "outputs": [
    {
     "name": "stdout",
     "output_type": "stream",
     "text": [
      "Epoch 1/50\n",
      "6/6 [==============================] - 4s 301ms/step - loss: 3.0735 - accuracy: 0.7357 - val_loss: 0.4231 - val_accuracy: 0.9066\n",
      "Epoch 2/50\n",
      "6/6 [==============================] - 1s 182ms/step - loss: 0.5300 - accuracy: 0.9047 - val_loss: 0.5206 - val_accuracy: 0.9066\n",
      "Epoch 3/50\n",
      "6/6 [==============================] - 1s 178ms/step - loss: 0.4166 - accuracy: 0.9053 - val_loss: 0.3923 - val_accuracy: 0.9066\n",
      "Epoch 4/50\n",
      "6/6 [==============================] - 1s 182ms/step - loss: 0.4053 - accuracy: 0.9046 - val_loss: 0.3906 - val_accuracy: 0.9082\n",
      "Epoch 5/50\n",
      "6/6 [==============================] - 1s 184ms/step - loss: 0.3915 - accuracy: 0.9069 - val_loss: 0.3721 - val_accuracy: 0.9091\n",
      "Epoch 6/50\n",
      "6/6 [==============================] - 1s 184ms/step - loss: 0.3748 - accuracy: 0.9078 - val_loss: 0.3617 - val_accuracy: 0.9121\n",
      "Epoch 7/50\n",
      "6/6 [==============================] - 1s 181ms/step - loss: 0.3664 - accuracy: 0.9125 - val_loss: 0.3566 - val_accuracy: 0.9177\n",
      "Epoch 8/50\n",
      "6/6 [==============================] - 1s 178ms/step - loss: 0.3617 - accuracy: 0.9157 - val_loss: 0.3525 - val_accuracy: 0.9172\n",
      "Epoch 9/50\n",
      "6/6 [==============================] - 1s 183ms/step - loss: 0.3566 - accuracy: 0.9157 - val_loss: 0.3461 - val_accuracy: 0.9178\n",
      "Epoch 10/50\n",
      "6/6 [==============================] - 1s 186ms/step - loss: 0.3477 - accuracy: 0.9164 - val_loss: 0.3337 - val_accuracy: 0.9185\n",
      "Epoch 11/50\n",
      "6/6 [==============================] - 1s 183ms/step - loss: 0.3305 - accuracy: 0.9170 - val_loss: 0.3110 - val_accuracy: 0.9187\n",
      "Epoch 12/50\n",
      "6/6 [==============================] - 1s 185ms/step - loss: 0.3085 - accuracy: 0.9171 - val_loss: 0.2972 - val_accuracy: 0.9188\n",
      "Epoch 13/50\n",
      "6/6 [==============================] - 1s 178ms/step - loss: 0.2991 - accuracy: 0.9175 - val_loss: 0.2887 - val_accuracy: 0.9217\n",
      "Epoch 14/50\n",
      "6/6 [==============================] - 1s 187ms/step - loss: 0.2916 - accuracy: 0.9213 - val_loss: 0.2832 - val_accuracy: 0.9231\n",
      "Epoch 15/50\n",
      "6/6 [==============================] - 1s 185ms/step - loss: 0.2866 - accuracy: 0.9209 - val_loss: 0.2797 - val_accuracy: 0.9229\n",
      "Epoch 16/50\n",
      "6/6 [==============================] - 1s 179ms/step - loss: 0.2835 - accuracy: 0.9214 - val_loss: 0.2772 - val_accuracy: 0.9232\n",
      "Epoch 17/50\n",
      "6/6 [==============================] - 1s 178ms/step - loss: 0.2808 - accuracy: 0.9217 - val_loss: 0.2749 - val_accuracy: 0.9233\n",
      "Epoch 18/50\n",
      "6/6 [==============================] - 1s 187ms/step - loss: 0.2786 - accuracy: 0.9217 - val_loss: 0.2729 - val_accuracy: 0.9233\n",
      "Epoch 19/50\n",
      "6/6 [==============================] - 1s 183ms/step - loss: 0.2766 - accuracy: 0.9217 - val_loss: 0.2710 - val_accuracy: 0.9233\n",
      "Epoch 20/50\n",
      "6/6 [==============================] - 1s 187ms/step - loss: 0.2746 - accuracy: 0.9217 - val_loss: 0.2691 - val_accuracy: 0.9235\n",
      "Epoch 21/50\n",
      "6/6 [==============================] - 1s 188ms/step - loss: 0.2724 - accuracy: 0.9220 - val_loss: 0.2669 - val_accuracy: 0.9241\n",
      "Epoch 22/50\n",
      "6/6 [==============================] - 1s 188ms/step - loss: 0.2698 - accuracy: 0.9233 - val_loss: 0.2642 - val_accuracy: 0.9258\n",
      "Epoch 23/50\n",
      "6/6 [==============================] - 1s 183ms/step - loss: 0.2666 - accuracy: 0.9250 - val_loss: 0.2607 - val_accuracy: 0.9273\n",
      "Epoch 24/50\n",
      "6/6 [==============================] - 1s 184ms/step - loss: 0.2623 - accuracy: 0.9271 - val_loss: 0.2559 - val_accuracy: 0.9298\n",
      "Epoch 25/50\n",
      "6/6 [==============================] - 1s 183ms/step - loss: 0.2566 - accuracy: 0.9298 - val_loss: 0.2496 - val_accuracy: 0.9336\n",
      "Epoch 26/50\n",
      "6/6 [==============================] - 1s 179ms/step - loss: 0.2493 - accuracy: 0.9347 - val_loss: 0.2415 - val_accuracy: 0.9381\n",
      "Epoch 27/50\n",
      "6/6 [==============================] - 1s 184ms/step - loss: 0.2401 - accuracy: 0.9376 - val_loss: 0.2319 - val_accuracy: 0.9394\n",
      "Epoch 28/50\n",
      "6/6 [==============================] - 1s 179ms/step - loss: 0.2298 - accuracy: 0.9392 - val_loss: 0.2217 - val_accuracy: 0.9409\n",
      "Epoch 29/50\n",
      "6/6 [==============================] - 1s 175ms/step - loss: 0.2189 - accuracy: 0.9405 - val_loss: 0.2119 - val_accuracy: 0.9416\n",
      "Epoch 30/50\n",
      "6/6 [==============================] - 1s 174ms/step - loss: 0.2083 - accuracy: 0.9418 - val_loss: 0.2029 - val_accuracy: 0.9425\n",
      "Epoch 31/50\n",
      "6/6 [==============================] - 1s 182ms/step - loss: 0.1986 - accuracy: 0.9429 - val_loss: 0.1950 - val_accuracy: 0.9447\n",
      "Epoch 32/50\n",
      "6/6 [==============================] - 1s 188ms/step - loss: 0.1898 - accuracy: 0.9465 - val_loss: 0.1878 - val_accuracy: 0.9470\n",
      "Epoch 33/50\n",
      "6/6 [==============================] - 1s 190ms/step - loss: 0.1815 - accuracy: 0.9491 - val_loss: 0.1810 - val_accuracy: 0.9486\n",
      "Epoch 34/50\n",
      "6/6 [==============================] - 1s 184ms/step - loss: 0.1735 - accuracy: 0.9511 - val_loss: 0.1739 - val_accuracy: 0.9510\n",
      "Epoch 35/50\n",
      "6/6 [==============================] - 1s 177ms/step - loss: 0.1656 - accuracy: 0.9535 - val_loss: 0.1668 - val_accuracy: 0.9531\n",
      "Epoch 36/50\n",
      "6/6 [==============================] - 1s 181ms/step - loss: 0.1575 - accuracy: 0.9561 - val_loss: 0.1594 - val_accuracy: 0.9555\n",
      "Epoch 37/50\n",
      "6/6 [==============================] - 1s 188ms/step - loss: 0.1492 - accuracy: 0.9586 - val_loss: 0.1517 - val_accuracy: 0.9579\n",
      "Epoch 38/50\n",
      "6/6 [==============================] - 1s 185ms/step - loss: 0.1404 - accuracy: 0.9621 - val_loss: 0.1438 - val_accuracy: 0.9609\n",
      "Epoch 39/50\n",
      "6/6 [==============================] - 1s 183ms/step - loss: 0.1314 - accuracy: 0.9647 - val_loss: 0.1356 - val_accuracy: 0.9638\n",
      "Epoch 40/50\n",
      "6/6 [==============================] - 1s 187ms/step - loss: 0.1223 - accuracy: 0.9682 - val_loss: 0.1278 - val_accuracy: 0.9662\n",
      "Epoch 41/50\n",
      "6/6 [==============================] - 1s 179ms/step - loss: 0.1135 - accuracy: 0.9708 - val_loss: 0.1202 - val_accuracy: 0.9692\n",
      "Epoch 42/50\n",
      "6/6 [==============================] - 1s 185ms/step - loss: 0.1047 - accuracy: 0.9735 - val_loss: 0.1126 - val_accuracy: 0.9717\n",
      "Epoch 43/50\n",
      "6/6 [==============================] - 1s 184ms/step - loss: 0.0960 - accuracy: 0.9764 - val_loss: 0.1052 - val_accuracy: 0.9740\n",
      "Epoch 44/50\n",
      "6/6 [==============================] - 1s 178ms/step - loss: 0.0875 - accuracy: 0.9795 - val_loss: 0.0980 - val_accuracy: 0.9765\n",
      "Epoch 45/50\n",
      "6/6 [==============================] - 1s 183ms/step - loss: 0.0792 - accuracy: 0.9821 - val_loss: 0.0914 - val_accuracy: 0.9788\n",
      "Epoch 46/50\n",
      "6/6 [==============================] - 1s 181ms/step - loss: 0.0715 - accuracy: 0.9843 - val_loss: 0.0854 - val_accuracy: 0.9805\n",
      "Epoch 47/50\n",
      "6/6 [==============================] - 1s 179ms/step - loss: 0.0644 - accuracy: 0.9863 - val_loss: 0.0799 - val_accuracy: 0.9823\n",
      "Epoch 48/50\n",
      "6/6 [==============================] - 1s 183ms/step - loss: 0.0581 - accuracy: 0.9879 - val_loss: 0.0754 - val_accuracy: 0.9837\n",
      "Epoch 49/50\n",
      "6/6 [==============================] - 1s 179ms/step - loss: 0.0526 - accuracy: 0.9894 - val_loss: 0.0716 - val_accuracy: 0.9847\n",
      "Epoch 50/50\n",
      "6/6 [==============================] - 1s 186ms/step - loss: 0.0478 - accuracy: 0.9905 - val_loss: 0.0683 - val_accuracy: 0.9854\n"
     ]
    }
   ],
   "source": [
    "history_stackgru = model_stackgru.fit(train_padded_seqs, train_padded_tags, \n",
    "                             batch_size=batch_size, \n",
    "                             epochs=epochs, \n",
    "                             validation_data=(valid_padded_seqs, valid_padded_tags))"
   ]
  },
  {
   "cell_type": "code",
   "execution_count": null,
   "metadata": {
    "colab": {
     "base_uri": "https://localhost:8080/",
     "height": 573
    },
    "executionInfo": {
     "elapsed": 442,
     "status": "ok",
     "timestamp": 1646370779066,
     "user": {
      "displayName": "Thái Nguyễn Quốc",
      "photoUrl": "https://lh3.googleusercontent.com/a-/AOh14GhZLNSWy4-fLj7PmicmKxXQvi7xGOe2vDlaHSFo7A=s64",
      "userId": "03315292090052971901"
     },
     "user_tz": -420
    },
    "id": "9wwWM84KWCbH",
    "outputId": "8061f7b3-0200-40cb-a4e4-2e656073040c"
   },
   "outputs": [
    {
     "data": {
      "image/png": "[encoded data removed]",
      "text/plain": [
       "<Figure size 432x288 with 1 Axes>"
      ]
     },
     "metadata": {
      "needs_background": "light"
     },
     "output_type": "display_data"
    },
    {
     "data": {
      "image/png": "[encoded data removed]",
      "text/plain": [
       "<Figure size 432x288 with 1 Axes>"
      ]
     },
     "metadata": {
      "needs_background": "light"
     },
     "output_type": "display_data"
    }
   ],
   "source": [
    "# summarize history for accuracy\n",
    "plt.plot(history_stackgru.history['accuracy'])\n",
    "plt.plot(history_stackgru.history['val_accuracy'])\n",
    "plt.title('model accuracy')\n",
    "plt.ylabel('accuracy')\n",
    "plt.xlabel('epoch')\n",
    "plt.legend(['train', 'test'], loc='lower right')\n",
    "plt.show()\n",
    "# summarize history for loss\n",
    "plt.plot(history_stackgru.history['loss'])\n",
    "plt.plot(history_stackgru.history['val_loss'])\n",
    "plt.title('model loss')\n",
    "plt.ylabel('loss')\n",
    "plt.xlabel('epoch')\n",
    "plt.legend(['train', 'test'], loc='upper right')\n",
    "plt.show()"
   ]
  },
  {
   "cell_type": "code",
   "execution_count": null,
   "metadata": {},
   "outputs": [],
   "source": []
  },
  {
   "cell_type": "code",
   "execution_count": null,
   "metadata": {},
   "outputs": [],
   "source": []
  },
  {
   "cell_type": "markdown",
   "metadata": {
    "id": "jemPSqga68aA"
   },
   "source": [
    "### 4.Encoder-Decoder\n",
    "**Seq2Seq**\n",
    "Example:"
   ]
  },
  {
   "cell_type": "markdown",
   "metadata": {
    "id": "tR4g3ZWg217n"
   },
   "source": [
    "**Feature Extraction**\n",
    "- Encoder input data"
   ]
  },
  {
   "cell_type": "code",
   "execution_count": 25,
   "metadata": {
    "executionInfo": {
     "elapsed": 328,
     "status": "ok",
     "timestamp": 1647654709356,
     "user": {
      "displayName": "Thái Nguyễn Quốc",
      "photoUrl": "https://lh3.googleusercontent.com/a-/AOh14GhZLNSWy4-fLj7PmicmKxXQvi7xGOe2vDlaHSFo7A=s64",
      "userId": "03315292090052971901"
     },
     "user_tz": -420
    },
    "id": "Cf0dgA8y3OFl"
   },
   "outputs": [],
   "source": [
    "# word (input word) tokenizer\n",
    "word_tokenizer = Tokenizer(oov_token=\"<OOV>\")                   \n",
    "word_tokenizer.fit_on_texts(train_sentences)\n",
    "train_seqs = word_tokenizer.texts_to_sequences(train_sentences)\n",
    "valid_seqs = word_tokenizer.texts_to_sequences(valid_sentences)"
   ]
  },
  {
   "cell_type": "code",
   "execution_count": 26,
   "metadata": {
    "colab": {
     "base_uri": "https://localhost:8080/"
    },
    "executionInfo": {
     "elapsed": 352,
     "status": "ok",
     "timestamp": 1647654711429,
     "user": {
      "displayName": "Thái Nguyễn Quốc",
      "photoUrl": "https://lh3.googleusercontent.com/a-/AOh14GhZLNSWy4-fLj7PmicmKxXQvi7xGOe2vDlaHSFo7A=s64",
      "userId": "03315292090052971901"
     },
     "user_tz": -420
    },
    "id": "SL62P7qk3Swm",
    "outputId": "9f8bd3e5-47d1-4d50-97be-2cd885ca7057"
   },
   "outputs": [
    {
     "data": {
      "text/plain": [
       "(9458, 273)"
      ]
     },
     "execution_count": 26,
     "metadata": {},
     "output_type": "execute_result"
    }
   ],
   "source": [
    "max_len_word = np.max([len(seq) for seq in train_seqs])\n",
    "vocab_size_word = len(word_tokenizer.index_word) + 1\n",
    "vocab_size_word, max_len_word"
   ]
  },
  {
   "cell_type": "code",
   "execution_count": 52,
   "metadata": {
    "colab": {
     "base_uri": "https://localhost:8080/"
    },
    "executionInfo": {
     "elapsed": 320,
     "status": "ok",
     "timestamp": 1647655391611,
     "user": {
      "displayName": "Thái Nguyễn Quốc",
      "photoUrl": "https://lh3.googleusercontent.com/a-/AOh14GhZLNSWy4-fLj7PmicmKxXQvi7xGOe2vDlaHSFo7A=s64",
      "userId": "03315292090052971901"
     },
     "user_tz": -420
    },
    "id": "dfvX9uKL3hxA",
    "outputId": "db64b085-6178-4e29-fd9f-d9dfd0ea0875"
   },
   "outputs": [
    {
     "data": {
      "text/plain": [
       "((2739, 273), (587, 273))"
      ]
     },
     "execution_count": 52,
     "metadata": {},
     "output_type": "execute_result"
    }
   ],
   "source": [
    "train_input_padded_seqs = pad_sequences(train_seqs, maxlen=max_len_word, padding=\"post\")\n",
    "valid_input_padded_seqs = pad_sequences(valid_seqs, maxlen=max_len_word, padding=\"post\")\n",
    "train_input_padded_seqs.shape, valid_padded_seqs.shape"
   ]
  },
  {
   "cell_type": "markdown",
   "metadata": {
    "id": "3pI8FOPW3mLZ"
   },
   "source": [
    "- Decoder input data"
   ]
  },
  {
   "cell_type": "code",
   "execution_count": 33,
   "metadata": {
    "executionInfo": {
     "elapsed": 308,
     "status": "ok",
     "timestamp": 1647654968147,
     "user": {
      "displayName": "Thái Nguyễn Quốc",
      "photoUrl": "https://lh3.googleusercontent.com/a-/AOh14GhZLNSWy4-fLj7PmicmKxXQvi7xGOe2vDlaHSFo7A=s64",
      "userId": "03315292090052971901"
     },
     "user_tz": -420
    },
    "id": "zIMREoeN3smp"
   },
   "outputs": [],
   "source": [
    "# tag tokenizer\n",
    "tag_tokenizer = Tokenizer(oov_token=\"<OOV>\")                   \n",
    "tag_tokenizer.fit_on_texts(train_tags)\n",
    "train_input_tags = tag_tokenizer.texts_to_sequences(train_tags)\n",
    "valid_input_tags = tag_tokenizer.texts_to_sequences(valid_tags)"
   ]
  },
  {
   "cell_type": "code",
   "execution_count": 36,
   "metadata": {
    "colab": {
     "base_uri": "https://localhost:8080/"
    },
    "executionInfo": {
     "elapsed": 324,
     "status": "ok",
     "timestamp": 1647654987968,
     "user": {
      "displayName": "Thái Nguyễn Quốc",
      "photoUrl": "https://lh3.googleusercontent.com/a-/AOh14GhZLNSWy4-fLj7PmicmKxXQvi7xGOe2vDlaHSFo7A=s64",
      "userId": "03315292090052971901"
     },
     "user_tz": -420
    },
    "id": "K-3PJ3HQ4AbV",
    "outputId": "fd17fb02-03ef-423d-f128-37e22b9844b8"
   },
   "outputs": [
    {
     "data": {
      "text/plain": [
       "(50, 273)"
      ]
     },
     "execution_count": 36,
     "metadata": {},
     "output_type": "execute_result"
    }
   ],
   "source": [
    "max_len_tag = np.max([len(seq) for seq in train_input_tags])\n",
    "vocab_size_tag = len(tag_tokenizer.index_word) + 1\n",
    "vocab_size_tag, max_len_tag"
   ]
  },
  {
   "cell_type": "code",
   "execution_count": 46,
   "metadata": {
    "colab": {
     "base_uri": "https://localhost:8080/"
    },
    "executionInfo": {
     "elapsed": 309,
     "status": "ok",
     "timestamp": 1647655208121,
     "user": {
      "displayName": "Thái Nguyễn Quốc",
      "photoUrl": "https://lh3.googleusercontent.com/a-/AOh14GhZLNSWy4-fLj7PmicmKxXQvi7xGOe2vDlaHSFo7A=s64",
      "userId": "03315292090052971901"
     },
     "user_tz": -420
    },
    "id": "rX-o7kyC4JgU",
    "outputId": "6890b73c-4951-423a-fd9a-d296bf1a7137"
   },
   "outputs": [
    {
     "data": {
      "text/plain": [
       "((2739, 273), (587, 273))"
      ]
     },
     "execution_count": 46,
     "metadata": {},
     "output_type": "execute_result"
    }
   ],
   "source": [
    "train_input_padded_tags = pad_sequences(train_input_tags, maxlen=max_len_tag, padding=\"post\")\n",
    "valid_input_padded_tags = pad_sequences(valid_input_tags, maxlen=max_len_tag, padding=\"post\")\n",
    "train_input_padded_tags.shape, valid_input_padded_tags.shape"
   ]
  },
  {
   "cell_type": "markdown",
   "metadata": {
    "id": "r-OXQiyc4dQa"
   },
   "source": [
    "- Decoder target data"
   ]
  },
  {
   "cell_type": "code",
   "execution_count": 43,
   "metadata": {
    "executionInfo": {
     "elapsed": 304,
     "status": "ok",
     "timestamp": 1647655113991,
     "user": {
      "displayName": "Thái Nguyễn Quốc",
      "photoUrl": "https://lh3.googleusercontent.com/a-/AOh14GhZLNSWy4-fLj7PmicmKxXQvi7xGOe2vDlaHSFo7A=s64",
      "userId": "03315292090052971901"
     },
     "user_tz": -420
    },
    "id": "sJSISWed5DFl"
   },
   "outputs": [],
   "source": [
    "train_target_tags = [i[1:] for i in train_tags]\n",
    "valid_target_tags = [i[1:] for i in valid_tags]"
   ]
  },
  {
   "cell_type": "code",
   "execution_count": 44,
   "metadata": {
    "executionInfo": {
     "elapsed": 303,
     "status": "ok",
     "timestamp": 1647655116291,
     "user": {
      "displayName": "Thái Nguyễn Quốc",
      "photoUrl": "https://lh3.googleusercontent.com/a-/AOh14GhZLNSWy4-fLj7PmicmKxXQvi7xGOe2vDlaHSFo7A=s64",
      "userId": "03315292090052971901"
     },
     "user_tz": -420
    },
    "id": "luBeFs_G4ig6"
   },
   "outputs": [],
   "source": [
    "train_target_tags = tag_tokenizer.texts_to_sequences(train_target_tags)\n",
    "valid_target_tags = tag_tokenizer.texts_to_sequences(valid_target_tags)"
   ]
  },
  {
   "cell_type": "code",
   "execution_count": 65,
   "metadata": {
    "colab": {
     "base_uri": "https://localhost:8080/"
    },
    "executionInfo": {
     "elapsed": 297,
     "status": "ok",
     "timestamp": 1647657761567,
     "user": {
      "displayName": "Thái Nguyễn Quốc",
      "photoUrl": "https://lh3.googleusercontent.com/a-/AOh14GhZLNSWy4-fLj7PmicmKxXQvi7xGOe2vDlaHSFo7A=s64",
      "userId": "03315292090052971901"
     },
     "user_tz": -420
    },
    "id": "Zt9-AeuI5gI8",
    "outputId": "853cdbf9-6d12-42dc-892c-7f60ef81e03e"
   },
   "outputs": [
    {
     "data": {
      "text/plain": [
       "((2739, 273), (587, 273))"
      ]
     },
     "execution_count": 65,
     "metadata": {},
     "output_type": "execute_result"
    }
   ],
   "source": [
    "train_target_padded_tags = pad_sequences(train_target_tags, maxlen=max_len_tag, padding=\"post\")\n",
    "valid_target_padded_tags = pad_sequences(valid_target_tags, maxlen=max_len_tag, padding=\"post\")\n",
    "train_target_padded_tags.shape, valid_target_padded_tags.shape"
   ]
  },
  {
   "cell_type": "code",
   "execution_count": 48,
   "metadata": {
    "colab": {
     "base_uri": "https://localhost:8080/"
    },
    "executionInfo": {
     "elapsed": 13,
     "status": "ok",
     "timestamp": 1647655245029,
     "user": {
      "displayName": "Thái Nguyễn Quốc",
      "photoUrl": "https://lh3.googleusercontent.com/a-/AOh14GhZLNSWy4-fLj7PmicmKxXQvi7xGOe2vDlaHSFo7A=s64",
      "userId": "03315292090052971901"
     },
     "user_tz": -420
    },
    "id": "a76ZB5Wy5kWe",
    "outputId": "7179e94d-1a1d-4d56-e0f2-787a5d998b83"
   },
   "outputs": [
    {
     "data": {
      "text/plain": [
       "((2739, 273, 50), (587, 273, 50))"
      ]
     },
     "execution_count": 48,
     "metadata": {},
     "output_type": "execute_result"
    }
   ],
   "source": [
    "#convert to one hot encode\n",
    "train_target_padded_tags = to_categorical(train_target_padded_tags, num_classes = vocab_size_tag)\n",
    "valid_target_padded_tags = to_categorical(valid_target_padded_tags, num_classes = vocab_size_tag)\n",
    "train_target_padded_tags.shape, valid_target_padded_tags.shape"
   ]
  },
  {
   "cell_type": "code",
   "execution_count": 67,
   "metadata": {
    "colab": {
     "base_uri": "https://localhost:8080/"
    },
    "executionInfo": {
     "elapsed": 17,
     "status": "ok",
     "timestamp": 1647657786711,
     "user": {
      "displayName": "Thái Nguyễn Quốc",
      "photoUrl": "https://lh3.googleusercontent.com/a-/AOh14GhZLNSWy4-fLj7PmicmKxXQvi7xGOe2vDlaHSFo7A=s64",
      "userId": "03315292090052971901"
     },
     "user_tz": -420
    },
    "id": "lOrMZE_SDYYi",
    "outputId": "b70a46dd-f77b-4e28-ec16-f0f0b4f2245b"
   },
   "outputs": [
    {
     "data": {
      "text/plain": [
       "(array([[10,  3,  5, ...,  0,  0,  0],\n",
       "        [10,  5, 13, ...,  0,  0,  0],\n",
       "        [10,  3, 15, ...,  0,  0,  0],\n",
       "        ...,\n",
       "        [10, 15, 15, ...,  0,  0,  0],\n",
       "        [10,  3,  7, ...,  0,  0,  0],\n",
       "        [10, 21, 24, ...,  0,  0,  0]], dtype=int32),\n",
       " array([[ 3,  5,  8, ...,  0,  0,  0],\n",
       "        [ 5, 13,  7, ...,  0,  0,  0],\n",
       "        [ 3, 15,  9, ...,  0,  0,  0],\n",
       "        ...,\n",
       "        [15, 15,  9, ...,  0,  0,  0],\n",
       "        [ 3,  7,  9, ...,  0,  0,  0],\n",
       "        [21, 24, 16, ...,  0,  0,  0]], dtype=int32),\n",
       " array([[  4,  29, 889, ...,   0,   0,   0],\n",
       "        [  4, 301, 890, ...,   0,   0,   0],\n",
       "        [  4,  10, 383, ...,   0,   0,   0],\n",
       "        ...,\n",
       "        [  4,   3, 120, ...,   0,   0,   0],\n",
       "        [  4,  11,  25, ...,   0,   0,   0],\n",
       "        [  4,  32,   3, ...,   0,   0,   0]], dtype=int32))"
      ]
     },
     "execution_count": 67,
     "metadata": {},
     "output_type": "execute_result"
    }
   ],
   "source": [
    "train_input_padded_tags, train_target_padded_tags, train_input_padded_seqs"
   ]
  },
  {
   "cell_type": "markdown",
   "metadata": {
    "id": "L3QKQ1HB5-to"
   },
   "source": [
    "**Seq2Seq Model**"
   ]
  },
  {
   "cell_type": "code",
   "execution_count": 58,
   "metadata": {
    "colab": {
     "base_uri": "https://localhost:8080/"
    },
    "executionInfo": {
     "elapsed": 2251,
     "status": "ok",
     "timestamp": 1647655799928,
     "user": {
      "displayName": "Thái Nguyễn Quốc",
      "photoUrl": "https://lh3.googleusercontent.com/a-/AOh14GhZLNSWy4-fLj7PmicmKxXQvi7xGOe2vDlaHSFo7A=s64",
      "userId": "03315292090052971901"
     },
     "user_tz": -420
    },
    "id": "-fTIxcReyeU8",
    "outputId": "ed4ac391-1a91-4d47-ebbf-12caa156d888"
   },
   "outputs": [
    {
     "name": "stdout",
     "output_type": "stream",
     "text": [
      "Model: \"model_2\"\n",
      "__________________________________________________________________________________________________\n",
      " Layer (type)                   Output Shape         Param #     Connected to                     \n",
      "==================================================================================================\n",
      " input_6 (InputLayer)           [(None, 273)]        0           []                               \n",
      "                                                                                                  \n",
      " input_7 (InputLayer)           [(None, 273)]        0           []                               \n",
      "                                                                                                  \n",
      " embedding_4 (Embedding)        (None, 273, 200)     1891600     ['input_6[0][0]']                \n",
      "                                                                                                  \n",
      " embedding_5 (Embedding)        (None, 273, 200)     10000       ['input_7[0][0]']                \n",
      "                                                                                                  \n",
      " lstm_4 (LSTM)                  [(None, 256),        467968      ['embedding_4[0][0]']            \n",
      "                                 (None, 256),                                                     \n",
      "                                 (None, 256)]                                                     \n",
      "                                                                                                  \n",
      " lstm_5 (LSTM)                  [(None, 273, 256),   467968      ['embedding_5[0][0]',            \n",
      "                                 (None, 256),                     'lstm_4[0][1]',                 \n",
      "                                 (None, 256)]                     'lstm_4[0][2]']                 \n",
      "                                                                                                  \n",
      " dense_2 (Dense)                (None, 273, 50)      12850       ['lstm_5[0][0]']                 \n",
      "                                                                                                  \n",
      "==================================================================================================\n",
      "Total params: 2,850,386\n",
      "Trainable params: 2,850,386\n",
      "Non-trainable params: 0\n",
      "__________________________________________________________________________________________________\n"
     ]
    }
   ],
   "source": [
    "encoder_inputs = Input(shape=(max_len_word,))\n",
    "encoder_embedding = Embedding(vocab_size_word, embedding_dim , mask_zero=True)(encoder_inputs)\n",
    "encoder_outputs, state_h, state_c = LSTM(hidden_size, return_state=True)(encoder_embedding)\n",
    "encoder_states = [state_h, state_c]\n",
    "\n",
    "decoder_inputs = Input(shape=(max_len_tag,))\n",
    "decoder_embedding = Embedding(vocab_size_tag, embedding_dim, mask_zero=True)(decoder_inputs)\n",
    "decoder_lstm = LSTM(hidden_size, return_state=True, return_sequences=True)\n",
    "decoder_outputs , _ , _ = decoder_lstm(decoder_embedding, initial_state=encoder_states)\n",
    "decoder_dense = Dense(vocab_size_tag, Activation('softmax')) \n",
    "output = decoder_dense(decoder_outputs)\n",
    "\n",
    "seq2seq_model = Model(inputs=[encoder_inputs, decoder_inputs], \n",
    "                      outputs=output)\n",
    "\n",
    "seq2seq_model.compile(loss='categorical_crossentropy', \n",
    "                      optimizer='adam', \n",
    "                      metrics=['accuracy'])\n",
    "seq2seq_model.summary()"
   ]
  },
  {
   "cell_type": "code",
   "execution_count": 60,
   "metadata": {
    "colab": {
     "base_uri": "https://localhost:8080/",
     "height": 1000
    },
    "executionInfo": {
     "elapsed": 67231,
     "status": "error",
     "timestamp": 1647657390964,
     "user": {
      "displayName": "Thái Nguyễn Quốc",
      "photoUrl": "https://lh3.googleusercontent.com/a-/AOh14GhZLNSWy4-fLj7PmicmKxXQvi7xGOe2vDlaHSFo7A=s64",
      "userId": "03315292090052971901"
     },
     "user_tz": -420
    },
    "id": "vDQyWvLs1aWF",
    "outputId": "d02cc2dd-25ef-4f73-aec5-800ac100103d"
   },
   "outputs": [
    {
     "name": "stdout",
     "output_type": "stream",
     "text": [
      "Epoch 1/200\n",
      "6/6 [==============================] - 1s 105ms/step - loss: 0.1969 - accuracy: 0.4204 - val_loss: 0.1975 - val_accuracy: 0.4107\n",
      "Epoch 2/200\n",
      "6/6 [==============================] - 1s 86ms/step - loss: 0.1966 - accuracy: 0.4219 - val_loss: 0.1973 - val_accuracy: 0.4108\n",
      "Epoch 3/200\n",
      "6/6 [==============================] - 0s 81ms/step - loss: 0.1961 - accuracy: 0.4224 - val_loss: 0.1969 - val_accuracy: 0.4101\n",
      "Epoch 4/200\n",
      "6/6 [==============================] - 0s 83ms/step - loss: 0.1957 - accuracy: 0.4232 - val_loss: 0.1968 - val_accuracy: 0.4121\n",
      "Epoch 5/200\n",
      "6/6 [==============================] - 0s 82ms/step - loss: 0.1953 - accuracy: 0.4250 - val_loss: 0.1965 - val_accuracy: 0.4122\n",
      "Epoch 6/200\n",
      "6/6 [==============================] - 0s 84ms/step - loss: 0.1955 - accuracy: 0.4243 - val_loss: 0.1978 - val_accuracy: 0.4092\n",
      "Epoch 7/200\n",
      "6/6 [==============================] - 0s 84ms/step - loss: 0.1958 - accuracy: 0.4232 - val_loss: 0.1971 - val_accuracy: 0.4118\n",
      "Epoch 8/200\n",
      "6/6 [==============================] - 0s 85ms/step - loss: 0.1951 - accuracy: 0.4256 - val_loss: 0.1960 - val_accuracy: 0.4137\n",
      "Epoch 9/200\n",
      "6/6 [==============================] - 1s 86ms/step - loss: 0.1942 - accuracy: 0.4266 - val_loss: 0.1959 - val_accuracy: 0.4135\n",
      "Epoch 10/200\n",
      "6/6 [==============================] - 0s 84ms/step - loss: 0.1938 - accuracy: 0.4294 - val_loss: 0.1957 - val_accuracy: 0.4129\n",
      "Epoch 11/200\n",
      "6/6 [==============================] - 0s 83ms/step - loss: 0.1933 - accuracy: 0.4293 - val_loss: 0.1954 - val_accuracy: 0.4148\n",
      "Epoch 12/200\n",
      "6/6 [==============================] - 0s 82ms/step - loss: 0.1929 - accuracy: 0.4309 - val_loss: 0.1951 - val_accuracy: 0.4147\n",
      "Epoch 13/200\n",
      "6/6 [==============================] - 0s 82ms/step - loss: 0.1927 - accuracy: 0.4301 - val_loss: 0.1950 - val_accuracy: 0.4126\n",
      "Epoch 14/200\n",
      "6/6 [==============================] - 1s 85ms/step - loss: 0.1924 - accuracy: 0.4320 - val_loss: 0.1956 - val_accuracy: 0.4135\n",
      "Epoch 15/200\n",
      "6/6 [==============================] - 0s 83ms/step - loss: 0.1922 - accuracy: 0.4315 - val_loss: 0.1948 - val_accuracy: 0.4133\n",
      "Epoch 16/200\n",
      "6/6 [==============================] - 0s 84ms/step - loss: 0.1919 - accuracy: 0.4338 - val_loss: 0.1949 - val_accuracy: 0.4158\n",
      "Epoch 17/200\n",
      "6/6 [==============================] - 0s 85ms/step - loss: 0.1914 - accuracy: 0.4346 - val_loss: 0.1945 - val_accuracy: 0.4170\n",
      "Epoch 18/200\n",
      "6/6 [==============================] - 0s 79ms/step - loss: 0.1909 - accuracy: 0.4354 - val_loss: 0.1942 - val_accuracy: 0.4169\n",
      "Epoch 19/200\n",
      "6/6 [==============================] - 0s 82ms/step - loss: 0.1906 - accuracy: 0.4370 - val_loss: 0.1947 - val_accuracy: 0.4130\n",
      "Epoch 20/200\n",
      "6/6 [==============================] - 0s 84ms/step - loss: 0.1906 - accuracy: 0.4356 - val_loss: 0.1942 - val_accuracy: 0.4162\n",
      "Epoch 21/200\n",
      "6/6 [==============================] - 0s 83ms/step - loss: 0.1900 - accuracy: 0.4383 - val_loss: 0.1942 - val_accuracy: 0.4158\n",
      "Epoch 22/200\n",
      "6/6 [==============================] - 0s 83ms/step - loss: 0.1897 - accuracy: 0.4389 - val_loss: 0.1940 - val_accuracy: 0.4165\n",
      "Epoch 23/200\n",
      "6/6 [==============================] - 0s 81ms/step - loss: 0.1894 - accuracy: 0.4394 - val_loss: 0.1938 - val_accuracy: 0.4187\n",
      "Epoch 24/200\n",
      "6/6 [==============================] - 0s 83ms/step - loss: 0.1890 - accuracy: 0.4403 - val_loss: 0.1938 - val_accuracy: 0.4167\n",
      "Epoch 25/200\n",
      "6/6 [==============================] - 1s 84ms/step - loss: 0.1888 - accuracy: 0.4396 - val_loss: 0.1936 - val_accuracy: 0.4174\n",
      "Epoch 26/200\n",
      "6/6 [==============================] - 1s 85ms/step - loss: 0.1885 - accuracy: 0.4411 - val_loss: 0.1934 - val_accuracy: 0.4190\n",
      "Epoch 27/200\n",
      "6/6 [==============================] - 0s 84ms/step - loss: 0.1881 - accuracy: 0.4414 - val_loss: 0.1937 - val_accuracy: 0.4167\n",
      "Epoch 28/200\n",
      "6/6 [==============================] - 1s 84ms/step - loss: 0.1879 - accuracy: 0.4434 - val_loss: 0.1934 - val_accuracy: 0.4185\n",
      "Epoch 29/200\n",
      "6/6 [==============================] - 0s 82ms/step - loss: 0.1874 - accuracy: 0.4432 - val_loss: 0.1935 - val_accuracy: 0.4177\n",
      "Epoch 30/200\n",
      "6/6 [==============================] - 1s 85ms/step - loss: 0.1871 - accuracy: 0.4458 - val_loss: 0.1933 - val_accuracy: 0.4172\n",
      "Epoch 31/200\n",
      "6/6 [==============================] - 0s 80ms/step - loss: 0.1868 - accuracy: 0.4448 - val_loss: 0.1933 - val_accuracy: 0.4192\n",
      "Epoch 32/200\n",
      "6/6 [==============================] - 0s 81ms/step - loss: 0.1864 - accuracy: 0.4464 - val_loss: 0.1931 - val_accuracy: 0.4190\n",
      "Epoch 33/200\n",
      "6/6 [==============================] - 0s 81ms/step - loss: 0.1860 - accuracy: 0.4477 - val_loss: 0.1929 - val_accuracy: 0.4166\n",
      "Epoch 34/200\n",
      "6/6 [==============================] - 0s 82ms/step - loss: 0.1856 - accuracy: 0.4479 - val_loss: 0.1930 - val_accuracy: 0.4182\n",
      "Epoch 35/200\n",
      "6/6 [==============================] - 0s 82ms/step - loss: 0.1852 - accuracy: 0.4501 - val_loss: 0.1930 - val_accuracy: 0.4184\n",
      "Epoch 36/200\n",
      "6/6 [==============================] - 0s 84ms/step - loss: 0.1849 - accuracy: 0.4496 - val_loss: 0.1934 - val_accuracy: 0.4175\n",
      "Epoch 37/200\n",
      "6/6 [==============================] - 0s 82ms/step - loss: 0.1849 - accuracy: 0.4492 - val_loss: 0.1930 - val_accuracy: 0.4167\n",
      "Epoch 38/200\n",
      "6/6 [==============================] - 0s 85ms/step - loss: 0.1845 - accuracy: 0.4508 - val_loss: 0.1929 - val_accuracy: 0.4189\n",
      "Epoch 39/200\n",
      "6/6 [==============================] - 1s 85ms/step - loss: 0.1839 - accuracy: 0.4524 - val_loss: 0.1931 - val_accuracy: 0.4179\n",
      "Epoch 40/200\n",
      "6/6 [==============================] - 1s 88ms/step - loss: 0.1833 - accuracy: 0.4541 - val_loss: 0.1928 - val_accuracy: 0.4180\n",
      "Epoch 41/200\n",
      "6/6 [==============================] - 0s 83ms/step - loss: 0.1829 - accuracy: 0.4548 - val_loss: 0.1934 - val_accuracy: 0.4177\n",
      "Epoch 42/200\n",
      "6/6 [==============================] - 0s 84ms/step - loss: 0.1825 - accuracy: 0.4544 - val_loss: 0.1937 - val_accuracy: 0.4177\n",
      "Epoch 43/200\n",
      "6/6 [==============================] - 1s 87ms/step - loss: 0.1822 - accuracy: 0.4574 - val_loss: 0.1934 - val_accuracy: 0.4180\n",
      "Epoch 44/200\n",
      "6/6 [==============================] - 0s 80ms/step - loss: 0.1817 - accuracy: 0.4575 - val_loss: 0.1935 - val_accuracy: 0.4194\n",
      "Epoch 45/200\n",
      "6/6 [==============================] - 0s 83ms/step - loss: 0.1812 - accuracy: 0.4593 - val_loss: 0.1934 - val_accuracy: 0.4199\n",
      "Epoch 46/200\n",
      "6/6 [==============================] - 0s 81ms/step - loss: 0.1807 - accuracy: 0.4604 - val_loss: 0.1935 - val_accuracy: 0.4184\n",
      "Epoch 47/200\n",
      "6/6 [==============================] - 0s 83ms/step - loss: 0.1802 - accuracy: 0.4618 - val_loss: 0.1935 - val_accuracy: 0.4194\n",
      "Epoch 48/200\n",
      "6/6 [==============================] - 1s 87ms/step - loss: 0.1798 - accuracy: 0.4620 - val_loss: 0.1935 - val_accuracy: 0.4193\n",
      "Epoch 49/200\n",
      "6/6 [==============================] - 0s 82ms/step - loss: 0.1794 - accuracy: 0.4644 - val_loss: 0.1933 - val_accuracy: 0.4185\n",
      "Epoch 50/200\n",
      "6/6 [==============================] - 1s 86ms/step - loss: 0.1794 - accuracy: 0.4623 - val_loss: 0.1938 - val_accuracy: 0.4163\n",
      "Epoch 51/200\n",
      "6/6 [==============================] - 1s 85ms/step - loss: 0.1789 - accuracy: 0.4649 - val_loss: 0.1936 - val_accuracy: 0.4188\n",
      "Epoch 52/200\n",
      "6/6 [==============================] - 0s 82ms/step - loss: 0.1779 - accuracy: 0.4694 - val_loss: 0.1941 - val_accuracy: 0.4171\n",
      "Epoch 53/200\n",
      "6/6 [==============================] - 0s 84ms/step - loss: 0.1773 - accuracy: 0.4689 - val_loss: 0.1942 - val_accuracy: 0.4136\n",
      "Epoch 54/200\n",
      "6/6 [==============================] - 0s 84ms/step - loss: 0.1766 - accuracy: 0.4709 - val_loss: 0.1947 - val_accuracy: 0.4164\n",
      "Epoch 55/200\n",
      "6/6 [==============================] - 1s 84ms/step - loss: 0.1760 - accuracy: 0.4739 - val_loss: 0.1951 - val_accuracy: 0.4153\n",
      "Epoch 56/200\n",
      "6/6 [==============================] - 0s 85ms/step - loss: 0.1756 - accuracy: 0.4741 - val_loss: 0.1956 - val_accuracy: 0.4125\n",
      "Epoch 57/200\n",
      "6/6 [==============================] - 1s 84ms/step - loss: 0.1754 - accuracy: 0.4753 - val_loss: 0.1957 - val_accuracy: 0.4122\n",
      "Epoch 58/200\n",
      "6/6 [==============================] - 0s 82ms/step - loss: 0.1750 - accuracy: 0.4753 - val_loss: 0.1977 - val_accuracy: 0.4081\n",
      "Epoch 59/200\n",
      "6/6 [==============================] - 0s 84ms/step - loss: 0.1746 - accuracy: 0.4783 - val_loss: 0.1959 - val_accuracy: 0.4120\n",
      "Epoch 60/200\n",
      "6/6 [==============================] - 0s 82ms/step - loss: 0.1734 - accuracy: 0.4806 - val_loss: 0.1975 - val_accuracy: 0.4112\n",
      "Epoch 61/200\n",
      "6/6 [==============================] - 0s 84ms/step - loss: 0.1729 - accuracy: 0.4829 - val_loss: 0.1973 - val_accuracy: 0.4085\n",
      "Epoch 62/200\n",
      "6/6 [==============================] - 0s 84ms/step - loss: 0.1717 - accuracy: 0.4854 - val_loss: 0.1982 - val_accuracy: 0.4069\n",
      "Epoch 63/200\n",
      "6/6 [==============================] - 0s 81ms/step - loss: 0.1715 - accuracy: 0.4868 - val_loss: 0.1985 - val_accuracy: 0.4063\n",
      "Epoch 64/200\n",
      "6/6 [==============================] - 0s 84ms/step - loss: 0.1707 - accuracy: 0.4890 - val_loss: 0.1988 - val_accuracy: 0.4048\n",
      "Epoch 65/200\n",
      "6/6 [==============================] - 0s 83ms/step - loss: 0.1695 - accuracy: 0.4934 - val_loss: 0.2003 - val_accuracy: 0.4036\n",
      "Epoch 66/200\n",
      "6/6 [==============================] - 1s 84ms/step - loss: 0.1683 - accuracy: 0.4970 - val_loss: 0.2012 - val_accuracy: 0.3995\n",
      "Epoch 67/200\n",
      "6/6 [==============================] - 0s 81ms/step - loss: 0.1677 - accuracy: 0.4982 - val_loss: 0.2008 - val_accuracy: 0.4045\n",
      "Epoch 68/200\n",
      "6/6 [==============================] - 1s 86ms/step - loss: 0.1667 - accuracy: 0.5017 - val_loss: 0.2052 - val_accuracy: 0.3975\n",
      "Epoch 69/200\n",
      "6/6 [==============================] - 0s 84ms/step - loss: 0.1679 - accuracy: 0.4982 - val_loss: 0.2020 - val_accuracy: 0.4023\n",
      "Epoch 70/200\n",
      "6/6 [==============================] - 0s 83ms/step - loss: 0.1664 - accuracy: 0.5028 - val_loss: 0.2037 - val_accuracy: 0.3957\n",
      "Epoch 71/200\n",
      "6/6 [==============================] - 0s 82ms/step - loss: 0.1646 - accuracy: 0.5076 - val_loss: 0.2043 - val_accuracy: 0.3925\n",
      "Epoch 72/200\n",
      "6/6 [==============================] - 0s 83ms/step - loss: 0.1635 - accuracy: 0.5116 - val_loss: 0.2057 - val_accuracy: 0.3951\n",
      "Epoch 73/200\n",
      "6/6 [==============================] - 0s 84ms/step - loss: 0.1623 - accuracy: 0.5151 - val_loss: 0.2070 - val_accuracy: 0.3888\n",
      "Epoch 74/200\n",
      "6/6 [==============================] - 0s 82ms/step - loss: 0.1615 - accuracy: 0.5173 - val_loss: 0.2095 - val_accuracy: 0.3844\n",
      "Epoch 75/200\n",
      "6/6 [==============================] - 1s 86ms/step - loss: 0.1611 - accuracy: 0.5189 - val_loss: 0.2095 - val_accuracy: 0.3844\n",
      "Epoch 76/200\n",
      "6/6 [==============================] - 0s 81ms/step - loss: 0.1594 - accuracy: 0.5252 - val_loss: 0.2111 - val_accuracy: 0.3839\n",
      "Epoch 77/200\n",
      "6/6 [==============================] - 1s 84ms/step - loss: 0.1579 - accuracy: 0.5289 - val_loss: 0.2130 - val_accuracy: 0.3826\n",
      "Epoch 78/200\n",
      "6/6 [==============================] - 0s 83ms/step - loss: 0.1581 - accuracy: 0.5279 - val_loss: 0.2136 - val_accuracy: 0.3735\n",
      "Epoch 79/200\n",
      "6/6 [==============================] - 0s 81ms/step - loss: 0.1581 - accuracy: 0.5278 - val_loss: 0.2143 - val_accuracy: 0.3794\n",
      "Epoch 80/200\n",
      "6/6 [==============================] - 0s 82ms/step - loss: 0.1567 - accuracy: 0.5316 - val_loss: 0.2146 - val_accuracy: 0.3806\n",
      "Epoch 81/200\n",
      "6/6 [==============================] - 0s 83ms/step - loss: 0.1554 - accuracy: 0.5350 - val_loss: 0.2170 - val_accuracy: 0.3731\n",
      "Epoch 82/200\n",
      "6/6 [==============================] - 1s 85ms/step - loss: 0.1537 - accuracy: 0.5407 - val_loss: 0.2189 - val_accuracy: 0.3699\n",
      "Epoch 83/200\n",
      "6/6 [==============================] - 0s 83ms/step - loss: 0.1525 - accuracy: 0.5453 - val_loss: 0.2213 - val_accuracy: 0.3672\n",
      "Epoch 84/200\n",
      "6/6 [==============================] - 0s 81ms/step - loss: 0.1511 - accuracy: 0.5507 - val_loss: 0.2242 - val_accuracy: 0.3670\n",
      "Epoch 85/200\n",
      "6/6 [==============================] - 1s 85ms/step - loss: 0.1512 - accuracy: 0.5502 - val_loss: 0.2230 - val_accuracy: 0.3676\n",
      "Epoch 86/200\n",
      "6/6 [==============================] - 0s 81ms/step - loss: 0.1496 - accuracy: 0.5543 - val_loss: 0.2256 - val_accuracy: 0.3623\n",
      "Epoch 87/200\n",
      "6/6 [==============================] - 1s 84ms/step - loss: 0.1483 - accuracy: 0.5593 - val_loss: 0.2267 - val_accuracy: 0.3637\n",
      "Epoch 88/200\n",
      "6/6 [==============================] - 0s 84ms/step - loss: 0.1486 - accuracy: 0.5566 - val_loss: 0.2290 - val_accuracy: 0.3590\n",
      "Epoch 89/200\n",
      "6/6 [==============================] - 0s 83ms/step - loss: 0.1464 - accuracy: 0.5655 - val_loss: 0.2300 - val_accuracy: 0.3582\n",
      "Epoch 90/200\n",
      "6/6 [==============================] - 0s 84ms/step - loss: 0.1448 - accuracy: 0.5696 - val_loss: 0.2321 - val_accuracy: 0.3546\n",
      "Epoch 91/200\n",
      "6/6 [==============================] - 0s 80ms/step - loss: 0.1432 - accuracy: 0.5747 - val_loss: 0.2368 - val_accuracy: 0.3496\n",
      "Epoch 92/200\n",
      "6/6 [==============================] - 0s 83ms/step - loss: 0.1425 - accuracy: 0.5772 - val_loss: 0.2380 - val_accuracy: 0.3446\n",
      "Epoch 93/200\n",
      "6/6 [==============================] - 0s 85ms/step - loss: 0.1432 - accuracy: 0.5719 - val_loss: 0.2382 - val_accuracy: 0.3508\n",
      "Epoch 94/200\n",
      "6/6 [==============================] - 1s 86ms/step - loss: 0.1412 - accuracy: 0.5823 - val_loss: 0.2408 - val_accuracy: 0.3479\n",
      "Epoch 95/200\n",
      "6/6 [==============================] - 0s 85ms/step - loss: 0.1399 - accuracy: 0.5844 - val_loss: 0.2446 - val_accuracy: 0.3439\n",
      "Epoch 96/200\n",
      "6/6 [==============================] - 0s 84ms/step - loss: 0.1392 - accuracy: 0.5871 - val_loss: 0.2445 - val_accuracy: 0.3452\n",
      "Epoch 97/200\n",
      "6/6 [==============================] - 0s 81ms/step - loss: 0.1382 - accuracy: 0.5922 - val_loss: 0.2450 - val_accuracy: 0.3477\n",
      "Epoch 98/200\n",
      "6/6 [==============================] - 1s 84ms/step - loss: 0.1360 - accuracy: 0.5971 - val_loss: 0.2509 - val_accuracy: 0.3384\n",
      "Epoch 99/200\n",
      "6/6 [==============================] - 0s 81ms/step - loss: 0.1347 - accuracy: 0.6022 - val_loss: 0.2510 - val_accuracy: 0.3386\n",
      "Epoch 100/200\n",
      "6/6 [==============================] - 0s 83ms/step - loss: 0.1333 - accuracy: 0.6070 - val_loss: 0.2564 - val_accuracy: 0.3360\n",
      "Epoch 101/200\n",
      "6/6 [==============================] - 1s 85ms/step - loss: 0.1320 - accuracy: 0.6099 - val_loss: 0.2632 - val_accuracy: 0.3332\n",
      "Epoch 102/200\n",
      "6/6 [==============================] - 0s 82ms/step - loss: 0.1349 - accuracy: 0.5978 - val_loss: 0.2567 - val_accuracy: 0.3387\n",
      "Epoch 103/200\n",
      "6/6 [==============================] - 0s 82ms/step - loss: 0.1320 - accuracy: 0.6092 - val_loss: 0.2602 - val_accuracy: 0.3326\n",
      "Epoch 104/200\n",
      "6/6 [==============================] - 0s 85ms/step - loss: 0.1305 - accuracy: 0.6138 - val_loss: 0.2612 - val_accuracy: 0.3331\n",
      "Epoch 105/200\n",
      "6/6 [==============================] - 0s 82ms/step - loss: 0.1288 - accuracy: 0.6207 - val_loss: 0.2646 - val_accuracy: 0.3318\n",
      "Epoch 106/200\n",
      "6/6 [==============================] - 0s 82ms/step - loss: 0.1275 - accuracy: 0.6242 - val_loss: 0.2696 - val_accuracy: 0.3237\n",
      "Epoch 107/200\n",
      "6/6 [==============================] - 1s 85ms/step - loss: 0.1258 - accuracy: 0.6306 - val_loss: 0.2748 - val_accuracy: 0.3217\n",
      "Epoch 108/200\n",
      "6/6 [==============================] - 0s 84ms/step - loss: 0.1277 - accuracy: 0.6210 - val_loss: 0.2696 - val_accuracy: 0.3269\n",
      "Epoch 109/200\n",
      "6/6 [==============================] - 1s 86ms/step - loss: 0.1255 - accuracy: 0.6293 - val_loss: 0.2720 - val_accuracy: 0.3290\n",
      "Epoch 110/200\n",
      "6/6 [==============================] - 1s 85ms/step - loss: 0.1237 - accuracy: 0.6365 - val_loss: 0.2742 - val_accuracy: 0.3254\n",
      "Epoch 111/200\n",
      "6/6 [==============================] - 1s 84ms/step - loss: 0.1216 - accuracy: 0.6449 - val_loss: 0.2786 - val_accuracy: 0.3230\n",
      "Epoch 112/200\n",
      "6/6 [==============================] - 1s 87ms/step - loss: 0.1201 - accuracy: 0.6486 - val_loss: 0.2819 - val_accuracy: 0.3189\n",
      "Epoch 113/200\n",
      "6/6 [==============================] - 0s 84ms/step - loss: 0.1187 - accuracy: 0.6536 - val_loss: 0.2866 - val_accuracy: 0.3182\n",
      "Epoch 114/200\n",
      "6/6 [==============================] - 0s 84ms/step - loss: 0.1182 - accuracy: 0.6548 - val_loss: 0.2906 - val_accuracy: 0.3167\n",
      "Epoch 115/200\n",
      "6/6 [==============================] - 0s 81ms/step - loss: 0.1181 - accuracy: 0.6547 - val_loss: 0.2896 - val_accuracy: 0.3178\n",
      "Epoch 116/200\n",
      "6/6 [==============================] - 1s 86ms/step - loss: 0.1171 - accuracy: 0.6563 - val_loss: 0.2934 - val_accuracy: 0.3141\n",
      "Epoch 117/200\n",
      "6/6 [==============================] - 0s 82ms/step - loss: 0.1152 - accuracy: 0.6638 - val_loss: 0.2944 - val_accuracy: 0.3183\n",
      "Epoch 118/200\n",
      "6/6 [==============================] - 1s 85ms/step - loss: 0.1141 - accuracy: 0.6687 - val_loss: 0.3008 - val_accuracy: 0.3117\n",
      "Epoch 119/200\n",
      "6/6 [==============================] - 1s 88ms/step - loss: 0.1131 - accuracy: 0.6703 - val_loss: 0.3032 - val_accuracy: 0.3103\n",
      "Epoch 120/200\n",
      "6/6 [==============================] - 0s 84ms/step - loss: 0.1125 - accuracy: 0.6714 - val_loss: 0.3064 - val_accuracy: 0.3048\n",
      "Epoch 121/200\n",
      "6/6 [==============================] - 1s 86ms/step - loss: 0.1106 - accuracy: 0.6801 - val_loss: 0.3094 - val_accuracy: 0.3084\n",
      "Epoch 122/200\n",
      "6/6 [==============================] - 1s 84ms/step - loss: 0.1086 - accuracy: 0.6871 - val_loss: 0.3108 - val_accuracy: 0.3110\n",
      "Epoch 123/200\n",
      "6/6 [==============================] - 1s 85ms/step - loss: 0.1079 - accuracy: 0.6882 - val_loss: 0.3175 - val_accuracy: 0.3011\n",
      "Epoch 124/200\n",
      "6/6 [==============================] - 0s 82ms/step - loss: 0.1077 - accuracy: 0.6875 - val_loss: 0.3175 - val_accuracy: 0.3043\n",
      "Epoch 125/200\n",
      "6/6 [==============================] - 0s 83ms/step - loss: 0.1073 - accuracy: 0.6885 - val_loss: 0.3182 - val_accuracy: 0.3055\n",
      "Epoch 126/200\n",
      "6/6 [==============================] - 1s 86ms/step - loss: 0.1064 - accuracy: 0.6913 - val_loss: 0.3234 - val_accuracy: 0.3023\n",
      "Epoch 127/200\n",
      "6/6 [==============================] - 0s 83ms/step - loss: 0.1050 - accuracy: 0.6952 - val_loss: 0.3265 - val_accuracy: 0.3015\n",
      "Epoch 128/200\n",
      "6/6 [==============================] - 0s 84ms/step - loss: 0.1033 - accuracy: 0.7024 - val_loss: 0.3312 - val_accuracy: 0.2966\n",
      "Epoch 129/200\n",
      "6/6 [==============================] - 1s 86ms/step - loss: 0.1019 - accuracy: 0.7056 - val_loss: 0.3335 - val_accuracy: 0.2985\n",
      "Epoch 130/200\n",
      "6/6 [==============================] - 0s 81ms/step - loss: 0.1019 - accuracy: 0.7057 - val_loss: 0.3337 - val_accuracy: 0.3006\n",
      "Epoch 131/200\n",
      "6/6 [==============================] - 0s 84ms/step - loss: 0.1021 - accuracy: 0.7032 - val_loss: 0.3354 - val_accuracy: 0.2971\n",
      "Epoch 132/200\n",
      "6/6 [==============================] - 1s 87ms/step - loss: 0.1010 - accuracy: 0.7068 - val_loss: 0.3357 - val_accuracy: 0.2998\n",
      "Epoch 133/200\n",
      "6/6 [==============================] - 0s 81ms/step - loss: 0.0989 - accuracy: 0.7171 - val_loss: 0.3372 - val_accuracy: 0.2978\n",
      "Epoch 134/200\n",
      "1/6 [====>.........................] - ETA: 0s - loss: 0.0913 - accuracy: 0.7184"
     ]
    },
    {
     "ename": "KeyboardInterrupt",
     "evalue": "ignored",
     "output_type": "error",
     "traceback": [
      "\u001b[0;31m---------------------------------------------------------------------------\u001b[0m",
      "\u001b[0;31mKeyboardInterrupt\u001b[0m                         Traceback (most recent call last)",
      "\u001b[0;32m<ipython-input-60-81ce8501d0a9>\u001b[0m in \u001b[0;36m<module>\u001b[0;34m()\u001b[0m\n\u001b[1;32m      2\u001b[0m                              \u001b[0mbatch_size\u001b[0m\u001b[0;34m=\u001b[0m\u001b[0mbatch_size\u001b[0m\u001b[0;34m,\u001b[0m\u001b[0;34m\u001b[0m\u001b[0;34m\u001b[0m\u001b[0m\n\u001b[1;32m      3\u001b[0m                              \u001b[0mepochs\u001b[0m\u001b[0;34m=\u001b[0m\u001b[0;36m200\u001b[0m\u001b[0;34m,\u001b[0m\u001b[0;34m\u001b[0m\u001b[0;34m\u001b[0m\u001b[0m\n\u001b[0;32m----> 4\u001b[0;31m                              validation_data=([valid_input_padded_seqs , valid_input_padded_tags], valid_target_padded_tags))\n\u001b[0m",
      "\u001b[0;32m/usr/local/lib/python3.7/dist-packages/keras/utils/traceback_utils.py\u001b[0m in \u001b[0;36merror_handler\u001b[0;34m(*args, **kwargs)\u001b[0m\n\u001b[1;32m     62\u001b[0m     \u001b[0mfiltered_tb\u001b[0m \u001b[0;34m=\u001b[0m \u001b[0;32mNone\u001b[0m\u001b[0;34m\u001b[0m\u001b[0;34m\u001b[0m\u001b[0m\n\u001b[1;32m     63\u001b[0m     \u001b[0;32mtry\u001b[0m\u001b[0;34m:\u001b[0m\u001b[0;34m\u001b[0m\u001b[0;34m\u001b[0m\u001b[0m\n\u001b[0;32m---> 64\u001b[0;31m       \u001b[0;32mreturn\u001b[0m \u001b[0mfn\u001b[0m\u001b[0;34m(\u001b[0m\u001b[0;34m*\u001b[0m\u001b[0margs\u001b[0m\u001b[0;34m,\u001b[0m \u001b[0;34m**\u001b[0m\u001b[0mkwargs\u001b[0m\u001b[0;34m)\u001b[0m\u001b[0;34m\u001b[0m\u001b[0;34m\u001b[0m\u001b[0m\n\u001b[0m\u001b[1;32m     65\u001b[0m     \u001b[0;32mexcept\u001b[0m \u001b[0mException\u001b[0m \u001b[0;32mas\u001b[0m \u001b[0me\u001b[0m\u001b[0;34m:\u001b[0m  \u001b[0;31m# pylint: disable=broad-except\u001b[0m\u001b[0;34m\u001b[0m\u001b[0;34m\u001b[0m\u001b[0m\n\u001b[1;32m     66\u001b[0m       \u001b[0mfiltered_tb\u001b[0m \u001b[0;34m=\u001b[0m \u001b[0m_process_traceback_frames\u001b[0m\u001b[0;34m(\u001b[0m\u001b[0me\u001b[0m\u001b[0;34m.\u001b[0m\u001b[0m__traceback__\u001b[0m\u001b[0;34m)\u001b[0m\u001b[0;34m\u001b[0m\u001b[0;34m\u001b[0m\u001b[0m\n",
      "\u001b[0;32m/usr/local/lib/python3.7/dist-packages/keras/engine/training.py\u001b[0m in \u001b[0;36mfit\u001b[0;34m(self, x, y, batch_size, epochs, verbose, callbacks, validation_split, validation_data, shuffle, class_weight, sample_weight, initial_epoch, steps_per_epoch, validation_steps, validation_batch_size, validation_freq, max_queue_size, workers, use_multiprocessing)\u001b[0m\n\u001b[1;32m   1382\u001b[0m                 _r=1):\n\u001b[1;32m   1383\u001b[0m               \u001b[0mcallbacks\u001b[0m\u001b[0;34m.\u001b[0m\u001b[0mon_train_batch_begin\u001b[0m\u001b[0;34m(\u001b[0m\u001b[0mstep\u001b[0m\u001b[0;34m)\u001b[0m\u001b[0;34m\u001b[0m\u001b[0;34m\u001b[0m\u001b[0m\n\u001b[0;32m-> 1384\u001b[0;31m               \u001b[0mtmp_logs\u001b[0m \u001b[0;34m=\u001b[0m \u001b[0mself\u001b[0m\u001b[0;34m.\u001b[0m\u001b[0mtrain_function\u001b[0m\u001b[0;34m(\u001b[0m\u001b[0miterator\u001b[0m\u001b[0;34m)\u001b[0m\u001b[0;34m\u001b[0m\u001b[0;34m\u001b[0m\u001b[0m\n\u001b[0m\u001b[1;32m   1385\u001b[0m               \u001b[0;32mif\u001b[0m \u001b[0mdata_handler\u001b[0m\u001b[0;34m.\u001b[0m\u001b[0mshould_sync\u001b[0m\u001b[0;34m:\u001b[0m\u001b[0;34m\u001b[0m\u001b[0;34m\u001b[0m\u001b[0m\n\u001b[1;32m   1386\u001b[0m                 \u001b[0mcontext\u001b[0m\u001b[0;34m.\u001b[0m\u001b[0masync_wait\u001b[0m\u001b[0;34m(\u001b[0m\u001b[0;34m)\u001b[0m\u001b[0;34m\u001b[0m\u001b[0;34m\u001b[0m\u001b[0m\n",
      "\u001b[0;32m/usr/local/lib/python3.7/dist-packages/tensorflow/python/util/traceback_utils.py\u001b[0m in \u001b[0;36merror_handler\u001b[0;34m(*args, **kwargs)\u001b[0m\n\u001b[1;32m    148\u001b[0m     \u001b[0mfiltered_tb\u001b[0m \u001b[0;34m=\u001b[0m \u001b[0;32mNone\u001b[0m\u001b[0;34m\u001b[0m\u001b[0;34m\u001b[0m\u001b[0m\n\u001b[1;32m    149\u001b[0m     \u001b[0;32mtry\u001b[0m\u001b[0;34m:\u001b[0m\u001b[0;34m\u001b[0m\u001b[0;34m\u001b[0m\u001b[0m\n\u001b[0;32m--> 150\u001b[0;31m       \u001b[0;32mreturn\u001b[0m \u001b[0mfn\u001b[0m\u001b[0;34m(\u001b[0m\u001b[0;34m*\u001b[0m\u001b[0margs\u001b[0m\u001b[0;34m,\u001b[0m \u001b[0;34m**\u001b[0m\u001b[0mkwargs\u001b[0m\u001b[0;34m)\u001b[0m\u001b[0;34m\u001b[0m\u001b[0;34m\u001b[0m\u001b[0m\n\u001b[0m\u001b[1;32m    151\u001b[0m     \u001b[0;32mexcept\u001b[0m \u001b[0mException\u001b[0m \u001b[0;32mas\u001b[0m \u001b[0me\u001b[0m\u001b[0;34m:\u001b[0m\u001b[0;34m\u001b[0m\u001b[0;34m\u001b[0m\u001b[0m\n\u001b[1;32m    152\u001b[0m       \u001b[0mfiltered_tb\u001b[0m \u001b[0;34m=\u001b[0m \u001b[0m_process_traceback_frames\u001b[0m\u001b[0;34m(\u001b[0m\u001b[0me\u001b[0m\u001b[0;34m.\u001b[0m\u001b[0m__traceback__\u001b[0m\u001b[0;34m)\u001b[0m\u001b[0;34m\u001b[0m\u001b[0;34m\u001b[0m\u001b[0m\n",
      "\u001b[0;32m/usr/local/lib/python3.7/dist-packages/tensorflow/python/eager/def_function.py\u001b[0m in \u001b[0;36m__call__\u001b[0;34m(self, *args, **kwds)\u001b[0m\n\u001b[1;32m    913\u001b[0m \u001b[0;34m\u001b[0m\u001b[0m\n\u001b[1;32m    914\u001b[0m       \u001b[0;32mwith\u001b[0m \u001b[0mOptionalXlaContext\u001b[0m\u001b[0;34m(\u001b[0m\u001b[0mself\u001b[0m\u001b[0;34m.\u001b[0m\u001b[0m_jit_compile\u001b[0m\u001b[0;34m)\u001b[0m\u001b[0;34m:\u001b[0m\u001b[0;34m\u001b[0m\u001b[0;34m\u001b[0m\u001b[0m\n\u001b[0;32m--> 915\u001b[0;31m         \u001b[0mresult\u001b[0m \u001b[0;34m=\u001b[0m \u001b[0mself\u001b[0m\u001b[0;34m.\u001b[0m\u001b[0m_call\u001b[0m\u001b[0;34m(\u001b[0m\u001b[0;34m*\u001b[0m\u001b[0margs\u001b[0m\u001b[0;34m,\u001b[0m \u001b[0;34m**\u001b[0m\u001b[0mkwds\u001b[0m\u001b[0;34m)\u001b[0m\u001b[0;34m\u001b[0m\u001b[0;34m\u001b[0m\u001b[0m\n\u001b[0m\u001b[1;32m    916\u001b[0m \u001b[0;34m\u001b[0m\u001b[0m\n\u001b[1;32m    917\u001b[0m       \u001b[0mnew_tracing_count\u001b[0m \u001b[0;34m=\u001b[0m \u001b[0mself\u001b[0m\u001b[0;34m.\u001b[0m\u001b[0mexperimental_get_tracing_count\u001b[0m\u001b[0;34m(\u001b[0m\u001b[0;34m)\u001b[0m\u001b[0;34m\u001b[0m\u001b[0;34m\u001b[0m\u001b[0m\n",
      "\u001b[0;32m/usr/local/lib/python3.7/dist-packages/tensorflow/python/eager/def_function.py\u001b[0m in \u001b[0;36m_call\u001b[0;34m(self, *args, **kwds)\u001b[0m\n\u001b[1;32m    945\u001b[0m       \u001b[0;31m# In this case we have created variables on the first call, so we run the\u001b[0m\u001b[0;34m\u001b[0m\u001b[0;34m\u001b[0m\u001b[0;34m\u001b[0m\u001b[0m\n\u001b[1;32m    946\u001b[0m       \u001b[0;31m# defunned version which is guaranteed to never create variables.\u001b[0m\u001b[0;34m\u001b[0m\u001b[0;34m\u001b[0m\u001b[0;34m\u001b[0m\u001b[0m\n\u001b[0;32m--> 947\u001b[0;31m       \u001b[0;32mreturn\u001b[0m \u001b[0mself\u001b[0m\u001b[0;34m.\u001b[0m\u001b[0m_stateless_fn\u001b[0m\u001b[0;34m(\u001b[0m\u001b[0;34m*\u001b[0m\u001b[0margs\u001b[0m\u001b[0;34m,\u001b[0m \u001b[0;34m**\u001b[0m\u001b[0mkwds\u001b[0m\u001b[0;34m)\u001b[0m  \u001b[0;31m# pylint: disable=not-callable\u001b[0m\u001b[0;34m\u001b[0m\u001b[0;34m\u001b[0m\u001b[0m\n\u001b[0m\u001b[1;32m    948\u001b[0m     \u001b[0;32melif\u001b[0m \u001b[0mself\u001b[0m\u001b[0;34m.\u001b[0m\u001b[0m_stateful_fn\u001b[0m \u001b[0;32mis\u001b[0m \u001b[0;32mnot\u001b[0m \u001b[0;32mNone\u001b[0m\u001b[0;34m:\u001b[0m\u001b[0;34m\u001b[0m\u001b[0;34m\u001b[0m\u001b[0m\n\u001b[1;32m    949\u001b[0m       \u001b[0;31m# Release the lock early so that multiple threads can perform the call\u001b[0m\u001b[0;34m\u001b[0m\u001b[0;34m\u001b[0m\u001b[0;34m\u001b[0m\u001b[0m\n",
      "\u001b[0;32m/usr/local/lib/python3.7/dist-packages/tensorflow/python/eager/function.py\u001b[0m in \u001b[0;36m__call__\u001b[0;34m(self, *args, **kwargs)\u001b[0m\n\u001b[1;32m   2955\u001b[0m        filtered_flat_args) = self._maybe_define_function(args, kwargs)\n\u001b[1;32m   2956\u001b[0m     return graph_function._call_flat(\n\u001b[0;32m-> 2957\u001b[0;31m         filtered_flat_args, captured_inputs=graph_function.captured_inputs)  # pylint: disable=protected-access\n\u001b[0m\u001b[1;32m   2958\u001b[0m \u001b[0;34m\u001b[0m\u001b[0m\n\u001b[1;32m   2959\u001b[0m   \u001b[0;34m@\u001b[0m\u001b[0mproperty\u001b[0m\u001b[0;34m\u001b[0m\u001b[0;34m\u001b[0m\u001b[0m\n",
      "\u001b[0;32m/usr/local/lib/python3.7/dist-packages/tensorflow/python/eager/function.py\u001b[0m in \u001b[0;36m_call_flat\u001b[0;34m(self, args, captured_inputs, cancellation_manager)\u001b[0m\n\u001b[1;32m   1852\u001b[0m       \u001b[0;31m# No tape is watching; skip to running the function.\u001b[0m\u001b[0;34m\u001b[0m\u001b[0;34m\u001b[0m\u001b[0;34m\u001b[0m\u001b[0m\n\u001b[1;32m   1853\u001b[0m       return self._build_call_outputs(self._inference_function.call(\n\u001b[0;32m-> 1854\u001b[0;31m           ctx, args, cancellation_manager=cancellation_manager))\n\u001b[0m\u001b[1;32m   1855\u001b[0m     forward_backward = self._select_forward_and_backward_functions(\n\u001b[1;32m   1856\u001b[0m         \u001b[0margs\u001b[0m\u001b[0;34m,\u001b[0m\u001b[0;34m\u001b[0m\u001b[0;34m\u001b[0m\u001b[0m\n",
      "\u001b[0;32m/usr/local/lib/python3.7/dist-packages/tensorflow/python/eager/function.py\u001b[0m in \u001b[0;36mcall\u001b[0;34m(self, ctx, args, cancellation_manager)\u001b[0m\n\u001b[1;32m    502\u001b[0m               \u001b[0minputs\u001b[0m\u001b[0;34m=\u001b[0m\u001b[0margs\u001b[0m\u001b[0;34m,\u001b[0m\u001b[0;34m\u001b[0m\u001b[0;34m\u001b[0m\u001b[0m\n\u001b[1;32m    503\u001b[0m               \u001b[0mattrs\u001b[0m\u001b[0;34m=\u001b[0m\u001b[0mattrs\u001b[0m\u001b[0;34m,\u001b[0m\u001b[0;34m\u001b[0m\u001b[0;34m\u001b[0m\u001b[0m\n\u001b[0;32m--> 504\u001b[0;31m               ctx=ctx)\n\u001b[0m\u001b[1;32m    505\u001b[0m         \u001b[0;32melse\u001b[0m\u001b[0;34m:\u001b[0m\u001b[0;34m\u001b[0m\u001b[0;34m\u001b[0m\u001b[0m\n\u001b[1;32m    506\u001b[0m           outputs = execute.execute_with_cancellation(\n",
      "\u001b[0;32m/usr/local/lib/python3.7/dist-packages/tensorflow/python/eager/execute.py\u001b[0m in \u001b[0;36mquick_execute\u001b[0;34m(op_name, num_outputs, inputs, attrs, ctx, name)\u001b[0m\n\u001b[1;32m     53\u001b[0m     \u001b[0mctx\u001b[0m\u001b[0;34m.\u001b[0m\u001b[0mensure_initialized\u001b[0m\u001b[0;34m(\u001b[0m\u001b[0;34m)\u001b[0m\u001b[0;34m\u001b[0m\u001b[0;34m\u001b[0m\u001b[0m\n\u001b[1;32m     54\u001b[0m     tensors = pywrap_tfe.TFE_Py_Execute(ctx._handle, device_name, op_name,\n\u001b[0;32m---> 55\u001b[0;31m                                         inputs, attrs, num_outputs)\n\u001b[0m\u001b[1;32m     56\u001b[0m   \u001b[0;32mexcept\u001b[0m \u001b[0mcore\u001b[0m\u001b[0;34m.\u001b[0m\u001b[0m_NotOkStatusException\u001b[0m \u001b[0;32mas\u001b[0m \u001b[0me\u001b[0m\u001b[0;34m:\u001b[0m\u001b[0;34m\u001b[0m\u001b[0;34m\u001b[0m\u001b[0m\n\u001b[1;32m     57\u001b[0m     \u001b[0;32mif\u001b[0m \u001b[0mname\u001b[0m \u001b[0;32mis\u001b[0m \u001b[0;32mnot\u001b[0m \u001b[0;32mNone\u001b[0m\u001b[0;34m:\u001b[0m\u001b[0;34m\u001b[0m\u001b[0;34m\u001b[0m\u001b[0m\n",
      "\u001b[0;31mKeyboardInterrupt\u001b[0m: "
     ]
    }
   ],
   "source": [
    "history_seq2seq = seq2seq_model.fit([train_input_padded_seqs , train_input_padded_tags], \n",
    "                                    train_target_padded_tags, \n",
    "                                    batch_size=batch_size, \n",
    "                                    epochs=200, \n",
    "                                    validation_data=([valid_input_padded_seqs , valid_input_padded_tags], \n",
    "                                                      valid_target_padded_tags))"
   ]
  },
  {
   "cell_type": "code",
   "execution_count": null,
   "metadata": {},
   "outputs": [],
   "source": []
  },
  {
   "cell_type": "code",
   "execution_count": null,
   "metadata": {},
   "outputs": [],
   "source": []
  },
  {
   "cell_type": "markdown",
   "metadata": {
    "id": "qQPCwti5UzjV"
   },
   "source": [
    "### 5.Compare RNN, LSTM, GRU, Stacked-GRU, Bi-GRU"
   ]
  },
  {
   "cell_type": "code",
   "execution_count": null,
   "metadata": {
    "colab": {
     "base_uri": "https://localhost:8080/",
     "height": 295
    },
    "executionInfo": {
     "elapsed": 655,
     "status": "ok",
     "timestamp": 1646370872166,
     "user": {
      "displayName": "Thái Nguyễn Quốc",
      "photoUrl": "https://lh3.googleusercontent.com/a-/AOh14GhZLNSWy4-fLj7PmicmKxXQvi7xGOe2vDlaHSFo7A=s64",
      "userId": "03315292090052971901"
     },
     "user_tz": -420
    },
    "id": "morSmGjdU6PW",
    "outputId": "ac898c07-7416-472a-9c18-e97bd66df60e"
   },
   "outputs": [
    {
     "data": {
      "image/png": "[encoded data removed]",
      "text/plain": [
       "<Figure size 432x288 with 1 Axes>"
      ]
     },
     "metadata": {
      "needs_background": "light"
     },
     "output_type": "display_data"
    }
   ],
   "source": [
    "plt.plot(history_rnn.history['accuracy'])\n",
    "plt.plot(history_lstm.history['accuracy'])\n",
    "plt.plot(history_gru.history['accuracy'])\n",
    "plt.plot(history_stackgru.history['accuracy'])\n",
    "plt.plot(history_bigru.history['accuracy'])\n",
    "plt.title('model accuracy')\n",
    "plt.ylabel('accuracy')\n",
    "plt.xlabel('epoch')\n",
    "plt.legend(['RNN', 'LSTM', 'GRU', 'Stacked-GRU', 'Bi-GRU'], loc='lower right')\n",
    "plt.show()"
   ]
  },
  {
   "cell_type": "code",
   "execution_count": null,
   "metadata": {
    "colab": {
     "base_uri": "https://localhost:8080/",
     "height": 295
    },
    "executionInfo": {
     "elapsed": 422,
     "status": "ok",
     "timestamp": 1646370918556,
     "user": {
      "displayName": "Thái Nguyễn Quốc",
      "photoUrl": "https://lh3.googleusercontent.com/a-/AOh14GhZLNSWy4-fLj7PmicmKxXQvi7xGOe2vDlaHSFo7A=s64",
      "userId": "03315292090052971901"
     },
     "user_tz": -420
    },
    "id": "Ml4HRazKWftG",
    "outputId": "34d2421e-4d08-4d03-cbf7-ca4cff77ea25"
   },
   "outputs": [
    {
     "data": {
      "image/png": "[encoded data removed]",
      "text/plain": [
       "<Figure size 432x288 with 1 Axes>"
      ]
     },
     "metadata": {
      "needs_background": "light"
     },
     "output_type": "display_data"
    }
   ],
   "source": [
    "plt.plot(history_rnn.history['val_accuracy'])\n",
    "plt.plot(history_lstm.history['val_accuracy'])\n",
    "plt.plot(history_gru.history['val_accuracy'])\n",
    "plt.plot(history_stackgru.history['val_accuracy'])\n",
    "plt.plot(history_bigru.history['val_accuracy'])\n",
    "plt.title('model validation accuracy')\n",
    "plt.ylabel('accuracy')\n",
    "plt.xlabel('epoch')\n",
    "plt.legend(['RNN', 'LSTM', 'GRU', 'Stacked-GRU', 'Bi-GRU'], loc='lower right')\n",
    "plt.show()"
   ]
  },
  {
   "cell_type": "code",
   "execution_count": null,
   "metadata": {},
   "outputs": [],
   "source": []
  },
  {
   "cell_type": "code",
   "execution_count": null,
   "metadata": {},
   "outputs": [],
   "source": []
  },
  {
   "cell_type": "markdown",
   "metadata": {
    "id": "2ap8QvsiWsPo"
   },
   "source": [
    "### 6.Predict"
   ]
  },
  {
   "cell_type": "code",
   "execution_count": null,
   "metadata": {
    "id": "Ut-lkr2bWuJI"
   },
   "outputs": [],
   "source": [
    "def pos_tag_predict(text, max_len_word, model, word_tokenizer, tag_tokenizer):\n",
    "    test_seq = word_tokenizer.texts_to_sequences([text])\n",
    "    test_padded_seq = pad_sequences(test_seq, maxlen=max_len_word, padding=\"post\")\n",
    "    tag_predict = model.predict(test_padded_seq)\n",
    "\n",
    "    token_sequences = []\n",
    "    for categorical_sequence in tag_predict[0]:\n",
    "        idx_tag = np.argmax(categorical_sequence)\n",
    "        if idx_tag not in [0, 1]:\n",
    "            tag = tag_tokenizer.index_word[idx_tag]\n",
    "            token_sequences.append(tag.upper())\n",
    "    return token_sequences"
   ]
  },
  {
   "cell_type": "code",
   "execution_count": null,
   "metadata": {
    "colab": {
     "base_uri": "https://localhost:8080/"
    },
    "executionInfo": {
     "elapsed": 10,
     "status": "ok",
     "timestamp": 1646371419129,
     "user": {
      "displayName": "Thái Nguyễn Quốc",
      "photoUrl": "https://lh3.googleusercontent.com/a-/AOh14GhZLNSWy4-fLj7PmicmKxXQvi7xGOe2vDlaHSFo7A=s64",
      "userId": "03315292090052971901"
     },
     "user_tz": -420
    },
    "id": "49mMzLr0W0Se",
    "outputId": "88b0d309-46dc-46a3-ca3d-f662859bcd51"
   },
   "outputs": [
    {
     "data": {
      "text/plain": [
       "['PRP', 'VBD', 'RB', 'DT', 'NN', 'IN', 'DT', 'NN', '.']"
      ]
     },
     "execution_count": 74,
     "metadata": {},
     "output_type": "execute_result"
    }
   ],
   "source": [
    "text = \"I was running every day for a month .\"\n",
    "pos_tag_predict(text.lower().split(), max_len_word, model_rnn, word_tokenizer, tag_tokenizer)"
   ]
  },
  {
   "cell_type": "code",
   "execution_count": null,
   "metadata": {
    "colab": {
     "base_uri": "https://localhost:8080/"
    },
    "executionInfo": {
     "elapsed": 307,
     "status": "ok",
     "timestamp": 1646371517564,
     "user": {
      "displayName": "Thái Nguyễn Quốc",
      "photoUrl": "https://lh3.googleusercontent.com/a-/AOh14GhZLNSWy4-fLj7PmicmKxXQvi7xGOe2vDlaHSFo7A=s64",
      "userId": "03315292090052971901"
     },
     "user_tz": -420
    },
    "id": "WERoZFxiXO2r",
    "outputId": "765c4fdd-1646-4730-904c-d9f4d5783ab3"
   },
   "outputs": [
    {
     "data": {
      "text/plain": [
       "('NNS NN NN NN -NONE- TO VB DT NN NNS IN DT NN NN DT NN . .',\n",
       " 'NNS VBP NN NN -NONE- TO VB DT NN NNS IN DT NN CC DT NN .')"
      ]
     },
     "execution_count": 82,
     "metadata": {},
     "output_type": "execute_result"
    }
   ],
   "source": [
    "idx = 0\n",
    "predict_tags = pos_tag_predict(test_sentences[idx], max_len_word, model_rnn, word_tokenizer, tag_tokenizer)\n",
    "target_tags = test_tags[idx]\n",
    "\" \".join(predict_tags), \" \".join(target_tags)"
   ]
  },
  {
   "cell_type": "code",
   "execution_count": null,
   "metadata": {
    "colab": {
     "base_uri": "https://localhost:8080/"
    },
    "executionInfo": {
     "elapsed": 292,
     "status": "ok",
     "timestamp": 1646371533099,
     "user": {
      "displayName": "Thái Nguyễn Quốc",
      "photoUrl": "https://lh3.googleusercontent.com/a-/AOh14GhZLNSWy4-fLj7PmicmKxXQvi7xGOe2vDlaHSFo7A=s64",
      "userId": "03315292090052971901"
     },
     "user_tz": -420
    },
    "id": "VpiGf_EQYv9u",
    "outputId": "7cc9d95a-94ca-4bac-80d2-40dfd869693a"
   },
   "outputs": [
    {
     "data": {
      "text/plain": [
       "('DT NN NN NN NN NN DT NN NN IN DT NN NN DT NN .',\n",
       " 'NNS VBP NN NN -NONE- TO VB DT NN NNS IN DT NN CC DT NN .')"
      ]
     },
     "execution_count": 83,
     "metadata": {},
     "output_type": "execute_result"
    }
   ],
   "source": [
    "idx = 0\n",
    "predict_tags = pos_tag_predict(test_sentences[idx], max_len_word, model_lstm, word_tokenizer, tag_tokenizer)\n",
    "target_tags = test_tags[idx]\n",
    "\" \".join(predict_tags), \" \".join(target_tags)"
   ]
  },
  {
   "cell_type": "code",
   "execution_count": null,
   "metadata": {
    "colab": {
     "base_uri": "https://localhost:8080/"
    },
    "executionInfo": {
     "elapsed": 498,
     "status": "ok",
     "timestamp": 1646371545112,
     "user": {
      "displayName": "Thái Nguyễn Quốc",
      "photoUrl": "https://lh3.googleusercontent.com/a-/AOh14GhZLNSWy4-fLj7PmicmKxXQvi7xGOe2vDlaHSFo7A=s64",
      "userId": "03315292090052971901"
     },
     "user_tz": -420
    },
    "id": "ppnaQ5J0ZAad",
    "outputId": "8b2574fd-23cb-4d59-ff79-9d0c68e3db82"
   },
   "outputs": [
    {
     "data": {
      "text/plain": [
       "('NNS NN NN NN -NONE- TO VB DT NN NNS IN DT JJ CC DT NN .',\n",
       " 'NNS VBP NN NN -NONE- TO VB DT NN NNS IN DT NN CC DT NN .')"
      ]
     },
     "execution_count": 84,
     "metadata": {},
     "output_type": "execute_result"
    }
   ],
   "source": [
    "idx = 0\n",
    "predict_tags = pos_tag_predict(test_sentences[idx], max_len_word, model_gru, word_tokenizer, tag_tokenizer)\n",
    "target_tags = test_tags[idx]\n",
    "\" \".join(predict_tags), \" \".join(target_tags)"
   ]
  },
  {
   "cell_type": "code",
   "execution_count": null,
   "metadata": {
    "colab": {
     "base_uri": "https://localhost:8080/"
    },
    "executionInfo": {
     "elapsed": 944,
     "status": "ok",
     "timestamp": 1646371559676,
     "user": {
      "displayName": "Thái Nguyễn Quốc",
      "photoUrl": "https://lh3.googleusercontent.com/a-/AOh14GhZLNSWy4-fLj7PmicmKxXQvi7xGOe2vDlaHSFo7A=s64",
      "userId": "03315292090052971901"
     },
     "user_tz": -420
    },
    "id": "bpJpB832ZEAN",
    "outputId": "f2d3ffb7-50ab-4914-e329-f1d614ba2834"
   },
   "outputs": [
    {
     "data": {
      "text/plain": [
       "('. IN NNP NN -NONE- TO VB DT NN NNS IN DT JJ CC DT NN .',\n",
       " 'NNS VBP NN NN -NONE- TO VB DT NN NNS IN DT NN CC DT NN .')"
      ]
     },
     "execution_count": 85,
     "metadata": {},
     "output_type": "execute_result"
    }
   ],
   "source": [
    "idx = 0\n",
    "predict_tags = pos_tag_predict(test_sentences[idx], max_len_word, model_stackgru, word_tokenizer, tag_tokenizer)\n",
    "target_tags = test_tags[idx]\n",
    "\" \".join(predict_tags), \" \".join(target_tags)"
   ]
  },
  {
   "cell_type": "code",
   "execution_count": null,
   "metadata": {
    "colab": {
     "base_uri": "https://localhost:8080/"
    },
    "executionInfo": {
     "elapsed": 801,
     "status": "ok",
     "timestamp": 1646371573062,
     "user": {
      "displayName": "Thái Nguyễn Quốc",
      "photoUrl": "https://lh3.googleusercontent.com/a-/AOh14GhZLNSWy4-fLj7PmicmKxXQvi7xGOe2vDlaHSFo7A=s64",
      "userId": "03315292090052971901"
     },
     "user_tz": -420
    },
    "id": "M91ecOWJZHPb",
    "outputId": "f48f20dc-85c7-43e5-bcbe-47ec837e9c5f"
   },
   "outputs": [
    {
     "name": "stdout",
     "output_type": "stream",
     "text": [
      "WARNING:tensorflow:5 out of the last 24 calls to <function Model.make_predict_function.<locals>.predict_function at 0x7fd6637d2cb0> triggered tf.function retracing. Tracing is expensive and the excessive number of tracings could be due to (1) creating @tf.function repeatedly in a loop, (2) passing tensors with different shapes, (3) passing Python objects instead of tensors. For (1), please define your @tf.function outside of the loop. For (2), @tf.function has experimental_relax_shapes=True option that relaxes argument shapes that can avoid unnecessary retracing. For (3), please refer to https://www.tensorflow.org/guide/function#controlling_retracing and https://www.tensorflow.org/api_docs/python/tf/function for  more details.\n"
     ]
    },
    {
     "data": {
      "text/plain": [
       "('NNS VBP NN NN -NONE- TO VB DT NN NNS IN DT JJ CC DT NN .',\n",
       " 'NNS VBP NN NN -NONE- TO VB DT NN NNS IN DT NN CC DT NN .')"
      ]
     },
     "execution_count": 86,
     "metadata": {},
     "output_type": "execute_result"
    }
   ],
   "source": [
    "idx = 0\n",
    "predict_tags = pos_tag_predict(test_sentences[idx], max_len_word, model_bigru, word_tokenizer, tag_tokenizer)\n",
    "target_tags = test_tags[idx]\n",
    "\" \".join(predict_tags), \" \".join(target_tags)"
   ]
  }
 ],
 "metadata": {
  "accelerator": "GPU",
  "colab": {
   "authorship_tag": "ABX9TyOd93Kx6X//oNIaMx2YSLMX",
   "collapsed_sections": [
    "2ap8QvsiWsPo"
   ],
   "machine_shape": "hm",
   "name": "[colab]-POS-Tagging.ipynb",
   "provenance": [],
   "toc_visible": true
  },
  "kernelspec": {
   "display_name": "Python 3 (ipykernel)",
   "language": "python",
   "name": "python3"
  },
  "language_info": {
   "codemirror_mode": {
    "name": "ipython",
    "version": 3
   },
   "file_extension": ".py",
   "mimetype": "text/x-python",
   "name": "python",
   "nbconvert_exporter": "python",
   "pygments_lexer": "ipython3",
   "version": "3.9.7"
  }
 },
 "nbformat": 4,
 "nbformat_minor": 1
}
